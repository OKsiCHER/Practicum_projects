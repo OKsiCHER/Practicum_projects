{
 "cells": [
  {
   "cell_type": "markdown",
   "metadata": {
    "toc": true
   },
   "source": [
    "<h1>Содержание<span class=\"tocSkip\"></span></h1>\n",
    "<div class=\"toc\"><ul class=\"toc-item\"><li><span><a href=\"#1.-Подготовка-данных\" data-toc-modified-id=\"1.-Подготовка-данных-1\"><span class=\"toc-item-num\">1&nbsp;&nbsp;</span>1. Подготовка данных</a></span></li><li><span><a href=\"#1.1-Загрузим-и-выведем-данные\" data-toc-modified-id=\"1.1-Загрузим-и-выведем-данные-2\"><span class=\"toc-item-num\">2&nbsp;&nbsp;</span>1.1 Загрузим и выведем данные</a></span></li><li><span><a href=\"#1.2-Рассчитаем-sMAPE-и-MAE\" data-toc-modified-id=\"1.2-Рассчитаем-sMAPE-и-MAE-3\"><span class=\"toc-item-num\">3&nbsp;&nbsp;</span>1.2 Рассчитаем sMAPE и MAE</a></span></li><li><span><a href=\"#1.3-Проанализируем-признаки,-недоступные-в-тестовой-выборке.\" data-toc-modified-id=\"1.3-Проанализируем-признаки,-недоступные-в-тестовой-выборке.-4\"><span class=\"toc-item-num\">4&nbsp;&nbsp;</span>1.3 Проанализируем признаки, недоступные в тестовой выборке.</a></span></li><li><span><a href=\"#1.4-Проедобработка-данных\" data-toc-modified-id=\"1.4-Проедобработка-данных-5\"><span class=\"toc-item-num\">5&nbsp;&nbsp;</span>1.4 Проедобработка данных</a></span></li><li><span><a href=\"#2.-Анализ-данных\" data-toc-modified-id=\"2.-Анализ-данных-6\"><span class=\"toc-item-num\">6&nbsp;&nbsp;</span>2. Анализ данных</a></span></li><li><span><a href=\"#2.1--Динамика-концентрации-металлов-(Au,-Ag,-Pb)-на-различных-этапах\" data-toc-modified-id=\"2.1--Динамика-концентрации-металлов-(Au,-Ag,-Pb)-на-различных-этапах-7\"><span class=\"toc-item-num\">7&nbsp;&nbsp;</span>2.1  Динамика концентрации металлов (Au, Ag, Pb) на различных этапах</a></span></li><li><span><a href=\"#2.1.1--Динамика-концентрации-золота-(Au)-на-различных-этапах\" data-toc-modified-id=\"2.1.1--Динамика-концентрации-золота-(Au)-на-различных-этапах-8\"><span class=\"toc-item-num\">8&nbsp;&nbsp;</span>2.1.1  Динамика концентрации золота (Au) на различных этапах</a></span></li><li><span><a href=\"#2.1.2--Динамика-концентрации-серебра-(Ag)-на-различных-этапах\" data-toc-modified-id=\"2.1.2--Динамика-концентрации-серебра-(Ag)-на-различных-этапах-9\"><span class=\"toc-item-num\">9&nbsp;&nbsp;</span>2.1.2  Динамика концентрации серебра (Ag) на различных этапах</a></span></li><li><span><a href=\"#2.1.3--Динамика-концентрации-свинца-(Pb)-на-различных-этапах\" data-toc-modified-id=\"2.1.3--Динамика-концентрации-свинца-(Pb)-на-различных-этапах-10\"><span class=\"toc-item-num\">10&nbsp;&nbsp;</span>2.1.3  Динамика концентрации свинца (Pb) на различных этапах</a></span></li><li><span><a href=\"#2.2-Сравнение-размеров-гранул-исходного-сырья\" data-toc-modified-id=\"2.2-Сравнение-размеров-гранул-исходного-сырья-11\"><span class=\"toc-item-num\">11&nbsp;&nbsp;</span>2.2 Сравнение размеров гранул исходного сырья</a></span></li><li><span><a href=\"#2.3-Суммарная-концентрации-металлов-(Au,-Ag,-Pb)-на-различных-этапах\" data-toc-modified-id=\"2.3-Суммарная-концентрации-металлов-(Au,-Ag,-Pb)-на-различных-этапах-12\"><span class=\"toc-item-num\">12&nbsp;&nbsp;</span>2.3 Суммарная концентрации металлов (Au, Ag, Pb) на различных этапах</a></span></li><li><span><a href=\"#3.-Модель\" data-toc-modified-id=\"3.-Модель-13\"><span class=\"toc-item-num\">13&nbsp;&nbsp;</span>3. Модель</a></span></li><li><span><a href=\"#3.1-Вычислим-итоговую-sMAPE\" data-toc-modified-id=\"3.1-Вычислим-итоговую-sMAPE-14\"><span class=\"toc-item-num\">14&nbsp;&nbsp;</span>3.1 Вычислим итоговую sMAPE</a></span></li><li><span><a href=\"#3.2-Обучим-и-проверим-разные-модели\" data-toc-modified-id=\"3.2-Обучим-и-проверим-разные-модели-15\"><span class=\"toc-item-num\">15&nbsp;&nbsp;</span>3.2 Обучим и проверим разные модели</a></span></li><li><span><a href=\"#3.3-Проверим-лучшую-модель\" data-toc-modified-id=\"3.3-Проверим-лучшую-модель-16\"><span class=\"toc-item-num\">16&nbsp;&nbsp;</span>3.3 Проверим лучшую модель</a></span></li><li><span><a href=\"#4.-Общий-вывод\" data-toc-modified-id=\"4.-Общий-вывод-17\"><span class=\"toc-item-num\">17&nbsp;&nbsp;</span>4. Общий вывод</a></span></li></ul></div>"
   ]
  },
  {
   "cell_type": "markdown",
   "metadata": {},
   "source": [
    "# Восстановление золота из руды"
   ]
  },
  {
   "cell_type": "markdown",
   "metadata": {},
   "source": [
    "Подготовьте прототип модели машинного обучения для «Цифры». Компания разрабатывает решения для эффективной работы промышленных предприятий.\n",
    "\n",
    "Модель должна предсказать коэффициент восстановления золота из золотосодержащей руды. Используйте данные с параметрами добычи и очистки. \n",
    "\n",
    "Модель поможет оптимизировать производство, чтобы не запускать предприятие с убыточными характеристиками.\n",
    "\n",
    "Вам нужно:\n",
    "\n",
    "1. Подготовить данные;\n",
    "2. Провести исследовательский анализ данных;\n",
    "3. Построить и обучить модель."
   ]
  },
  {
   "cell_type": "code",
   "execution_count": 1,
   "metadata": {},
   "outputs": [],
   "source": [
    "import matplotlib.pyplot as plt\n",
    "import seaborn as sns\n",
    "import numpy as np\n",
    "import pandas as pd\n",
    "from sklearn.dummy import DummyRegressor\n",
    "from sklearn.impute import KNNImputer\n",
    "from sklearn.linear_model import LinearRegression\n",
    "from sklearn.tree import DecisionTreeRegressor\n",
    "from sklearn.ensemble import RandomForestRegressor\n",
    "from sklearn.metrics import mean_squared_error, mean_absolute_error, make_scorer\n",
    "from sklearn.preprocessing import StandardScaler\n",
    "from sklearn.model_selection import GridSearchCV\n",
    "import time\n",
    "from tqdm import tqdm\n",
    "import warnings\n",
    "warnings.filterwarnings('ignore')"
   ]
  },
  {
   "cell_type": "markdown",
   "metadata": {},
   "source": [
    "## 1. Подготовка данных\n",
    "## 1.1 Загрузим и выведем данные"
   ]
  },
  {
   "cell_type": "code",
   "execution_count": 2,
   "metadata": {
    "scrolled": false
   },
   "outputs": [
    {
     "data": {
      "text/html": [
       "<div>\n",
       "<style scoped>\n",
       "    .dataframe tbody tr th:only-of-type {\n",
       "        vertical-align: middle;\n",
       "    }\n",
       "\n",
       "    .dataframe tbody tr th {\n",
       "        vertical-align: top;\n",
       "    }\n",
       "\n",
       "    .dataframe thead th {\n",
       "        text-align: right;\n",
       "    }\n",
       "</style>\n",
       "<table border=\"1\" class=\"dataframe\">\n",
       "  <thead>\n",
       "    <tr style=\"text-align: right;\">\n",
       "      <th></th>\n",
       "      <th>date</th>\n",
       "      <th>rougher.input.feed_au</th>\n",
       "      <th>rougher.input.feed_ag</th>\n",
       "      <th>rougher.input.feed_pb</th>\n",
       "      <th>rougher.input.feed_sol</th>\n",
       "      <th>rougher.input.feed_rate</th>\n",
       "      <th>rougher.input.feed_size</th>\n",
       "      <th>rougher.input.floatbank10_sulfate</th>\n",
       "      <th>rougher.input.floatbank10_xanthate</th>\n",
       "      <th>rougher.state.floatbank10_a_air</th>\n",
       "      <th>rougher.state.floatbank10_a_level</th>\n",
       "      <th>rougher.state.floatbank10_b_air</th>\n",
       "      <th>rougher.state.floatbank10_b_level</th>\n",
       "      <th>rougher.state.floatbank10_c_air</th>\n",
       "      <th>rougher.state.floatbank10_c_level</th>\n",
       "      <th>rougher.state.floatbank10_d_air</th>\n",
       "      <th>rougher.state.floatbank10_d_level</th>\n",
       "      <th>rougher.state.floatbank10_e_air</th>\n",
       "      <th>rougher.state.floatbank10_e_level</th>\n",
       "      <th>rougher.state.floatbank10_f_air</th>\n",
       "      <th>rougher.state.floatbank10_f_level</th>\n",
       "      <th>rougher.input.floatbank11_sulfate</th>\n",
       "      <th>rougher.input.floatbank11_xanthate</th>\n",
       "      <th>rougher.calculation.sulfate_to_au_concentrate</th>\n",
       "      <th>rougher.calculation.floatbank10_sulfate_to_au_feed</th>\n",
       "      <th>rougher.calculation.floatbank11_sulfate_to_au_feed</th>\n",
       "      <th>rougher.calculation.au_pb_ratio</th>\n",
       "      <th>rougher.output.concentrate_au</th>\n",
       "      <th>rougher.output.concentrate_ag</th>\n",
       "      <th>rougher.output.concentrate_pb</th>\n",
       "      <th>rougher.output.concentrate_sol</th>\n",
       "      <th>rougher.output.recovery</th>\n",
       "      <th>rougher.output.tail_au</th>\n",
       "      <th>rougher.output.tail_ag</th>\n",
       "      <th>rougher.output.tail_pb</th>\n",
       "      <th>rougher.output.tail_sol</th>\n",
       "      <th>primary_cleaner.input.sulfate</th>\n",
       "      <th>primary_cleaner.input.depressant</th>\n",
       "      <th>primary_cleaner.input.feed_size</th>\n",
       "      <th>primary_cleaner.input.xanthate</th>\n",
       "      <th>primary_cleaner.state.floatbank8_a_air</th>\n",
       "      <th>primary_cleaner.state.floatbank8_a_level</th>\n",
       "      <th>primary_cleaner.state.floatbank8_b_air</th>\n",
       "      <th>primary_cleaner.state.floatbank8_b_level</th>\n",
       "      <th>primary_cleaner.state.floatbank8_c_air</th>\n",
       "      <th>primary_cleaner.state.floatbank8_c_level</th>\n",
       "      <th>primary_cleaner.state.floatbank8_d_air</th>\n",
       "      <th>primary_cleaner.state.floatbank8_d_level</th>\n",
       "      <th>primary_cleaner.output.concentrate_au</th>\n",
       "      <th>primary_cleaner.output.concentrate_ag</th>\n",
       "      <th>primary_cleaner.output.concentrate_pb</th>\n",
       "      <th>primary_cleaner.output.concentrate_sol</th>\n",
       "      <th>primary_cleaner.output.tail_au</th>\n",
       "      <th>primary_cleaner.output.tail_ag</th>\n",
       "      <th>primary_cleaner.output.tail_pb</th>\n",
       "      <th>primary_cleaner.output.tail_sol</th>\n",
       "      <th>secondary_cleaner.state.floatbank2_a_air</th>\n",
       "      <th>secondary_cleaner.state.floatbank2_a_level</th>\n",
       "      <th>secondary_cleaner.state.floatbank2_b_air</th>\n",
       "      <th>secondary_cleaner.state.floatbank2_b_level</th>\n",
       "      <th>secondary_cleaner.state.floatbank3_a_air</th>\n",
       "      <th>secondary_cleaner.state.floatbank3_a_level</th>\n",
       "      <th>secondary_cleaner.state.floatbank3_b_air</th>\n",
       "      <th>secondary_cleaner.state.floatbank3_b_level</th>\n",
       "      <th>secondary_cleaner.state.floatbank4_a_air</th>\n",
       "      <th>secondary_cleaner.state.floatbank4_a_level</th>\n",
       "      <th>secondary_cleaner.state.floatbank4_b_air</th>\n",
       "      <th>secondary_cleaner.state.floatbank4_b_level</th>\n",
       "      <th>secondary_cleaner.state.floatbank5_a_air</th>\n",
       "      <th>secondary_cleaner.state.floatbank5_a_level</th>\n",
       "      <th>secondary_cleaner.state.floatbank5_b_air</th>\n",
       "      <th>secondary_cleaner.state.floatbank5_b_level</th>\n",
       "      <th>secondary_cleaner.state.floatbank6_a_air</th>\n",
       "      <th>secondary_cleaner.state.floatbank6_a_level</th>\n",
       "      <th>secondary_cleaner.output.tail_au</th>\n",
       "      <th>secondary_cleaner.output.tail_ag</th>\n",
       "      <th>secondary_cleaner.output.tail_pb</th>\n",
       "      <th>secondary_cleaner.output.tail_sol</th>\n",
       "      <th>final.output.concentrate_au</th>\n",
       "      <th>final.output.concentrate_ag</th>\n",
       "      <th>final.output.concentrate_pb</th>\n",
       "      <th>final.output.concentrate_sol</th>\n",
       "      <th>final.output.recovery</th>\n",
       "      <th>final.output.tail_au</th>\n",
       "      <th>final.output.tail_ag</th>\n",
       "      <th>final.output.tail_pb</th>\n",
       "      <th>final.output.tail_sol</th>\n",
       "    </tr>\n",
       "  </thead>\n",
       "  <tbody>\n",
       "    <tr>\n",
       "      <th>0</th>\n",
       "      <td>2016-01-15 00:00:00</td>\n",
       "      <td>6.486150</td>\n",
       "      <td>6.100378</td>\n",
       "      <td>2.284912</td>\n",
       "      <td>36.808594</td>\n",
       "      <td>523.546326</td>\n",
       "      <td>55.486599</td>\n",
       "      <td>11.986616</td>\n",
       "      <td>6.007990</td>\n",
       "      <td>999.706909</td>\n",
       "      <td>-404.066986</td>\n",
       "      <td>1603.011353</td>\n",
       "      <td>-434.715027</td>\n",
       "      <td>1602.375000</td>\n",
       "      <td>-442.204468</td>\n",
       "      <td>1598.937256</td>\n",
       "      <td>-451.294128</td>\n",
       "      <td>1404.472046</td>\n",
       "      <td>-455.462982</td>\n",
       "      <td>1416.354980</td>\n",
       "      <td>-451.939636</td>\n",
       "      <td>11.836743</td>\n",
       "      <td>6.005818</td>\n",
       "      <td>41885.707031</td>\n",
       "      <td>3481.779053</td>\n",
       "      <td>3520.337158</td>\n",
       "      <td>2.838687</td>\n",
       "      <td>19.793808</td>\n",
       "      <td>11.500771</td>\n",
       "      <td>7.101074</td>\n",
       "      <td>28.029297</td>\n",
       "      <td>87.107763</td>\n",
       "      <td>1.170244</td>\n",
       "      <td>5.008018</td>\n",
       "      <td>0.508728</td>\n",
       "      <td>19.154297</td>\n",
       "      <td>127.092003</td>\n",
       "      <td>10.128295</td>\n",
       "      <td>7.25</td>\n",
       "      <td>0.988759</td>\n",
       "      <td>1549.775757</td>\n",
       "      <td>-498.912140</td>\n",
       "      <td>1551.434204</td>\n",
       "      <td>-516.403442</td>\n",
       "      <td>1549.873901</td>\n",
       "      <td>-498.666595</td>\n",
       "      <td>1554.367432</td>\n",
       "      <td>-493.428131</td>\n",
       "      <td>34.174427</td>\n",
       "      <td>8.547551</td>\n",
       "      <td>10.389648</td>\n",
       "      <td>19.529297</td>\n",
       "      <td>2.106679</td>\n",
       "      <td>14.936526</td>\n",
       "      <td>2.534912</td>\n",
       "      <td>7.476074</td>\n",
       "      <td>25.853109</td>\n",
       "      <td>-498.526489</td>\n",
       "      <td>23.893660</td>\n",
       "      <td>-501.406281</td>\n",
       "      <td>23.961798</td>\n",
       "      <td>-495.262817</td>\n",
       "      <td>21.940409</td>\n",
       "      <td>-499.340973</td>\n",
       "      <td>14.016835</td>\n",
       "      <td>-502.488007</td>\n",
       "      <td>12.099931</td>\n",
       "      <td>-504.715942</td>\n",
       "      <td>9.925633</td>\n",
       "      <td>-498.310211</td>\n",
       "      <td>8.079666</td>\n",
       "      <td>-500.470978</td>\n",
       "      <td>14.151341</td>\n",
       "      <td>-605.841980</td>\n",
       "      <td>2.606185</td>\n",
       "      <td>14.500184</td>\n",
       "      <td>4.694824</td>\n",
       "      <td>8.764648</td>\n",
       "      <td>42.192020</td>\n",
       "      <td>6.055403</td>\n",
       "      <td>9.889648</td>\n",
       "      <td>5.507324</td>\n",
       "      <td>70.541216</td>\n",
       "      <td>2.143149</td>\n",
       "      <td>10.411962</td>\n",
       "      <td>0.895447</td>\n",
       "      <td>16.904297</td>\n",
       "    </tr>\n",
       "    <tr>\n",
       "      <th>1</th>\n",
       "      <td>2016-01-15 01:00:00</td>\n",
       "      <td>6.478583</td>\n",
       "      <td>6.161113</td>\n",
       "      <td>2.266033</td>\n",
       "      <td>35.753385</td>\n",
       "      <td>525.290581</td>\n",
       "      <td>57.278666</td>\n",
       "      <td>11.971193</td>\n",
       "      <td>6.005766</td>\n",
       "      <td>1000.286398</td>\n",
       "      <td>-400.065196</td>\n",
       "      <td>1600.754587</td>\n",
       "      <td>-449.953435</td>\n",
       "      <td>1600.479580</td>\n",
       "      <td>-449.830646</td>\n",
       "      <td>1600.527589</td>\n",
       "      <td>-449.953649</td>\n",
       "      <td>1399.227084</td>\n",
       "      <td>-450.869848</td>\n",
       "      <td>1399.719514</td>\n",
       "      <td>-450.119001</td>\n",
       "      <td>11.996163</td>\n",
       "      <td>6.012594</td>\n",
       "      <td>42050.861809</td>\n",
       "      <td>3498.370979</td>\n",
       "      <td>3489.981857</td>\n",
       "      <td>2.858998</td>\n",
       "      <td>20.050975</td>\n",
       "      <td>11.615865</td>\n",
       "      <td>7.278807</td>\n",
       "      <td>28.067063</td>\n",
       "      <td>86.843261</td>\n",
       "      <td>1.184827</td>\n",
       "      <td>4.955378</td>\n",
       "      <td>0.536689</td>\n",
       "      <td>18.965234</td>\n",
       "      <td>125.629232</td>\n",
       "      <td>10.296251</td>\n",
       "      <td>7.25</td>\n",
       "      <td>1.002663</td>\n",
       "      <td>1576.166671</td>\n",
       "      <td>-500.904965</td>\n",
       "      <td>1575.950626</td>\n",
       "      <td>-499.865889</td>\n",
       "      <td>1575.994189</td>\n",
       "      <td>-499.315107</td>\n",
       "      <td>1574.479259</td>\n",
       "      <td>-498.931665</td>\n",
       "      <td>34.118526</td>\n",
       "      <td>8.558743</td>\n",
       "      <td>10.497069</td>\n",
       "      <td>19.369147</td>\n",
       "      <td>2.353017</td>\n",
       "      <td>16.250511</td>\n",
       "      <td>3.049646</td>\n",
       "      <td>6.733907</td>\n",
       "      <td>25.880539</td>\n",
       "      <td>-499.989656</td>\n",
       "      <td>23.889530</td>\n",
       "      <td>-500.372428</td>\n",
       "      <td>23.970550</td>\n",
       "      <td>-500.085473</td>\n",
       "      <td>22.085714</td>\n",
       "      <td>-499.446897</td>\n",
       "      <td>13.992281</td>\n",
       "      <td>-505.503262</td>\n",
       "      <td>11.950531</td>\n",
       "      <td>-501.331529</td>\n",
       "      <td>10.039245</td>\n",
       "      <td>-500.169983</td>\n",
       "      <td>7.984757</td>\n",
       "      <td>-500.582168</td>\n",
       "      <td>13.998353</td>\n",
       "      <td>-599.787184</td>\n",
       "      <td>2.488248</td>\n",
       "      <td>14.265474</td>\n",
       "      <td>4.592547</td>\n",
       "      <td>9.001494</td>\n",
       "      <td>42.701629</td>\n",
       "      <td>6.029369</td>\n",
       "      <td>9.968944</td>\n",
       "      <td>5.257781</td>\n",
       "      <td>69.266198</td>\n",
       "      <td>2.224930</td>\n",
       "      <td>10.462676</td>\n",
       "      <td>0.927452</td>\n",
       "      <td>16.634514</td>\n",
       "    </tr>\n",
       "    <tr>\n",
       "      <th>2</th>\n",
       "      <td>2016-01-15 02:00:00</td>\n",
       "      <td>6.362222</td>\n",
       "      <td>6.116455</td>\n",
       "      <td>2.159622</td>\n",
       "      <td>35.971630</td>\n",
       "      <td>530.026610</td>\n",
       "      <td>57.510649</td>\n",
       "      <td>11.920603</td>\n",
       "      <td>6.197377</td>\n",
       "      <td>999.719565</td>\n",
       "      <td>-400.074028</td>\n",
       "      <td>1599.337330</td>\n",
       "      <td>-450.008530</td>\n",
       "      <td>1599.672797</td>\n",
       "      <td>-449.954491</td>\n",
       "      <td>1599.849325</td>\n",
       "      <td>-449.954185</td>\n",
       "      <td>1399.180945</td>\n",
       "      <td>-449.937588</td>\n",
       "      <td>1400.316682</td>\n",
       "      <td>-450.527147</td>\n",
       "      <td>11.920305</td>\n",
       "      <td>6.204633</td>\n",
       "      <td>42018.101184</td>\n",
       "      <td>3495.348910</td>\n",
       "      <td>3502.359819</td>\n",
       "      <td>2.945989</td>\n",
       "      <td>19.737170</td>\n",
       "      <td>11.695753</td>\n",
       "      <td>7.216833</td>\n",
       "      <td>27.454037</td>\n",
       "      <td>86.842308</td>\n",
       "      <td>1.162562</td>\n",
       "      <td>4.843460</td>\n",
       "      <td>0.546416</td>\n",
       "      <td>18.808533</td>\n",
       "      <td>123.819808</td>\n",
       "      <td>11.316280</td>\n",
       "      <td>7.25</td>\n",
       "      <td>0.991265</td>\n",
       "      <td>1601.556163</td>\n",
       "      <td>-499.997791</td>\n",
       "      <td>1600.386685</td>\n",
       "      <td>-500.607762</td>\n",
       "      <td>1602.003542</td>\n",
       "      <td>-500.870069</td>\n",
       "      <td>1599.541515</td>\n",
       "      <td>-499.827444</td>\n",
       "      <td>33.969464</td>\n",
       "      <td>8.603505</td>\n",
       "      <td>10.354494</td>\n",
       "      <td>19.167579</td>\n",
       "      <td>2.416800</td>\n",
       "      <td>16.491823</td>\n",
       "      <td>3.124664</td>\n",
       "      <td>6.471768</td>\n",
       "      <td>26.005245</td>\n",
       "      <td>-499.929616</td>\n",
       "      <td>23.886657</td>\n",
       "      <td>-499.951928</td>\n",
       "      <td>23.913535</td>\n",
       "      <td>-499.442343</td>\n",
       "      <td>23.957717</td>\n",
       "      <td>-499.901982</td>\n",
       "      <td>14.015015</td>\n",
       "      <td>-502.520901</td>\n",
       "      <td>11.912783</td>\n",
       "      <td>-501.133383</td>\n",
       "      <td>10.070913</td>\n",
       "      <td>-500.129135</td>\n",
       "      <td>8.013877</td>\n",
       "      <td>-500.517572</td>\n",
       "      <td>14.028663</td>\n",
       "      <td>-601.427363</td>\n",
       "      <td>2.458187</td>\n",
       "      <td>14.115662</td>\n",
       "      <td>4.624775</td>\n",
       "      <td>8.842896</td>\n",
       "      <td>42.657501</td>\n",
       "      <td>6.055926</td>\n",
       "      <td>10.213995</td>\n",
       "      <td>5.383759</td>\n",
       "      <td>68.116445</td>\n",
       "      <td>2.257889</td>\n",
       "      <td>10.507046</td>\n",
       "      <td>0.953716</td>\n",
       "      <td>16.208849</td>\n",
       "    </tr>\n",
       "    <tr>\n",
       "      <th>3</th>\n",
       "      <td>2016-01-15 03:00:00</td>\n",
       "      <td>6.118189</td>\n",
       "      <td>6.043309</td>\n",
       "      <td>2.037807</td>\n",
       "      <td>36.862241</td>\n",
       "      <td>542.590390</td>\n",
       "      <td>57.792734</td>\n",
       "      <td>11.630094</td>\n",
       "      <td>6.203177</td>\n",
       "      <td>999.814770</td>\n",
       "      <td>-400.200179</td>\n",
       "      <td>1600.059442</td>\n",
       "      <td>-450.619948</td>\n",
       "      <td>1600.012842</td>\n",
       "      <td>-449.910497</td>\n",
       "      <td>1597.725177</td>\n",
       "      <td>-450.130127</td>\n",
       "      <td>1400.943157</td>\n",
       "      <td>-450.030142</td>\n",
       "      <td>1400.234743</td>\n",
       "      <td>-449.790835</td>\n",
       "      <td>11.692450</td>\n",
       "      <td>6.196578</td>\n",
       "      <td>42029.447991</td>\n",
       "      <td>3498.578313</td>\n",
       "      <td>3499.162912</td>\n",
       "      <td>3.002340</td>\n",
       "      <td>19.320810</td>\n",
       "      <td>11.915047</td>\n",
       "      <td>7.175616</td>\n",
       "      <td>27.341277</td>\n",
       "      <td>87.226430</td>\n",
       "      <td>1.079755</td>\n",
       "      <td>4.655288</td>\n",
       "      <td>0.542525</td>\n",
       "      <td>19.330200</td>\n",
       "      <td>122.270188</td>\n",
       "      <td>11.322140</td>\n",
       "      <td>7.25</td>\n",
       "      <td>0.996739</td>\n",
       "      <td>1599.968720</td>\n",
       "      <td>-500.951778</td>\n",
       "      <td>1600.659236</td>\n",
       "      <td>-499.677094</td>\n",
       "      <td>1600.304144</td>\n",
       "      <td>-500.727997</td>\n",
       "      <td>1600.449520</td>\n",
       "      <td>-500.052575</td>\n",
       "      <td>28.260743</td>\n",
       "      <td>7.221879</td>\n",
       "      <td>8.496563</td>\n",
       "      <td>15.978538</td>\n",
       "      <td>2.262051</td>\n",
       "      <td>16.024359</td>\n",
       "      <td>2.960362</td>\n",
       "      <td>6.843791</td>\n",
       "      <td>25.942508</td>\n",
       "      <td>-499.176749</td>\n",
       "      <td>23.955516</td>\n",
       "      <td>-499.848796</td>\n",
       "      <td>23.966838</td>\n",
       "      <td>-500.008812</td>\n",
       "      <td>23.954443</td>\n",
       "      <td>-499.944710</td>\n",
       "      <td>14.036510</td>\n",
       "      <td>-500.857308</td>\n",
       "      <td>11.999550</td>\n",
       "      <td>-501.193686</td>\n",
       "      <td>9.970366</td>\n",
       "      <td>-499.201640</td>\n",
       "      <td>7.977324</td>\n",
       "      <td>-500.255908</td>\n",
       "      <td>14.005551</td>\n",
       "      <td>-599.996129</td>\n",
       "      <td>2.322062</td>\n",
       "      <td>13.732071</td>\n",
       "      <td>4.482453</td>\n",
       "      <td>9.122857</td>\n",
       "      <td>42.689819</td>\n",
       "      <td>6.047977</td>\n",
       "      <td>9.977019</td>\n",
       "      <td>4.858634</td>\n",
       "      <td>68.347543</td>\n",
       "      <td>2.146849</td>\n",
       "      <td>10.422762</td>\n",
       "      <td>0.883763</td>\n",
       "      <td>16.532835</td>\n",
       "    </tr>\n",
       "    <tr>\n",
       "      <th>4</th>\n",
       "      <td>2016-01-15 04:00:00</td>\n",
       "      <td>5.663707</td>\n",
       "      <td>6.060915</td>\n",
       "      <td>1.786875</td>\n",
       "      <td>34.347666</td>\n",
       "      <td>540.531893</td>\n",
       "      <td>56.047189</td>\n",
       "      <td>10.957755</td>\n",
       "      <td>6.198826</td>\n",
       "      <td>999.678690</td>\n",
       "      <td>-399.752729</td>\n",
       "      <td>1600.208824</td>\n",
       "      <td>-449.599614</td>\n",
       "      <td>1600.357732</td>\n",
       "      <td>-450.034364</td>\n",
       "      <td>1599.759049</td>\n",
       "      <td>-449.909799</td>\n",
       "      <td>1401.560902</td>\n",
       "      <td>-448.877187</td>\n",
       "      <td>1401.160227</td>\n",
       "      <td>-450.407128</td>\n",
       "      <td>10.960521</td>\n",
       "      <td>6.194897</td>\n",
       "      <td>42125.354245</td>\n",
       "      <td>3494.800771</td>\n",
       "      <td>3506.679315</td>\n",
       "      <td>3.169615</td>\n",
       "      <td>19.216101</td>\n",
       "      <td>12.411054</td>\n",
       "      <td>7.240205</td>\n",
       "      <td>27.041023</td>\n",
       "      <td>86.688794</td>\n",
       "      <td>1.012642</td>\n",
       "      <td>4.552800</td>\n",
       "      <td>0.515438</td>\n",
       "      <td>19.267422</td>\n",
       "      <td>117.988169</td>\n",
       "      <td>11.913613</td>\n",
       "      <td>7.25</td>\n",
       "      <td>1.009869</td>\n",
       "      <td>1601.339707</td>\n",
       "      <td>-498.975456</td>\n",
       "      <td>1601.437854</td>\n",
       "      <td>-500.323246</td>\n",
       "      <td>1599.581894</td>\n",
       "      <td>-500.888152</td>\n",
       "      <td>1602.649541</td>\n",
       "      <td>-500.593010</td>\n",
       "      <td>33.044932</td>\n",
       "      <td>9.089428</td>\n",
       "      <td>9.986786</td>\n",
       "      <td>19.199864</td>\n",
       "      <td>2.277073</td>\n",
       "      <td>16.480185</td>\n",
       "      <td>3.112100</td>\n",
       "      <td>6.550154</td>\n",
       "      <td>26.024787</td>\n",
       "      <td>-500.279091</td>\n",
       "      <td>23.955345</td>\n",
       "      <td>-500.593614</td>\n",
       "      <td>23.985703</td>\n",
       "      <td>-500.083811</td>\n",
       "      <td>23.958945</td>\n",
       "      <td>-499.990309</td>\n",
       "      <td>14.027298</td>\n",
       "      <td>-499.838632</td>\n",
       "      <td>11.953070</td>\n",
       "      <td>-501.053894</td>\n",
       "      <td>9.925709</td>\n",
       "      <td>-501.686727</td>\n",
       "      <td>7.894242</td>\n",
       "      <td>-500.356035</td>\n",
       "      <td>13.996647</td>\n",
       "      <td>-601.496691</td>\n",
       "      <td>2.330448</td>\n",
       "      <td>14.079996</td>\n",
       "      <td>4.470737</td>\n",
       "      <td>8.871028</td>\n",
       "      <td>42.774141</td>\n",
       "      <td>6.148599</td>\n",
       "      <td>10.142511</td>\n",
       "      <td>4.939416</td>\n",
       "      <td>66.927016</td>\n",
       "      <td>2.055292</td>\n",
       "      <td>10.360302</td>\n",
       "      <td>0.792826</td>\n",
       "      <td>16.525686</td>\n",
       "    </tr>\n",
       "    <tr>\n",
       "      <th>5</th>\n",
       "      <td>2016-01-15 05:00:00</td>\n",
       "      <td>5.687168</td>\n",
       "      <td>5.801920</td>\n",
       "      <td>1.879351</td>\n",
       "      <td>35.470082</td>\n",
       "      <td>546.173470</td>\n",
       "      <td>57.469578</td>\n",
       "      <td>11.072517</td>\n",
       "      <td>6.200383</td>\n",
       "      <td>999.934134</td>\n",
       "      <td>-400.599524</td>\n",
       "      <td>1601.080554</td>\n",
       "      <td>-450.120760</td>\n",
       "      <td>1603.164805</td>\n",
       "      <td>-450.097732</td>\n",
       "      <td>1603.368371</td>\n",
       "      <td>-446.306150</td>\n",
       "      <td>1403.393100</td>\n",
       "      <td>-447.899904</td>\n",
       "      <td>1402.903175</td>\n",
       "      <td>-448.872321</td>\n",
       "      <td>11.075009</td>\n",
       "      <td>6.202362</td>\n",
       "      <td>41973.280986</td>\n",
       "      <td>3501.916973</td>\n",
       "      <td>3499.527175</td>\n",
       "      <td>3.026134</td>\n",
       "      <td>18.950385</td>\n",
       "      <td>11.985584</td>\n",
       "      <td>7.121903</td>\n",
       "      <td>26.898046</td>\n",
       "      <td>88.156912</td>\n",
       "      <td>0.915835</td>\n",
       "      <td>4.397415</td>\n",
       "      <td>0.491350</td>\n",
       "      <td>19.640269</td>\n",
       "      <td>115.581252</td>\n",
       "      <td>12.470773</td>\n",
       "      <td>7.25</td>\n",
       "      <td>0.965760</td>\n",
       "      <td>1602.964922</td>\n",
       "      <td>-498.090944</td>\n",
       "      <td>1602.074298</td>\n",
       "      <td>-500.179481</td>\n",
       "      <td>1602.154812</td>\n",
       "      <td>-498.642614</td>\n",
       "      <td>1605.020106</td>\n",
       "      <td>-500.538177</td>\n",
       "      <td>32.070664</td>\n",
       "      <td>9.553724</td>\n",
       "      <td>9.816215</td>\n",
       "      <td>19.167328</td>\n",
       "      <td>2.114558</td>\n",
       "      <td>15.931540</td>\n",
       "      <td>2.844511</td>\n",
       "      <td>6.724197</td>\n",
       "      <td>26.014841</td>\n",
       "      <td>-498.864670</td>\n",
       "      <td>23.880214</td>\n",
       "      <td>-499.738447</td>\n",
       "      <td>23.982635</td>\n",
       "      <td>-500.495272</td>\n",
       "      <td>24.009749</td>\n",
       "      <td>-499.433825</td>\n",
       "      <td>13.938497</td>\n",
       "      <td>-500.970168</td>\n",
       "      <td>11.883350</td>\n",
       "      <td>-500.395298</td>\n",
       "      <td>10.054147</td>\n",
       "      <td>-496.374715</td>\n",
       "      <td>7.965083</td>\n",
       "      <td>-499.364752</td>\n",
       "      <td>14.017067</td>\n",
       "      <td>-599.707915</td>\n",
       "      <td>2.192127</td>\n",
       "      <td>13.615012</td>\n",
       "      <td>4.286817</td>\n",
       "      <td>9.302669</td>\n",
       "      <td>41.633678</td>\n",
       "      <td>6.482968</td>\n",
       "      <td>10.049416</td>\n",
       "      <td>5.480257</td>\n",
       "      <td>69.465816</td>\n",
       "      <td>1.918586</td>\n",
       "      <td>10.182708</td>\n",
       "      <td>0.664118</td>\n",
       "      <td>16.999638</td>\n",
       "    </tr>\n",
       "    <tr>\n",
       "      <th>6</th>\n",
       "      <td>2016-01-15 06:00:00</td>\n",
       "      <td>6.038436</td>\n",
       "      <td>6.056253</td>\n",
       "      <td>2.105501</td>\n",
       "      <td>34.920570</td>\n",
       "      <td>523.376439</td>\n",
       "      <td>56.674647</td>\n",
       "      <td>11.535899</td>\n",
       "      <td>6.204974</td>\n",
       "      <td>999.832373</td>\n",
       "      <td>-399.353521</td>\n",
       "      <td>1600.753019</td>\n",
       "      <td>-450.050089</td>\n",
       "      <td>1599.019966</td>\n",
       "      <td>-449.848507</td>\n",
       "      <td>1600.298267</td>\n",
       "      <td>-453.102891</td>\n",
       "      <td>1397.853265</td>\n",
       "      <td>-451.306640</td>\n",
       "      <td>1397.973670</td>\n",
       "      <td>-451.355626</td>\n",
       "      <td>11.539227</td>\n",
       "      <td>6.200515</td>\n",
       "      <td>41956.468979</td>\n",
       "      <td>3497.427365</td>\n",
       "      <td>3506.352790</td>\n",
       "      <td>2.867933</td>\n",
       "      <td>19.319591</td>\n",
       "      <td>11.684307</td>\n",
       "      <td>7.304849</td>\n",
       "      <td>27.063672</td>\n",
       "      <td>88.168065</td>\n",
       "      <td>0.986248</td>\n",
       "      <td>4.478080</td>\n",
       "      <td>0.518266</td>\n",
       "      <td>19.262491</td>\n",
       "      <td>117.322323</td>\n",
       "      <td>12.469088</td>\n",
       "      <td>7.25</td>\n",
       "      <td>0.895207</td>\n",
       "      <td>1597.532455</td>\n",
       "      <td>-500.985364</td>\n",
       "      <td>1602.816321</td>\n",
       "      <td>-500.696736</td>\n",
       "      <td>1603.572091</td>\n",
       "      <td>-500.256955</td>\n",
       "      <td>1597.597437</td>\n",
       "      <td>-500.378192</td>\n",
       "      <td>33.184823</td>\n",
       "      <td>8.968869</td>\n",
       "      <td>10.081306</td>\n",
       "      <td>18.930855</td>\n",
       "      <td>2.223152</td>\n",
       "      <td>16.078368</td>\n",
       "      <td>2.938979</td>\n",
       "      <td>6.623598</td>\n",
       "      <td>25.957594</td>\n",
       "      <td>-500.134472</td>\n",
       "      <td>24.077199</td>\n",
       "      <td>-500.089190</td>\n",
       "      <td>23.991710</td>\n",
       "      <td>-500.391528</td>\n",
       "      <td>23.954144</td>\n",
       "      <td>-501.872171</td>\n",
       "      <td>14.046819</td>\n",
       "      <td>-500.971133</td>\n",
       "      <td>12.091543</td>\n",
       "      <td>-500.501426</td>\n",
       "      <td>10.003247</td>\n",
       "      <td>-497.083180</td>\n",
       "      <td>8.010890</td>\n",
       "      <td>-500.002423</td>\n",
       "      <td>14.029649</td>\n",
       "      <td>-600.905470</td>\n",
       "      <td>2.316720</td>\n",
       "      <td>13.597056</td>\n",
       "      <td>4.487865</td>\n",
       "      <td>9.103047</td>\n",
       "      <td>41.995316</td>\n",
       "      <td>6.533849</td>\n",
       "      <td>10.058141</td>\n",
       "      <td>4.569100</td>\n",
       "      <td>69.300835</td>\n",
       "      <td>2.058913</td>\n",
       "      <td>10.304598</td>\n",
       "      <td>0.807342</td>\n",
       "      <td>16.723575</td>\n",
       "    </tr>\n",
       "    <tr>\n",
       "      <th>7</th>\n",
       "      <td>2016-01-15 07:00:00</td>\n",
       "      <td>6.433854</td>\n",
       "      <td>5.955053</td>\n",
       "      <td>2.310432</td>\n",
       "      <td>36.091386</td>\n",
       "      <td>549.842749</td>\n",
       "      <td>56.730325</td>\n",
       "      <td>12.557906</td>\n",
       "      <td>6.799275</td>\n",
       "      <td>1000.166602</td>\n",
       "      <td>-400.556601</td>\n",
       "      <td>1598.877246</td>\n",
       "      <td>-450.070980</td>\n",
       "      <td>1598.108717</td>\n",
       "      <td>-449.211334</td>\n",
       "      <td>1592.872844</td>\n",
       "      <td>-449.806802</td>\n",
       "      <td>1396.580752</td>\n",
       "      <td>-453.548352</td>\n",
       "      <td>1397.289884</td>\n",
       "      <td>-450.221696</td>\n",
       "      <td>12.583109</td>\n",
       "      <td>6.798354</td>\n",
       "      <td>41812.416893</td>\n",
       "      <td>3497.275828</td>\n",
       "      <td>3501.000030</td>\n",
       "      <td>2.784698</td>\n",
       "      <td>19.507897</td>\n",
       "      <td>11.182624</td>\n",
       "      <td>7.258496</td>\n",
       "      <td>27.231114</td>\n",
       "      <td>87.668336</td>\n",
       "      <td>1.116110</td>\n",
       "      <td>4.728325</td>\n",
       "      <td>0.548067</td>\n",
       "      <td>18.861866</td>\n",
       "      <td>124.592960</td>\n",
       "      <td>12.467403</td>\n",
       "      <td>7.25</td>\n",
       "      <td>0.901202</td>\n",
       "      <td>1597.946266</td>\n",
       "      <td>-501.592304</td>\n",
       "      <td>1601.078254</td>\n",
       "      <td>-499.494115</td>\n",
       "      <td>1602.630688</td>\n",
       "      <td>-500.173741</td>\n",
       "      <td>1595.937990</td>\n",
       "      <td>-498.929825</td>\n",
       "      <td>34.027719</td>\n",
       "      <td>8.545238</td>\n",
       "      <td>10.224540</td>\n",
       "      <td>18.735813</td>\n",
       "      <td>2.112025</td>\n",
       "      <td>15.797720</td>\n",
       "      <td>2.881529</td>\n",
       "      <td>6.872033</td>\n",
       "      <td>25.938026</td>\n",
       "      <td>-499.657795</td>\n",
       "      <td>24.020179</td>\n",
       "      <td>-499.798396</td>\n",
       "      <td>24.031555</td>\n",
       "      <td>-500.550436</td>\n",
       "      <td>23.968160</td>\n",
       "      <td>-499.836513</td>\n",
       "      <td>13.974691</td>\n",
       "      <td>-501.819696</td>\n",
       "      <td>12.101324</td>\n",
       "      <td>-500.583446</td>\n",
       "      <td>9.873169</td>\n",
       "      <td>-499.171928</td>\n",
       "      <td>7.993381</td>\n",
       "      <td>-499.794518</td>\n",
       "      <td>13.984498</td>\n",
       "      <td>-600.411070</td>\n",
       "      <td>2.192197</td>\n",
       "      <td>13.177237</td>\n",
       "      <td>4.432448</td>\n",
       "      <td>9.369209</td>\n",
       "      <td>42.452727</td>\n",
       "      <td>6.130823</td>\n",
       "      <td>9.935481</td>\n",
       "      <td>4.389813</td>\n",
       "      <td>70.230976</td>\n",
       "      <td>2.143437</td>\n",
       "      <td>10.443288</td>\n",
       "      <td>0.949346</td>\n",
       "      <td>16.689959</td>\n",
       "    </tr>\n",
       "    <tr>\n",
       "      <th>8</th>\n",
       "      <td>2016-01-15 08:00:00</td>\n",
       "      <td>6.526612</td>\n",
       "      <td>5.878084</td>\n",
       "      <td>2.391713</td>\n",
       "      <td>35.753879</td>\n",
       "      <td>560.115242</td>\n",
       "      <td>56.649893</td>\n",
       "      <td>13.166128</td>\n",
       "      <td>6.798659</td>\n",
       "      <td>1000.026864</td>\n",
       "      <td>-399.968583</td>\n",
       "      <td>1599.813104</td>\n",
       "      <td>-450.481122</td>\n",
       "      <td>1600.024621</td>\n",
       "      <td>-450.365493</td>\n",
       "      <td>1594.448648</td>\n",
       "      <td>-449.882428</td>\n",
       "      <td>1402.033682</td>\n",
       "      <td>-448.545552</td>\n",
       "      <td>1400.748347</td>\n",
       "      <td>-450.303991</td>\n",
       "      <td>13.184764</td>\n",
       "      <td>6.800021</td>\n",
       "      <td>41905.757985</td>\n",
       "      <td>3498.332166</td>\n",
       "      <td>3498.120075</td>\n",
       "      <td>2.728844</td>\n",
       "      <td>19.789465</td>\n",
       "      <td>11.051323</td>\n",
       "      <td>7.380043</td>\n",
       "      <td>27.404296</td>\n",
       "      <td>87.035862</td>\n",
       "      <td>1.186780</td>\n",
       "      <td>4.764300</td>\n",
       "      <td>0.599181</td>\n",
       "      <td>18.873082</td>\n",
       "      <td>131.781026</td>\n",
       "      <td>12.465718</td>\n",
       "      <td>7.25</td>\n",
       "      <td>0.885535</td>\n",
       "      <td>1601.670053</td>\n",
       "      <td>-499.548891</td>\n",
       "      <td>1598.804355</td>\n",
       "      <td>-499.689644</td>\n",
       "      <td>1601.689285</td>\n",
       "      <td>-500.484957</td>\n",
       "      <td>1602.431117</td>\n",
       "      <td>-500.650982</td>\n",
       "      <td>34.964974</td>\n",
       "      <td>8.046686</td>\n",
       "      <td>10.500065</td>\n",
       "      <td>18.560288</td>\n",
       "      <td>2.243817</td>\n",
       "      <td>16.195420</td>\n",
       "      <td>3.089922</td>\n",
       "      <td>6.705633</td>\n",
       "      <td>25.929511</td>\n",
       "      <td>-500.079889</td>\n",
       "      <td>23.977375</td>\n",
       "      <td>-500.005187</td>\n",
       "      <td>23.998809</td>\n",
       "      <td>-500.400133</td>\n",
       "      <td>23.982633</td>\n",
       "      <td>-499.826311</td>\n",
       "      <td>13.964030</td>\n",
       "      <td>-504.252450</td>\n",
       "      <td>12.060738</td>\n",
       "      <td>-501.174549</td>\n",
       "      <td>10.033838</td>\n",
       "      <td>-501.178133</td>\n",
       "      <td>7.881604</td>\n",
       "      <td>-499.729434</td>\n",
       "      <td>13.967135</td>\n",
       "      <td>-599.061188</td>\n",
       "      <td>2.212084</td>\n",
       "      <td>13.487870</td>\n",
       "      <td>4.608756</td>\n",
       "      <td>9.437044</td>\n",
       "      <td>43.404078</td>\n",
       "      <td>5.834140</td>\n",
       "      <td>10.071156</td>\n",
       "      <td>4.876389</td>\n",
       "      <td>69.688595</td>\n",
       "      <td>2.209881</td>\n",
       "      <td>10.420140</td>\n",
       "      <td>1.065453</td>\n",
       "      <td>17.201948</td>\n",
       "    </tr>\n",
       "    <tr>\n",
       "      <th>9</th>\n",
       "      <td>2016-01-15 09:00:00</td>\n",
       "      <td>6.747693</td>\n",
       "      <td>5.974832</td>\n",
       "      <td>2.539114</td>\n",
       "      <td>38.553938</td>\n",
       "      <td>566.616045</td>\n",
       "      <td>60.308763</td>\n",
       "      <td>13.996130</td>\n",
       "      <td>6.800263</td>\n",
       "      <td>1000.332327</td>\n",
       "      <td>-400.149341</td>\n",
       "      <td>1599.255585</td>\n",
       "      <td>-449.938835</td>\n",
       "      <td>1599.889681</td>\n",
       "      <td>-450.184036</td>\n",
       "      <td>1589.251641</td>\n",
       "      <td>-449.993434</td>\n",
       "      <td>1401.349036</td>\n",
       "      <td>-449.424506</td>\n",
       "      <td>1400.221018</td>\n",
       "      <td>-450.257027</td>\n",
       "      <td>14.018513</td>\n",
       "      <td>6.799799</td>\n",
       "      <td>41904.587200</td>\n",
       "      <td>3496.945733</td>\n",
       "      <td>3503.247805</td>\n",
       "      <td>2.657499</td>\n",
       "      <td>19.550973</td>\n",
       "      <td>11.354861</td>\n",
       "      <td>7.344956</td>\n",
       "      <td>27.742063</td>\n",
       "      <td>88.280699</td>\n",
       "      <td>1.137303</td>\n",
       "      <td>4.600020</td>\n",
       "      <td>0.619485</td>\n",
       "      <td>19.436276</td>\n",
       "      <td>146.153696</td>\n",
       "      <td>12.464385</td>\n",
       "      <td>7.25</td>\n",
       "      <td>0.897431</td>\n",
       "      <td>1601.066985</td>\n",
       "      <td>-499.830641</td>\n",
       "      <td>1599.806933</td>\n",
       "      <td>-500.600490</td>\n",
       "      <td>1599.164142</td>\n",
       "      <td>-499.334459</td>\n",
       "      <td>1599.697783</td>\n",
       "      <td>-500.263228</td>\n",
       "      <td>35.360817</td>\n",
       "      <td>7.862340</td>\n",
       "      <td>10.526890</td>\n",
       "      <td>18.504813</td>\n",
       "      <td>2.011642</td>\n",
       "      <td>15.823639</td>\n",
       "      <td>3.012419</td>\n",
       "      <td>7.214806</td>\n",
       "      <td>25.986485</td>\n",
       "      <td>-499.402963</td>\n",
       "      <td>23.961207</td>\n",
       "      <td>-499.986118</td>\n",
       "      <td>24.049918</td>\n",
       "      <td>-500.435620</td>\n",
       "      <td>23.972413</td>\n",
       "      <td>-499.751759</td>\n",
       "      <td>14.008944</td>\n",
       "      <td>-504.170807</td>\n",
       "      <td>11.995903</td>\n",
       "      <td>-501.269181</td>\n",
       "      <td>10.043100</td>\n",
       "      <td>-498.529996</td>\n",
       "      <td>8.002633</td>\n",
       "      <td>-499.761922</td>\n",
       "      <td>14.004767</td>\n",
       "      <td>-599.595324</td>\n",
       "      <td>2.067619</td>\n",
       "      <td>13.735810</td>\n",
       "      <td>4.721778</td>\n",
       "      <td>9.582874</td>\n",
       "      <td>43.487291</td>\n",
       "      <td>5.706261</td>\n",
       "      <td>10.242511</td>\n",
       "      <td>5.214161</td>\n",
       "      <td>70.973641</td>\n",
       "      <td>2.200997</td>\n",
       "      <td>10.473539</td>\n",
       "      <td>1.171183</td>\n",
       "      <td>17.717049</td>\n",
       "    </tr>\n",
       "  </tbody>\n",
       "</table>\n",
       "</div>"
      ],
      "text/plain": [
       "                  date  rougher.input.feed_au  rougher.input.feed_ag  \\\n",
       "0  2016-01-15 00:00:00               6.486150               6.100378   \n",
       "1  2016-01-15 01:00:00               6.478583               6.161113   \n",
       "2  2016-01-15 02:00:00               6.362222               6.116455   \n",
       "3  2016-01-15 03:00:00               6.118189               6.043309   \n",
       "4  2016-01-15 04:00:00               5.663707               6.060915   \n",
       "5  2016-01-15 05:00:00               5.687168               5.801920   \n",
       "6  2016-01-15 06:00:00               6.038436               6.056253   \n",
       "7  2016-01-15 07:00:00               6.433854               5.955053   \n",
       "8  2016-01-15 08:00:00               6.526612               5.878084   \n",
       "9  2016-01-15 09:00:00               6.747693               5.974832   \n",
       "\n",
       "   rougher.input.feed_pb  rougher.input.feed_sol  rougher.input.feed_rate  \\\n",
       "0               2.284912               36.808594               523.546326   \n",
       "1               2.266033               35.753385               525.290581   \n",
       "2               2.159622               35.971630               530.026610   \n",
       "3               2.037807               36.862241               542.590390   \n",
       "4               1.786875               34.347666               540.531893   \n",
       "5               1.879351               35.470082               546.173470   \n",
       "6               2.105501               34.920570               523.376439   \n",
       "7               2.310432               36.091386               549.842749   \n",
       "8               2.391713               35.753879               560.115242   \n",
       "9               2.539114               38.553938               566.616045   \n",
       "\n",
       "   rougher.input.feed_size  rougher.input.floatbank10_sulfate  \\\n",
       "0                55.486599                          11.986616   \n",
       "1                57.278666                          11.971193   \n",
       "2                57.510649                          11.920603   \n",
       "3                57.792734                          11.630094   \n",
       "4                56.047189                          10.957755   \n",
       "5                57.469578                          11.072517   \n",
       "6                56.674647                          11.535899   \n",
       "7                56.730325                          12.557906   \n",
       "8                56.649893                          13.166128   \n",
       "9                60.308763                          13.996130   \n",
       "\n",
       "   rougher.input.floatbank10_xanthate  rougher.state.floatbank10_a_air  \\\n",
       "0                            6.007990                       999.706909   \n",
       "1                            6.005766                      1000.286398   \n",
       "2                            6.197377                       999.719565   \n",
       "3                            6.203177                       999.814770   \n",
       "4                            6.198826                       999.678690   \n",
       "5                            6.200383                       999.934134   \n",
       "6                            6.204974                       999.832373   \n",
       "7                            6.799275                      1000.166602   \n",
       "8                            6.798659                      1000.026864   \n",
       "9                            6.800263                      1000.332327   \n",
       "\n",
       "   rougher.state.floatbank10_a_level  rougher.state.floatbank10_b_air  \\\n",
       "0                        -404.066986                      1603.011353   \n",
       "1                        -400.065196                      1600.754587   \n",
       "2                        -400.074028                      1599.337330   \n",
       "3                        -400.200179                      1600.059442   \n",
       "4                        -399.752729                      1600.208824   \n",
       "5                        -400.599524                      1601.080554   \n",
       "6                        -399.353521                      1600.753019   \n",
       "7                        -400.556601                      1598.877246   \n",
       "8                        -399.968583                      1599.813104   \n",
       "9                        -400.149341                      1599.255585   \n",
       "\n",
       "   rougher.state.floatbank10_b_level  rougher.state.floatbank10_c_air  \\\n",
       "0                        -434.715027                      1602.375000   \n",
       "1                        -449.953435                      1600.479580   \n",
       "2                        -450.008530                      1599.672797   \n",
       "3                        -450.619948                      1600.012842   \n",
       "4                        -449.599614                      1600.357732   \n",
       "5                        -450.120760                      1603.164805   \n",
       "6                        -450.050089                      1599.019966   \n",
       "7                        -450.070980                      1598.108717   \n",
       "8                        -450.481122                      1600.024621   \n",
       "9                        -449.938835                      1599.889681   \n",
       "\n",
       "   rougher.state.floatbank10_c_level  rougher.state.floatbank10_d_air  \\\n",
       "0                        -442.204468                      1598.937256   \n",
       "1                        -449.830646                      1600.527589   \n",
       "2                        -449.954491                      1599.849325   \n",
       "3                        -449.910497                      1597.725177   \n",
       "4                        -450.034364                      1599.759049   \n",
       "5                        -450.097732                      1603.368371   \n",
       "6                        -449.848507                      1600.298267   \n",
       "7                        -449.211334                      1592.872844   \n",
       "8                        -450.365493                      1594.448648   \n",
       "9                        -450.184036                      1589.251641   \n",
       "\n",
       "   rougher.state.floatbank10_d_level  rougher.state.floatbank10_e_air  \\\n",
       "0                        -451.294128                      1404.472046   \n",
       "1                        -449.953649                      1399.227084   \n",
       "2                        -449.954185                      1399.180945   \n",
       "3                        -450.130127                      1400.943157   \n",
       "4                        -449.909799                      1401.560902   \n",
       "5                        -446.306150                      1403.393100   \n",
       "6                        -453.102891                      1397.853265   \n",
       "7                        -449.806802                      1396.580752   \n",
       "8                        -449.882428                      1402.033682   \n",
       "9                        -449.993434                      1401.349036   \n",
       "\n",
       "   rougher.state.floatbank10_e_level  rougher.state.floatbank10_f_air  \\\n",
       "0                        -455.462982                      1416.354980   \n",
       "1                        -450.869848                      1399.719514   \n",
       "2                        -449.937588                      1400.316682   \n",
       "3                        -450.030142                      1400.234743   \n",
       "4                        -448.877187                      1401.160227   \n",
       "5                        -447.899904                      1402.903175   \n",
       "6                        -451.306640                      1397.973670   \n",
       "7                        -453.548352                      1397.289884   \n",
       "8                        -448.545552                      1400.748347   \n",
       "9                        -449.424506                      1400.221018   \n",
       "\n",
       "   rougher.state.floatbank10_f_level  rougher.input.floatbank11_sulfate  \\\n",
       "0                        -451.939636                          11.836743   \n",
       "1                        -450.119001                          11.996163   \n",
       "2                        -450.527147                          11.920305   \n",
       "3                        -449.790835                          11.692450   \n",
       "4                        -450.407128                          10.960521   \n",
       "5                        -448.872321                          11.075009   \n",
       "6                        -451.355626                          11.539227   \n",
       "7                        -450.221696                          12.583109   \n",
       "8                        -450.303991                          13.184764   \n",
       "9                        -450.257027                          14.018513   \n",
       "\n",
       "   rougher.input.floatbank11_xanthate  \\\n",
       "0                            6.005818   \n",
       "1                            6.012594   \n",
       "2                            6.204633   \n",
       "3                            6.196578   \n",
       "4                            6.194897   \n",
       "5                            6.202362   \n",
       "6                            6.200515   \n",
       "7                            6.798354   \n",
       "8                            6.800021   \n",
       "9                            6.799799   \n",
       "\n",
       "   rougher.calculation.sulfate_to_au_concentrate  \\\n",
       "0                                   41885.707031   \n",
       "1                                   42050.861809   \n",
       "2                                   42018.101184   \n",
       "3                                   42029.447991   \n",
       "4                                   42125.354245   \n",
       "5                                   41973.280986   \n",
       "6                                   41956.468979   \n",
       "7                                   41812.416893   \n",
       "8                                   41905.757985   \n",
       "9                                   41904.587200   \n",
       "\n",
       "   rougher.calculation.floatbank10_sulfate_to_au_feed  \\\n",
       "0                                        3481.779053    \n",
       "1                                        3498.370979    \n",
       "2                                        3495.348910    \n",
       "3                                        3498.578313    \n",
       "4                                        3494.800771    \n",
       "5                                        3501.916973    \n",
       "6                                        3497.427365    \n",
       "7                                        3497.275828    \n",
       "8                                        3498.332166    \n",
       "9                                        3496.945733    \n",
       "\n",
       "   rougher.calculation.floatbank11_sulfate_to_au_feed  \\\n",
       "0                                        3520.337158    \n",
       "1                                        3489.981857    \n",
       "2                                        3502.359819    \n",
       "3                                        3499.162912    \n",
       "4                                        3506.679315    \n",
       "5                                        3499.527175    \n",
       "6                                        3506.352790    \n",
       "7                                        3501.000030    \n",
       "8                                        3498.120075    \n",
       "9                                        3503.247805    \n",
       "\n",
       "   rougher.calculation.au_pb_ratio  rougher.output.concentrate_au  \\\n",
       "0                         2.838687                      19.793808   \n",
       "1                         2.858998                      20.050975   \n",
       "2                         2.945989                      19.737170   \n",
       "3                         3.002340                      19.320810   \n",
       "4                         3.169615                      19.216101   \n",
       "5                         3.026134                      18.950385   \n",
       "6                         2.867933                      19.319591   \n",
       "7                         2.784698                      19.507897   \n",
       "8                         2.728844                      19.789465   \n",
       "9                         2.657499                      19.550973   \n",
       "\n",
       "   rougher.output.concentrate_ag  rougher.output.concentrate_pb  \\\n",
       "0                      11.500771                       7.101074   \n",
       "1                      11.615865                       7.278807   \n",
       "2                      11.695753                       7.216833   \n",
       "3                      11.915047                       7.175616   \n",
       "4                      12.411054                       7.240205   \n",
       "5                      11.985584                       7.121903   \n",
       "6                      11.684307                       7.304849   \n",
       "7                      11.182624                       7.258496   \n",
       "8                      11.051323                       7.380043   \n",
       "9                      11.354861                       7.344956   \n",
       "\n",
       "   rougher.output.concentrate_sol  rougher.output.recovery  \\\n",
       "0                       28.029297                87.107763   \n",
       "1                       28.067063                86.843261   \n",
       "2                       27.454037                86.842308   \n",
       "3                       27.341277                87.226430   \n",
       "4                       27.041023                86.688794   \n",
       "5                       26.898046                88.156912   \n",
       "6                       27.063672                88.168065   \n",
       "7                       27.231114                87.668336   \n",
       "8                       27.404296                87.035862   \n",
       "9                       27.742063                88.280699   \n",
       "\n",
       "   rougher.output.tail_au  rougher.output.tail_ag  rougher.output.tail_pb  \\\n",
       "0                1.170244                5.008018                0.508728   \n",
       "1                1.184827                4.955378                0.536689   \n",
       "2                1.162562                4.843460                0.546416   \n",
       "3                1.079755                4.655288                0.542525   \n",
       "4                1.012642                4.552800                0.515438   \n",
       "5                0.915835                4.397415                0.491350   \n",
       "6                0.986248                4.478080                0.518266   \n",
       "7                1.116110                4.728325                0.548067   \n",
       "8                1.186780                4.764300                0.599181   \n",
       "9                1.137303                4.600020                0.619485   \n",
       "\n",
       "   rougher.output.tail_sol  primary_cleaner.input.sulfate  \\\n",
       "0                19.154297                     127.092003   \n",
       "1                18.965234                     125.629232   \n",
       "2                18.808533                     123.819808   \n",
       "3                19.330200                     122.270188   \n",
       "4                19.267422                     117.988169   \n",
       "5                19.640269                     115.581252   \n",
       "6                19.262491                     117.322323   \n",
       "7                18.861866                     124.592960   \n",
       "8                18.873082                     131.781026   \n",
       "9                19.436276                     146.153696   \n",
       "\n",
       "   primary_cleaner.input.depressant  primary_cleaner.input.feed_size  \\\n",
       "0                         10.128295                             7.25   \n",
       "1                         10.296251                             7.25   \n",
       "2                         11.316280                             7.25   \n",
       "3                         11.322140                             7.25   \n",
       "4                         11.913613                             7.25   \n",
       "5                         12.470773                             7.25   \n",
       "6                         12.469088                             7.25   \n",
       "7                         12.467403                             7.25   \n",
       "8                         12.465718                             7.25   \n",
       "9                         12.464385                             7.25   \n",
       "\n",
       "   primary_cleaner.input.xanthate  primary_cleaner.state.floatbank8_a_air  \\\n",
       "0                        0.988759                             1549.775757   \n",
       "1                        1.002663                             1576.166671   \n",
       "2                        0.991265                             1601.556163   \n",
       "3                        0.996739                             1599.968720   \n",
       "4                        1.009869                             1601.339707   \n",
       "5                        0.965760                             1602.964922   \n",
       "6                        0.895207                             1597.532455   \n",
       "7                        0.901202                             1597.946266   \n",
       "8                        0.885535                             1601.670053   \n",
       "9                        0.897431                             1601.066985   \n",
       "\n",
       "   primary_cleaner.state.floatbank8_a_level  \\\n",
       "0                               -498.912140   \n",
       "1                               -500.904965   \n",
       "2                               -499.997791   \n",
       "3                               -500.951778   \n",
       "4                               -498.975456   \n",
       "5                               -498.090944   \n",
       "6                               -500.985364   \n",
       "7                               -501.592304   \n",
       "8                               -499.548891   \n",
       "9                               -499.830641   \n",
       "\n",
       "   primary_cleaner.state.floatbank8_b_air  \\\n",
       "0                             1551.434204   \n",
       "1                             1575.950626   \n",
       "2                             1600.386685   \n",
       "3                             1600.659236   \n",
       "4                             1601.437854   \n",
       "5                             1602.074298   \n",
       "6                             1602.816321   \n",
       "7                             1601.078254   \n",
       "8                             1598.804355   \n",
       "9                             1599.806933   \n",
       "\n",
       "   primary_cleaner.state.floatbank8_b_level  \\\n",
       "0                               -516.403442   \n",
       "1                               -499.865889   \n",
       "2                               -500.607762   \n",
       "3                               -499.677094   \n",
       "4                               -500.323246   \n",
       "5                               -500.179481   \n",
       "6                               -500.696736   \n",
       "7                               -499.494115   \n",
       "8                               -499.689644   \n",
       "9                               -500.600490   \n",
       "\n",
       "   primary_cleaner.state.floatbank8_c_air  \\\n",
       "0                             1549.873901   \n",
       "1                             1575.994189   \n",
       "2                             1602.003542   \n",
       "3                             1600.304144   \n",
       "4                             1599.581894   \n",
       "5                             1602.154812   \n",
       "6                             1603.572091   \n",
       "7                             1602.630688   \n",
       "8                             1601.689285   \n",
       "9                             1599.164142   \n",
       "\n",
       "   primary_cleaner.state.floatbank8_c_level  \\\n",
       "0                               -498.666595   \n",
       "1                               -499.315107   \n",
       "2                               -500.870069   \n",
       "3                               -500.727997   \n",
       "4                               -500.888152   \n",
       "5                               -498.642614   \n",
       "6                               -500.256955   \n",
       "7                               -500.173741   \n",
       "8                               -500.484957   \n",
       "9                               -499.334459   \n",
       "\n",
       "   primary_cleaner.state.floatbank8_d_air  \\\n",
       "0                             1554.367432   \n",
       "1                             1574.479259   \n",
       "2                             1599.541515   \n",
       "3                             1600.449520   \n",
       "4                             1602.649541   \n",
       "5                             1605.020106   \n",
       "6                             1597.597437   \n",
       "7                             1595.937990   \n",
       "8                             1602.431117   \n",
       "9                             1599.697783   \n",
       "\n",
       "   primary_cleaner.state.floatbank8_d_level  \\\n",
       "0                               -493.428131   \n",
       "1                               -498.931665   \n",
       "2                               -499.827444   \n",
       "3                               -500.052575   \n",
       "4                               -500.593010   \n",
       "5                               -500.538177   \n",
       "6                               -500.378192   \n",
       "7                               -498.929825   \n",
       "8                               -500.650982   \n",
       "9                               -500.263228   \n",
       "\n",
       "   primary_cleaner.output.concentrate_au  \\\n",
       "0                              34.174427   \n",
       "1                              34.118526   \n",
       "2                              33.969464   \n",
       "3                              28.260743   \n",
       "4                              33.044932   \n",
       "5                              32.070664   \n",
       "6                              33.184823   \n",
       "7                              34.027719   \n",
       "8                              34.964974   \n",
       "9                              35.360817   \n",
       "\n",
       "   primary_cleaner.output.concentrate_ag  \\\n",
       "0                               8.547551   \n",
       "1                               8.558743   \n",
       "2                               8.603505   \n",
       "3                               7.221879   \n",
       "4                               9.089428   \n",
       "5                               9.553724   \n",
       "6                               8.968869   \n",
       "7                               8.545238   \n",
       "8                               8.046686   \n",
       "9                               7.862340   \n",
       "\n",
       "   primary_cleaner.output.concentrate_pb  \\\n",
       "0                              10.389648   \n",
       "1                              10.497069   \n",
       "2                              10.354494   \n",
       "3                               8.496563   \n",
       "4                               9.986786   \n",
       "5                               9.816215   \n",
       "6                              10.081306   \n",
       "7                              10.224540   \n",
       "8                              10.500065   \n",
       "9                              10.526890   \n",
       "\n",
       "   primary_cleaner.output.concentrate_sol  primary_cleaner.output.tail_au  \\\n",
       "0                               19.529297                        2.106679   \n",
       "1                               19.369147                        2.353017   \n",
       "2                               19.167579                        2.416800   \n",
       "3                               15.978538                        2.262051   \n",
       "4                               19.199864                        2.277073   \n",
       "5                               19.167328                        2.114558   \n",
       "6                               18.930855                        2.223152   \n",
       "7                               18.735813                        2.112025   \n",
       "8                               18.560288                        2.243817   \n",
       "9                               18.504813                        2.011642   \n",
       "\n",
       "   primary_cleaner.output.tail_ag  primary_cleaner.output.tail_pb  \\\n",
       "0                       14.936526                        2.534912   \n",
       "1                       16.250511                        3.049646   \n",
       "2                       16.491823                        3.124664   \n",
       "3                       16.024359                        2.960362   \n",
       "4                       16.480185                        3.112100   \n",
       "5                       15.931540                        2.844511   \n",
       "6                       16.078368                        2.938979   \n",
       "7                       15.797720                        2.881529   \n",
       "8                       16.195420                        3.089922   \n",
       "9                       15.823639                        3.012419   \n",
       "\n",
       "   primary_cleaner.output.tail_sol  secondary_cleaner.state.floatbank2_a_air  \\\n",
       "0                         7.476074                                 25.853109   \n",
       "1                         6.733907                                 25.880539   \n",
       "2                         6.471768                                 26.005245   \n",
       "3                         6.843791                                 25.942508   \n",
       "4                         6.550154                                 26.024787   \n",
       "5                         6.724197                                 26.014841   \n",
       "6                         6.623598                                 25.957594   \n",
       "7                         6.872033                                 25.938026   \n",
       "8                         6.705633                                 25.929511   \n",
       "9                         7.214806                                 25.986485   \n",
       "\n",
       "   secondary_cleaner.state.floatbank2_a_level  \\\n",
       "0                                 -498.526489   \n",
       "1                                 -499.989656   \n",
       "2                                 -499.929616   \n",
       "3                                 -499.176749   \n",
       "4                                 -500.279091   \n",
       "5                                 -498.864670   \n",
       "6                                 -500.134472   \n",
       "7                                 -499.657795   \n",
       "8                                 -500.079889   \n",
       "9                                 -499.402963   \n",
       "\n",
       "   secondary_cleaner.state.floatbank2_b_air  \\\n",
       "0                                 23.893660   \n",
       "1                                 23.889530   \n",
       "2                                 23.886657   \n",
       "3                                 23.955516   \n",
       "4                                 23.955345   \n",
       "5                                 23.880214   \n",
       "6                                 24.077199   \n",
       "7                                 24.020179   \n",
       "8                                 23.977375   \n",
       "9                                 23.961207   \n",
       "\n",
       "   secondary_cleaner.state.floatbank2_b_level  \\\n",
       "0                                 -501.406281   \n",
       "1                                 -500.372428   \n",
       "2                                 -499.951928   \n",
       "3                                 -499.848796   \n",
       "4                                 -500.593614   \n",
       "5                                 -499.738447   \n",
       "6                                 -500.089190   \n",
       "7                                 -499.798396   \n",
       "8                                 -500.005187   \n",
       "9                                 -499.986118   \n",
       "\n",
       "   secondary_cleaner.state.floatbank3_a_air  \\\n",
       "0                                 23.961798   \n",
       "1                                 23.970550   \n",
       "2                                 23.913535   \n",
       "3                                 23.966838   \n",
       "4                                 23.985703   \n",
       "5                                 23.982635   \n",
       "6                                 23.991710   \n",
       "7                                 24.031555   \n",
       "8                                 23.998809   \n",
       "9                                 24.049918   \n",
       "\n",
       "   secondary_cleaner.state.floatbank3_a_level  \\\n",
       "0                                 -495.262817   \n",
       "1                                 -500.085473   \n",
       "2                                 -499.442343   \n",
       "3                                 -500.008812   \n",
       "4                                 -500.083811   \n",
       "5                                 -500.495272   \n",
       "6                                 -500.391528   \n",
       "7                                 -500.550436   \n",
       "8                                 -500.400133   \n",
       "9                                 -500.435620   \n",
       "\n",
       "   secondary_cleaner.state.floatbank3_b_air  \\\n",
       "0                                 21.940409   \n",
       "1                                 22.085714   \n",
       "2                                 23.957717   \n",
       "3                                 23.954443   \n",
       "4                                 23.958945   \n",
       "5                                 24.009749   \n",
       "6                                 23.954144   \n",
       "7                                 23.968160   \n",
       "8                                 23.982633   \n",
       "9                                 23.972413   \n",
       "\n",
       "   secondary_cleaner.state.floatbank3_b_level  \\\n",
       "0                                 -499.340973   \n",
       "1                                 -499.446897   \n",
       "2                                 -499.901982   \n",
       "3                                 -499.944710   \n",
       "4                                 -499.990309   \n",
       "5                                 -499.433825   \n",
       "6                                 -501.872171   \n",
       "7                                 -499.836513   \n",
       "8                                 -499.826311   \n",
       "9                                 -499.751759   \n",
       "\n",
       "   secondary_cleaner.state.floatbank4_a_air  \\\n",
       "0                                 14.016835   \n",
       "1                                 13.992281   \n",
       "2                                 14.015015   \n",
       "3                                 14.036510   \n",
       "4                                 14.027298   \n",
       "5                                 13.938497   \n",
       "6                                 14.046819   \n",
       "7                                 13.974691   \n",
       "8                                 13.964030   \n",
       "9                                 14.008944   \n",
       "\n",
       "   secondary_cleaner.state.floatbank4_a_level  \\\n",
       "0                                 -502.488007   \n",
       "1                                 -505.503262   \n",
       "2                                 -502.520901   \n",
       "3                                 -500.857308   \n",
       "4                                 -499.838632   \n",
       "5                                 -500.970168   \n",
       "6                                 -500.971133   \n",
       "7                                 -501.819696   \n",
       "8                                 -504.252450   \n",
       "9                                 -504.170807   \n",
       "\n",
       "   secondary_cleaner.state.floatbank4_b_air  \\\n",
       "0                                 12.099931   \n",
       "1                                 11.950531   \n",
       "2                                 11.912783   \n",
       "3                                 11.999550   \n",
       "4                                 11.953070   \n",
       "5                                 11.883350   \n",
       "6                                 12.091543   \n",
       "7                                 12.101324   \n",
       "8                                 12.060738   \n",
       "9                                 11.995903   \n",
       "\n",
       "   secondary_cleaner.state.floatbank4_b_level  \\\n",
       "0                                 -504.715942   \n",
       "1                                 -501.331529   \n",
       "2                                 -501.133383   \n",
       "3                                 -501.193686   \n",
       "4                                 -501.053894   \n",
       "5                                 -500.395298   \n",
       "6                                 -500.501426   \n",
       "7                                 -500.583446   \n",
       "8                                 -501.174549   \n",
       "9                                 -501.269181   \n",
       "\n",
       "   secondary_cleaner.state.floatbank5_a_air  \\\n",
       "0                                  9.925633   \n",
       "1                                 10.039245   \n",
       "2                                 10.070913   \n",
       "3                                  9.970366   \n",
       "4                                  9.925709   \n",
       "5                                 10.054147   \n",
       "6                                 10.003247   \n",
       "7                                  9.873169   \n",
       "8                                 10.033838   \n",
       "9                                 10.043100   \n",
       "\n",
       "   secondary_cleaner.state.floatbank5_a_level  \\\n",
       "0                                 -498.310211   \n",
       "1                                 -500.169983   \n",
       "2                                 -500.129135   \n",
       "3                                 -499.201640   \n",
       "4                                 -501.686727   \n",
       "5                                 -496.374715   \n",
       "6                                 -497.083180   \n",
       "7                                 -499.171928   \n",
       "8                                 -501.178133   \n",
       "9                                 -498.529996   \n",
       "\n",
       "   secondary_cleaner.state.floatbank5_b_air  \\\n",
       "0                                  8.079666   \n",
       "1                                  7.984757   \n",
       "2                                  8.013877   \n",
       "3                                  7.977324   \n",
       "4                                  7.894242   \n",
       "5                                  7.965083   \n",
       "6                                  8.010890   \n",
       "7                                  7.993381   \n",
       "8                                  7.881604   \n",
       "9                                  8.002633   \n",
       "\n",
       "   secondary_cleaner.state.floatbank5_b_level  \\\n",
       "0                                 -500.470978   \n",
       "1                                 -500.582168   \n",
       "2                                 -500.517572   \n",
       "3                                 -500.255908   \n",
       "4                                 -500.356035   \n",
       "5                                 -499.364752   \n",
       "6                                 -500.002423   \n",
       "7                                 -499.794518   \n",
       "8                                 -499.729434   \n",
       "9                                 -499.761922   \n",
       "\n",
       "   secondary_cleaner.state.floatbank6_a_air  \\\n",
       "0                                 14.151341   \n",
       "1                                 13.998353   \n",
       "2                                 14.028663   \n",
       "3                                 14.005551   \n",
       "4                                 13.996647   \n",
       "5                                 14.017067   \n",
       "6                                 14.029649   \n",
       "7                                 13.984498   \n",
       "8                                 13.967135   \n",
       "9                                 14.004767   \n",
       "\n",
       "   secondary_cleaner.state.floatbank6_a_level  \\\n",
       "0                                 -605.841980   \n",
       "1                                 -599.787184   \n",
       "2                                 -601.427363   \n",
       "3                                 -599.996129   \n",
       "4                                 -601.496691   \n",
       "5                                 -599.707915   \n",
       "6                                 -600.905470   \n",
       "7                                 -600.411070   \n",
       "8                                 -599.061188   \n",
       "9                                 -599.595324   \n",
       "\n",
       "   secondary_cleaner.output.tail_au  secondary_cleaner.output.tail_ag  \\\n",
       "0                          2.606185                         14.500184   \n",
       "1                          2.488248                         14.265474   \n",
       "2                          2.458187                         14.115662   \n",
       "3                          2.322062                         13.732071   \n",
       "4                          2.330448                         14.079996   \n",
       "5                          2.192127                         13.615012   \n",
       "6                          2.316720                         13.597056   \n",
       "7                          2.192197                         13.177237   \n",
       "8                          2.212084                         13.487870   \n",
       "9                          2.067619                         13.735810   \n",
       "\n",
       "   secondary_cleaner.output.tail_pb  secondary_cleaner.output.tail_sol  \\\n",
       "0                          4.694824                           8.764648   \n",
       "1                          4.592547                           9.001494   \n",
       "2                          4.624775                           8.842896   \n",
       "3                          4.482453                           9.122857   \n",
       "4                          4.470737                           8.871028   \n",
       "5                          4.286817                           9.302669   \n",
       "6                          4.487865                           9.103047   \n",
       "7                          4.432448                           9.369209   \n",
       "8                          4.608756                           9.437044   \n",
       "9                          4.721778                           9.582874   \n",
       "\n",
       "   final.output.concentrate_au  final.output.concentrate_ag  \\\n",
       "0                    42.192020                     6.055403   \n",
       "1                    42.701629                     6.029369   \n",
       "2                    42.657501                     6.055926   \n",
       "3                    42.689819                     6.047977   \n",
       "4                    42.774141                     6.148599   \n",
       "5                    41.633678                     6.482968   \n",
       "6                    41.995316                     6.533849   \n",
       "7                    42.452727                     6.130823   \n",
       "8                    43.404078                     5.834140   \n",
       "9                    43.487291                     5.706261   \n",
       "\n",
       "   final.output.concentrate_pb  final.output.concentrate_sol  \\\n",
       "0                     9.889648                      5.507324   \n",
       "1                     9.968944                      5.257781   \n",
       "2                    10.213995                      5.383759   \n",
       "3                     9.977019                      4.858634   \n",
       "4                    10.142511                      4.939416   \n",
       "5                    10.049416                      5.480257   \n",
       "6                    10.058141                      4.569100   \n",
       "7                     9.935481                      4.389813   \n",
       "8                    10.071156                      4.876389   \n",
       "9                    10.242511                      5.214161   \n",
       "\n",
       "   final.output.recovery  final.output.tail_au  final.output.tail_ag  \\\n",
       "0              70.541216              2.143149             10.411962   \n",
       "1              69.266198              2.224930             10.462676   \n",
       "2              68.116445              2.257889             10.507046   \n",
       "3              68.347543              2.146849             10.422762   \n",
       "4              66.927016              2.055292             10.360302   \n",
       "5              69.465816              1.918586             10.182708   \n",
       "6              69.300835              2.058913             10.304598   \n",
       "7              70.230976              2.143437             10.443288   \n",
       "8              69.688595              2.209881             10.420140   \n",
       "9              70.973641              2.200997             10.473539   \n",
       "\n",
       "   final.output.tail_pb  final.output.tail_sol  \n",
       "0              0.895447              16.904297  \n",
       "1              0.927452              16.634514  \n",
       "2              0.953716              16.208849  \n",
       "3              0.883763              16.532835  \n",
       "4              0.792826              16.525686  \n",
       "5              0.664118              16.999638  \n",
       "6              0.807342              16.723575  \n",
       "7              0.949346              16.689959  \n",
       "8              1.065453              17.201948  \n",
       "9              1.171183              17.717049  "
      ]
     },
     "metadata": {},
     "output_type": "display_data"
    },
    {
     "name": "stdout",
     "output_type": "stream",
     "text": [
      "<class 'pandas.core.frame.DataFrame'>\n",
      "RangeIndex: 14579 entries, 0 to 14578\n",
      "Data columns (total 87 columns):\n",
      " #   Column                                              Non-Null Count  Dtype  \n",
      "---  ------                                              --------------  -----  \n",
      " 0   date                                                14579 non-null  object \n",
      " 1   rougher.input.feed_au                               14579 non-null  float64\n",
      " 2   rougher.input.feed_ag                               14579 non-null  float64\n",
      " 3   rougher.input.feed_pb                               14507 non-null  float64\n",
      " 4   rougher.input.feed_sol                              14502 non-null  float64\n",
      " 5   rougher.input.feed_rate                             14572 non-null  float64\n",
      " 6   rougher.input.feed_size                             14478 non-null  float64\n",
      " 7   rougher.input.floatbank10_sulfate                   14548 non-null  float64\n",
      " 8   rougher.input.floatbank10_xanthate                  14572 non-null  float64\n",
      " 9   rougher.state.floatbank10_a_air                     14579 non-null  float64\n",
      " 10  rougher.state.floatbank10_a_level                   14579 non-null  float64\n",
      " 11  rougher.state.floatbank10_b_air                     14579 non-null  float64\n",
      " 12  rougher.state.floatbank10_b_level                   14579 non-null  float64\n",
      " 13  rougher.state.floatbank10_c_air                     14579 non-null  float64\n",
      " 14  rougher.state.floatbank10_c_level                   14579 non-null  float64\n",
      " 15  rougher.state.floatbank10_d_air                     14579 non-null  float64\n",
      " 16  rougher.state.floatbank10_d_level                   14579 non-null  float64\n",
      " 17  rougher.state.floatbank10_e_air                     14150 non-null  float64\n",
      " 18  rougher.state.floatbank10_e_level                   14579 non-null  float64\n",
      " 19  rougher.state.floatbank10_f_air                     14579 non-null  float64\n",
      " 20  rougher.state.floatbank10_f_level                   14579 non-null  float64\n",
      " 21  rougher.input.floatbank11_sulfate                   14543 non-null  float64\n",
      " 22  rougher.input.floatbank11_xanthate                  14172 non-null  float64\n",
      " 23  rougher.calculation.sulfate_to_au_concentrate       14578 non-null  float64\n",
      " 24  rougher.calculation.floatbank10_sulfate_to_au_feed  14578 non-null  float64\n",
      " 25  rougher.calculation.floatbank11_sulfate_to_au_feed  14578 non-null  float64\n",
      " 26  rougher.calculation.au_pb_ratio                     14579 non-null  float64\n",
      " 27  rougher.output.concentrate_au                       14579 non-null  float64\n",
      " 28  rougher.output.concentrate_ag                       14579 non-null  float64\n",
      " 29  rougher.output.concentrate_pb                       14579 non-null  float64\n",
      " 30  rougher.output.concentrate_sol                      14561 non-null  float64\n",
      " 31  rougher.output.recovery                             14579 non-null  float64\n",
      " 32  rougher.output.tail_au                              14579 non-null  float64\n",
      " 33  rougher.output.tail_ag                              14578 non-null  float64\n",
      " 34  rougher.output.tail_pb                              14579 non-null  float64\n",
      " 35  rougher.output.tail_sol                             14579 non-null  float64\n",
      " 36  primary_cleaner.input.sulfate                       14556 non-null  float64\n",
      " 37  primary_cleaner.input.depressant                    14551 non-null  float64\n",
      " 38  primary_cleaner.input.feed_size                     14579 non-null  float64\n",
      " 39  primary_cleaner.input.xanthate                      14518 non-null  float64\n",
      " 40  primary_cleaner.state.floatbank8_a_air              14576 non-null  float64\n",
      " 41  primary_cleaner.state.floatbank8_a_level            14579 non-null  float64\n",
      " 42  primary_cleaner.state.floatbank8_b_air              14576 non-null  float64\n",
      " 43  primary_cleaner.state.floatbank8_b_level            14579 non-null  float64\n",
      " 44  primary_cleaner.state.floatbank8_c_air              14579 non-null  float64\n",
      " 45  primary_cleaner.state.floatbank8_c_level            14579 non-null  float64\n",
      " 46  primary_cleaner.state.floatbank8_d_air              14578 non-null  float64\n",
      " 47  primary_cleaner.state.floatbank8_d_level            14579 non-null  float64\n",
      " 48  primary_cleaner.output.concentrate_au               14579 non-null  float64\n",
      " 49  primary_cleaner.output.concentrate_ag               14579 non-null  float64\n",
      " 50  primary_cleaner.output.concentrate_pb               14491 non-null  float64\n",
      " 51  primary_cleaner.output.concentrate_sol              14314 non-null  float64\n",
      " 52  primary_cleaner.output.tail_au                      14579 non-null  float64\n",
      " 53  primary_cleaner.output.tail_ag                      14575 non-null  float64\n",
      " 54  primary_cleaner.output.tail_pb                      14573 non-null  float64\n",
      " 55  primary_cleaner.output.tail_sol                     14534 non-null  float64\n",
      " 56  secondary_cleaner.state.floatbank2_a_air            14485 non-null  float64\n",
      " 57  secondary_cleaner.state.floatbank2_a_level          14579 non-null  float64\n",
      " 58  secondary_cleaner.state.floatbank2_b_air            14557 non-null  float64\n",
      " 59  secondary_cleaner.state.floatbank2_b_level          14579 non-null  float64\n",
      " 60  secondary_cleaner.state.floatbank3_a_air            14567 non-null  float64\n",
      " 61  secondary_cleaner.state.floatbank3_a_level          14579 non-null  float64\n",
      " 62  secondary_cleaner.state.floatbank3_b_air            14579 non-null  float64\n",
      " 63  secondary_cleaner.state.floatbank3_b_level          14579 non-null  float64\n",
      " 64  secondary_cleaner.state.floatbank4_a_air            14574 non-null  float64\n",
      " 65  secondary_cleaner.state.floatbank4_a_level          14579 non-null  float64\n",
      " 66  secondary_cleaner.state.floatbank4_b_air            14579 non-null  float64\n",
      " 67  secondary_cleaner.state.floatbank4_b_level          14579 non-null  float64\n",
      " 68  secondary_cleaner.state.floatbank5_a_air            14579 non-null  float64\n",
      " 69  secondary_cleaner.state.floatbank5_a_level          14579 non-null  float64\n",
      " 70  secondary_cleaner.state.floatbank5_b_air            14579 non-null  float64\n",
      " 71  secondary_cleaner.state.floatbank5_b_level          14579 non-null  float64\n",
      " 72  secondary_cleaner.state.floatbank6_a_air            14578 non-null  float64\n",
      " 73  secondary_cleaner.state.floatbank6_a_level          14579 non-null  float64\n",
      " 74  secondary_cleaner.output.tail_au                    14579 non-null  float64\n",
      " 75  secondary_cleaner.output.tail_ag                    14578 non-null  float64\n",
      " 76  secondary_cleaner.output.tail_pb                    14575 non-null  float64\n",
      " 77  secondary_cleaner.output.tail_sol                   13659 non-null  float64\n",
      " 78  final.output.concentrate_au                         14579 non-null  float64\n",
      " 79  final.output.concentrate_ag                         14578 non-null  float64\n",
      " 80  final.output.concentrate_pb                         14578 non-null  float64\n",
      " 81  final.output.concentrate_sol                        14387 non-null  float64\n",
      " 82  final.output.recovery                               14579 non-null  float64\n",
      " 83  final.output.tail_au                                14579 non-null  float64\n",
      " 84  final.output.tail_ag                                14578 non-null  float64\n",
      " 85  final.output.tail_pb                                14504 non-null  float64\n",
      " 86  final.output.tail_sol                               14574 non-null  float64\n",
      "dtypes: float64(86), object(1)\n",
      "memory usage: 9.7+ MB\n"
     ]
    },
    {
     "data": {
      "text/plain": [
       "None"
      ]
     },
     "metadata": {},
     "output_type": "display_data"
    },
    {
     "data": {
      "text/html": [
       "<div>\n",
       "<style scoped>\n",
       "    .dataframe tbody tr th:only-of-type {\n",
       "        vertical-align: middle;\n",
       "    }\n",
       "\n",
       "    .dataframe tbody tr th {\n",
       "        vertical-align: top;\n",
       "    }\n",
       "\n",
       "    .dataframe thead th {\n",
       "        text-align: right;\n",
       "    }\n",
       "</style>\n",
       "<table border=\"1\" class=\"dataframe\">\n",
       "  <thead>\n",
       "    <tr style=\"text-align: right;\">\n",
       "      <th></th>\n",
       "      <th>date</th>\n",
       "      <th>rougher.input.feed_au</th>\n",
       "      <th>rougher.input.feed_ag</th>\n",
       "      <th>rougher.input.feed_pb</th>\n",
       "      <th>rougher.input.feed_sol</th>\n",
       "      <th>rougher.input.feed_rate</th>\n",
       "      <th>rougher.input.feed_size</th>\n",
       "      <th>rougher.input.floatbank10_sulfate</th>\n",
       "      <th>rougher.input.floatbank10_xanthate</th>\n",
       "      <th>rougher.state.floatbank10_a_air</th>\n",
       "      <th>rougher.state.floatbank10_a_level</th>\n",
       "      <th>rougher.state.floatbank10_b_air</th>\n",
       "      <th>rougher.state.floatbank10_b_level</th>\n",
       "      <th>rougher.state.floatbank10_c_air</th>\n",
       "      <th>rougher.state.floatbank10_c_level</th>\n",
       "      <th>rougher.state.floatbank10_d_air</th>\n",
       "      <th>rougher.state.floatbank10_d_level</th>\n",
       "      <th>rougher.state.floatbank10_e_air</th>\n",
       "      <th>rougher.state.floatbank10_e_level</th>\n",
       "      <th>rougher.state.floatbank10_f_air</th>\n",
       "      <th>rougher.state.floatbank10_f_level</th>\n",
       "      <th>rougher.input.floatbank11_sulfate</th>\n",
       "      <th>rougher.input.floatbank11_xanthate</th>\n",
       "      <th>primary_cleaner.input.sulfate</th>\n",
       "      <th>primary_cleaner.input.depressant</th>\n",
       "      <th>primary_cleaner.input.feed_size</th>\n",
       "      <th>primary_cleaner.input.xanthate</th>\n",
       "      <th>primary_cleaner.state.floatbank8_a_air</th>\n",
       "      <th>primary_cleaner.state.floatbank8_a_level</th>\n",
       "      <th>primary_cleaner.state.floatbank8_b_air</th>\n",
       "      <th>primary_cleaner.state.floatbank8_b_level</th>\n",
       "      <th>primary_cleaner.state.floatbank8_c_air</th>\n",
       "      <th>primary_cleaner.state.floatbank8_c_level</th>\n",
       "      <th>primary_cleaner.state.floatbank8_d_air</th>\n",
       "      <th>primary_cleaner.state.floatbank8_d_level</th>\n",
       "      <th>secondary_cleaner.state.floatbank2_a_air</th>\n",
       "      <th>secondary_cleaner.state.floatbank2_a_level</th>\n",
       "      <th>secondary_cleaner.state.floatbank2_b_air</th>\n",
       "      <th>secondary_cleaner.state.floatbank2_b_level</th>\n",
       "      <th>secondary_cleaner.state.floatbank3_a_air</th>\n",
       "      <th>secondary_cleaner.state.floatbank3_a_level</th>\n",
       "      <th>secondary_cleaner.state.floatbank3_b_air</th>\n",
       "      <th>secondary_cleaner.state.floatbank3_b_level</th>\n",
       "      <th>secondary_cleaner.state.floatbank4_a_air</th>\n",
       "      <th>secondary_cleaner.state.floatbank4_a_level</th>\n",
       "      <th>secondary_cleaner.state.floatbank4_b_air</th>\n",
       "      <th>secondary_cleaner.state.floatbank4_b_level</th>\n",
       "      <th>secondary_cleaner.state.floatbank5_a_air</th>\n",
       "      <th>secondary_cleaner.state.floatbank5_a_level</th>\n",
       "      <th>secondary_cleaner.state.floatbank5_b_air</th>\n",
       "      <th>secondary_cleaner.state.floatbank5_b_level</th>\n",
       "      <th>secondary_cleaner.state.floatbank6_a_air</th>\n",
       "      <th>secondary_cleaner.state.floatbank6_a_level</th>\n",
       "    </tr>\n",
       "  </thead>\n",
       "  <tbody>\n",
       "    <tr>\n",
       "      <th>0</th>\n",
       "      <td>2017-12-09 14:59:59</td>\n",
       "      <td>4.365491</td>\n",
       "      <td>6.158718</td>\n",
       "      <td>3.875727</td>\n",
       "      <td>39.135119</td>\n",
       "      <td>555.820208</td>\n",
       "      <td>94.544358</td>\n",
       "      <td>6.146982</td>\n",
       "      <td>9.308612</td>\n",
       "      <td>1196.238112</td>\n",
       "      <td>-299.862743</td>\n",
       "      <td>1147.248241</td>\n",
       "      <td>-500.363165</td>\n",
       "      <td>1047.279065</td>\n",
       "      <td>-500.354091</td>\n",
       "      <td>948.756608</td>\n",
       "      <td>-498.439416</td>\n",
       "      <td>849.441918</td>\n",
       "      <td>-499.255503</td>\n",
       "      <td>850.112246</td>\n",
       "      <td>-499.407112</td>\n",
       "      <td>6.168939</td>\n",
       "      <td>9.309852</td>\n",
       "      <td>95.248427</td>\n",
       "      <td>8.078957</td>\n",
       "      <td>6.500000</td>\n",
       "      <td>1.283045</td>\n",
       "      <td>1648.759906</td>\n",
       "      <td>-399.862053</td>\n",
       "      <td>1650.135395</td>\n",
       "      <td>-399.957321</td>\n",
       "      <td>1648.831890</td>\n",
       "      <td>-400.586116</td>\n",
       "      <td>1649.464582</td>\n",
       "      <td>-400.673303</td>\n",
       "      <td>34.940919</td>\n",
       "      <td>-500.150510</td>\n",
       "      <td>30.031867</td>\n",
       "      <td>-500.328335</td>\n",
       "      <td>26.033990</td>\n",
       "      <td>-500.147792</td>\n",
       "      <td>22.952306</td>\n",
       "      <td>-500.037678</td>\n",
       "      <td>23.018622</td>\n",
       "      <td>-500.492702</td>\n",
       "      <td>20.020205</td>\n",
       "      <td>-500.220296</td>\n",
       "      <td>17.963512</td>\n",
       "      <td>-499.939490</td>\n",
       "      <td>12.990306</td>\n",
       "      <td>-500.080993</td>\n",
       "      <td>19.990336</td>\n",
       "      <td>-499.191575</td>\n",
       "    </tr>\n",
       "    <tr>\n",
       "      <th>1</th>\n",
       "      <td>2017-12-09 15:59:59</td>\n",
       "      <td>4.362781</td>\n",
       "      <td>6.048130</td>\n",
       "      <td>3.902537</td>\n",
       "      <td>39.713906</td>\n",
       "      <td>544.731687</td>\n",
       "      <td>123.742430</td>\n",
       "      <td>6.210119</td>\n",
       "      <td>9.297709</td>\n",
       "      <td>1201.904177</td>\n",
       "      <td>-299.907308</td>\n",
       "      <td>1154.087804</td>\n",
       "      <td>-500.036580</td>\n",
       "      <td>1054.009756</td>\n",
       "      <td>-500.237335</td>\n",
       "      <td>944.138793</td>\n",
       "      <td>-496.866953</td>\n",
       "      <td>851.589767</td>\n",
       "      <td>-499.040466</td>\n",
       "      <td>851.345606</td>\n",
       "      <td>-499.122561</td>\n",
       "      <td>6.209517</td>\n",
       "      <td>9.297194</td>\n",
       "      <td>98.880538</td>\n",
       "      <td>7.984164</td>\n",
       "      <td>6.500000</td>\n",
       "      <td>1.241969</td>\n",
       "      <td>1646.547763</td>\n",
       "      <td>-398.977083</td>\n",
       "      <td>1648.212240</td>\n",
       "      <td>-400.383265</td>\n",
       "      <td>1648.917387</td>\n",
       "      <td>-399.521344</td>\n",
       "      <td>1651.498591</td>\n",
       "      <td>-399.745329</td>\n",
       "      <td>34.980742</td>\n",
       "      <td>-498.131002</td>\n",
       "      <td>29.968453</td>\n",
       "      <td>-586.013330</td>\n",
       "      <td>25.971737</td>\n",
       "      <td>-499.608392</td>\n",
       "      <td>22.958448</td>\n",
       "      <td>-499.821308</td>\n",
       "      <td>23.024963</td>\n",
       "      <td>-501.153409</td>\n",
       "      <td>20.054122</td>\n",
       "      <td>-500.314711</td>\n",
       "      <td>17.979515</td>\n",
       "      <td>-499.272871</td>\n",
       "      <td>12.992404</td>\n",
       "      <td>-499.976268</td>\n",
       "      <td>20.013986</td>\n",
       "      <td>-500.625471</td>\n",
       "    </tr>\n",
       "    <tr>\n",
       "      <th>2</th>\n",
       "      <td>2017-12-09 16:59:59</td>\n",
       "      <td>5.081681</td>\n",
       "      <td>6.082745</td>\n",
       "      <td>4.564078</td>\n",
       "      <td>37.208683</td>\n",
       "      <td>558.155110</td>\n",
       "      <td>82.610855</td>\n",
       "      <td>7.363824</td>\n",
       "      <td>9.003562</td>\n",
       "      <td>1200.826926</td>\n",
       "      <td>-300.124116</td>\n",
       "      <td>1150.754676</td>\n",
       "      <td>-499.986009</td>\n",
       "      <td>1049.182824</td>\n",
       "      <td>-500.014696</td>\n",
       "      <td>948.085464</td>\n",
       "      <td>-499.997003</td>\n",
       "      <td>850.170086</td>\n",
       "      <td>-500.270334</td>\n",
       "      <td>849.557905</td>\n",
       "      <td>-500.198702</td>\n",
       "      <td>7.358308</td>\n",
       "      <td>9.000624</td>\n",
       "      <td>119.497545</td>\n",
       "      <td>8.003752</td>\n",
       "      <td>6.500000</td>\n",
       "      <td>1.259741</td>\n",
       "      <td>1647.368779</td>\n",
       "      <td>-399.788506</td>\n",
       "      <td>1648.395206</td>\n",
       "      <td>-400.166490</td>\n",
       "      <td>1648.953828</td>\n",
       "      <td>-400.468641</td>\n",
       "      <td>1649.821569</td>\n",
       "      <td>-400.071884</td>\n",
       "      <td>34.952967</td>\n",
       "      <td>-501.204647</td>\n",
       "      <td>29.927025</td>\n",
       "      <td>-500.106628</td>\n",
       "      <td>25.978253</td>\n",
       "      <td>-499.890060</td>\n",
       "      <td>23.004376</td>\n",
       "      <td>-500.014529</td>\n",
       "      <td>22.993827</td>\n",
       "      <td>-501.559663</td>\n",
       "      <td>20.029144</td>\n",
       "      <td>-500.000662</td>\n",
       "      <td>18.012723</td>\n",
       "      <td>-500.024764</td>\n",
       "      <td>13.016445</td>\n",
       "      <td>-500.058432</td>\n",
       "      <td>19.973767</td>\n",
       "      <td>-501.394155</td>\n",
       "    </tr>\n",
       "    <tr>\n",
       "      <th>3</th>\n",
       "      <td>2017-12-09 17:59:59</td>\n",
       "      <td>5.145949</td>\n",
       "      <td>6.084374</td>\n",
       "      <td>4.768124</td>\n",
       "      <td>36.808874</td>\n",
       "      <td>539.713765</td>\n",
       "      <td>77.984784</td>\n",
       "      <td>6.927072</td>\n",
       "      <td>8.955597</td>\n",
       "      <td>1199.292489</td>\n",
       "      <td>-299.778385</td>\n",
       "      <td>1152.512559</td>\n",
       "      <td>-500.338106</td>\n",
       "      <td>1052.601592</td>\n",
       "      <td>-499.695075</td>\n",
       "      <td>955.171539</td>\n",
       "      <td>-500.294989</td>\n",
       "      <td>851.957342</td>\n",
       "      <td>-499.779541</td>\n",
       "      <td>850.765662</td>\n",
       "      <td>-501.030559</td>\n",
       "      <td>6.929364</td>\n",
       "      <td>8.920717</td>\n",
       "      <td>108.080163</td>\n",
       "      <td>7.970121</td>\n",
       "      <td>6.660000</td>\n",
       "      <td>0.774909</td>\n",
       "      <td>1652.660845</td>\n",
       "      <td>-399.702218</td>\n",
       "      <td>1651.203128</td>\n",
       "      <td>-400.291472</td>\n",
       "      <td>1651.924848</td>\n",
       "      <td>-398.058033</td>\n",
       "      <td>1650.782696</td>\n",
       "      <td>-399.597977</td>\n",
       "      <td>35.038256</td>\n",
       "      <td>-500.102649</td>\n",
       "      <td>30.066959</td>\n",
       "      <td>-500.211499</td>\n",
       "      <td>26.013515</td>\n",
       "      <td>-500.054597</td>\n",
       "      <td>22.988928</td>\n",
       "      <td>-499.981410</td>\n",
       "      <td>23.032807</td>\n",
       "      <td>-501.287889</td>\n",
       "      <td>19.977466</td>\n",
       "      <td>-500.159903</td>\n",
       "      <td>17.980463</td>\n",
       "      <td>-500.504602</td>\n",
       "      <td>12.949071</td>\n",
       "      <td>-500.009937</td>\n",
       "      <td>20.010332</td>\n",
       "      <td>-508.337973</td>\n",
       "    </tr>\n",
       "    <tr>\n",
       "      <th>4</th>\n",
       "      <td>2017-12-09 18:59:59</td>\n",
       "      <td>5.735249</td>\n",
       "      <td>6.165220</td>\n",
       "      <td>4.512346</td>\n",
       "      <td>37.810642</td>\n",
       "      <td>558.713584</td>\n",
       "      <td>86.434874</td>\n",
       "      <td>7.823471</td>\n",
       "      <td>7.490356</td>\n",
       "      <td>1198.005449</td>\n",
       "      <td>-300.283401</td>\n",
       "      <td>1099.481500</td>\n",
       "      <td>-499.702465</td>\n",
       "      <td>999.539264</td>\n",
       "      <td>-499.306051</td>\n",
       "      <td>889.445596</td>\n",
       "      <td>-498.118617</td>\n",
       "      <td>800.533525</td>\n",
       "      <td>-499.765068</td>\n",
       "      <td>800.510356</td>\n",
       "      <td>-497.289533</td>\n",
       "      <td>7.824875</td>\n",
       "      <td>7.500678</td>\n",
       "      <td>117.750648</td>\n",
       "      <td>6.954311</td>\n",
       "      <td>6.426667</td>\n",
       "      <td>0.731271</td>\n",
       "      <td>1649.411497</td>\n",
       "      <td>-399.853156</td>\n",
       "      <td>1648.917211</td>\n",
       "      <td>-400.321866</td>\n",
       "      <td>1649.117753</td>\n",
       "      <td>-399.645348</td>\n",
       "      <td>1650.398209</td>\n",
       "      <td>-400.654533</td>\n",
       "      <td>34.894598</td>\n",
       "      <td>-498.444587</td>\n",
       "      <td>30.020745</td>\n",
       "      <td>-533.831343</td>\n",
       "      <td>26.022094</td>\n",
       "      <td>-499.725484</td>\n",
       "      <td>22.992992</td>\n",
       "      <td>-499.891405</td>\n",
       "      <td>23.001911</td>\n",
       "      <td>-499.947838</td>\n",
       "      <td>20.023735</td>\n",
       "      <td>-499.713680</td>\n",
       "      <td>17.990955</td>\n",
       "      <td>-500.334769</td>\n",
       "      <td>13.007523</td>\n",
       "      <td>-499.968459</td>\n",
       "      <td>19.995999</td>\n",
       "      <td>-499.788805</td>\n",
       "    </tr>\n",
       "    <tr>\n",
       "      <th>5</th>\n",
       "      <td>2017-12-09 19:59:59</td>\n",
       "      <td>5.848338</td>\n",
       "      <td>6.234198</td>\n",
       "      <td>4.468803</td>\n",
       "      <td>37.816555</td>\n",
       "      <td>547.515088</td>\n",
       "      <td>85.875864</td>\n",
       "      <td>8.040386</td>\n",
       "      <td>7.500718</td>\n",
       "      <td>1201.408796</td>\n",
       "      <td>-299.647294</td>\n",
       "      <td>1099.371712</td>\n",
       "      <td>-500.851578</td>\n",
       "      <td>1000.828849</td>\n",
       "      <td>-500.771063</td>\n",
       "      <td>908.440150</td>\n",
       "      <td>-499.396372</td>\n",
       "      <td>801.705348</td>\n",
       "      <td>-499.154561</td>\n",
       "      <td>800.806836</td>\n",
       "      <td>-501.758565</td>\n",
       "      <td>8.037074</td>\n",
       "      <td>7.500771</td>\n",
       "      <td>120.791379</td>\n",
       "      <td>7.030248</td>\n",
       "      <td>6.410000</td>\n",
       "      <td>0.803745</td>\n",
       "      <td>1650.458695</td>\n",
       "      <td>-399.463102</td>\n",
       "      <td>1649.728864</td>\n",
       "      <td>-400.035217</td>\n",
       "      <td>1650.220554</td>\n",
       "      <td>-399.584186</td>\n",
       "      <td>1651.197408</td>\n",
       "      <td>-400.045547</td>\n",
       "      <td>35.068975</td>\n",
       "      <td>-500.959366</td>\n",
       "      <td>30.060564</td>\n",
       "      <td>-513.400897</td>\n",
       "      <td>25.984428</td>\n",
       "      <td>-500.428575</td>\n",
       "      <td>22.959393</td>\n",
       "      <td>-499.870606</td>\n",
       "      <td>22.977833</td>\n",
       "      <td>-499.910098</td>\n",
       "      <td>20.000113</td>\n",
       "      <td>-500.584093</td>\n",
       "      <td>18.003899</td>\n",
       "      <td>-500.326371</td>\n",
       "      <td>12.978611</td>\n",
       "      <td>-499.966502</td>\n",
       "      <td>19.988673</td>\n",
       "      <td>-500.742891</td>\n",
       "    </tr>\n",
       "    <tr>\n",
       "      <th>6</th>\n",
       "      <td>2017-12-09 20:59:59</td>\n",
       "      <td>6.172839</td>\n",
       "      <td>6.213598</td>\n",
       "      <td>4.458071</td>\n",
       "      <td>36.829223</td>\n",
       "      <td>518.363800</td>\n",
       "      <td>73.426294</td>\n",
       "      <td>7.641859</td>\n",
       "      <td>7.498470</td>\n",
       "      <td>1198.551240</td>\n",
       "      <td>-300.152108</td>\n",
       "      <td>1100.164710</td>\n",
       "      <td>-500.079041</td>\n",
       "      <td>1000.841959</td>\n",
       "      <td>-500.284878</td>\n",
       "      <td>900.995475</td>\n",
       "      <td>-499.360944</td>\n",
       "      <td>799.547781</td>\n",
       "      <td>-500.186098</td>\n",
       "      <td>800.524543</td>\n",
       "      <td>-498.917191</td>\n",
       "      <td>7.642285</td>\n",
       "      <td>7.502294</td>\n",
       "      <td>109.589858</td>\n",
       "      <td>6.988212</td>\n",
       "      <td>6.213333</td>\n",
       "      <td>0.768212</td>\n",
       "      <td>1648.704904</td>\n",
       "      <td>-399.593373</td>\n",
       "      <td>1650.622955</td>\n",
       "      <td>-400.435259</td>\n",
       "      <td>1649.030046</td>\n",
       "      <td>-400.066896</td>\n",
       "      <td>1649.955094</td>\n",
       "      <td>-399.192795</td>\n",
       "      <td>34.886388</td>\n",
       "      <td>-499.818864</td>\n",
       "      <td>29.949877</td>\n",
       "      <td>-499.714348</td>\n",
       "      <td>25.997717</td>\n",
       "      <td>-499.568628</td>\n",
       "      <td>22.977375</td>\n",
       "      <td>-500.100956</td>\n",
       "      <td>22.964590</td>\n",
       "      <td>-500.083299</td>\n",
       "      <td>20.010567</td>\n",
       "      <td>-500.545746</td>\n",
       "      <td>18.040164</td>\n",
       "      <td>-498.936442</td>\n",
       "      <td>12.988702</td>\n",
       "      <td>-499.985412</td>\n",
       "      <td>20.014155</td>\n",
       "      <td>-499.443855</td>\n",
       "    </tr>\n",
       "    <tr>\n",
       "      <th>7</th>\n",
       "      <td>2017-12-09 21:59:59</td>\n",
       "      <td>5.743825</td>\n",
       "      <td>6.264367</td>\n",
       "      <td>4.428267</td>\n",
       "      <td>37.170131</td>\n",
       "      <td>500.494798</td>\n",
       "      <td>75.915232</td>\n",
       "      <td>7.230213</td>\n",
       "      <td>7.496599</td>\n",
       "      <td>1201.172468</td>\n",
       "      <td>-300.089700</td>\n",
       "      <td>1101.861501</td>\n",
       "      <td>-499.260271</td>\n",
       "      <td>1001.054631</td>\n",
       "      <td>-499.210366</td>\n",
       "      <td>904.609812</td>\n",
       "      <td>-498.553359</td>\n",
       "      <td>801.691575</td>\n",
       "      <td>-499.154987</td>\n",
       "      <td>800.990896</td>\n",
       "      <td>-499.567799</td>\n",
       "      <td>7.229649</td>\n",
       "      <td>7.503354</td>\n",
       "      <td>106.358575</td>\n",
       "      <td>7.009810</td>\n",
       "      <td>6.091666</td>\n",
       "      <td>0.948130</td>\n",
       "      <td>1649.830612</td>\n",
       "      <td>-400.275413</td>\n",
       "      <td>1650.641154</td>\n",
       "      <td>-400.216865</td>\n",
       "      <td>1649.477793</td>\n",
       "      <td>-401.298310</td>\n",
       "      <td>1651.683774</td>\n",
       "      <td>-400.680723</td>\n",
       "      <td>34.933307</td>\n",
       "      <td>-498.665718</td>\n",
       "      <td>29.998171</td>\n",
       "      <td>-500.217864</td>\n",
       "      <td>26.004774</td>\n",
       "      <td>-499.859184</td>\n",
       "      <td>23.039781</td>\n",
       "      <td>-499.954278</td>\n",
       "      <td>23.010484</td>\n",
       "      <td>-500.498525</td>\n",
       "      <td>20.043525</td>\n",
       "      <td>-499.701442</td>\n",
       "      <td>17.991164</td>\n",
       "      <td>-500.324632</td>\n",
       "      <td>13.000809</td>\n",
       "      <td>-500.181711</td>\n",
       "      <td>20.001605</td>\n",
       "      <td>-500.229965</td>\n",
       "    </tr>\n",
       "    <tr>\n",
       "      <th>8</th>\n",
       "      <td>2017-12-09 22:59:59</td>\n",
       "      <td>5.558520</td>\n",
       "      <td>6.167472</td>\n",
       "      <td>4.370640</td>\n",
       "      <td>37.356892</td>\n",
       "      <td>540.990643</td>\n",
       "      <td>79.668503</td>\n",
       "      <td>7.089240</td>\n",
       "      <td>7.524634</td>\n",
       "      <td>1195.305111</td>\n",
       "      <td>-300.229149</td>\n",
       "      <td>1099.810739</td>\n",
       "      <td>-499.432120</td>\n",
       "      <td>999.330796</td>\n",
       "      <td>-500.005040</td>\n",
       "      <td>895.017059</td>\n",
       "      <td>-498.478988</td>\n",
       "      <td>801.753445</td>\n",
       "      <td>-499.897202</td>\n",
       "      <td>801.838802</td>\n",
       "      <td>-498.664752</td>\n",
       "      <td>7.088842</td>\n",
       "      <td>7.537291</td>\n",
       "      <td>104.431450</td>\n",
       "      <td>6.976065</td>\n",
       "      <td>5.600000</td>\n",
       "      <td>0.744216</td>\n",
       "      <td>1649.305915</td>\n",
       "      <td>-399.607342</td>\n",
       "      <td>1650.047781</td>\n",
       "      <td>-400.191615</td>\n",
       "      <td>1649.688762</td>\n",
       "      <td>-401.429467</td>\n",
       "      <td>1651.279114</td>\n",
       "      <td>-399.473989</td>\n",
       "      <td>35.002981</td>\n",
       "      <td>-499.988965</td>\n",
       "      <td>30.035913</td>\n",
       "      <td>-499.860096</td>\n",
       "      <td>25.988798</td>\n",
       "      <td>-500.255302</td>\n",
       "      <td>22.961013</td>\n",
       "      <td>-500.074835</td>\n",
       "      <td>22.979813</td>\n",
       "      <td>-500.451722</td>\n",
       "      <td>19.995022</td>\n",
       "      <td>-500.415107</td>\n",
       "      <td>18.057379</td>\n",
       "      <td>-499.238503</td>\n",
       "      <td>13.011922</td>\n",
       "      <td>-500.067255</td>\n",
       "      <td>20.002796</td>\n",
       "      <td>-504.347015</td>\n",
       "    </tr>\n",
       "    <tr>\n",
       "      <th>9</th>\n",
       "      <td>2017-12-09 23:59:59</td>\n",
       "      <td>5.473143</td>\n",
       "      <td>6.076597</td>\n",
       "      <td>4.274908</td>\n",
       "      <td>38.631317</td>\n",
       "      <td>492.146649</td>\n",
       "      <td>90.792119</td>\n",
       "      <td>7.367698</td>\n",
       "      <td>6.543369</td>\n",
       "      <td>1203.076302</td>\n",
       "      <td>-299.896920</td>\n",
       "      <td>1098.645509</td>\n",
       "      <td>-500.783736</td>\n",
       "      <td>998.540356</td>\n",
       "      <td>-500.405253</td>\n",
       "      <td>902.825938</td>\n",
       "      <td>-501.677213</td>\n",
       "      <td>799.894361</td>\n",
       "      <td>-500.059247</td>\n",
       "      <td>799.310388</td>\n",
       "      <td>-501.880486</td>\n",
       "      <td>7.369183</td>\n",
       "      <td>5.396443</td>\n",
       "      <td>106.271973</td>\n",
       "      <td>7.017636</td>\n",
       "      <td>5.600000</td>\n",
       "      <td>0.426712</td>\n",
       "      <td>1650.858685</td>\n",
       "      <td>-399.827404</td>\n",
       "      <td>1650.334349</td>\n",
       "      <td>-399.638239</td>\n",
       "      <td>1650.609830</td>\n",
       "      <td>-397.994621</td>\n",
       "      <td>1649.454854</td>\n",
       "      <td>-399.646327</td>\n",
       "      <td>35.011562</td>\n",
       "      <td>-500.189061</td>\n",
       "      <td>30.002293</td>\n",
       "      <td>-499.901439</td>\n",
       "      <td>26.012464</td>\n",
       "      <td>-500.160530</td>\n",
       "      <td>23.014419</td>\n",
       "      <td>-500.056256</td>\n",
       "      <td>23.050901</td>\n",
       "      <td>-501.185001</td>\n",
       "      <td>20.016755</td>\n",
       "      <td>-499.840744</td>\n",
       "      <td>17.991566</td>\n",
       "      <td>-500.303770</td>\n",
       "      <td>13.023215</td>\n",
       "      <td>-500.018271</td>\n",
       "      <td>20.015115</td>\n",
       "      <td>-515.537548</td>\n",
       "    </tr>\n",
       "  </tbody>\n",
       "</table>\n",
       "</div>"
      ],
      "text/plain": [
       "                  date  rougher.input.feed_au  rougher.input.feed_ag  \\\n",
       "0  2017-12-09 14:59:59               4.365491               6.158718   \n",
       "1  2017-12-09 15:59:59               4.362781               6.048130   \n",
       "2  2017-12-09 16:59:59               5.081681               6.082745   \n",
       "3  2017-12-09 17:59:59               5.145949               6.084374   \n",
       "4  2017-12-09 18:59:59               5.735249               6.165220   \n",
       "5  2017-12-09 19:59:59               5.848338               6.234198   \n",
       "6  2017-12-09 20:59:59               6.172839               6.213598   \n",
       "7  2017-12-09 21:59:59               5.743825               6.264367   \n",
       "8  2017-12-09 22:59:59               5.558520               6.167472   \n",
       "9  2017-12-09 23:59:59               5.473143               6.076597   \n",
       "\n",
       "   rougher.input.feed_pb  rougher.input.feed_sol  rougher.input.feed_rate  \\\n",
       "0               3.875727               39.135119               555.820208   \n",
       "1               3.902537               39.713906               544.731687   \n",
       "2               4.564078               37.208683               558.155110   \n",
       "3               4.768124               36.808874               539.713765   \n",
       "4               4.512346               37.810642               558.713584   \n",
       "5               4.468803               37.816555               547.515088   \n",
       "6               4.458071               36.829223               518.363800   \n",
       "7               4.428267               37.170131               500.494798   \n",
       "8               4.370640               37.356892               540.990643   \n",
       "9               4.274908               38.631317               492.146649   \n",
       "\n",
       "   rougher.input.feed_size  rougher.input.floatbank10_sulfate  \\\n",
       "0                94.544358                           6.146982   \n",
       "1               123.742430                           6.210119   \n",
       "2                82.610855                           7.363824   \n",
       "3                77.984784                           6.927072   \n",
       "4                86.434874                           7.823471   \n",
       "5                85.875864                           8.040386   \n",
       "6                73.426294                           7.641859   \n",
       "7                75.915232                           7.230213   \n",
       "8                79.668503                           7.089240   \n",
       "9                90.792119                           7.367698   \n",
       "\n",
       "   rougher.input.floatbank10_xanthate  rougher.state.floatbank10_a_air  \\\n",
       "0                            9.308612                      1196.238112   \n",
       "1                            9.297709                      1201.904177   \n",
       "2                            9.003562                      1200.826926   \n",
       "3                            8.955597                      1199.292489   \n",
       "4                            7.490356                      1198.005449   \n",
       "5                            7.500718                      1201.408796   \n",
       "6                            7.498470                      1198.551240   \n",
       "7                            7.496599                      1201.172468   \n",
       "8                            7.524634                      1195.305111   \n",
       "9                            6.543369                      1203.076302   \n",
       "\n",
       "   rougher.state.floatbank10_a_level  rougher.state.floatbank10_b_air  \\\n",
       "0                        -299.862743                      1147.248241   \n",
       "1                        -299.907308                      1154.087804   \n",
       "2                        -300.124116                      1150.754676   \n",
       "3                        -299.778385                      1152.512559   \n",
       "4                        -300.283401                      1099.481500   \n",
       "5                        -299.647294                      1099.371712   \n",
       "6                        -300.152108                      1100.164710   \n",
       "7                        -300.089700                      1101.861501   \n",
       "8                        -300.229149                      1099.810739   \n",
       "9                        -299.896920                      1098.645509   \n",
       "\n",
       "   rougher.state.floatbank10_b_level  rougher.state.floatbank10_c_air  \\\n",
       "0                        -500.363165                      1047.279065   \n",
       "1                        -500.036580                      1054.009756   \n",
       "2                        -499.986009                      1049.182824   \n",
       "3                        -500.338106                      1052.601592   \n",
       "4                        -499.702465                       999.539264   \n",
       "5                        -500.851578                      1000.828849   \n",
       "6                        -500.079041                      1000.841959   \n",
       "7                        -499.260271                      1001.054631   \n",
       "8                        -499.432120                       999.330796   \n",
       "9                        -500.783736                       998.540356   \n",
       "\n",
       "   rougher.state.floatbank10_c_level  rougher.state.floatbank10_d_air  \\\n",
       "0                        -500.354091                       948.756608   \n",
       "1                        -500.237335                       944.138793   \n",
       "2                        -500.014696                       948.085464   \n",
       "3                        -499.695075                       955.171539   \n",
       "4                        -499.306051                       889.445596   \n",
       "5                        -500.771063                       908.440150   \n",
       "6                        -500.284878                       900.995475   \n",
       "7                        -499.210366                       904.609812   \n",
       "8                        -500.005040                       895.017059   \n",
       "9                        -500.405253                       902.825938   \n",
       "\n",
       "   rougher.state.floatbank10_d_level  rougher.state.floatbank10_e_air  \\\n",
       "0                        -498.439416                       849.441918   \n",
       "1                        -496.866953                       851.589767   \n",
       "2                        -499.997003                       850.170086   \n",
       "3                        -500.294989                       851.957342   \n",
       "4                        -498.118617                       800.533525   \n",
       "5                        -499.396372                       801.705348   \n",
       "6                        -499.360944                       799.547781   \n",
       "7                        -498.553359                       801.691575   \n",
       "8                        -498.478988                       801.753445   \n",
       "9                        -501.677213                       799.894361   \n",
       "\n",
       "   rougher.state.floatbank10_e_level  rougher.state.floatbank10_f_air  \\\n",
       "0                        -499.255503                       850.112246   \n",
       "1                        -499.040466                       851.345606   \n",
       "2                        -500.270334                       849.557905   \n",
       "3                        -499.779541                       850.765662   \n",
       "4                        -499.765068                       800.510356   \n",
       "5                        -499.154561                       800.806836   \n",
       "6                        -500.186098                       800.524543   \n",
       "7                        -499.154987                       800.990896   \n",
       "8                        -499.897202                       801.838802   \n",
       "9                        -500.059247                       799.310388   \n",
       "\n",
       "   rougher.state.floatbank10_f_level  rougher.input.floatbank11_sulfate  \\\n",
       "0                        -499.407112                           6.168939   \n",
       "1                        -499.122561                           6.209517   \n",
       "2                        -500.198702                           7.358308   \n",
       "3                        -501.030559                           6.929364   \n",
       "4                        -497.289533                           7.824875   \n",
       "5                        -501.758565                           8.037074   \n",
       "6                        -498.917191                           7.642285   \n",
       "7                        -499.567799                           7.229649   \n",
       "8                        -498.664752                           7.088842   \n",
       "9                        -501.880486                           7.369183   \n",
       "\n",
       "   rougher.input.floatbank11_xanthate  primary_cleaner.input.sulfate  \\\n",
       "0                            9.309852                      95.248427   \n",
       "1                            9.297194                      98.880538   \n",
       "2                            9.000624                     119.497545   \n",
       "3                            8.920717                     108.080163   \n",
       "4                            7.500678                     117.750648   \n",
       "5                            7.500771                     120.791379   \n",
       "6                            7.502294                     109.589858   \n",
       "7                            7.503354                     106.358575   \n",
       "8                            7.537291                     104.431450   \n",
       "9                            5.396443                     106.271973   \n",
       "\n",
       "   primary_cleaner.input.depressant  primary_cleaner.input.feed_size  \\\n",
       "0                          8.078957                         6.500000   \n",
       "1                          7.984164                         6.500000   \n",
       "2                          8.003752                         6.500000   \n",
       "3                          7.970121                         6.660000   \n",
       "4                          6.954311                         6.426667   \n",
       "5                          7.030248                         6.410000   \n",
       "6                          6.988212                         6.213333   \n",
       "7                          7.009810                         6.091666   \n",
       "8                          6.976065                         5.600000   \n",
       "9                          7.017636                         5.600000   \n",
       "\n",
       "   primary_cleaner.input.xanthate  primary_cleaner.state.floatbank8_a_air  \\\n",
       "0                        1.283045                             1648.759906   \n",
       "1                        1.241969                             1646.547763   \n",
       "2                        1.259741                             1647.368779   \n",
       "3                        0.774909                             1652.660845   \n",
       "4                        0.731271                             1649.411497   \n",
       "5                        0.803745                             1650.458695   \n",
       "6                        0.768212                             1648.704904   \n",
       "7                        0.948130                             1649.830612   \n",
       "8                        0.744216                             1649.305915   \n",
       "9                        0.426712                             1650.858685   \n",
       "\n",
       "   primary_cleaner.state.floatbank8_a_level  \\\n",
       "0                               -399.862053   \n",
       "1                               -398.977083   \n",
       "2                               -399.788506   \n",
       "3                               -399.702218   \n",
       "4                               -399.853156   \n",
       "5                               -399.463102   \n",
       "6                               -399.593373   \n",
       "7                               -400.275413   \n",
       "8                               -399.607342   \n",
       "9                               -399.827404   \n",
       "\n",
       "   primary_cleaner.state.floatbank8_b_air  \\\n",
       "0                             1650.135395   \n",
       "1                             1648.212240   \n",
       "2                             1648.395206   \n",
       "3                             1651.203128   \n",
       "4                             1648.917211   \n",
       "5                             1649.728864   \n",
       "6                             1650.622955   \n",
       "7                             1650.641154   \n",
       "8                             1650.047781   \n",
       "9                             1650.334349   \n",
       "\n",
       "   primary_cleaner.state.floatbank8_b_level  \\\n",
       "0                               -399.957321   \n",
       "1                               -400.383265   \n",
       "2                               -400.166490   \n",
       "3                               -400.291472   \n",
       "4                               -400.321866   \n",
       "5                               -400.035217   \n",
       "6                               -400.435259   \n",
       "7                               -400.216865   \n",
       "8                               -400.191615   \n",
       "9                               -399.638239   \n",
       "\n",
       "   primary_cleaner.state.floatbank8_c_air  \\\n",
       "0                             1648.831890   \n",
       "1                             1648.917387   \n",
       "2                             1648.953828   \n",
       "3                             1651.924848   \n",
       "4                             1649.117753   \n",
       "5                             1650.220554   \n",
       "6                             1649.030046   \n",
       "7                             1649.477793   \n",
       "8                             1649.688762   \n",
       "9                             1650.609830   \n",
       "\n",
       "   primary_cleaner.state.floatbank8_c_level  \\\n",
       "0                               -400.586116   \n",
       "1                               -399.521344   \n",
       "2                               -400.468641   \n",
       "3                               -398.058033   \n",
       "4                               -399.645348   \n",
       "5                               -399.584186   \n",
       "6                               -400.066896   \n",
       "7                               -401.298310   \n",
       "8                               -401.429467   \n",
       "9                               -397.994621   \n",
       "\n",
       "   primary_cleaner.state.floatbank8_d_air  \\\n",
       "0                             1649.464582   \n",
       "1                             1651.498591   \n",
       "2                             1649.821569   \n",
       "3                             1650.782696   \n",
       "4                             1650.398209   \n",
       "5                             1651.197408   \n",
       "6                             1649.955094   \n",
       "7                             1651.683774   \n",
       "8                             1651.279114   \n",
       "9                             1649.454854   \n",
       "\n",
       "   primary_cleaner.state.floatbank8_d_level  \\\n",
       "0                               -400.673303   \n",
       "1                               -399.745329   \n",
       "2                               -400.071884   \n",
       "3                               -399.597977   \n",
       "4                               -400.654533   \n",
       "5                               -400.045547   \n",
       "6                               -399.192795   \n",
       "7                               -400.680723   \n",
       "8                               -399.473989   \n",
       "9                               -399.646327   \n",
       "\n",
       "   secondary_cleaner.state.floatbank2_a_air  \\\n",
       "0                                 34.940919   \n",
       "1                                 34.980742   \n",
       "2                                 34.952967   \n",
       "3                                 35.038256   \n",
       "4                                 34.894598   \n",
       "5                                 35.068975   \n",
       "6                                 34.886388   \n",
       "7                                 34.933307   \n",
       "8                                 35.002981   \n",
       "9                                 35.011562   \n",
       "\n",
       "   secondary_cleaner.state.floatbank2_a_level  \\\n",
       "0                                 -500.150510   \n",
       "1                                 -498.131002   \n",
       "2                                 -501.204647   \n",
       "3                                 -500.102649   \n",
       "4                                 -498.444587   \n",
       "5                                 -500.959366   \n",
       "6                                 -499.818864   \n",
       "7                                 -498.665718   \n",
       "8                                 -499.988965   \n",
       "9                                 -500.189061   \n",
       "\n",
       "   secondary_cleaner.state.floatbank2_b_air  \\\n",
       "0                                 30.031867   \n",
       "1                                 29.968453   \n",
       "2                                 29.927025   \n",
       "3                                 30.066959   \n",
       "4                                 30.020745   \n",
       "5                                 30.060564   \n",
       "6                                 29.949877   \n",
       "7                                 29.998171   \n",
       "8                                 30.035913   \n",
       "9                                 30.002293   \n",
       "\n",
       "   secondary_cleaner.state.floatbank2_b_level  \\\n",
       "0                                 -500.328335   \n",
       "1                                 -586.013330   \n",
       "2                                 -500.106628   \n",
       "3                                 -500.211499   \n",
       "4                                 -533.831343   \n",
       "5                                 -513.400897   \n",
       "6                                 -499.714348   \n",
       "7                                 -500.217864   \n",
       "8                                 -499.860096   \n",
       "9                                 -499.901439   \n",
       "\n",
       "   secondary_cleaner.state.floatbank3_a_air  \\\n",
       "0                                 26.033990   \n",
       "1                                 25.971737   \n",
       "2                                 25.978253   \n",
       "3                                 26.013515   \n",
       "4                                 26.022094   \n",
       "5                                 25.984428   \n",
       "6                                 25.997717   \n",
       "7                                 26.004774   \n",
       "8                                 25.988798   \n",
       "9                                 26.012464   \n",
       "\n",
       "   secondary_cleaner.state.floatbank3_a_level  \\\n",
       "0                                 -500.147792   \n",
       "1                                 -499.608392   \n",
       "2                                 -499.890060   \n",
       "3                                 -500.054597   \n",
       "4                                 -499.725484   \n",
       "5                                 -500.428575   \n",
       "6                                 -499.568628   \n",
       "7                                 -499.859184   \n",
       "8                                 -500.255302   \n",
       "9                                 -500.160530   \n",
       "\n",
       "   secondary_cleaner.state.floatbank3_b_air  \\\n",
       "0                                 22.952306   \n",
       "1                                 22.958448   \n",
       "2                                 23.004376   \n",
       "3                                 22.988928   \n",
       "4                                 22.992992   \n",
       "5                                 22.959393   \n",
       "6                                 22.977375   \n",
       "7                                 23.039781   \n",
       "8                                 22.961013   \n",
       "9                                 23.014419   \n",
       "\n",
       "   secondary_cleaner.state.floatbank3_b_level  \\\n",
       "0                                 -500.037678   \n",
       "1                                 -499.821308   \n",
       "2                                 -500.014529   \n",
       "3                                 -499.981410   \n",
       "4                                 -499.891405   \n",
       "5                                 -499.870606   \n",
       "6                                 -500.100956   \n",
       "7                                 -499.954278   \n",
       "8                                 -500.074835   \n",
       "9                                 -500.056256   \n",
       "\n",
       "   secondary_cleaner.state.floatbank4_a_air  \\\n",
       "0                                 23.018622   \n",
       "1                                 23.024963   \n",
       "2                                 22.993827   \n",
       "3                                 23.032807   \n",
       "4                                 23.001911   \n",
       "5                                 22.977833   \n",
       "6                                 22.964590   \n",
       "7                                 23.010484   \n",
       "8                                 22.979813   \n",
       "9                                 23.050901   \n",
       "\n",
       "   secondary_cleaner.state.floatbank4_a_level  \\\n",
       "0                                 -500.492702   \n",
       "1                                 -501.153409   \n",
       "2                                 -501.559663   \n",
       "3                                 -501.287889   \n",
       "4                                 -499.947838   \n",
       "5                                 -499.910098   \n",
       "6                                 -500.083299   \n",
       "7                                 -500.498525   \n",
       "8                                 -500.451722   \n",
       "9                                 -501.185001   \n",
       "\n",
       "   secondary_cleaner.state.floatbank4_b_air  \\\n",
       "0                                 20.020205   \n",
       "1                                 20.054122   \n",
       "2                                 20.029144   \n",
       "3                                 19.977466   \n",
       "4                                 20.023735   \n",
       "5                                 20.000113   \n",
       "6                                 20.010567   \n",
       "7                                 20.043525   \n",
       "8                                 19.995022   \n",
       "9                                 20.016755   \n",
       "\n",
       "   secondary_cleaner.state.floatbank4_b_level  \\\n",
       "0                                 -500.220296   \n",
       "1                                 -500.314711   \n",
       "2                                 -500.000662   \n",
       "3                                 -500.159903   \n",
       "4                                 -499.713680   \n",
       "5                                 -500.584093   \n",
       "6                                 -500.545746   \n",
       "7                                 -499.701442   \n",
       "8                                 -500.415107   \n",
       "9                                 -499.840744   \n",
       "\n",
       "   secondary_cleaner.state.floatbank5_a_air  \\\n",
       "0                                 17.963512   \n",
       "1                                 17.979515   \n",
       "2                                 18.012723   \n",
       "3                                 17.980463   \n",
       "4                                 17.990955   \n",
       "5                                 18.003899   \n",
       "6                                 18.040164   \n",
       "7                                 17.991164   \n",
       "8                                 18.057379   \n",
       "9                                 17.991566   \n",
       "\n",
       "   secondary_cleaner.state.floatbank5_a_level  \\\n",
       "0                                 -499.939490   \n",
       "1                                 -499.272871   \n",
       "2                                 -500.024764   \n",
       "3                                 -500.504602   \n",
       "4                                 -500.334769   \n",
       "5                                 -500.326371   \n",
       "6                                 -498.936442   \n",
       "7                                 -500.324632   \n",
       "8                                 -499.238503   \n",
       "9                                 -500.303770   \n",
       "\n",
       "   secondary_cleaner.state.floatbank5_b_air  \\\n",
       "0                                 12.990306   \n",
       "1                                 12.992404   \n",
       "2                                 13.016445   \n",
       "3                                 12.949071   \n",
       "4                                 13.007523   \n",
       "5                                 12.978611   \n",
       "6                                 12.988702   \n",
       "7                                 13.000809   \n",
       "8                                 13.011922   \n",
       "9                                 13.023215   \n",
       "\n",
       "   secondary_cleaner.state.floatbank5_b_level  \\\n",
       "0                                 -500.080993   \n",
       "1                                 -499.976268   \n",
       "2                                 -500.058432   \n",
       "3                                 -500.009937   \n",
       "4                                 -499.968459   \n",
       "5                                 -499.966502   \n",
       "6                                 -499.985412   \n",
       "7                                 -500.181711   \n",
       "8                                 -500.067255   \n",
       "9                                 -500.018271   \n",
       "\n",
       "   secondary_cleaner.state.floatbank6_a_air  \\\n",
       "0                                 19.990336   \n",
       "1                                 20.013986   \n",
       "2                                 19.973767   \n",
       "3                                 20.010332   \n",
       "4                                 19.995999   \n",
       "5                                 19.988673   \n",
       "6                                 20.014155   \n",
       "7                                 20.001605   \n",
       "8                                 20.002796   \n",
       "9                                 20.015115   \n",
       "\n",
       "   secondary_cleaner.state.floatbank6_a_level  \n",
       "0                                 -499.191575  \n",
       "1                                 -500.625471  \n",
       "2                                 -501.394155  \n",
       "3                                 -508.337973  \n",
       "4                                 -499.788805  \n",
       "5                                 -500.742891  \n",
       "6                                 -499.443855  \n",
       "7                                 -500.229965  \n",
       "8                                 -504.347015  \n",
       "9                                 -515.537548  "
      ]
     },
     "metadata": {},
     "output_type": "display_data"
    },
    {
     "name": "stdout",
     "output_type": "stream",
     "text": [
      "<class 'pandas.core.frame.DataFrame'>\n",
      "RangeIndex: 4860 entries, 0 to 4859\n",
      "Data columns (total 53 columns):\n",
      " #   Column                                      Non-Null Count  Dtype  \n",
      "---  ------                                      --------------  -----  \n",
      " 0   date                                        4860 non-null   object \n",
      " 1   rougher.input.feed_au                       4860 non-null   float64\n",
      " 2   rougher.input.feed_ag                       4860 non-null   float64\n",
      " 3   rougher.input.feed_pb                       4832 non-null   float64\n",
      " 4   rougher.input.feed_sol                      4838 non-null   float64\n",
      " 5   rougher.input.feed_rate                     4856 non-null   float64\n",
      " 6   rougher.input.feed_size                     4816 non-null   float64\n",
      " 7   rougher.input.floatbank10_sulfate           4857 non-null   float64\n",
      " 8   rougher.input.floatbank10_xanthate          4859 non-null   float64\n",
      " 9   rougher.state.floatbank10_a_air             4859 non-null   float64\n",
      " 10  rougher.state.floatbank10_a_level           4859 non-null   float64\n",
      " 11  rougher.state.floatbank10_b_air             4859 non-null   float64\n",
      " 12  rougher.state.floatbank10_b_level           4859 non-null   float64\n",
      " 13  rougher.state.floatbank10_c_air             4859 non-null   float64\n",
      " 14  rougher.state.floatbank10_c_level           4859 non-null   float64\n",
      " 15  rougher.state.floatbank10_d_air             4860 non-null   float64\n",
      " 16  rougher.state.floatbank10_d_level           4860 non-null   float64\n",
      " 17  rougher.state.floatbank10_e_air             4853 non-null   float64\n",
      " 18  rougher.state.floatbank10_e_level           4860 non-null   float64\n",
      " 19  rougher.state.floatbank10_f_air             4860 non-null   float64\n",
      " 20  rougher.state.floatbank10_f_level           4860 non-null   float64\n",
      " 21  rougher.input.floatbank11_sulfate           4852 non-null   float64\n",
      " 22  rougher.input.floatbank11_xanthate          4814 non-null   float64\n",
      " 23  primary_cleaner.input.sulfate               4859 non-null   float64\n",
      " 24  primary_cleaner.input.depressant            4851 non-null   float64\n",
      " 25  primary_cleaner.input.feed_size             4860 non-null   float64\n",
      " 26  primary_cleaner.input.xanthate              4817 non-null   float64\n",
      " 27  primary_cleaner.state.floatbank8_a_air      4859 non-null   float64\n",
      " 28  primary_cleaner.state.floatbank8_a_level    4859 non-null   float64\n",
      " 29  primary_cleaner.state.floatbank8_b_air      4859 non-null   float64\n",
      " 30  primary_cleaner.state.floatbank8_b_level    4859 non-null   float64\n",
      " 31  primary_cleaner.state.floatbank8_c_air      4858 non-null   float64\n",
      " 32  primary_cleaner.state.floatbank8_c_level    4859 non-null   float64\n",
      " 33  primary_cleaner.state.floatbank8_d_air      4858 non-null   float64\n",
      " 34  primary_cleaner.state.floatbank8_d_level    4859 non-null   float64\n",
      " 35  secondary_cleaner.state.floatbank2_a_air    4734 non-null   float64\n",
      " 36  secondary_cleaner.state.floatbank2_a_level  4859 non-null   float64\n",
      " 37  secondary_cleaner.state.floatbank2_b_air    4859 non-null   float64\n",
      " 38  secondary_cleaner.state.floatbank2_b_level  4859 non-null   float64\n",
      " 39  secondary_cleaner.state.floatbank3_a_air    4859 non-null   float64\n",
      " 40  secondary_cleaner.state.floatbank3_a_level  4859 non-null   float64\n",
      " 41  secondary_cleaner.state.floatbank3_b_air    4859 non-null   float64\n",
      " 42  secondary_cleaner.state.floatbank3_b_level  4859 non-null   float64\n",
      " 43  secondary_cleaner.state.floatbank4_a_air    4859 non-null   float64\n",
      " 44  secondary_cleaner.state.floatbank4_a_level  4859 non-null   float64\n",
      " 45  secondary_cleaner.state.floatbank4_b_air    4859 non-null   float64\n",
      " 46  secondary_cleaner.state.floatbank4_b_level  4859 non-null   float64\n",
      " 47  secondary_cleaner.state.floatbank5_a_air    4859 non-null   float64\n",
      " 48  secondary_cleaner.state.floatbank5_a_level  4859 non-null   float64\n",
      " 49  secondary_cleaner.state.floatbank5_b_air    4859 non-null   float64\n",
      " 50  secondary_cleaner.state.floatbank5_b_level  4859 non-null   float64\n",
      " 51  secondary_cleaner.state.floatbank6_a_air    4859 non-null   float64\n",
      " 52  secondary_cleaner.state.floatbank6_a_level  4859 non-null   float64\n",
      "dtypes: float64(52), object(1)\n",
      "memory usage: 2.0+ MB\n"
     ]
    },
    {
     "data": {
      "text/plain": [
       "None"
      ]
     },
     "metadata": {},
     "output_type": "display_data"
    },
    {
     "data": {
      "text/html": [
       "<div>\n",
       "<style scoped>\n",
       "    .dataframe tbody tr th:only-of-type {\n",
       "        vertical-align: middle;\n",
       "    }\n",
       "\n",
       "    .dataframe tbody tr th {\n",
       "        vertical-align: top;\n",
       "    }\n",
       "\n",
       "    .dataframe thead th {\n",
       "        text-align: right;\n",
       "    }\n",
       "</style>\n",
       "<table border=\"1\" class=\"dataframe\">\n",
       "  <thead>\n",
       "    <tr style=\"text-align: right;\">\n",
       "      <th></th>\n",
       "      <th>date</th>\n",
       "      <th>rougher.input.feed_au</th>\n",
       "      <th>rougher.input.feed_ag</th>\n",
       "      <th>rougher.input.feed_pb</th>\n",
       "      <th>rougher.input.feed_sol</th>\n",
       "      <th>rougher.input.feed_rate</th>\n",
       "      <th>rougher.input.feed_size</th>\n",
       "      <th>rougher.input.floatbank10_sulfate</th>\n",
       "      <th>rougher.input.floatbank10_xanthate</th>\n",
       "      <th>rougher.state.floatbank10_a_air</th>\n",
       "      <th>rougher.state.floatbank10_a_level</th>\n",
       "      <th>rougher.state.floatbank10_b_air</th>\n",
       "      <th>rougher.state.floatbank10_b_level</th>\n",
       "      <th>rougher.state.floatbank10_c_air</th>\n",
       "      <th>rougher.state.floatbank10_c_level</th>\n",
       "      <th>rougher.state.floatbank10_d_air</th>\n",
       "      <th>rougher.state.floatbank10_d_level</th>\n",
       "      <th>rougher.state.floatbank10_e_air</th>\n",
       "      <th>rougher.state.floatbank10_e_level</th>\n",
       "      <th>rougher.state.floatbank10_f_air</th>\n",
       "      <th>rougher.state.floatbank10_f_level</th>\n",
       "      <th>rougher.input.floatbank11_sulfate</th>\n",
       "      <th>rougher.input.floatbank11_xanthate</th>\n",
       "      <th>rougher.calculation.sulfate_to_au_concentrate</th>\n",
       "      <th>rougher.calculation.floatbank10_sulfate_to_au_feed</th>\n",
       "      <th>rougher.calculation.floatbank11_sulfate_to_au_feed</th>\n",
       "      <th>rougher.calculation.au_pb_ratio</th>\n",
       "      <th>rougher.output.concentrate_au</th>\n",
       "      <th>rougher.output.concentrate_ag</th>\n",
       "      <th>rougher.output.concentrate_pb</th>\n",
       "      <th>rougher.output.concentrate_sol</th>\n",
       "      <th>rougher.output.recovery</th>\n",
       "      <th>rougher.output.tail_au</th>\n",
       "      <th>rougher.output.tail_ag</th>\n",
       "      <th>rougher.output.tail_pb</th>\n",
       "      <th>rougher.output.tail_sol</th>\n",
       "      <th>primary_cleaner.input.sulfate</th>\n",
       "      <th>primary_cleaner.input.depressant</th>\n",
       "      <th>primary_cleaner.input.feed_size</th>\n",
       "      <th>primary_cleaner.input.xanthate</th>\n",
       "      <th>primary_cleaner.state.floatbank8_a_air</th>\n",
       "      <th>primary_cleaner.state.floatbank8_a_level</th>\n",
       "      <th>primary_cleaner.state.floatbank8_b_air</th>\n",
       "      <th>primary_cleaner.state.floatbank8_b_level</th>\n",
       "      <th>primary_cleaner.state.floatbank8_c_air</th>\n",
       "      <th>primary_cleaner.state.floatbank8_c_level</th>\n",
       "      <th>primary_cleaner.state.floatbank8_d_air</th>\n",
       "      <th>primary_cleaner.state.floatbank8_d_level</th>\n",
       "      <th>primary_cleaner.output.concentrate_au</th>\n",
       "      <th>primary_cleaner.output.concentrate_ag</th>\n",
       "      <th>primary_cleaner.output.concentrate_pb</th>\n",
       "      <th>primary_cleaner.output.concentrate_sol</th>\n",
       "      <th>primary_cleaner.output.tail_au</th>\n",
       "      <th>primary_cleaner.output.tail_ag</th>\n",
       "      <th>primary_cleaner.output.tail_pb</th>\n",
       "      <th>primary_cleaner.output.tail_sol</th>\n",
       "      <th>secondary_cleaner.state.floatbank2_a_air</th>\n",
       "      <th>secondary_cleaner.state.floatbank2_a_level</th>\n",
       "      <th>secondary_cleaner.state.floatbank2_b_air</th>\n",
       "      <th>secondary_cleaner.state.floatbank2_b_level</th>\n",
       "      <th>secondary_cleaner.state.floatbank3_a_air</th>\n",
       "      <th>secondary_cleaner.state.floatbank3_a_level</th>\n",
       "      <th>secondary_cleaner.state.floatbank3_b_air</th>\n",
       "      <th>secondary_cleaner.state.floatbank3_b_level</th>\n",
       "      <th>secondary_cleaner.state.floatbank4_a_air</th>\n",
       "      <th>secondary_cleaner.state.floatbank4_a_level</th>\n",
       "      <th>secondary_cleaner.state.floatbank4_b_air</th>\n",
       "      <th>secondary_cleaner.state.floatbank4_b_level</th>\n",
       "      <th>secondary_cleaner.state.floatbank5_a_air</th>\n",
       "      <th>secondary_cleaner.state.floatbank5_a_level</th>\n",
       "      <th>secondary_cleaner.state.floatbank5_b_air</th>\n",
       "      <th>secondary_cleaner.state.floatbank5_b_level</th>\n",
       "      <th>secondary_cleaner.state.floatbank6_a_air</th>\n",
       "      <th>secondary_cleaner.state.floatbank6_a_level</th>\n",
       "      <th>secondary_cleaner.output.tail_au</th>\n",
       "      <th>secondary_cleaner.output.tail_ag</th>\n",
       "      <th>secondary_cleaner.output.tail_pb</th>\n",
       "      <th>secondary_cleaner.output.tail_sol</th>\n",
       "      <th>final.output.concentrate_au</th>\n",
       "      <th>final.output.concentrate_ag</th>\n",
       "      <th>final.output.concentrate_pb</th>\n",
       "      <th>final.output.concentrate_sol</th>\n",
       "      <th>final.output.recovery</th>\n",
       "      <th>final.output.tail_au</th>\n",
       "      <th>final.output.tail_ag</th>\n",
       "      <th>final.output.tail_pb</th>\n",
       "      <th>final.output.tail_sol</th>\n",
       "    </tr>\n",
       "  </thead>\n",
       "  <tbody>\n",
       "    <tr>\n",
       "      <th>0</th>\n",
       "      <td>2016-01-15 00:00:00</td>\n",
       "      <td>6.486150</td>\n",
       "      <td>6.100378</td>\n",
       "      <td>2.284912</td>\n",
       "      <td>36.808594</td>\n",
       "      <td>523.546326</td>\n",
       "      <td>55.486599</td>\n",
       "      <td>11.986616</td>\n",
       "      <td>6.007990</td>\n",
       "      <td>999.706909</td>\n",
       "      <td>-404.066986</td>\n",
       "      <td>1603.011353</td>\n",
       "      <td>-434.715027</td>\n",
       "      <td>1602.375000</td>\n",
       "      <td>-442.204468</td>\n",
       "      <td>1598.937256</td>\n",
       "      <td>-451.294128</td>\n",
       "      <td>1404.472046</td>\n",
       "      <td>-455.462982</td>\n",
       "      <td>1416.354980</td>\n",
       "      <td>-451.939636</td>\n",
       "      <td>11.836743</td>\n",
       "      <td>6.005818</td>\n",
       "      <td>41885.707031</td>\n",
       "      <td>3481.779053</td>\n",
       "      <td>3520.337158</td>\n",
       "      <td>2.838687</td>\n",
       "      <td>19.793808</td>\n",
       "      <td>11.500771</td>\n",
       "      <td>7.101074</td>\n",
       "      <td>28.029297</td>\n",
       "      <td>87.107763</td>\n",
       "      <td>1.170244</td>\n",
       "      <td>5.008018</td>\n",
       "      <td>0.508728</td>\n",
       "      <td>19.154297</td>\n",
       "      <td>127.092003</td>\n",
       "      <td>10.128295</td>\n",
       "      <td>7.25</td>\n",
       "      <td>0.988759</td>\n",
       "      <td>1549.775757</td>\n",
       "      <td>-498.912140</td>\n",
       "      <td>1551.434204</td>\n",
       "      <td>-516.403442</td>\n",
       "      <td>1549.873901</td>\n",
       "      <td>-498.666595</td>\n",
       "      <td>1554.367432</td>\n",
       "      <td>-493.428131</td>\n",
       "      <td>34.174427</td>\n",
       "      <td>8.547551</td>\n",
       "      <td>10.389648</td>\n",
       "      <td>19.529297</td>\n",
       "      <td>2.106679</td>\n",
       "      <td>14.936526</td>\n",
       "      <td>2.534912</td>\n",
       "      <td>7.476074</td>\n",
       "      <td>25.853109</td>\n",
       "      <td>-498.526489</td>\n",
       "      <td>23.893660</td>\n",
       "      <td>-501.406281</td>\n",
       "      <td>23.961798</td>\n",
       "      <td>-495.262817</td>\n",
       "      <td>21.940409</td>\n",
       "      <td>-499.340973</td>\n",
       "      <td>14.016835</td>\n",
       "      <td>-502.488007</td>\n",
       "      <td>12.099931</td>\n",
       "      <td>-504.715942</td>\n",
       "      <td>9.925633</td>\n",
       "      <td>-498.310211</td>\n",
       "      <td>8.079666</td>\n",
       "      <td>-500.470978</td>\n",
       "      <td>14.151341</td>\n",
       "      <td>-605.841980</td>\n",
       "      <td>2.606185</td>\n",
       "      <td>14.500184</td>\n",
       "      <td>4.694824</td>\n",
       "      <td>8.764648</td>\n",
       "      <td>42.192020</td>\n",
       "      <td>6.055403</td>\n",
       "      <td>9.889648</td>\n",
       "      <td>5.507324</td>\n",
       "      <td>70.541216</td>\n",
       "      <td>2.143149</td>\n",
       "      <td>10.411962</td>\n",
       "      <td>0.895447</td>\n",
       "      <td>16.904297</td>\n",
       "    </tr>\n",
       "    <tr>\n",
       "      <th>1</th>\n",
       "      <td>2016-01-15 01:00:00</td>\n",
       "      <td>6.478583</td>\n",
       "      <td>6.161113</td>\n",
       "      <td>2.266033</td>\n",
       "      <td>35.753385</td>\n",
       "      <td>525.290581</td>\n",
       "      <td>57.278666</td>\n",
       "      <td>11.971193</td>\n",
       "      <td>6.005766</td>\n",
       "      <td>1000.286398</td>\n",
       "      <td>-400.065196</td>\n",
       "      <td>1600.754587</td>\n",
       "      <td>-449.953435</td>\n",
       "      <td>1600.479580</td>\n",
       "      <td>-449.830646</td>\n",
       "      <td>1600.527589</td>\n",
       "      <td>-449.953649</td>\n",
       "      <td>1399.227084</td>\n",
       "      <td>-450.869848</td>\n",
       "      <td>1399.719514</td>\n",
       "      <td>-450.119001</td>\n",
       "      <td>11.996163</td>\n",
       "      <td>6.012594</td>\n",
       "      <td>42050.861809</td>\n",
       "      <td>3498.370979</td>\n",
       "      <td>3489.981857</td>\n",
       "      <td>2.858998</td>\n",
       "      <td>20.050975</td>\n",
       "      <td>11.615865</td>\n",
       "      <td>7.278807</td>\n",
       "      <td>28.067063</td>\n",
       "      <td>86.843261</td>\n",
       "      <td>1.184827</td>\n",
       "      <td>4.955378</td>\n",
       "      <td>0.536689</td>\n",
       "      <td>18.965234</td>\n",
       "      <td>125.629232</td>\n",
       "      <td>10.296251</td>\n",
       "      <td>7.25</td>\n",
       "      <td>1.002663</td>\n",
       "      <td>1576.166671</td>\n",
       "      <td>-500.904965</td>\n",
       "      <td>1575.950626</td>\n",
       "      <td>-499.865889</td>\n",
       "      <td>1575.994189</td>\n",
       "      <td>-499.315107</td>\n",
       "      <td>1574.479259</td>\n",
       "      <td>-498.931665</td>\n",
       "      <td>34.118526</td>\n",
       "      <td>8.558743</td>\n",
       "      <td>10.497069</td>\n",
       "      <td>19.369147</td>\n",
       "      <td>2.353017</td>\n",
       "      <td>16.250511</td>\n",
       "      <td>3.049646</td>\n",
       "      <td>6.733907</td>\n",
       "      <td>25.880539</td>\n",
       "      <td>-499.989656</td>\n",
       "      <td>23.889530</td>\n",
       "      <td>-500.372428</td>\n",
       "      <td>23.970550</td>\n",
       "      <td>-500.085473</td>\n",
       "      <td>22.085714</td>\n",
       "      <td>-499.446897</td>\n",
       "      <td>13.992281</td>\n",
       "      <td>-505.503262</td>\n",
       "      <td>11.950531</td>\n",
       "      <td>-501.331529</td>\n",
       "      <td>10.039245</td>\n",
       "      <td>-500.169983</td>\n",
       "      <td>7.984757</td>\n",
       "      <td>-500.582168</td>\n",
       "      <td>13.998353</td>\n",
       "      <td>-599.787184</td>\n",
       "      <td>2.488248</td>\n",
       "      <td>14.265474</td>\n",
       "      <td>4.592547</td>\n",
       "      <td>9.001494</td>\n",
       "      <td>42.701629</td>\n",
       "      <td>6.029369</td>\n",
       "      <td>9.968944</td>\n",
       "      <td>5.257781</td>\n",
       "      <td>69.266198</td>\n",
       "      <td>2.224930</td>\n",
       "      <td>10.462676</td>\n",
       "      <td>0.927452</td>\n",
       "      <td>16.634514</td>\n",
       "    </tr>\n",
       "    <tr>\n",
       "      <th>2</th>\n",
       "      <td>2016-01-15 02:00:00</td>\n",
       "      <td>6.362222</td>\n",
       "      <td>6.116455</td>\n",
       "      <td>2.159622</td>\n",
       "      <td>35.971630</td>\n",
       "      <td>530.026610</td>\n",
       "      <td>57.510649</td>\n",
       "      <td>11.920603</td>\n",
       "      <td>6.197377</td>\n",
       "      <td>999.719565</td>\n",
       "      <td>-400.074028</td>\n",
       "      <td>1599.337330</td>\n",
       "      <td>-450.008530</td>\n",
       "      <td>1599.672797</td>\n",
       "      <td>-449.954491</td>\n",
       "      <td>1599.849325</td>\n",
       "      <td>-449.954185</td>\n",
       "      <td>1399.180945</td>\n",
       "      <td>-449.937588</td>\n",
       "      <td>1400.316682</td>\n",
       "      <td>-450.527147</td>\n",
       "      <td>11.920305</td>\n",
       "      <td>6.204633</td>\n",
       "      <td>42018.101184</td>\n",
       "      <td>3495.348910</td>\n",
       "      <td>3502.359819</td>\n",
       "      <td>2.945989</td>\n",
       "      <td>19.737170</td>\n",
       "      <td>11.695753</td>\n",
       "      <td>7.216833</td>\n",
       "      <td>27.454037</td>\n",
       "      <td>86.842308</td>\n",
       "      <td>1.162562</td>\n",
       "      <td>4.843460</td>\n",
       "      <td>0.546416</td>\n",
       "      <td>18.808533</td>\n",
       "      <td>123.819808</td>\n",
       "      <td>11.316280</td>\n",
       "      <td>7.25</td>\n",
       "      <td>0.991265</td>\n",
       "      <td>1601.556163</td>\n",
       "      <td>-499.997791</td>\n",
       "      <td>1600.386685</td>\n",
       "      <td>-500.607762</td>\n",
       "      <td>1602.003542</td>\n",
       "      <td>-500.870069</td>\n",
       "      <td>1599.541515</td>\n",
       "      <td>-499.827444</td>\n",
       "      <td>33.969464</td>\n",
       "      <td>8.603505</td>\n",
       "      <td>10.354494</td>\n",
       "      <td>19.167579</td>\n",
       "      <td>2.416800</td>\n",
       "      <td>16.491823</td>\n",
       "      <td>3.124664</td>\n",
       "      <td>6.471768</td>\n",
       "      <td>26.005245</td>\n",
       "      <td>-499.929616</td>\n",
       "      <td>23.886657</td>\n",
       "      <td>-499.951928</td>\n",
       "      <td>23.913535</td>\n",
       "      <td>-499.442343</td>\n",
       "      <td>23.957717</td>\n",
       "      <td>-499.901982</td>\n",
       "      <td>14.015015</td>\n",
       "      <td>-502.520901</td>\n",
       "      <td>11.912783</td>\n",
       "      <td>-501.133383</td>\n",
       "      <td>10.070913</td>\n",
       "      <td>-500.129135</td>\n",
       "      <td>8.013877</td>\n",
       "      <td>-500.517572</td>\n",
       "      <td>14.028663</td>\n",
       "      <td>-601.427363</td>\n",
       "      <td>2.458187</td>\n",
       "      <td>14.115662</td>\n",
       "      <td>4.624775</td>\n",
       "      <td>8.842896</td>\n",
       "      <td>42.657501</td>\n",
       "      <td>6.055926</td>\n",
       "      <td>10.213995</td>\n",
       "      <td>5.383759</td>\n",
       "      <td>68.116445</td>\n",
       "      <td>2.257889</td>\n",
       "      <td>10.507046</td>\n",
       "      <td>0.953716</td>\n",
       "      <td>16.208849</td>\n",
       "    </tr>\n",
       "    <tr>\n",
       "      <th>3</th>\n",
       "      <td>2016-01-15 03:00:00</td>\n",
       "      <td>6.118189</td>\n",
       "      <td>6.043309</td>\n",
       "      <td>2.037807</td>\n",
       "      <td>36.862241</td>\n",
       "      <td>542.590390</td>\n",
       "      <td>57.792734</td>\n",
       "      <td>11.630094</td>\n",
       "      <td>6.203177</td>\n",
       "      <td>999.814770</td>\n",
       "      <td>-400.200179</td>\n",
       "      <td>1600.059442</td>\n",
       "      <td>-450.619948</td>\n",
       "      <td>1600.012842</td>\n",
       "      <td>-449.910497</td>\n",
       "      <td>1597.725177</td>\n",
       "      <td>-450.130127</td>\n",
       "      <td>1400.943157</td>\n",
       "      <td>-450.030142</td>\n",
       "      <td>1400.234743</td>\n",
       "      <td>-449.790835</td>\n",
       "      <td>11.692450</td>\n",
       "      <td>6.196578</td>\n",
       "      <td>42029.447991</td>\n",
       "      <td>3498.578313</td>\n",
       "      <td>3499.162912</td>\n",
       "      <td>3.002340</td>\n",
       "      <td>19.320810</td>\n",
       "      <td>11.915047</td>\n",
       "      <td>7.175616</td>\n",
       "      <td>27.341277</td>\n",
       "      <td>87.226430</td>\n",
       "      <td>1.079755</td>\n",
       "      <td>4.655288</td>\n",
       "      <td>0.542525</td>\n",
       "      <td>19.330200</td>\n",
       "      <td>122.270188</td>\n",
       "      <td>11.322140</td>\n",
       "      <td>7.25</td>\n",
       "      <td>0.996739</td>\n",
       "      <td>1599.968720</td>\n",
       "      <td>-500.951778</td>\n",
       "      <td>1600.659236</td>\n",
       "      <td>-499.677094</td>\n",
       "      <td>1600.304144</td>\n",
       "      <td>-500.727997</td>\n",
       "      <td>1600.449520</td>\n",
       "      <td>-500.052575</td>\n",
       "      <td>28.260743</td>\n",
       "      <td>7.221879</td>\n",
       "      <td>8.496563</td>\n",
       "      <td>15.978538</td>\n",
       "      <td>2.262051</td>\n",
       "      <td>16.024359</td>\n",
       "      <td>2.960362</td>\n",
       "      <td>6.843791</td>\n",
       "      <td>25.942508</td>\n",
       "      <td>-499.176749</td>\n",
       "      <td>23.955516</td>\n",
       "      <td>-499.848796</td>\n",
       "      <td>23.966838</td>\n",
       "      <td>-500.008812</td>\n",
       "      <td>23.954443</td>\n",
       "      <td>-499.944710</td>\n",
       "      <td>14.036510</td>\n",
       "      <td>-500.857308</td>\n",
       "      <td>11.999550</td>\n",
       "      <td>-501.193686</td>\n",
       "      <td>9.970366</td>\n",
       "      <td>-499.201640</td>\n",
       "      <td>7.977324</td>\n",
       "      <td>-500.255908</td>\n",
       "      <td>14.005551</td>\n",
       "      <td>-599.996129</td>\n",
       "      <td>2.322062</td>\n",
       "      <td>13.732071</td>\n",
       "      <td>4.482453</td>\n",
       "      <td>9.122857</td>\n",
       "      <td>42.689819</td>\n",
       "      <td>6.047977</td>\n",
       "      <td>9.977019</td>\n",
       "      <td>4.858634</td>\n",
       "      <td>68.347543</td>\n",
       "      <td>2.146849</td>\n",
       "      <td>10.422762</td>\n",
       "      <td>0.883763</td>\n",
       "      <td>16.532835</td>\n",
       "    </tr>\n",
       "    <tr>\n",
       "      <th>4</th>\n",
       "      <td>2016-01-15 04:00:00</td>\n",
       "      <td>5.663707</td>\n",
       "      <td>6.060915</td>\n",
       "      <td>1.786875</td>\n",
       "      <td>34.347666</td>\n",
       "      <td>540.531893</td>\n",
       "      <td>56.047189</td>\n",
       "      <td>10.957755</td>\n",
       "      <td>6.198826</td>\n",
       "      <td>999.678690</td>\n",
       "      <td>-399.752729</td>\n",
       "      <td>1600.208824</td>\n",
       "      <td>-449.599614</td>\n",
       "      <td>1600.357732</td>\n",
       "      <td>-450.034364</td>\n",
       "      <td>1599.759049</td>\n",
       "      <td>-449.909799</td>\n",
       "      <td>1401.560902</td>\n",
       "      <td>-448.877187</td>\n",
       "      <td>1401.160227</td>\n",
       "      <td>-450.407128</td>\n",
       "      <td>10.960521</td>\n",
       "      <td>6.194897</td>\n",
       "      <td>42125.354245</td>\n",
       "      <td>3494.800771</td>\n",
       "      <td>3506.679315</td>\n",
       "      <td>3.169615</td>\n",
       "      <td>19.216101</td>\n",
       "      <td>12.411054</td>\n",
       "      <td>7.240205</td>\n",
       "      <td>27.041023</td>\n",
       "      <td>86.688794</td>\n",
       "      <td>1.012642</td>\n",
       "      <td>4.552800</td>\n",
       "      <td>0.515438</td>\n",
       "      <td>19.267422</td>\n",
       "      <td>117.988169</td>\n",
       "      <td>11.913613</td>\n",
       "      <td>7.25</td>\n",
       "      <td>1.009869</td>\n",
       "      <td>1601.339707</td>\n",
       "      <td>-498.975456</td>\n",
       "      <td>1601.437854</td>\n",
       "      <td>-500.323246</td>\n",
       "      <td>1599.581894</td>\n",
       "      <td>-500.888152</td>\n",
       "      <td>1602.649541</td>\n",
       "      <td>-500.593010</td>\n",
       "      <td>33.044932</td>\n",
       "      <td>9.089428</td>\n",
       "      <td>9.986786</td>\n",
       "      <td>19.199864</td>\n",
       "      <td>2.277073</td>\n",
       "      <td>16.480185</td>\n",
       "      <td>3.112100</td>\n",
       "      <td>6.550154</td>\n",
       "      <td>26.024787</td>\n",
       "      <td>-500.279091</td>\n",
       "      <td>23.955345</td>\n",
       "      <td>-500.593614</td>\n",
       "      <td>23.985703</td>\n",
       "      <td>-500.083811</td>\n",
       "      <td>23.958945</td>\n",
       "      <td>-499.990309</td>\n",
       "      <td>14.027298</td>\n",
       "      <td>-499.838632</td>\n",
       "      <td>11.953070</td>\n",
       "      <td>-501.053894</td>\n",
       "      <td>9.925709</td>\n",
       "      <td>-501.686727</td>\n",
       "      <td>7.894242</td>\n",
       "      <td>-500.356035</td>\n",
       "      <td>13.996647</td>\n",
       "      <td>-601.496691</td>\n",
       "      <td>2.330448</td>\n",
       "      <td>14.079996</td>\n",
       "      <td>4.470737</td>\n",
       "      <td>8.871028</td>\n",
       "      <td>42.774141</td>\n",
       "      <td>6.148599</td>\n",
       "      <td>10.142511</td>\n",
       "      <td>4.939416</td>\n",
       "      <td>66.927016</td>\n",
       "      <td>2.055292</td>\n",
       "      <td>10.360302</td>\n",
       "      <td>0.792826</td>\n",
       "      <td>16.525686</td>\n",
       "    </tr>\n",
       "    <tr>\n",
       "      <th>5</th>\n",
       "      <td>2016-01-15 05:00:00</td>\n",
       "      <td>5.687168</td>\n",
       "      <td>5.801920</td>\n",
       "      <td>1.879351</td>\n",
       "      <td>35.470082</td>\n",
       "      <td>546.173470</td>\n",
       "      <td>57.469578</td>\n",
       "      <td>11.072517</td>\n",
       "      <td>6.200383</td>\n",
       "      <td>999.934134</td>\n",
       "      <td>-400.599524</td>\n",
       "      <td>1601.080554</td>\n",
       "      <td>-450.120760</td>\n",
       "      <td>1603.164805</td>\n",
       "      <td>-450.097732</td>\n",
       "      <td>1603.368371</td>\n",
       "      <td>-446.306150</td>\n",
       "      <td>1403.393100</td>\n",
       "      <td>-447.899904</td>\n",
       "      <td>1402.903175</td>\n",
       "      <td>-448.872321</td>\n",
       "      <td>11.075009</td>\n",
       "      <td>6.202362</td>\n",
       "      <td>41973.280986</td>\n",
       "      <td>3501.916973</td>\n",
       "      <td>3499.527175</td>\n",
       "      <td>3.026134</td>\n",
       "      <td>18.950385</td>\n",
       "      <td>11.985584</td>\n",
       "      <td>7.121903</td>\n",
       "      <td>26.898046</td>\n",
       "      <td>88.156912</td>\n",
       "      <td>0.915835</td>\n",
       "      <td>4.397415</td>\n",
       "      <td>0.491350</td>\n",
       "      <td>19.640269</td>\n",
       "      <td>115.581252</td>\n",
       "      <td>12.470773</td>\n",
       "      <td>7.25</td>\n",
       "      <td>0.965760</td>\n",
       "      <td>1602.964922</td>\n",
       "      <td>-498.090944</td>\n",
       "      <td>1602.074298</td>\n",
       "      <td>-500.179481</td>\n",
       "      <td>1602.154812</td>\n",
       "      <td>-498.642614</td>\n",
       "      <td>1605.020106</td>\n",
       "      <td>-500.538177</td>\n",
       "      <td>32.070664</td>\n",
       "      <td>9.553724</td>\n",
       "      <td>9.816215</td>\n",
       "      <td>19.167328</td>\n",
       "      <td>2.114558</td>\n",
       "      <td>15.931540</td>\n",
       "      <td>2.844511</td>\n",
       "      <td>6.724197</td>\n",
       "      <td>26.014841</td>\n",
       "      <td>-498.864670</td>\n",
       "      <td>23.880214</td>\n",
       "      <td>-499.738447</td>\n",
       "      <td>23.982635</td>\n",
       "      <td>-500.495272</td>\n",
       "      <td>24.009749</td>\n",
       "      <td>-499.433825</td>\n",
       "      <td>13.938497</td>\n",
       "      <td>-500.970168</td>\n",
       "      <td>11.883350</td>\n",
       "      <td>-500.395298</td>\n",
       "      <td>10.054147</td>\n",
       "      <td>-496.374715</td>\n",
       "      <td>7.965083</td>\n",
       "      <td>-499.364752</td>\n",
       "      <td>14.017067</td>\n",
       "      <td>-599.707915</td>\n",
       "      <td>2.192127</td>\n",
       "      <td>13.615012</td>\n",
       "      <td>4.286817</td>\n",
       "      <td>9.302669</td>\n",
       "      <td>41.633678</td>\n",
       "      <td>6.482968</td>\n",
       "      <td>10.049416</td>\n",
       "      <td>5.480257</td>\n",
       "      <td>69.465816</td>\n",
       "      <td>1.918586</td>\n",
       "      <td>10.182708</td>\n",
       "      <td>0.664118</td>\n",
       "      <td>16.999638</td>\n",
       "    </tr>\n",
       "    <tr>\n",
       "      <th>6</th>\n",
       "      <td>2016-01-15 06:00:00</td>\n",
       "      <td>6.038436</td>\n",
       "      <td>6.056253</td>\n",
       "      <td>2.105501</td>\n",
       "      <td>34.920570</td>\n",
       "      <td>523.376439</td>\n",
       "      <td>56.674647</td>\n",
       "      <td>11.535899</td>\n",
       "      <td>6.204974</td>\n",
       "      <td>999.832373</td>\n",
       "      <td>-399.353521</td>\n",
       "      <td>1600.753019</td>\n",
       "      <td>-450.050089</td>\n",
       "      <td>1599.019966</td>\n",
       "      <td>-449.848507</td>\n",
       "      <td>1600.298267</td>\n",
       "      <td>-453.102891</td>\n",
       "      <td>1397.853265</td>\n",
       "      <td>-451.306640</td>\n",
       "      <td>1397.973670</td>\n",
       "      <td>-451.355626</td>\n",
       "      <td>11.539227</td>\n",
       "      <td>6.200515</td>\n",
       "      <td>41956.468979</td>\n",
       "      <td>3497.427365</td>\n",
       "      <td>3506.352790</td>\n",
       "      <td>2.867933</td>\n",
       "      <td>19.319591</td>\n",
       "      <td>11.684307</td>\n",
       "      <td>7.304849</td>\n",
       "      <td>27.063672</td>\n",
       "      <td>88.168065</td>\n",
       "      <td>0.986248</td>\n",
       "      <td>4.478080</td>\n",
       "      <td>0.518266</td>\n",
       "      <td>19.262491</td>\n",
       "      <td>117.322323</td>\n",
       "      <td>12.469088</td>\n",
       "      <td>7.25</td>\n",
       "      <td>0.895207</td>\n",
       "      <td>1597.532455</td>\n",
       "      <td>-500.985364</td>\n",
       "      <td>1602.816321</td>\n",
       "      <td>-500.696736</td>\n",
       "      <td>1603.572091</td>\n",
       "      <td>-500.256955</td>\n",
       "      <td>1597.597437</td>\n",
       "      <td>-500.378192</td>\n",
       "      <td>33.184823</td>\n",
       "      <td>8.968869</td>\n",
       "      <td>10.081306</td>\n",
       "      <td>18.930855</td>\n",
       "      <td>2.223152</td>\n",
       "      <td>16.078368</td>\n",
       "      <td>2.938979</td>\n",
       "      <td>6.623598</td>\n",
       "      <td>25.957594</td>\n",
       "      <td>-500.134472</td>\n",
       "      <td>24.077199</td>\n",
       "      <td>-500.089190</td>\n",
       "      <td>23.991710</td>\n",
       "      <td>-500.391528</td>\n",
       "      <td>23.954144</td>\n",
       "      <td>-501.872171</td>\n",
       "      <td>14.046819</td>\n",
       "      <td>-500.971133</td>\n",
       "      <td>12.091543</td>\n",
       "      <td>-500.501426</td>\n",
       "      <td>10.003247</td>\n",
       "      <td>-497.083180</td>\n",
       "      <td>8.010890</td>\n",
       "      <td>-500.002423</td>\n",
       "      <td>14.029649</td>\n",
       "      <td>-600.905470</td>\n",
       "      <td>2.316720</td>\n",
       "      <td>13.597056</td>\n",
       "      <td>4.487865</td>\n",
       "      <td>9.103047</td>\n",
       "      <td>41.995316</td>\n",
       "      <td>6.533849</td>\n",
       "      <td>10.058141</td>\n",
       "      <td>4.569100</td>\n",
       "      <td>69.300835</td>\n",
       "      <td>2.058913</td>\n",
       "      <td>10.304598</td>\n",
       "      <td>0.807342</td>\n",
       "      <td>16.723575</td>\n",
       "    </tr>\n",
       "    <tr>\n",
       "      <th>7</th>\n",
       "      <td>2016-01-15 07:00:00</td>\n",
       "      <td>6.433854</td>\n",
       "      <td>5.955053</td>\n",
       "      <td>2.310432</td>\n",
       "      <td>36.091386</td>\n",
       "      <td>549.842749</td>\n",
       "      <td>56.730325</td>\n",
       "      <td>12.557906</td>\n",
       "      <td>6.799275</td>\n",
       "      <td>1000.166602</td>\n",
       "      <td>-400.556601</td>\n",
       "      <td>1598.877246</td>\n",
       "      <td>-450.070980</td>\n",
       "      <td>1598.108717</td>\n",
       "      <td>-449.211334</td>\n",
       "      <td>1592.872844</td>\n",
       "      <td>-449.806802</td>\n",
       "      <td>1396.580752</td>\n",
       "      <td>-453.548352</td>\n",
       "      <td>1397.289884</td>\n",
       "      <td>-450.221696</td>\n",
       "      <td>12.583109</td>\n",
       "      <td>6.798354</td>\n",
       "      <td>41812.416893</td>\n",
       "      <td>3497.275828</td>\n",
       "      <td>3501.000030</td>\n",
       "      <td>2.784698</td>\n",
       "      <td>19.507897</td>\n",
       "      <td>11.182624</td>\n",
       "      <td>7.258496</td>\n",
       "      <td>27.231114</td>\n",
       "      <td>87.668336</td>\n",
       "      <td>1.116110</td>\n",
       "      <td>4.728325</td>\n",
       "      <td>0.548067</td>\n",
       "      <td>18.861866</td>\n",
       "      <td>124.592960</td>\n",
       "      <td>12.467403</td>\n",
       "      <td>7.25</td>\n",
       "      <td>0.901202</td>\n",
       "      <td>1597.946266</td>\n",
       "      <td>-501.592304</td>\n",
       "      <td>1601.078254</td>\n",
       "      <td>-499.494115</td>\n",
       "      <td>1602.630688</td>\n",
       "      <td>-500.173741</td>\n",
       "      <td>1595.937990</td>\n",
       "      <td>-498.929825</td>\n",
       "      <td>34.027719</td>\n",
       "      <td>8.545238</td>\n",
       "      <td>10.224540</td>\n",
       "      <td>18.735813</td>\n",
       "      <td>2.112025</td>\n",
       "      <td>15.797720</td>\n",
       "      <td>2.881529</td>\n",
       "      <td>6.872033</td>\n",
       "      <td>25.938026</td>\n",
       "      <td>-499.657795</td>\n",
       "      <td>24.020179</td>\n",
       "      <td>-499.798396</td>\n",
       "      <td>24.031555</td>\n",
       "      <td>-500.550436</td>\n",
       "      <td>23.968160</td>\n",
       "      <td>-499.836513</td>\n",
       "      <td>13.974691</td>\n",
       "      <td>-501.819696</td>\n",
       "      <td>12.101324</td>\n",
       "      <td>-500.583446</td>\n",
       "      <td>9.873169</td>\n",
       "      <td>-499.171928</td>\n",
       "      <td>7.993381</td>\n",
       "      <td>-499.794518</td>\n",
       "      <td>13.984498</td>\n",
       "      <td>-600.411070</td>\n",
       "      <td>2.192197</td>\n",
       "      <td>13.177237</td>\n",
       "      <td>4.432448</td>\n",
       "      <td>9.369209</td>\n",
       "      <td>42.452727</td>\n",
       "      <td>6.130823</td>\n",
       "      <td>9.935481</td>\n",
       "      <td>4.389813</td>\n",
       "      <td>70.230976</td>\n",
       "      <td>2.143437</td>\n",
       "      <td>10.443288</td>\n",
       "      <td>0.949346</td>\n",
       "      <td>16.689959</td>\n",
       "    </tr>\n",
       "    <tr>\n",
       "      <th>8</th>\n",
       "      <td>2016-01-15 08:00:00</td>\n",
       "      <td>6.526612</td>\n",
       "      <td>5.878084</td>\n",
       "      <td>2.391713</td>\n",
       "      <td>35.753879</td>\n",
       "      <td>560.115242</td>\n",
       "      <td>56.649893</td>\n",
       "      <td>13.166128</td>\n",
       "      <td>6.798659</td>\n",
       "      <td>1000.026864</td>\n",
       "      <td>-399.968583</td>\n",
       "      <td>1599.813104</td>\n",
       "      <td>-450.481122</td>\n",
       "      <td>1600.024621</td>\n",
       "      <td>-450.365493</td>\n",
       "      <td>1594.448648</td>\n",
       "      <td>-449.882428</td>\n",
       "      <td>1402.033682</td>\n",
       "      <td>-448.545552</td>\n",
       "      <td>1400.748347</td>\n",
       "      <td>-450.303991</td>\n",
       "      <td>13.184764</td>\n",
       "      <td>6.800021</td>\n",
       "      <td>41905.757985</td>\n",
       "      <td>3498.332166</td>\n",
       "      <td>3498.120075</td>\n",
       "      <td>2.728844</td>\n",
       "      <td>19.789465</td>\n",
       "      <td>11.051323</td>\n",
       "      <td>7.380043</td>\n",
       "      <td>27.404296</td>\n",
       "      <td>87.035862</td>\n",
       "      <td>1.186780</td>\n",
       "      <td>4.764300</td>\n",
       "      <td>0.599181</td>\n",
       "      <td>18.873082</td>\n",
       "      <td>131.781026</td>\n",
       "      <td>12.465718</td>\n",
       "      <td>7.25</td>\n",
       "      <td>0.885535</td>\n",
       "      <td>1601.670053</td>\n",
       "      <td>-499.548891</td>\n",
       "      <td>1598.804355</td>\n",
       "      <td>-499.689644</td>\n",
       "      <td>1601.689285</td>\n",
       "      <td>-500.484957</td>\n",
       "      <td>1602.431117</td>\n",
       "      <td>-500.650982</td>\n",
       "      <td>34.964974</td>\n",
       "      <td>8.046686</td>\n",
       "      <td>10.500065</td>\n",
       "      <td>18.560288</td>\n",
       "      <td>2.243817</td>\n",
       "      <td>16.195420</td>\n",
       "      <td>3.089922</td>\n",
       "      <td>6.705633</td>\n",
       "      <td>25.929511</td>\n",
       "      <td>-500.079889</td>\n",
       "      <td>23.977375</td>\n",
       "      <td>-500.005187</td>\n",
       "      <td>23.998809</td>\n",
       "      <td>-500.400133</td>\n",
       "      <td>23.982633</td>\n",
       "      <td>-499.826311</td>\n",
       "      <td>13.964030</td>\n",
       "      <td>-504.252450</td>\n",
       "      <td>12.060738</td>\n",
       "      <td>-501.174549</td>\n",
       "      <td>10.033838</td>\n",
       "      <td>-501.178133</td>\n",
       "      <td>7.881604</td>\n",
       "      <td>-499.729434</td>\n",
       "      <td>13.967135</td>\n",
       "      <td>-599.061188</td>\n",
       "      <td>2.212084</td>\n",
       "      <td>13.487870</td>\n",
       "      <td>4.608756</td>\n",
       "      <td>9.437044</td>\n",
       "      <td>43.404078</td>\n",
       "      <td>5.834140</td>\n",
       "      <td>10.071156</td>\n",
       "      <td>4.876389</td>\n",
       "      <td>69.688595</td>\n",
       "      <td>2.209881</td>\n",
       "      <td>10.420140</td>\n",
       "      <td>1.065453</td>\n",
       "      <td>17.201948</td>\n",
       "    </tr>\n",
       "    <tr>\n",
       "      <th>9</th>\n",
       "      <td>2016-01-15 09:00:00</td>\n",
       "      <td>6.747693</td>\n",
       "      <td>5.974832</td>\n",
       "      <td>2.539114</td>\n",
       "      <td>38.553938</td>\n",
       "      <td>566.616045</td>\n",
       "      <td>60.308763</td>\n",
       "      <td>13.996130</td>\n",
       "      <td>6.800263</td>\n",
       "      <td>1000.332327</td>\n",
       "      <td>-400.149341</td>\n",
       "      <td>1599.255585</td>\n",
       "      <td>-449.938835</td>\n",
       "      <td>1599.889681</td>\n",
       "      <td>-450.184036</td>\n",
       "      <td>1589.251641</td>\n",
       "      <td>-449.993434</td>\n",
       "      <td>1401.349036</td>\n",
       "      <td>-449.424506</td>\n",
       "      <td>1400.221018</td>\n",
       "      <td>-450.257027</td>\n",
       "      <td>14.018513</td>\n",
       "      <td>6.799799</td>\n",
       "      <td>41904.587200</td>\n",
       "      <td>3496.945733</td>\n",
       "      <td>3503.247805</td>\n",
       "      <td>2.657499</td>\n",
       "      <td>19.550973</td>\n",
       "      <td>11.354861</td>\n",
       "      <td>7.344956</td>\n",
       "      <td>27.742063</td>\n",
       "      <td>88.280699</td>\n",
       "      <td>1.137303</td>\n",
       "      <td>4.600020</td>\n",
       "      <td>0.619485</td>\n",
       "      <td>19.436276</td>\n",
       "      <td>146.153696</td>\n",
       "      <td>12.464385</td>\n",
       "      <td>7.25</td>\n",
       "      <td>0.897431</td>\n",
       "      <td>1601.066985</td>\n",
       "      <td>-499.830641</td>\n",
       "      <td>1599.806933</td>\n",
       "      <td>-500.600490</td>\n",
       "      <td>1599.164142</td>\n",
       "      <td>-499.334459</td>\n",
       "      <td>1599.697783</td>\n",
       "      <td>-500.263228</td>\n",
       "      <td>35.360817</td>\n",
       "      <td>7.862340</td>\n",
       "      <td>10.526890</td>\n",
       "      <td>18.504813</td>\n",
       "      <td>2.011642</td>\n",
       "      <td>15.823639</td>\n",
       "      <td>3.012419</td>\n",
       "      <td>7.214806</td>\n",
       "      <td>25.986485</td>\n",
       "      <td>-499.402963</td>\n",
       "      <td>23.961207</td>\n",
       "      <td>-499.986118</td>\n",
       "      <td>24.049918</td>\n",
       "      <td>-500.435620</td>\n",
       "      <td>23.972413</td>\n",
       "      <td>-499.751759</td>\n",
       "      <td>14.008944</td>\n",
       "      <td>-504.170807</td>\n",
       "      <td>11.995903</td>\n",
       "      <td>-501.269181</td>\n",
       "      <td>10.043100</td>\n",
       "      <td>-498.529996</td>\n",
       "      <td>8.002633</td>\n",
       "      <td>-499.761922</td>\n",
       "      <td>14.004767</td>\n",
       "      <td>-599.595324</td>\n",
       "      <td>2.067619</td>\n",
       "      <td>13.735810</td>\n",
       "      <td>4.721778</td>\n",
       "      <td>9.582874</td>\n",
       "      <td>43.487291</td>\n",
       "      <td>5.706261</td>\n",
       "      <td>10.242511</td>\n",
       "      <td>5.214161</td>\n",
       "      <td>70.973641</td>\n",
       "      <td>2.200997</td>\n",
       "      <td>10.473539</td>\n",
       "      <td>1.171183</td>\n",
       "      <td>17.717049</td>\n",
       "    </tr>\n",
       "  </tbody>\n",
       "</table>\n",
       "</div>"
      ],
      "text/plain": [
       "                  date  rougher.input.feed_au  rougher.input.feed_ag  \\\n",
       "0  2016-01-15 00:00:00               6.486150               6.100378   \n",
       "1  2016-01-15 01:00:00               6.478583               6.161113   \n",
       "2  2016-01-15 02:00:00               6.362222               6.116455   \n",
       "3  2016-01-15 03:00:00               6.118189               6.043309   \n",
       "4  2016-01-15 04:00:00               5.663707               6.060915   \n",
       "5  2016-01-15 05:00:00               5.687168               5.801920   \n",
       "6  2016-01-15 06:00:00               6.038436               6.056253   \n",
       "7  2016-01-15 07:00:00               6.433854               5.955053   \n",
       "8  2016-01-15 08:00:00               6.526612               5.878084   \n",
       "9  2016-01-15 09:00:00               6.747693               5.974832   \n",
       "\n",
       "   rougher.input.feed_pb  rougher.input.feed_sol  rougher.input.feed_rate  \\\n",
       "0               2.284912               36.808594               523.546326   \n",
       "1               2.266033               35.753385               525.290581   \n",
       "2               2.159622               35.971630               530.026610   \n",
       "3               2.037807               36.862241               542.590390   \n",
       "4               1.786875               34.347666               540.531893   \n",
       "5               1.879351               35.470082               546.173470   \n",
       "6               2.105501               34.920570               523.376439   \n",
       "7               2.310432               36.091386               549.842749   \n",
       "8               2.391713               35.753879               560.115242   \n",
       "9               2.539114               38.553938               566.616045   \n",
       "\n",
       "   rougher.input.feed_size  rougher.input.floatbank10_sulfate  \\\n",
       "0                55.486599                          11.986616   \n",
       "1                57.278666                          11.971193   \n",
       "2                57.510649                          11.920603   \n",
       "3                57.792734                          11.630094   \n",
       "4                56.047189                          10.957755   \n",
       "5                57.469578                          11.072517   \n",
       "6                56.674647                          11.535899   \n",
       "7                56.730325                          12.557906   \n",
       "8                56.649893                          13.166128   \n",
       "9                60.308763                          13.996130   \n",
       "\n",
       "   rougher.input.floatbank10_xanthate  rougher.state.floatbank10_a_air  \\\n",
       "0                            6.007990                       999.706909   \n",
       "1                            6.005766                      1000.286398   \n",
       "2                            6.197377                       999.719565   \n",
       "3                            6.203177                       999.814770   \n",
       "4                            6.198826                       999.678690   \n",
       "5                            6.200383                       999.934134   \n",
       "6                            6.204974                       999.832373   \n",
       "7                            6.799275                      1000.166602   \n",
       "8                            6.798659                      1000.026864   \n",
       "9                            6.800263                      1000.332327   \n",
       "\n",
       "   rougher.state.floatbank10_a_level  rougher.state.floatbank10_b_air  \\\n",
       "0                        -404.066986                      1603.011353   \n",
       "1                        -400.065196                      1600.754587   \n",
       "2                        -400.074028                      1599.337330   \n",
       "3                        -400.200179                      1600.059442   \n",
       "4                        -399.752729                      1600.208824   \n",
       "5                        -400.599524                      1601.080554   \n",
       "6                        -399.353521                      1600.753019   \n",
       "7                        -400.556601                      1598.877246   \n",
       "8                        -399.968583                      1599.813104   \n",
       "9                        -400.149341                      1599.255585   \n",
       "\n",
       "   rougher.state.floatbank10_b_level  rougher.state.floatbank10_c_air  \\\n",
       "0                        -434.715027                      1602.375000   \n",
       "1                        -449.953435                      1600.479580   \n",
       "2                        -450.008530                      1599.672797   \n",
       "3                        -450.619948                      1600.012842   \n",
       "4                        -449.599614                      1600.357732   \n",
       "5                        -450.120760                      1603.164805   \n",
       "6                        -450.050089                      1599.019966   \n",
       "7                        -450.070980                      1598.108717   \n",
       "8                        -450.481122                      1600.024621   \n",
       "9                        -449.938835                      1599.889681   \n",
       "\n",
       "   rougher.state.floatbank10_c_level  rougher.state.floatbank10_d_air  \\\n",
       "0                        -442.204468                      1598.937256   \n",
       "1                        -449.830646                      1600.527589   \n",
       "2                        -449.954491                      1599.849325   \n",
       "3                        -449.910497                      1597.725177   \n",
       "4                        -450.034364                      1599.759049   \n",
       "5                        -450.097732                      1603.368371   \n",
       "6                        -449.848507                      1600.298267   \n",
       "7                        -449.211334                      1592.872844   \n",
       "8                        -450.365493                      1594.448648   \n",
       "9                        -450.184036                      1589.251641   \n",
       "\n",
       "   rougher.state.floatbank10_d_level  rougher.state.floatbank10_e_air  \\\n",
       "0                        -451.294128                      1404.472046   \n",
       "1                        -449.953649                      1399.227084   \n",
       "2                        -449.954185                      1399.180945   \n",
       "3                        -450.130127                      1400.943157   \n",
       "4                        -449.909799                      1401.560902   \n",
       "5                        -446.306150                      1403.393100   \n",
       "6                        -453.102891                      1397.853265   \n",
       "7                        -449.806802                      1396.580752   \n",
       "8                        -449.882428                      1402.033682   \n",
       "9                        -449.993434                      1401.349036   \n",
       "\n",
       "   rougher.state.floatbank10_e_level  rougher.state.floatbank10_f_air  \\\n",
       "0                        -455.462982                      1416.354980   \n",
       "1                        -450.869848                      1399.719514   \n",
       "2                        -449.937588                      1400.316682   \n",
       "3                        -450.030142                      1400.234743   \n",
       "4                        -448.877187                      1401.160227   \n",
       "5                        -447.899904                      1402.903175   \n",
       "6                        -451.306640                      1397.973670   \n",
       "7                        -453.548352                      1397.289884   \n",
       "8                        -448.545552                      1400.748347   \n",
       "9                        -449.424506                      1400.221018   \n",
       "\n",
       "   rougher.state.floatbank10_f_level  rougher.input.floatbank11_sulfate  \\\n",
       "0                        -451.939636                          11.836743   \n",
       "1                        -450.119001                          11.996163   \n",
       "2                        -450.527147                          11.920305   \n",
       "3                        -449.790835                          11.692450   \n",
       "4                        -450.407128                          10.960521   \n",
       "5                        -448.872321                          11.075009   \n",
       "6                        -451.355626                          11.539227   \n",
       "7                        -450.221696                          12.583109   \n",
       "8                        -450.303991                          13.184764   \n",
       "9                        -450.257027                          14.018513   \n",
       "\n",
       "   rougher.input.floatbank11_xanthate  \\\n",
       "0                            6.005818   \n",
       "1                            6.012594   \n",
       "2                            6.204633   \n",
       "3                            6.196578   \n",
       "4                            6.194897   \n",
       "5                            6.202362   \n",
       "6                            6.200515   \n",
       "7                            6.798354   \n",
       "8                            6.800021   \n",
       "9                            6.799799   \n",
       "\n",
       "   rougher.calculation.sulfate_to_au_concentrate  \\\n",
       "0                                   41885.707031   \n",
       "1                                   42050.861809   \n",
       "2                                   42018.101184   \n",
       "3                                   42029.447991   \n",
       "4                                   42125.354245   \n",
       "5                                   41973.280986   \n",
       "6                                   41956.468979   \n",
       "7                                   41812.416893   \n",
       "8                                   41905.757985   \n",
       "9                                   41904.587200   \n",
       "\n",
       "   rougher.calculation.floatbank10_sulfate_to_au_feed  \\\n",
       "0                                        3481.779053    \n",
       "1                                        3498.370979    \n",
       "2                                        3495.348910    \n",
       "3                                        3498.578313    \n",
       "4                                        3494.800771    \n",
       "5                                        3501.916973    \n",
       "6                                        3497.427365    \n",
       "7                                        3497.275828    \n",
       "8                                        3498.332166    \n",
       "9                                        3496.945733    \n",
       "\n",
       "   rougher.calculation.floatbank11_sulfate_to_au_feed  \\\n",
       "0                                        3520.337158    \n",
       "1                                        3489.981857    \n",
       "2                                        3502.359819    \n",
       "3                                        3499.162912    \n",
       "4                                        3506.679315    \n",
       "5                                        3499.527175    \n",
       "6                                        3506.352790    \n",
       "7                                        3501.000030    \n",
       "8                                        3498.120075    \n",
       "9                                        3503.247805    \n",
       "\n",
       "   rougher.calculation.au_pb_ratio  rougher.output.concentrate_au  \\\n",
       "0                         2.838687                      19.793808   \n",
       "1                         2.858998                      20.050975   \n",
       "2                         2.945989                      19.737170   \n",
       "3                         3.002340                      19.320810   \n",
       "4                         3.169615                      19.216101   \n",
       "5                         3.026134                      18.950385   \n",
       "6                         2.867933                      19.319591   \n",
       "7                         2.784698                      19.507897   \n",
       "8                         2.728844                      19.789465   \n",
       "9                         2.657499                      19.550973   \n",
       "\n",
       "   rougher.output.concentrate_ag  rougher.output.concentrate_pb  \\\n",
       "0                      11.500771                       7.101074   \n",
       "1                      11.615865                       7.278807   \n",
       "2                      11.695753                       7.216833   \n",
       "3                      11.915047                       7.175616   \n",
       "4                      12.411054                       7.240205   \n",
       "5                      11.985584                       7.121903   \n",
       "6                      11.684307                       7.304849   \n",
       "7                      11.182624                       7.258496   \n",
       "8                      11.051323                       7.380043   \n",
       "9                      11.354861                       7.344956   \n",
       "\n",
       "   rougher.output.concentrate_sol  rougher.output.recovery  \\\n",
       "0                       28.029297                87.107763   \n",
       "1                       28.067063                86.843261   \n",
       "2                       27.454037                86.842308   \n",
       "3                       27.341277                87.226430   \n",
       "4                       27.041023                86.688794   \n",
       "5                       26.898046                88.156912   \n",
       "6                       27.063672                88.168065   \n",
       "7                       27.231114                87.668336   \n",
       "8                       27.404296                87.035862   \n",
       "9                       27.742063                88.280699   \n",
       "\n",
       "   rougher.output.tail_au  rougher.output.tail_ag  rougher.output.tail_pb  \\\n",
       "0                1.170244                5.008018                0.508728   \n",
       "1                1.184827                4.955378                0.536689   \n",
       "2                1.162562                4.843460                0.546416   \n",
       "3                1.079755                4.655288                0.542525   \n",
       "4                1.012642                4.552800                0.515438   \n",
       "5                0.915835                4.397415                0.491350   \n",
       "6                0.986248                4.478080                0.518266   \n",
       "7                1.116110                4.728325                0.548067   \n",
       "8                1.186780                4.764300                0.599181   \n",
       "9                1.137303                4.600020                0.619485   \n",
       "\n",
       "   rougher.output.tail_sol  primary_cleaner.input.sulfate  \\\n",
       "0                19.154297                     127.092003   \n",
       "1                18.965234                     125.629232   \n",
       "2                18.808533                     123.819808   \n",
       "3                19.330200                     122.270188   \n",
       "4                19.267422                     117.988169   \n",
       "5                19.640269                     115.581252   \n",
       "6                19.262491                     117.322323   \n",
       "7                18.861866                     124.592960   \n",
       "8                18.873082                     131.781026   \n",
       "9                19.436276                     146.153696   \n",
       "\n",
       "   primary_cleaner.input.depressant  primary_cleaner.input.feed_size  \\\n",
       "0                         10.128295                             7.25   \n",
       "1                         10.296251                             7.25   \n",
       "2                         11.316280                             7.25   \n",
       "3                         11.322140                             7.25   \n",
       "4                         11.913613                             7.25   \n",
       "5                         12.470773                             7.25   \n",
       "6                         12.469088                             7.25   \n",
       "7                         12.467403                             7.25   \n",
       "8                         12.465718                             7.25   \n",
       "9                         12.464385                             7.25   \n",
       "\n",
       "   primary_cleaner.input.xanthate  primary_cleaner.state.floatbank8_a_air  \\\n",
       "0                        0.988759                             1549.775757   \n",
       "1                        1.002663                             1576.166671   \n",
       "2                        0.991265                             1601.556163   \n",
       "3                        0.996739                             1599.968720   \n",
       "4                        1.009869                             1601.339707   \n",
       "5                        0.965760                             1602.964922   \n",
       "6                        0.895207                             1597.532455   \n",
       "7                        0.901202                             1597.946266   \n",
       "8                        0.885535                             1601.670053   \n",
       "9                        0.897431                             1601.066985   \n",
       "\n",
       "   primary_cleaner.state.floatbank8_a_level  \\\n",
       "0                               -498.912140   \n",
       "1                               -500.904965   \n",
       "2                               -499.997791   \n",
       "3                               -500.951778   \n",
       "4                               -498.975456   \n",
       "5                               -498.090944   \n",
       "6                               -500.985364   \n",
       "7                               -501.592304   \n",
       "8                               -499.548891   \n",
       "9                               -499.830641   \n",
       "\n",
       "   primary_cleaner.state.floatbank8_b_air  \\\n",
       "0                             1551.434204   \n",
       "1                             1575.950626   \n",
       "2                             1600.386685   \n",
       "3                             1600.659236   \n",
       "4                             1601.437854   \n",
       "5                             1602.074298   \n",
       "6                             1602.816321   \n",
       "7                             1601.078254   \n",
       "8                             1598.804355   \n",
       "9                             1599.806933   \n",
       "\n",
       "   primary_cleaner.state.floatbank8_b_level  \\\n",
       "0                               -516.403442   \n",
       "1                               -499.865889   \n",
       "2                               -500.607762   \n",
       "3                               -499.677094   \n",
       "4                               -500.323246   \n",
       "5                               -500.179481   \n",
       "6                               -500.696736   \n",
       "7                               -499.494115   \n",
       "8                               -499.689644   \n",
       "9                               -500.600490   \n",
       "\n",
       "   primary_cleaner.state.floatbank8_c_air  \\\n",
       "0                             1549.873901   \n",
       "1                             1575.994189   \n",
       "2                             1602.003542   \n",
       "3                             1600.304144   \n",
       "4                             1599.581894   \n",
       "5                             1602.154812   \n",
       "6                             1603.572091   \n",
       "7                             1602.630688   \n",
       "8                             1601.689285   \n",
       "9                             1599.164142   \n",
       "\n",
       "   primary_cleaner.state.floatbank8_c_level  \\\n",
       "0                               -498.666595   \n",
       "1                               -499.315107   \n",
       "2                               -500.870069   \n",
       "3                               -500.727997   \n",
       "4                               -500.888152   \n",
       "5                               -498.642614   \n",
       "6                               -500.256955   \n",
       "7                               -500.173741   \n",
       "8                               -500.484957   \n",
       "9                               -499.334459   \n",
       "\n",
       "   primary_cleaner.state.floatbank8_d_air  \\\n",
       "0                             1554.367432   \n",
       "1                             1574.479259   \n",
       "2                             1599.541515   \n",
       "3                             1600.449520   \n",
       "4                             1602.649541   \n",
       "5                             1605.020106   \n",
       "6                             1597.597437   \n",
       "7                             1595.937990   \n",
       "8                             1602.431117   \n",
       "9                             1599.697783   \n",
       "\n",
       "   primary_cleaner.state.floatbank8_d_level  \\\n",
       "0                               -493.428131   \n",
       "1                               -498.931665   \n",
       "2                               -499.827444   \n",
       "3                               -500.052575   \n",
       "4                               -500.593010   \n",
       "5                               -500.538177   \n",
       "6                               -500.378192   \n",
       "7                               -498.929825   \n",
       "8                               -500.650982   \n",
       "9                               -500.263228   \n",
       "\n",
       "   primary_cleaner.output.concentrate_au  \\\n",
       "0                              34.174427   \n",
       "1                              34.118526   \n",
       "2                              33.969464   \n",
       "3                              28.260743   \n",
       "4                              33.044932   \n",
       "5                              32.070664   \n",
       "6                              33.184823   \n",
       "7                              34.027719   \n",
       "8                              34.964974   \n",
       "9                              35.360817   \n",
       "\n",
       "   primary_cleaner.output.concentrate_ag  \\\n",
       "0                               8.547551   \n",
       "1                               8.558743   \n",
       "2                               8.603505   \n",
       "3                               7.221879   \n",
       "4                               9.089428   \n",
       "5                               9.553724   \n",
       "6                               8.968869   \n",
       "7                               8.545238   \n",
       "8                               8.046686   \n",
       "9                               7.862340   \n",
       "\n",
       "   primary_cleaner.output.concentrate_pb  \\\n",
       "0                              10.389648   \n",
       "1                              10.497069   \n",
       "2                              10.354494   \n",
       "3                               8.496563   \n",
       "4                               9.986786   \n",
       "5                               9.816215   \n",
       "6                              10.081306   \n",
       "7                              10.224540   \n",
       "8                              10.500065   \n",
       "9                              10.526890   \n",
       "\n",
       "   primary_cleaner.output.concentrate_sol  primary_cleaner.output.tail_au  \\\n",
       "0                               19.529297                        2.106679   \n",
       "1                               19.369147                        2.353017   \n",
       "2                               19.167579                        2.416800   \n",
       "3                               15.978538                        2.262051   \n",
       "4                               19.199864                        2.277073   \n",
       "5                               19.167328                        2.114558   \n",
       "6                               18.930855                        2.223152   \n",
       "7                               18.735813                        2.112025   \n",
       "8                               18.560288                        2.243817   \n",
       "9                               18.504813                        2.011642   \n",
       "\n",
       "   primary_cleaner.output.tail_ag  primary_cleaner.output.tail_pb  \\\n",
       "0                       14.936526                        2.534912   \n",
       "1                       16.250511                        3.049646   \n",
       "2                       16.491823                        3.124664   \n",
       "3                       16.024359                        2.960362   \n",
       "4                       16.480185                        3.112100   \n",
       "5                       15.931540                        2.844511   \n",
       "6                       16.078368                        2.938979   \n",
       "7                       15.797720                        2.881529   \n",
       "8                       16.195420                        3.089922   \n",
       "9                       15.823639                        3.012419   \n",
       "\n",
       "   primary_cleaner.output.tail_sol  secondary_cleaner.state.floatbank2_a_air  \\\n",
       "0                         7.476074                                 25.853109   \n",
       "1                         6.733907                                 25.880539   \n",
       "2                         6.471768                                 26.005245   \n",
       "3                         6.843791                                 25.942508   \n",
       "4                         6.550154                                 26.024787   \n",
       "5                         6.724197                                 26.014841   \n",
       "6                         6.623598                                 25.957594   \n",
       "7                         6.872033                                 25.938026   \n",
       "8                         6.705633                                 25.929511   \n",
       "9                         7.214806                                 25.986485   \n",
       "\n",
       "   secondary_cleaner.state.floatbank2_a_level  \\\n",
       "0                                 -498.526489   \n",
       "1                                 -499.989656   \n",
       "2                                 -499.929616   \n",
       "3                                 -499.176749   \n",
       "4                                 -500.279091   \n",
       "5                                 -498.864670   \n",
       "6                                 -500.134472   \n",
       "7                                 -499.657795   \n",
       "8                                 -500.079889   \n",
       "9                                 -499.402963   \n",
       "\n",
       "   secondary_cleaner.state.floatbank2_b_air  \\\n",
       "0                                 23.893660   \n",
       "1                                 23.889530   \n",
       "2                                 23.886657   \n",
       "3                                 23.955516   \n",
       "4                                 23.955345   \n",
       "5                                 23.880214   \n",
       "6                                 24.077199   \n",
       "7                                 24.020179   \n",
       "8                                 23.977375   \n",
       "9                                 23.961207   \n",
       "\n",
       "   secondary_cleaner.state.floatbank2_b_level  \\\n",
       "0                                 -501.406281   \n",
       "1                                 -500.372428   \n",
       "2                                 -499.951928   \n",
       "3                                 -499.848796   \n",
       "4                                 -500.593614   \n",
       "5                                 -499.738447   \n",
       "6                                 -500.089190   \n",
       "7                                 -499.798396   \n",
       "8                                 -500.005187   \n",
       "9                                 -499.986118   \n",
       "\n",
       "   secondary_cleaner.state.floatbank3_a_air  \\\n",
       "0                                 23.961798   \n",
       "1                                 23.970550   \n",
       "2                                 23.913535   \n",
       "3                                 23.966838   \n",
       "4                                 23.985703   \n",
       "5                                 23.982635   \n",
       "6                                 23.991710   \n",
       "7                                 24.031555   \n",
       "8                                 23.998809   \n",
       "9                                 24.049918   \n",
       "\n",
       "   secondary_cleaner.state.floatbank3_a_level  \\\n",
       "0                                 -495.262817   \n",
       "1                                 -500.085473   \n",
       "2                                 -499.442343   \n",
       "3                                 -500.008812   \n",
       "4                                 -500.083811   \n",
       "5                                 -500.495272   \n",
       "6                                 -500.391528   \n",
       "7                                 -500.550436   \n",
       "8                                 -500.400133   \n",
       "9                                 -500.435620   \n",
       "\n",
       "   secondary_cleaner.state.floatbank3_b_air  \\\n",
       "0                                 21.940409   \n",
       "1                                 22.085714   \n",
       "2                                 23.957717   \n",
       "3                                 23.954443   \n",
       "4                                 23.958945   \n",
       "5                                 24.009749   \n",
       "6                                 23.954144   \n",
       "7                                 23.968160   \n",
       "8                                 23.982633   \n",
       "9                                 23.972413   \n",
       "\n",
       "   secondary_cleaner.state.floatbank3_b_level  \\\n",
       "0                                 -499.340973   \n",
       "1                                 -499.446897   \n",
       "2                                 -499.901982   \n",
       "3                                 -499.944710   \n",
       "4                                 -499.990309   \n",
       "5                                 -499.433825   \n",
       "6                                 -501.872171   \n",
       "7                                 -499.836513   \n",
       "8                                 -499.826311   \n",
       "9                                 -499.751759   \n",
       "\n",
       "   secondary_cleaner.state.floatbank4_a_air  \\\n",
       "0                                 14.016835   \n",
       "1                                 13.992281   \n",
       "2                                 14.015015   \n",
       "3                                 14.036510   \n",
       "4                                 14.027298   \n",
       "5                                 13.938497   \n",
       "6                                 14.046819   \n",
       "7                                 13.974691   \n",
       "8                                 13.964030   \n",
       "9                                 14.008944   \n",
       "\n",
       "   secondary_cleaner.state.floatbank4_a_level  \\\n",
       "0                                 -502.488007   \n",
       "1                                 -505.503262   \n",
       "2                                 -502.520901   \n",
       "3                                 -500.857308   \n",
       "4                                 -499.838632   \n",
       "5                                 -500.970168   \n",
       "6                                 -500.971133   \n",
       "7                                 -501.819696   \n",
       "8                                 -504.252450   \n",
       "9                                 -504.170807   \n",
       "\n",
       "   secondary_cleaner.state.floatbank4_b_air  \\\n",
       "0                                 12.099931   \n",
       "1                                 11.950531   \n",
       "2                                 11.912783   \n",
       "3                                 11.999550   \n",
       "4                                 11.953070   \n",
       "5                                 11.883350   \n",
       "6                                 12.091543   \n",
       "7                                 12.101324   \n",
       "8                                 12.060738   \n",
       "9                                 11.995903   \n",
       "\n",
       "   secondary_cleaner.state.floatbank4_b_level  \\\n",
       "0                                 -504.715942   \n",
       "1                                 -501.331529   \n",
       "2                                 -501.133383   \n",
       "3                                 -501.193686   \n",
       "4                                 -501.053894   \n",
       "5                                 -500.395298   \n",
       "6                                 -500.501426   \n",
       "7                                 -500.583446   \n",
       "8                                 -501.174549   \n",
       "9                                 -501.269181   \n",
       "\n",
       "   secondary_cleaner.state.floatbank5_a_air  \\\n",
       "0                                  9.925633   \n",
       "1                                 10.039245   \n",
       "2                                 10.070913   \n",
       "3                                  9.970366   \n",
       "4                                  9.925709   \n",
       "5                                 10.054147   \n",
       "6                                 10.003247   \n",
       "7                                  9.873169   \n",
       "8                                 10.033838   \n",
       "9                                 10.043100   \n",
       "\n",
       "   secondary_cleaner.state.floatbank5_a_level  \\\n",
       "0                                 -498.310211   \n",
       "1                                 -500.169983   \n",
       "2                                 -500.129135   \n",
       "3                                 -499.201640   \n",
       "4                                 -501.686727   \n",
       "5                                 -496.374715   \n",
       "6                                 -497.083180   \n",
       "7                                 -499.171928   \n",
       "8                                 -501.178133   \n",
       "9                                 -498.529996   \n",
       "\n",
       "   secondary_cleaner.state.floatbank5_b_air  \\\n",
       "0                                  8.079666   \n",
       "1                                  7.984757   \n",
       "2                                  8.013877   \n",
       "3                                  7.977324   \n",
       "4                                  7.894242   \n",
       "5                                  7.965083   \n",
       "6                                  8.010890   \n",
       "7                                  7.993381   \n",
       "8                                  7.881604   \n",
       "9                                  8.002633   \n",
       "\n",
       "   secondary_cleaner.state.floatbank5_b_level  \\\n",
       "0                                 -500.470978   \n",
       "1                                 -500.582168   \n",
       "2                                 -500.517572   \n",
       "3                                 -500.255908   \n",
       "4                                 -500.356035   \n",
       "5                                 -499.364752   \n",
       "6                                 -500.002423   \n",
       "7                                 -499.794518   \n",
       "8                                 -499.729434   \n",
       "9                                 -499.761922   \n",
       "\n",
       "   secondary_cleaner.state.floatbank6_a_air  \\\n",
       "0                                 14.151341   \n",
       "1                                 13.998353   \n",
       "2                                 14.028663   \n",
       "3                                 14.005551   \n",
       "4                                 13.996647   \n",
       "5                                 14.017067   \n",
       "6                                 14.029649   \n",
       "7                                 13.984498   \n",
       "8                                 13.967135   \n",
       "9                                 14.004767   \n",
       "\n",
       "   secondary_cleaner.state.floatbank6_a_level  \\\n",
       "0                                 -605.841980   \n",
       "1                                 -599.787184   \n",
       "2                                 -601.427363   \n",
       "3                                 -599.996129   \n",
       "4                                 -601.496691   \n",
       "5                                 -599.707915   \n",
       "6                                 -600.905470   \n",
       "7                                 -600.411070   \n",
       "8                                 -599.061188   \n",
       "9                                 -599.595324   \n",
       "\n",
       "   secondary_cleaner.output.tail_au  secondary_cleaner.output.tail_ag  \\\n",
       "0                          2.606185                         14.500184   \n",
       "1                          2.488248                         14.265474   \n",
       "2                          2.458187                         14.115662   \n",
       "3                          2.322062                         13.732071   \n",
       "4                          2.330448                         14.079996   \n",
       "5                          2.192127                         13.615012   \n",
       "6                          2.316720                         13.597056   \n",
       "7                          2.192197                         13.177237   \n",
       "8                          2.212084                         13.487870   \n",
       "9                          2.067619                         13.735810   \n",
       "\n",
       "   secondary_cleaner.output.tail_pb  secondary_cleaner.output.tail_sol  \\\n",
       "0                          4.694824                           8.764648   \n",
       "1                          4.592547                           9.001494   \n",
       "2                          4.624775                           8.842896   \n",
       "3                          4.482453                           9.122857   \n",
       "4                          4.470737                           8.871028   \n",
       "5                          4.286817                           9.302669   \n",
       "6                          4.487865                           9.103047   \n",
       "7                          4.432448                           9.369209   \n",
       "8                          4.608756                           9.437044   \n",
       "9                          4.721778                           9.582874   \n",
       "\n",
       "   final.output.concentrate_au  final.output.concentrate_ag  \\\n",
       "0                    42.192020                     6.055403   \n",
       "1                    42.701629                     6.029369   \n",
       "2                    42.657501                     6.055926   \n",
       "3                    42.689819                     6.047977   \n",
       "4                    42.774141                     6.148599   \n",
       "5                    41.633678                     6.482968   \n",
       "6                    41.995316                     6.533849   \n",
       "7                    42.452727                     6.130823   \n",
       "8                    43.404078                     5.834140   \n",
       "9                    43.487291                     5.706261   \n",
       "\n",
       "   final.output.concentrate_pb  final.output.concentrate_sol  \\\n",
       "0                     9.889648                      5.507324   \n",
       "1                     9.968944                      5.257781   \n",
       "2                    10.213995                      5.383759   \n",
       "3                     9.977019                      4.858634   \n",
       "4                    10.142511                      4.939416   \n",
       "5                    10.049416                      5.480257   \n",
       "6                    10.058141                      4.569100   \n",
       "7                     9.935481                      4.389813   \n",
       "8                    10.071156                      4.876389   \n",
       "9                    10.242511                      5.214161   \n",
       "\n",
       "   final.output.recovery  final.output.tail_au  final.output.tail_ag  \\\n",
       "0              70.541216              2.143149             10.411962   \n",
       "1              69.266198              2.224930             10.462676   \n",
       "2              68.116445              2.257889             10.507046   \n",
       "3              68.347543              2.146849             10.422762   \n",
       "4              66.927016              2.055292             10.360302   \n",
       "5              69.465816              1.918586             10.182708   \n",
       "6              69.300835              2.058913             10.304598   \n",
       "7              70.230976              2.143437             10.443288   \n",
       "8              69.688595              2.209881             10.420140   \n",
       "9              70.973641              2.200997             10.473539   \n",
       "\n",
       "   final.output.tail_pb  final.output.tail_sol  \n",
       "0              0.895447              16.904297  \n",
       "1              0.927452              16.634514  \n",
       "2              0.953716              16.208849  \n",
       "3              0.883763              16.532835  \n",
       "4              0.792826              16.525686  \n",
       "5              0.664118              16.999638  \n",
       "6              0.807342              16.723575  \n",
       "7              0.949346              16.689959  \n",
       "8              1.065453              17.201948  \n",
       "9              1.171183              17.717049  "
      ]
     },
     "metadata": {},
     "output_type": "display_data"
    },
    {
     "name": "stdout",
     "output_type": "stream",
     "text": [
      "<class 'pandas.core.frame.DataFrame'>\n",
      "RangeIndex: 19439 entries, 0 to 19438\n",
      "Data columns (total 87 columns):\n",
      " #   Column                                              Non-Null Count  Dtype  \n",
      "---  ------                                              --------------  -----  \n",
      " 0   date                                                19439 non-null  object \n",
      " 1   rougher.input.feed_au                               19439 non-null  float64\n",
      " 2   rougher.input.feed_ag                               19439 non-null  float64\n",
      " 3   rougher.input.feed_pb                               19339 non-null  float64\n",
      " 4   rougher.input.feed_sol                              19340 non-null  float64\n",
      " 5   rougher.input.feed_rate                             19428 non-null  float64\n",
      " 6   rougher.input.feed_size                             19294 non-null  float64\n",
      " 7   rougher.input.floatbank10_sulfate                   19405 non-null  float64\n",
      " 8   rougher.input.floatbank10_xanthate                  19431 non-null  float64\n",
      " 9   rougher.state.floatbank10_a_air                     19438 non-null  float64\n",
      " 10  rougher.state.floatbank10_a_level                   19438 non-null  float64\n",
      " 11  rougher.state.floatbank10_b_air                     19438 non-null  float64\n",
      " 12  rougher.state.floatbank10_b_level                   19438 non-null  float64\n",
      " 13  rougher.state.floatbank10_c_air                     19438 non-null  float64\n",
      " 14  rougher.state.floatbank10_c_level                   19438 non-null  float64\n",
      " 15  rougher.state.floatbank10_d_air                     19439 non-null  float64\n",
      " 16  rougher.state.floatbank10_d_level                   19439 non-null  float64\n",
      " 17  rougher.state.floatbank10_e_air                     19003 non-null  float64\n",
      " 18  rougher.state.floatbank10_e_level                   19439 non-null  float64\n",
      " 19  rougher.state.floatbank10_f_air                     19439 non-null  float64\n",
      " 20  rougher.state.floatbank10_f_level                   19439 non-null  float64\n",
      " 21  rougher.input.floatbank11_sulfate                   19395 non-null  float64\n",
      " 22  rougher.input.floatbank11_xanthate                  18986 non-null  float64\n",
      " 23  rougher.calculation.sulfate_to_au_concentrate       19437 non-null  float64\n",
      " 24  rougher.calculation.floatbank10_sulfate_to_au_feed  19437 non-null  float64\n",
      " 25  rougher.calculation.floatbank11_sulfate_to_au_feed  19437 non-null  float64\n",
      " 26  rougher.calculation.au_pb_ratio                     19439 non-null  float64\n",
      " 27  rougher.output.concentrate_au                       19439 non-null  float64\n",
      " 28  rougher.output.concentrate_ag                       19439 non-null  float64\n",
      " 29  rougher.output.concentrate_pb                       19439 non-null  float64\n",
      " 30  rougher.output.concentrate_sol                      19416 non-null  float64\n",
      " 31  rougher.output.recovery                             19439 non-null  float64\n",
      " 32  rougher.output.tail_au                              19439 non-null  float64\n",
      " 33  rougher.output.tail_ag                              19438 non-null  float64\n",
      " 34  rougher.output.tail_pb                              19439 non-null  float64\n",
      " 35  rougher.output.tail_sol                             19439 non-null  float64\n",
      " 36  primary_cleaner.input.sulfate                       19415 non-null  float64\n",
      " 37  primary_cleaner.input.depressant                    19402 non-null  float64\n",
      " 38  primary_cleaner.input.feed_size                     19439 non-null  float64\n",
      " 39  primary_cleaner.input.xanthate                      19335 non-null  float64\n",
      " 40  primary_cleaner.state.floatbank8_a_air              19435 non-null  float64\n",
      " 41  primary_cleaner.state.floatbank8_a_level            19438 non-null  float64\n",
      " 42  primary_cleaner.state.floatbank8_b_air              19435 non-null  float64\n",
      " 43  primary_cleaner.state.floatbank8_b_level            19438 non-null  float64\n",
      " 44  primary_cleaner.state.floatbank8_c_air              19437 non-null  float64\n",
      " 45  primary_cleaner.state.floatbank8_c_level            19438 non-null  float64\n",
      " 46  primary_cleaner.state.floatbank8_d_air              19436 non-null  float64\n",
      " 47  primary_cleaner.state.floatbank8_d_level            19438 non-null  float64\n",
      " 48  primary_cleaner.output.concentrate_au               19439 non-null  float64\n",
      " 49  primary_cleaner.output.concentrate_ag               19439 non-null  float64\n",
      " 50  primary_cleaner.output.concentrate_pb               19323 non-null  float64\n",
      " 51  primary_cleaner.output.concentrate_sol              19069 non-null  float64\n",
      " 52  primary_cleaner.output.tail_au                      19439 non-null  float64\n",
      " 53  primary_cleaner.output.tail_ag                      19435 non-null  float64\n",
      " 54  primary_cleaner.output.tail_pb                      19418 non-null  float64\n",
      " 55  primary_cleaner.output.tail_sol                     19377 non-null  float64\n",
      " 56  secondary_cleaner.state.floatbank2_a_air            19219 non-null  float64\n",
      " 57  secondary_cleaner.state.floatbank2_a_level          19438 non-null  float64\n",
      " 58  secondary_cleaner.state.floatbank2_b_air            19416 non-null  float64\n",
      " 59  secondary_cleaner.state.floatbank2_b_level          19438 non-null  float64\n",
      " 60  secondary_cleaner.state.floatbank3_a_air            19426 non-null  float64\n",
      " 61  secondary_cleaner.state.floatbank3_a_level          19438 non-null  float64\n",
      " 62  secondary_cleaner.state.floatbank3_b_air            19438 non-null  float64\n",
      " 63  secondary_cleaner.state.floatbank3_b_level          19438 non-null  float64\n",
      " 64  secondary_cleaner.state.floatbank4_a_air            19433 non-null  float64\n",
      " 65  secondary_cleaner.state.floatbank4_a_level          19438 non-null  float64\n",
      " 66  secondary_cleaner.state.floatbank4_b_air            19438 non-null  float64\n",
      " 67  secondary_cleaner.state.floatbank4_b_level          19438 non-null  float64\n",
      " 68  secondary_cleaner.state.floatbank5_a_air            19438 non-null  float64\n",
      " 69  secondary_cleaner.state.floatbank5_a_level          19438 non-null  float64\n",
      " 70  secondary_cleaner.state.floatbank5_b_air            19438 non-null  float64\n",
      " 71  secondary_cleaner.state.floatbank5_b_level          19438 non-null  float64\n",
      " 72  secondary_cleaner.state.floatbank6_a_air            19437 non-null  float64\n",
      " 73  secondary_cleaner.state.floatbank6_a_level          19438 non-null  float64\n",
      " 74  secondary_cleaner.output.tail_au                    19439 non-null  float64\n",
      " 75  secondary_cleaner.output.tail_ag                    19437 non-null  float64\n",
      " 76  secondary_cleaner.output.tail_pb                    19427 non-null  float64\n",
      " 77  secondary_cleaner.output.tail_sol                   17691 non-null  float64\n",
      " 78  final.output.concentrate_au                         19439 non-null  float64\n",
      " 79  final.output.concentrate_ag                         19438 non-null  float64\n",
      " 80  final.output.concentrate_pb                         19438 non-null  float64\n",
      " 81  final.output.concentrate_sol                        19228 non-null  float64\n",
      " 82  final.output.recovery                               19439 non-null  float64\n",
      " 83  final.output.tail_au                                19439 non-null  float64\n",
      " 84  final.output.tail_ag                                19438 non-null  float64\n",
      " 85  final.output.tail_pb                                19338 non-null  float64\n",
      " 86  final.output.tail_sol                               19433 non-null  float64\n",
      "dtypes: float64(86), object(1)\n",
      "memory usage: 12.9+ MB\n"
     ]
    },
    {
     "data": {
      "text/plain": [
       "None"
      ]
     },
     "metadata": {},
     "output_type": "display_data"
    }
   ],
   "source": [
    "try:\n",
    "    df_train = pd.read_csv('/datasets/gold_industry_train.csv')\n",
    "except:\n",
    "    df_train = pd.read_csv(\"C:/Users/chern/gold_industry_train.csv\")\n",
    "    \n",
    "pd.set_option('display.max_columns', None)\n",
    "display(df_train.head(10))\n",
    "display(df_train.info())\n",
    "\n",
    "try:\n",
    "    df_test = pd.read_csv('/datasets/gold_industry_test.csv')\n",
    "except:\n",
    "    df_test = pd.read_csv(\"C:/Users/chern/gold_industry_test.csv\")\n",
    "    \n",
    "display(df_test.head(10))\n",
    "display(df_test.info())\n",
    "\n",
    "try:\n",
    "    df_full = pd.read_csv('/datasets/gold_industry_full.csv')\n",
    "except:\n",
    "    df_full = pd.read_csv(\"C:/Users/chern/gold_industry_full.csv\")\n",
    "    \n",
    "display(df_full.head(10))\n",
    "display(df_full.info())"
   ]
  },
  {
   "cell_type": "markdown",
   "metadata": {},
   "source": [
    "Данные состоят из трех датафреймов: обучающая, тестовая и финальная выборки. Датафреймы содержат 86 столбцов, кроме тестовой выборки, которая содержит 52 столбца.  "
   ]
  },
  {
   "cell_type": "markdown",
   "metadata": {},
   "source": [
    "## 1.2 Рассчитаем sMAPE и MAE"
   ]
  },
  {
   "cell_type": "markdown",
   "metadata": {},
   "source": [
    "Проверим, что эффективность обогащения рассчитана правильно. Вычислим её на обучающей выборке для признака rougher.output.recovery. Для этого воспользуемся метрикой качества — sMAPE. "
   ]
  },
  {
   "cell_type": "code",
   "execution_count": 3,
   "metadata": {},
   "outputs": [
    {
     "data": {
      "text/plain": [
       "0        87.107763\n",
       "1        86.843261\n",
       "2        86.842308\n",
       "3        87.226430\n",
       "4        86.688794\n",
       "           ...    \n",
       "14574    87.684717\n",
       "14575    90.677361\n",
       "14576    89.574376\n",
       "14577    87.724007\n",
       "14578    88.890579\n",
       "Name: rougher.output.recovery, Length: 14579, dtype: float64"
      ]
     },
     "metadata": {},
     "output_type": "display_data"
    },
    {
     "data": {
      "text/plain": [
       "82.52119968211336"
      ]
     },
     "metadata": {},
     "output_type": "display_data"
    }
   ],
   "source": [
    "display(df_train['rougher.output.recovery'])\n",
    "display(df_train['rougher.output.recovery'].mean())"
   ]
  },
  {
   "cell_type": "code",
   "execution_count": 4,
   "metadata": {},
   "outputs": [
    {
     "data": {
      "text/plain": [
       "0        87.107763\n",
       "1        86.843261\n",
       "2        86.842308\n",
       "3        87.226430\n",
       "4        86.688794\n",
       "           ...    \n",
       "14574    87.684717\n",
       "14575    90.677361\n",
       "14576    89.574376\n",
       "14577    87.724007\n",
       "14578    88.890579\n",
       "Length: 14579, dtype: float64"
      ]
     },
     "metadata": {},
     "output_type": "display_data"
    },
    {
     "data": {
      "text/plain": [
       "82.52119968211336"
      ]
     },
     "metadata": {},
     "output_type": "display_data"
    }
   ],
   "source": [
    "recovery = ((df_train['rougher.output.concentrate_au'] \n",
    "                     * (df_train['rougher.input.feed_au'] - df_train['rougher.output.tail_au'])) \n",
    "                    / (df_train['rougher.input.feed_au'] \n",
    "                       * (df_train['rougher.output.concentrate_au'] - df_train['rougher.output.tail_au'])) * 100)\n",
    "\n",
    "display(recovery)\n",
    "display(recovery.mean())"
   ]
  },
  {
   "cell_type": "markdown",
   "metadata": {},
   "source": [
    "Найдем MAE между проверочным значением и значением признака. "
   ]
  },
  {
   "cell_type": "code",
   "execution_count": 5,
   "metadata": {},
   "outputs": [
    {
     "data": {
      "text/plain": [
       "9.83758577644259e-15"
      ]
     },
     "execution_count": 5,
     "metadata": {},
     "output_type": "execute_result"
    }
   ],
   "source": [
    "MAE = mean_absolute_error(recovery, df_train['rougher.output.recovery'])\n",
    "MAE"
   ]
  },
  {
   "cell_type": "markdown",
   "metadata": {},
   "source": [
    "Среднее значение sMAPE обучающей выборки и проверочное полностью совпадают. Метрика качства MAE однако показывает небольшое отклонение, тем не менее можно сделать вывод, что расчеты в обучающейй выборке достаточно точны."
   ]
  },
  {
   "cell_type": "markdown",
   "metadata": {},
   "source": [
    "## 1.3 Проанализируем признаки, недоступные в тестовой выборке. "
   ]
  },
  {
   "cell_type": "code",
   "execution_count": 6,
   "metadata": {},
   "outputs": [
    {
     "data": {
      "text/plain": [
       "['rougher.calculation.sulfate_to_au_concentrate',\n",
       " 'rougher.calculation.floatbank10_sulfate_to_au_feed',\n",
       " 'rougher.calculation.floatbank11_sulfate_to_au_feed',\n",
       " 'rougher.calculation.au_pb_ratio',\n",
       " 'rougher.output.concentrate_au',\n",
       " 'rougher.output.concentrate_ag',\n",
       " 'rougher.output.concentrate_pb',\n",
       " 'rougher.output.concentrate_sol',\n",
       " 'rougher.output.recovery',\n",
       " 'rougher.output.tail_au',\n",
       " 'rougher.output.tail_ag',\n",
       " 'rougher.output.tail_pb',\n",
       " 'rougher.output.tail_sol',\n",
       " 'primary_cleaner.output.concentrate_au',\n",
       " 'primary_cleaner.output.concentrate_ag',\n",
       " 'primary_cleaner.output.concentrate_pb',\n",
       " 'primary_cleaner.output.concentrate_sol',\n",
       " 'primary_cleaner.output.tail_au',\n",
       " 'primary_cleaner.output.tail_ag',\n",
       " 'primary_cleaner.output.tail_pb',\n",
       " 'primary_cleaner.output.tail_sol',\n",
       " 'secondary_cleaner.output.tail_au',\n",
       " 'secondary_cleaner.output.tail_ag',\n",
       " 'secondary_cleaner.output.tail_pb',\n",
       " 'secondary_cleaner.output.tail_sol',\n",
       " 'final.output.concentrate_au',\n",
       " 'final.output.concentrate_ag',\n",
       " 'final.output.concentrate_pb',\n",
       " 'final.output.concentrate_sol',\n",
       " 'final.output.recovery',\n",
       " 'final.output.tail_au',\n",
       " 'final.output.tail_ag',\n",
       " 'final.output.tail_pb',\n",
       " 'final.output.tail_sol']"
      ]
     },
     "execution_count": 6,
     "metadata": {},
     "output_type": "execute_result"
    }
   ],
   "source": [
    "omission = list()\n",
    "for i in list(df_train.columns):\n",
    "    if i not in list(df_test.columns):\n",
    "        omission.append(i)\n",
    "\n",
    "omission"
   ]
  },
  {
   "cell_type": "markdown",
   "metadata": {},
   "source": [
    "В тестовой выборке отсутствуют 34 столбца и следующая информация:\n",
    "- Черновые расчетные характеристики\n",
    "- Концентрация металлов на каждом этапе технологического процесса\n",
    "- Доля металлов в отвальных хвостах на каждом этапе технологического процесса\n",
    "- Соответственно без характеристик выше невозможно расчитать sMAPE "
   ]
  },
  {
   "cell_type": "markdown",
   "metadata": {},
   "source": [
    "Добавим в тестовую выборку таргеты из full"
   ]
  },
  {
   "cell_type": "code",
   "execution_count": 8,
   "metadata": {},
   "outputs": [
    {
     "name": "stdout",
     "output_type": "stream",
     "text": [
      "<class 'pandas.core.frame.DataFrame'>\n",
      "Int64Index: 4860 entries, 0 to 4859\n",
      "Data columns (total 55 columns):\n",
      " #   Column                                      Non-Null Count  Dtype  \n",
      "---  ------                                      --------------  -----  \n",
      " 0   date                                        4860 non-null   object \n",
      " 1   rougher.input.feed_au                       4860 non-null   float64\n",
      " 2   rougher.input.feed_ag                       4860 non-null   float64\n",
      " 3   rougher.input.feed_pb                       4832 non-null   float64\n",
      " 4   rougher.input.feed_sol                      4838 non-null   float64\n",
      " 5   rougher.input.feed_rate                     4856 non-null   float64\n",
      " 6   rougher.input.feed_size                     4816 non-null   float64\n",
      " 7   rougher.input.floatbank10_sulfate           4857 non-null   float64\n",
      " 8   rougher.input.floatbank10_xanthate          4859 non-null   float64\n",
      " 9   rougher.state.floatbank10_a_air             4859 non-null   float64\n",
      " 10  rougher.state.floatbank10_a_level           4859 non-null   float64\n",
      " 11  rougher.state.floatbank10_b_air             4859 non-null   float64\n",
      " 12  rougher.state.floatbank10_b_level           4859 non-null   float64\n",
      " 13  rougher.state.floatbank10_c_air             4859 non-null   float64\n",
      " 14  rougher.state.floatbank10_c_level           4859 non-null   float64\n",
      " 15  rougher.state.floatbank10_d_air             4860 non-null   float64\n",
      " 16  rougher.state.floatbank10_d_level           4860 non-null   float64\n",
      " 17  rougher.state.floatbank10_e_air             4853 non-null   float64\n",
      " 18  rougher.state.floatbank10_e_level           4860 non-null   float64\n",
      " 19  rougher.state.floatbank10_f_air             4860 non-null   float64\n",
      " 20  rougher.state.floatbank10_f_level           4860 non-null   float64\n",
      " 21  rougher.input.floatbank11_sulfate           4852 non-null   float64\n",
      " 22  rougher.input.floatbank11_xanthate          4814 non-null   float64\n",
      " 23  primary_cleaner.input.sulfate               4859 non-null   float64\n",
      " 24  primary_cleaner.input.depressant            4851 non-null   float64\n",
      " 25  primary_cleaner.input.feed_size             4860 non-null   float64\n",
      " 26  primary_cleaner.input.xanthate              4817 non-null   float64\n",
      " 27  primary_cleaner.state.floatbank8_a_air      4859 non-null   float64\n",
      " 28  primary_cleaner.state.floatbank8_a_level    4859 non-null   float64\n",
      " 29  primary_cleaner.state.floatbank8_b_air      4859 non-null   float64\n",
      " 30  primary_cleaner.state.floatbank8_b_level    4859 non-null   float64\n",
      " 31  primary_cleaner.state.floatbank8_c_air      4858 non-null   float64\n",
      " 32  primary_cleaner.state.floatbank8_c_level    4859 non-null   float64\n",
      " 33  primary_cleaner.state.floatbank8_d_air      4858 non-null   float64\n",
      " 34  primary_cleaner.state.floatbank8_d_level    4859 non-null   float64\n",
      " 35  secondary_cleaner.state.floatbank2_a_air    4734 non-null   float64\n",
      " 36  secondary_cleaner.state.floatbank2_a_level  4859 non-null   float64\n",
      " 37  secondary_cleaner.state.floatbank2_b_air    4859 non-null   float64\n",
      " 38  secondary_cleaner.state.floatbank2_b_level  4859 non-null   float64\n",
      " 39  secondary_cleaner.state.floatbank3_a_air    4859 non-null   float64\n",
      " 40  secondary_cleaner.state.floatbank3_a_level  4859 non-null   float64\n",
      " 41  secondary_cleaner.state.floatbank3_b_air    4859 non-null   float64\n",
      " 42  secondary_cleaner.state.floatbank3_b_level  4859 non-null   float64\n",
      " 43  secondary_cleaner.state.floatbank4_a_air    4859 non-null   float64\n",
      " 44  secondary_cleaner.state.floatbank4_a_level  4859 non-null   float64\n",
      " 45  secondary_cleaner.state.floatbank4_b_air    4859 non-null   float64\n",
      " 46  secondary_cleaner.state.floatbank4_b_level  4859 non-null   float64\n",
      " 47  secondary_cleaner.state.floatbank5_a_air    4859 non-null   float64\n",
      " 48  secondary_cleaner.state.floatbank5_a_level  4859 non-null   float64\n",
      " 49  secondary_cleaner.state.floatbank5_b_air    4859 non-null   float64\n",
      " 50  secondary_cleaner.state.floatbank5_b_level  4859 non-null   float64\n",
      " 51  secondary_cleaner.state.floatbank6_a_air    4859 non-null   float64\n",
      " 52  secondary_cleaner.state.floatbank6_a_level  4859 non-null   float64\n",
      " 53  rougher.output.recovery                     4860 non-null   float64\n",
      " 54  final.output.recovery                       4860 non-null   float64\n",
      "dtypes: float64(54), object(1)\n",
      "memory usage: 2.1+ MB\n"
     ]
    }
   ],
   "source": [
    "df_test = df_test.merge(df_full[['date', 'rougher.output.recovery', 'final.output.recovery']], on=['date'], how='left')\n",
    "df_test.info()"
   ]
  },
  {
   "cell_type": "markdown",
   "metadata": {},
   "source": [
    "## 1.4 Проедобработка данных"
   ]
  },
  {
   "cell_type": "code",
   "execution_count": 9,
   "metadata": {},
   "outputs": [
    {
     "data": {
      "text/plain": [
       "date                       0\n",
       "rougher.input.feed_au      0\n",
       "rougher.input.feed_ag      0\n",
       "rougher.input.feed_pb     72\n",
       "rougher.input.feed_sol    77\n",
       "                          ..\n",
       "final.output.recovery      0\n",
       "final.output.tail_au       0\n",
       "final.output.tail_ag       1\n",
       "final.output.tail_pb      75\n",
       "final.output.tail_sol      5\n",
       "Length: 87, dtype: int64"
      ]
     },
     "metadata": {},
     "output_type": "display_data"
    },
    {
     "data": {
      "text/plain": [
       "date                                            0\n",
       "rougher.input.feed_au                           0\n",
       "rougher.input.feed_ag                           0\n",
       "rougher.input.feed_pb                          28\n",
       "rougher.input.feed_sol                         22\n",
       "rougher.input.feed_rate                         4\n",
       "rougher.input.feed_size                        44\n",
       "rougher.input.floatbank10_sulfate               3\n",
       "rougher.input.floatbank10_xanthate              1\n",
       "rougher.state.floatbank10_a_air                 1\n",
       "rougher.state.floatbank10_a_level               1\n",
       "rougher.state.floatbank10_b_air                 1\n",
       "rougher.state.floatbank10_b_level               1\n",
       "rougher.state.floatbank10_c_air                 1\n",
       "rougher.state.floatbank10_c_level               1\n",
       "rougher.state.floatbank10_d_air                 0\n",
       "rougher.state.floatbank10_d_level               0\n",
       "rougher.state.floatbank10_e_air                 7\n",
       "rougher.state.floatbank10_e_level               0\n",
       "rougher.state.floatbank10_f_air                 0\n",
       "rougher.state.floatbank10_f_level               0\n",
       "rougher.input.floatbank11_sulfate               8\n",
       "rougher.input.floatbank11_xanthate             46\n",
       "primary_cleaner.input.sulfate                   1\n",
       "primary_cleaner.input.depressant                9\n",
       "primary_cleaner.input.feed_size                 0\n",
       "primary_cleaner.input.xanthate                 43\n",
       "primary_cleaner.state.floatbank8_a_air          1\n",
       "primary_cleaner.state.floatbank8_a_level        1\n",
       "primary_cleaner.state.floatbank8_b_air          1\n",
       "primary_cleaner.state.floatbank8_b_level        1\n",
       "primary_cleaner.state.floatbank8_c_air          2\n",
       "primary_cleaner.state.floatbank8_c_level        1\n",
       "primary_cleaner.state.floatbank8_d_air          2\n",
       "primary_cleaner.state.floatbank8_d_level        1\n",
       "secondary_cleaner.state.floatbank2_a_air      126\n",
       "secondary_cleaner.state.floatbank2_a_level      1\n",
       "secondary_cleaner.state.floatbank2_b_air        1\n",
       "secondary_cleaner.state.floatbank2_b_level      1\n",
       "secondary_cleaner.state.floatbank3_a_air        1\n",
       "secondary_cleaner.state.floatbank3_a_level      1\n",
       "secondary_cleaner.state.floatbank3_b_air        1\n",
       "secondary_cleaner.state.floatbank3_b_level      1\n",
       "secondary_cleaner.state.floatbank4_a_air        1\n",
       "secondary_cleaner.state.floatbank4_a_level      1\n",
       "secondary_cleaner.state.floatbank4_b_air        1\n",
       "secondary_cleaner.state.floatbank4_b_level      1\n",
       "secondary_cleaner.state.floatbank5_a_air        1\n",
       "secondary_cleaner.state.floatbank5_a_level      1\n",
       "secondary_cleaner.state.floatbank5_b_air        1\n",
       "secondary_cleaner.state.floatbank5_b_level      1\n",
       "secondary_cleaner.state.floatbank6_a_air        1\n",
       "secondary_cleaner.state.floatbank6_a_level      1\n",
       "rougher.output.recovery                         0\n",
       "final.output.recovery                           0\n",
       "dtype: int64"
      ]
     },
     "metadata": {},
     "output_type": "display_data"
    },
    {
     "data": {
      "text/plain": [
       "date                        0\n",
       "rougher.input.feed_au       0\n",
       "rougher.input.feed_ag       0\n",
       "rougher.input.feed_pb     100\n",
       "rougher.input.feed_sol     99\n",
       "                         ... \n",
       "final.output.recovery       0\n",
       "final.output.tail_au        0\n",
       "final.output.tail_ag        1\n",
       "final.output.tail_pb      101\n",
       "final.output.tail_sol       6\n",
       "Length: 87, dtype: int64"
      ]
     },
     "metadata": {},
     "output_type": "display_data"
    }
   ],
   "source": [
    "display(df_train.isna().sum())\n",
    "display(df_test.isna().sum())\n",
    "display(df_full.isna().sum())"
   ]
  },
  {
   "cell_type": "code",
   "execution_count": 10,
   "metadata": {},
   "outputs": [
    {
     "data": {
      "text/plain": [
       "2.5925925925925926"
      ]
     },
     "execution_count": 10,
     "metadata": {},
     "output_type": "execute_result"
    }
   ],
   "source": [
    "df_test['secondary_cleaner.state.floatbank2_a_air'].isna().sum() / len(df_test['secondary_cleaner.state.floatbank2_a_air'])*100"
   ]
  },
  {
   "cell_type": "code",
   "execution_count": 11,
   "metadata": {},
   "outputs": [
    {
     "data": {
      "text/plain": [
       "0.5144297546170071"
      ]
     },
     "execution_count": 11,
     "metadata": {},
     "output_type": "execute_result"
    }
   ],
   "source": [
    "df_full['rougher.input.feed_pb'].isna().sum() / len(df_full['rougher.input.feed_pb'])*100"
   ]
  },
  {
   "cell_type": "markdown",
   "metadata": {},
   "source": [
    "Восстановим пропущенные значения с использованием метода k – ближайщих соседей."
   ]
  },
  {
   "cell_type": "code",
   "execution_count": 12,
   "metadata": {},
   "outputs": [],
   "source": [
    "df_train = df_train.drop('date', axis=1)\n",
    "imputer = KNNImputer(n_neighbors=5)\n",
    "imputer.fit(df_train)\n",
    "X1 = imputer.transform(df_train)\n",
    "df_train = pd.DataFrame(X1,columns = df_train.columns)"
   ]
  },
  {
   "cell_type": "code",
   "execution_count": 13,
   "metadata": {},
   "outputs": [],
   "source": [
    "df_full = df_full.drop('date', axis=1)\n",
    "imputer = KNNImputer(n_neighbors=5)\n",
    "imputer.fit(df_full)\n",
    "X1 = imputer.transform(df_full)\n",
    "df_full = pd.DataFrame(X1,columns = df_full.columns)"
   ]
  },
  {
   "cell_type": "code",
   "execution_count": 14,
   "metadata": {},
   "outputs": [
    {
     "data": {
      "text/plain": [
       "rougher.input.feed_au      0\n",
       "rougher.input.feed_ag      0\n",
       "rougher.input.feed_pb      0\n",
       "rougher.input.feed_sol     0\n",
       "rougher.input.feed_rate    0\n",
       "                          ..\n",
       "final.output.recovery      0\n",
       "final.output.tail_au       0\n",
       "final.output.tail_ag       0\n",
       "final.output.tail_pb       0\n",
       "final.output.tail_sol      0\n",
       "Length: 86, dtype: int64"
      ]
     },
     "metadata": {},
     "output_type": "display_data"
    },
    {
     "data": {
      "text/plain": [
       "rougher.input.feed_au      0\n",
       "rougher.input.feed_ag      0\n",
       "rougher.input.feed_pb      0\n",
       "rougher.input.feed_sol     0\n",
       "rougher.input.feed_rate    0\n",
       "                          ..\n",
       "final.output.recovery      0\n",
       "final.output.tail_au       0\n",
       "final.output.tail_ag       0\n",
       "final.output.tail_pb       0\n",
       "final.output.tail_sol      0\n",
       "Length: 86, dtype: int64"
      ]
     },
     "metadata": {},
     "output_type": "display_data"
    }
   ],
   "source": [
    "display(df_train.isna().sum())\n",
    "display(df_full.isna().sum())"
   ]
  },
  {
   "cell_type": "code",
   "execution_count": 15,
   "metadata": {},
   "outputs": [
    {
     "data": {
      "text/plain": [
       "0"
      ]
     },
     "metadata": {},
     "output_type": "display_data"
    },
    {
     "data": {
      "text/plain": [
       "0"
      ]
     },
     "metadata": {},
     "output_type": "display_data"
    },
    {
     "data": {
      "text/plain": [
       "0"
      ]
     },
     "metadata": {},
     "output_type": "display_data"
    }
   ],
   "source": [
    "display(df_train.duplicated().sum())\n",
    "display(df_test.duplicated().sum())\n",
    "display(df_full.duplicated().sum())"
   ]
  },
  {
   "cell_type": "markdown",
   "metadata": {},
   "source": [
    "Данные содержат пропуски в большом количестве столбцов. На примере нескольких столбцов с самым большим количеством пропусков рассчитали долю пропусков - она не превышает 2.6%. Это незначительное значение, поэтому восстановим пропущенные значения с использованием метода k – ближайщих соседей.\n",
    "В данных отсутствуют явные и неявные дубликаты, а также неверные типы значений."
   ]
  },
  {
   "cell_type": "markdown",
   "metadata": {},
   "source": [
    "**Вывод:**\n",
    "- Данные состоят из трех датафреймов: обучающая, тестовая и финальная выборки. Датафреймы содержат 86 столбцов, кроме тестовой выборки, которая содержит 52 столбца.  \n",
    "- Проверили правильно ли расчитана эффективность обогощения в обучающей выборке. Среднее значение sMAPE обучающей выборки и проверочное полностью совпадают. Метрика качства MAE однако показывает небольшое отклонение, тем не менее можно сделать вывод, что расчеты в обучающейй выборке достаточно точны.\n",
    "- Проанализировали признаки, недоступные в тестовой выборке. В тестовой выборке отсутствуют 34 столбца и следующая информация:\n",
    "  - Черновые расчетные характеристики\n",
    "  - Концентрация металлов на каждом этапе технологического процесса\n",
    "  - Доля металлов в отвальных хвостах на каждом этапе технологического процесса\n",
    "  - Соответственно без характеристик выше невозможно расчитать sMAPE\n",
    "- Провели предобработку данных. Данные содержат пропуски в большом количестве столбцов. На примере нескольких столбцов с самым большим количеством пропусков рассчитали долю пропусков - она не превышает 2.6%. Это незначительное значение, поэтому восстановим пропущенные значения с использованием метода k – ближайщих соседей. В данных отсутствуют явные и неявные дубликаты, а также неверные типы значений."
   ]
  },
  {
   "cell_type": "markdown",
   "metadata": {},
   "source": [
    "## 2. Анализ данных"
   ]
  },
  {
   "cell_type": "markdown",
   "metadata": {},
   "source": [
    "## 2.1  Динамика концентрации металлов (Au, Ag, Pb) на различных этапах\n",
    "Посмотрим, как меняется концентрация металлов (Au, Ag, Pb) на различных этапах: в сырье, в черновом концентрате, в концентрате после первой очистки и в финальном концентрате. "
   ]
  },
  {
   "cell_type": "markdown",
   "metadata": {},
   "source": [
    "1) Исходное сырье:\n",
    "- rougher.input.feed_au                              \n",
    "- rougher.input.feed_ag                              \n",
    "- rougher.input.feed_pb    \n",
    "\n",
    "2) Черновой концентрат:\n",
    "- rougher.output.concentrate_au\n",
    "- rougher.output.concentrate_ag\n",
    "- rougher.output.concentrate_pb\n",
    "\n",
    "3) Концентрат после первой очистки:\n",
    "- primary_cleaner.output.concentrate_au\n",
    "- primary_cleaner.output.concentrate_ag\n",
    "- primary_cleaner.output.concentrate_pb\n",
    "\n",
    "4) Финальный концентрат:\n",
    "- final.output.concentrate_au \n",
    "- final.output.concentrate_ag \n",
    "- final.output.concentrate_pb "
   ]
  },
  {
   "cell_type": "markdown",
   "metadata": {},
   "source": [
    "## 2.1.1  Динамика концентрации золота (Au) на различных этапах"
   ]
  },
  {
   "cell_type": "code",
   "execution_count": 16,
   "metadata": {},
   "outputs": [
    {
     "data": {
      "image/png": "[encoded data removed]",
      "text/plain": [
       "<Figure size 1152x576 with 1 Axes>"
      ]
     },
     "metadata": {
      "needs_background": "light"
     },
     "output_type": "display_data"
    }
   ],
   "source": [
    "df_full['rougher.input.feed_au'].plot(kind='density', figsize=(16,8), grid=True, label = 'Исходное сырье');\n",
    "df_full['rougher.output.concentrate_au'].plot(kind='density', grid=True, label = 'Черновой концентрат');\n",
    "df_full['primary_cleaner.output.concentrate_au'].plot(kind='density', grid=True, label = 'Концентрат после первой очистки');\n",
    "df_full['final.output.concentrate_au'].plot(kind='density', grid=True, label = 'Финальный концентрат');\n",
    "plt.legend();"
   ]
  },
  {
   "cell_type": "markdown",
   "metadata": {},
   "source": [
    "Концентрат золота по этапам очистки уменьшается."
   ]
  },
  {
   "cell_type": "markdown",
   "metadata": {},
   "source": [
    "## 2.1.2  Динамика концентрации серебра (Ag) на различных этапах"
   ]
  },
  {
   "cell_type": "code",
   "execution_count": 17,
   "metadata": {},
   "outputs": [
    {
     "data": {
      "image/png": "[encoded data removed]",
      "text/plain": [
       "<Figure size 1152x576 with 1 Axes>"
      ]
     },
     "metadata": {
      "needs_background": "light"
     },
     "output_type": "display_data"
    }
   ],
   "source": [
    "df_full['rougher.input.feed_ag'].plot(kind='density', figsize=(16,8), grid=True, label = 'Исходное сырье');\n",
    "df_full['rougher.output.concentrate_ag'].plot(kind='density', grid=True, label = 'Черновой концентрат');\n",
    "df_full['primary_cleaner.output.concentrate_ag'].plot(kind='density', grid=True, label = 'Концентрат после первой очистки');\n",
    "df_full['final.output.concentrate_ag'].plot(kind='density', grid=True, label = 'Финальный концентрат');\n",
    "plt.legend();"
   ]
  },
  {
   "cell_type": "markdown",
   "metadata": {},
   "source": [
    "Концентрат серебра по этам очистки увеличивается"
   ]
  },
  {
   "cell_type": "markdown",
   "metadata": {},
   "source": [
    "## 2.1.3  Динамика концентрации свинца (Pb) на различных этапах"
   ]
  },
  {
   "cell_type": "code",
   "execution_count": 18,
   "metadata": {},
   "outputs": [
    {
     "data": {
      "image/png": "[encoded data removed]",
      "text/plain": [
       "<Figure size 1152x576 with 1 Axes>"
      ]
     },
     "metadata": {
      "needs_background": "light"
     },
     "output_type": "display_data"
    }
   ],
   "source": [
    "df_full['rougher.input.feed_pb'].plot(kind='density', figsize=(16,8), grid=True, label = 'Исходное сырье');\n",
    "df_full['rougher.output.concentrate_pb'].plot(kind='density', grid=True, label = 'Черновой концентрат');\n",
    "df_full['primary_cleaner.output.concentrate_pb'].plot(kind='density', grid=True, label = 'Концентрат после первой очистки');\n",
    "df_full['final.output.concentrate_pb'].plot(kind='density', grid=True, label = 'Финальный концентрат');\n",
    "plt.legend();"
   ]
  },
  {
   "cell_type": "markdown",
   "metadata": {},
   "source": [
    "Концентрат свинца по этапам очистки уменьшается."
   ]
  },
  {
   "cell_type": "markdown",
   "metadata": {},
   "source": [
    "Из графиков также видим, что в данных присутствуют аномальные значения: концентрации металлов 0 и меньше. Отфильтруем  аномалии на обучающей выборке."
   ]
  },
  {
   "cell_type": "code",
   "execution_count": 19,
   "metadata": {},
   "outputs": [],
   "source": [
    "columns_to_filter = ['rougher.input.feed_au', 'rougher.input.feed_ag', 'rougher.input.feed_pb',\n",
    "                     'rougher.output.concentrate_au', 'rougher.output.concentrate_ag', 'rougher.output.concentrate_pb',\n",
    "                     'primary_cleaner.output.concentrate_au', 'primary_cleaner.output.concentrate_ag', 'primary_cleaner.output.concentrate_pb',\n",
    "                     'final.output.concentrate_au', 'final.output.concentrate_ag', 'final.output.concentrate_pb']\n",
    "\n",
    "for column in columns_to_filter:\n",
    "    df_train = df_train.loc[df_train[column] > 0]"
   ]
  },
  {
   "cell_type": "markdown",
   "metadata": {},
   "source": [
    "## 2.2 Сравнение размеров гранул исходного сырья\n",
    "Сравним распределения размеров гранул исходного сырья на обучающей и тестовой выборках. Если распределения сильно отличаются друг от друга, оценка модели будет неправильной."
   ]
  },
  {
   "cell_type": "code",
   "execution_count": 20,
   "metadata": {},
   "outputs": [
    {
     "data": {
      "image/png": "[encoded data removed]",
      "text/plain": [
       "<Figure size 1152x576 with 1 Axes>"
      ]
     },
     "metadata": {
      "needs_background": "light"
     },
     "output_type": "display_data"
    }
   ],
   "source": [
    "df_train['rougher.input.feed_size'].plot(kind='density', figsize=(16,8), grid=True, label = 'Размер гранул на обучающей выборке');\n",
    "df_test['rougher.input.feed_size'].plot(kind='density', figsize=(16,8), grid=True, label = 'Размер гранул на тестовой выборке');\n",
    "plt.legend();"
   ]
  },
  {
   "cell_type": "markdown",
   "metadata": {},
   "source": [
    "Распределения на двух выборках различаются незначительно, соответственно, данные подоходят для создания прототипа модели."
   ]
  },
  {
   "cell_type": "markdown",
   "metadata": {},
   "source": [
    "## 2.3 Суммарная концентрации металлов (Au, Ag, Pb) на различных этапах"
   ]
  },
  {
   "cell_type": "code",
   "execution_count": 21,
   "metadata": {},
   "outputs": [],
   "source": [
    "def sum_concentration(data,conc_ag,conc_au,conc_pb):\n",
    "    au = data[conc_ag]\n",
    "    ag = data[conc_au]\n",
    "    pb = data[conc_pb]\n",
    "    sum_conc = au+ag+pb\n",
    "    \n",
    "    plt.figure(figsize=(16,8))\n",
    "    sum_conc.plot.hist(bins=50)\n",
    "    plt.title('Cуммарная концентрация металлов')\n",
    "    plt.grid(True)\n",
    "    plt.show();"
   ]
  },
  {
   "cell_type": "code",
   "execution_count": 22,
   "metadata": {},
   "outputs": [
    {
     "data": {
      "image/png": "[encoded data removed]",
      "text/plain": [
       "<Figure size 1152x576 with 1 Axes>"
      ]
     },
     "metadata": {
      "needs_background": "light"
     },
     "output_type": "display_data"
    }
   ],
   "source": [
    "sum_concentration(df_full,'rougher.input.feed_ag','rougher.input.feed_au','rougher.input.feed_pb')"
   ]
  },
  {
   "cell_type": "code",
   "execution_count": 23,
   "metadata": {},
   "outputs": [
    {
     "data": {
      "image/png": "[encoded data removed]",
      "text/plain": [
       "<Figure size 1152x576 with 1 Axes>"
      ]
     },
     "metadata": {
      "needs_background": "light"
     },
     "output_type": "display_data"
    }
   ],
   "source": [
    "sum_concentration(df_full,'rougher.output.concentrate_au','rougher.output.concentrate_ag','rougher.output.concentrate_pb')"
   ]
  },
  {
   "cell_type": "code",
   "execution_count": 24,
   "metadata": {},
   "outputs": [
    {
     "data": {
      "image/png": "[encoded data removed]",
      "text/plain": [
       "<Figure size 1152x576 with 1 Axes>"
      ]
     },
     "metadata": {
      "needs_background": "light"
     },
     "output_type": "display_data"
    }
   ],
   "source": [
    "sum_concentration(df_full,'primary_cleaner.output.concentrate_au','primary_cleaner.output.concentrate_ag','primary_cleaner.output.concentrate_pb')"
   ]
  },
  {
   "cell_type": "code",
   "execution_count": 25,
   "metadata": {},
   "outputs": [
    {
     "data": {
      "image/png": "[encoded data removed]",
      "text/plain": [
       "<Figure size 1152x576 with 1 Axes>"
      ]
     },
     "metadata": {
      "needs_background": "light"
     },
     "output_type": "display_data"
    }
   ],
   "source": [
    "sum_concentration(df_full,'final.output.concentrate_au','final.output.concentrate_ag','final.output.concentrate_pb')"
   ]
  },
  {
   "cell_type": "markdown",
   "metadata": {},
   "source": [
    "Суммарная концентрация металлов на каждом этапе увеличивается, а также уменьшается разброс данных."
   ]
  },
  {
   "cell_type": "markdown",
   "metadata": {},
   "source": [
    "**Вывод:**\n",
    "- Рассмотрели, как меняется концентрация металлов (Au, Ag, Pb) на различных этапах: в сырье, в черновом концентрате, в концентрате после первой очистки и в финальном концентрате:\n",
    "  - Концентрат золота по этапам очистки уменьшается.\n",
    "  - Концентрат серебра по этам очистки увеличивается.\n",
    "  - Концентрат свинца по этапам очистки уменьшается.\n",
    "- Сравнили распределения размеров гранул исходного сырья на обучающей и тестовой выборках. Распределения на двух выборках полностью совпадают, соответственно, данные подоходят для создания прототипа модели.\n",
    "- Суммарная концентрация металлов на каждом этапе увеличивается, а также уменьшается разброс данных."
   ]
  },
  {
   "cell_type": "markdown",
   "metadata": {},
   "source": [
    "## 3. Модель"
   ]
  },
  {
   "cell_type": "markdown",
   "metadata": {},
   "source": [
    "## 3.1 Вычислим итоговую sMAPE"
   ]
  },
  {
   "cell_type": "code",
   "execution_count": 26,
   "metadata": {},
   "outputs": [],
   "source": [
    "def smape_cul(target, predict):\n",
    "    smape = abs(target - predict) / ((abs(target) + abs(predict)) / 2) * 100\n",
    "    smape = np.mean(smape)\n",
    "    return smape"
   ]
  },
  {
   "cell_type": "code",
   "execution_count": 27,
   "metadata": {},
   "outputs": [],
   "source": [
    "def smape_fin_cul(target_rough, predict_rough, target_fin, predict_fin):\n",
    "    smape_rough = smape_cul(target_rough, predict_rough)\n",
    "    smape_fin = smape_cul(target_fin, predict_fin)\n",
    "    smape_final = 0.25 * smape_rough + 0.75 * smape_fin\n",
    "    return smape_final"
   ]
  },
  {
   "cell_type": "markdown",
   "metadata": {},
   "source": [
    "## 3.2 Обучим и проверим разные модели"
   ]
  },
  {
   "cell_type": "markdown",
   "metadata": {},
   "source": [
    "Выделим целевые, черновые и финальные признаки в выборках"
   ]
  },
  {
   "cell_type": "code",
   "execution_count": 28,
   "metadata": {},
   "outputs": [
    {
     "name": "stdout",
     "output_type": "stream",
     "text": [
      "<class 'pandas.core.frame.DataFrame'>\n",
      "Int64Index: 13988 entries, 0 to 14578\n",
      "Data columns (total 54 columns):\n",
      " #   Column                                      Non-Null Count  Dtype  \n",
      "---  ------                                      --------------  -----  \n",
      " 0   rougher.input.feed_au                       13988 non-null  float64\n",
      " 1   rougher.input.feed_ag                       13988 non-null  float64\n",
      " 2   rougher.input.feed_pb                       13988 non-null  float64\n",
      " 3   rougher.input.feed_sol                      13988 non-null  float64\n",
      " 4   rougher.input.feed_rate                     13988 non-null  float64\n",
      " 5   rougher.input.feed_size                     13988 non-null  float64\n",
      " 6   rougher.input.floatbank10_sulfate           13988 non-null  float64\n",
      " 7   rougher.input.floatbank10_xanthate          13988 non-null  float64\n",
      " 8   rougher.state.floatbank10_a_air             13988 non-null  float64\n",
      " 9   rougher.state.floatbank10_a_level           13988 non-null  float64\n",
      " 10  rougher.state.floatbank10_b_air             13988 non-null  float64\n",
      " 11  rougher.state.floatbank10_b_level           13988 non-null  float64\n",
      " 12  rougher.state.floatbank10_c_air             13988 non-null  float64\n",
      " 13  rougher.state.floatbank10_c_level           13988 non-null  float64\n",
      " 14  rougher.state.floatbank10_d_air             13988 non-null  float64\n",
      " 15  rougher.state.floatbank10_d_level           13988 non-null  float64\n",
      " 16  rougher.state.floatbank10_e_air             13988 non-null  float64\n",
      " 17  rougher.state.floatbank10_e_level           13988 non-null  float64\n",
      " 18  rougher.state.floatbank10_f_air             13988 non-null  float64\n",
      " 19  rougher.state.floatbank10_f_level           13988 non-null  float64\n",
      " 20  rougher.input.floatbank11_sulfate           13988 non-null  float64\n",
      " 21  rougher.input.floatbank11_xanthate          13988 non-null  float64\n",
      " 22  primary_cleaner.input.sulfate               13988 non-null  float64\n",
      " 23  primary_cleaner.input.depressant            13988 non-null  float64\n",
      " 24  primary_cleaner.input.feed_size             13988 non-null  float64\n",
      " 25  primary_cleaner.input.xanthate              13988 non-null  float64\n",
      " 26  primary_cleaner.state.floatbank8_a_air      13988 non-null  float64\n",
      " 27  primary_cleaner.state.floatbank8_a_level    13988 non-null  float64\n",
      " 28  primary_cleaner.state.floatbank8_b_air      13988 non-null  float64\n",
      " 29  primary_cleaner.state.floatbank8_b_level    13988 non-null  float64\n",
      " 30  primary_cleaner.state.floatbank8_c_air      13988 non-null  float64\n",
      " 31  primary_cleaner.state.floatbank8_c_level    13988 non-null  float64\n",
      " 32  primary_cleaner.state.floatbank8_d_air      13988 non-null  float64\n",
      " 33  primary_cleaner.state.floatbank8_d_level    13988 non-null  float64\n",
      " 34  secondary_cleaner.state.floatbank2_a_air    13988 non-null  float64\n",
      " 35  secondary_cleaner.state.floatbank2_a_level  13988 non-null  float64\n",
      " 36  secondary_cleaner.state.floatbank2_b_air    13988 non-null  float64\n",
      " 37  secondary_cleaner.state.floatbank2_b_level  13988 non-null  float64\n",
      " 38  secondary_cleaner.state.floatbank3_a_air    13988 non-null  float64\n",
      " 39  secondary_cleaner.state.floatbank3_a_level  13988 non-null  float64\n",
      " 40  secondary_cleaner.state.floatbank3_b_air    13988 non-null  float64\n",
      " 41  secondary_cleaner.state.floatbank3_b_level  13988 non-null  float64\n",
      " 42  secondary_cleaner.state.floatbank4_a_air    13988 non-null  float64\n",
      " 43  secondary_cleaner.state.floatbank4_a_level  13988 non-null  float64\n",
      " 44  secondary_cleaner.state.floatbank4_b_air    13988 non-null  float64\n",
      " 45  secondary_cleaner.state.floatbank4_b_level  13988 non-null  float64\n",
      " 46  secondary_cleaner.state.floatbank5_a_air    13988 non-null  float64\n",
      " 47  secondary_cleaner.state.floatbank5_a_level  13988 non-null  float64\n",
      " 48  secondary_cleaner.state.floatbank5_b_air    13988 non-null  float64\n",
      " 49  secondary_cleaner.state.floatbank5_b_level  13988 non-null  float64\n",
      " 50  secondary_cleaner.state.floatbank6_a_air    13988 non-null  float64\n",
      " 51  secondary_cleaner.state.floatbank6_a_level  13988 non-null  float64\n",
      " 52  rougher.output.recovery                     13988 non-null  float64\n",
      " 53  final.output.recovery                       13988 non-null  float64\n",
      "dtypes: float64(54)\n",
      "memory usage: 5.9 MB\n"
     ]
    },
    {
     "data": {
      "text/plain": [
       "None"
      ]
     },
     "metadata": {},
     "output_type": "display_data"
    }
   ],
   "source": [
    "df_test = df_test.drop('date', axis=1)\n",
    "columns = df_test.columns\n",
    "df_train = df_train[columns]\n",
    "display(df_train.info())"
   ]
  },
  {
   "cell_type": "code",
   "execution_count": 31,
   "metadata": {},
   "outputs": [],
   "source": [
    "df_train_features = df_train.drop(['rougher.output.recovery', 'final.output.recovery'], axis=1)\n",
    "df_train_target_rough = df_train['rougher.output.recovery']\n",
    "df_train_target_fin = df_train['final.output.recovery']"
   ]
  },
  {
   "cell_type": "markdown",
   "metadata": {},
   "source": [
    "Стандартизируем численные данные"
   ]
  },
  {
   "cell_type": "code",
   "execution_count": 32,
   "metadata": {},
   "outputs": [
    {
     "data": {
      "text/plain": [
       "array([[-0.96178444, -1.44553482, -1.24183483, ..., -0.37866962,\n",
       "        -0.88998924, -2.71989805],\n",
       "       [-0.9657006 , -1.41386061, -1.25974596, ..., -0.38158934,\n",
       "        -0.91780953, -2.55584434],\n",
       "       [-1.02592104, -1.43715055, -1.36069902, ..., -0.37989314,\n",
       "        -0.91229771, -2.60028473],\n",
       "       ...,\n",
       "       [-1.55709504, -1.44997988,  0.97116726, ..., -0.37039062,\n",
       "         0.17498759,  0.1127468 ],\n",
       "       [-1.81443417, -1.43461192,  0.52283637, ..., -0.36354935,\n",
       "         0.16783333,  0.11965111],\n",
       "       [-1.97671058, -1.51325971,  0.40426054, ..., -0.36405426,\n",
       "         0.1719044 ,  0.1067311 ]])"
      ]
     },
     "execution_count": 32,
     "metadata": {},
     "output_type": "execute_result"
    }
   ],
   "source": [
    "def scaled(data):\n",
    "    numeric = data.columns\n",
    "    scaler = StandardScaler()\n",
    "    scaler.fit(data[numeric]) \n",
    "    return scaler.transform(data[numeric])\n",
    "\n",
    "scaled(df_train_features)"
   ]
  },
  {
   "cell_type": "markdown",
   "metadata": {},
   "source": [
    "Обучим данные на разных моделях: Дерево решений, Случайный лес и Линейная регрессия"
   ]
  },
  {
   "cell_type": "code",
   "execution_count": 33,
   "metadata": {},
   "outputs": [],
   "source": [
    "smape_scorer = make_scorer(smape_cul, greater_is_better=False)\n",
    "R_STATE = 12345"
   ]
  },
  {
   "cell_type": "code",
   "execution_count": 34,
   "metadata": {},
   "outputs": [
    {
     "name": "stdout",
     "output_type": "stream",
     "text": [
      "Лучшее значение глубины: 6\n",
      "Лучшая оценка кросс-валидации: 6.84172158566913\n",
      "CPU times: user 13.5 s, sys: 55.9 ms, total: 13.6 s\n",
      "Wall time: 13.6 s\n"
     ]
    }
   ],
   "source": [
    "%%time\n",
    "\n",
    "parametrs = {'max_depth': range (1, 10)}\n",
    "model = DecisionTreeRegressor(random_state=R_STATE)\n",
    "grid_search = GridSearchCV(model, param_grid=parametrs, cv=5, scoring=smape_scorer)\n",
    "grid_search.fit(df_train_features, df_train_target_rough)\n",
    "best_parametrs = pd.Series(grid_search.best_params_)[0]\n",
    "best_score_rough = -1 * grid_search.best_score_\n",
    "\n",
    "print(\"Лучшее значение глубины:\", best_parametrs)\n",
    "print(\"Лучшая оценка кросс-валидации:\", best_score_rough)"
   ]
  },
  {
   "cell_type": "code",
   "execution_count": 35,
   "metadata": {},
   "outputs": [
    {
     "name": "stdout",
     "output_type": "stream",
     "text": [
      "Лучшее значение глубины: 3\n",
      "Лучшая оценка кросс-валидации: 9.221369712662787\n",
      "CPU times: user 13.4 s, sys: 28.5 ms, total: 13.5 s\n",
      "Wall time: 13.5 s\n"
     ]
    }
   ],
   "source": [
    "%%time\n",
    "\n",
    "parametrs = {'max_depth': range (1, 10)}\n",
    "model = DecisionTreeRegressor(random_state=R_STATE)\n",
    "grid_search = GridSearchCV(model, param_grid=parametrs, cv=5, scoring=smape_scorer)\n",
    "grid_search.fit(df_train_features, df_train_target_fin)\n",
    "best_parametrs = pd.Series(grid_search.best_params_)[0]\n",
    "best_score_fin = -1 * grid_search.best_score_\n",
    "\n",
    "print(\"Лучшее значение глубины:\", best_parametrs)\n",
    "print(\"Лучшая оценка кросс-валидации:\", best_score_fin)"
   ]
  },
  {
   "cell_type": "code",
   "execution_count": 36,
   "metadata": {},
   "outputs": [
    {
     "data": {
      "text/plain": [
       "8.626457680914372"
      ]
     },
     "execution_count": 36,
     "metadata": {},
     "output_type": "execute_result"
    }
   ],
   "source": [
    "final_smape = 0.25 * best_score_rough + 0.75 * best_score_fin\n",
    "final_smape"
   ]
  },
  {
   "cell_type": "code",
   "execution_count": 40,
   "metadata": {},
   "outputs": [
    {
     "name": "stdout",
     "output_type": "stream",
     "text": [
      "Лучшее значение параметров: 5\n",
      "Лучшая оценка кросс-валидации: 6.56376192061974\n",
      "CPU times: user 5min 58s, sys: 158 ms, total: 5min 58s\n",
      "Wall time: 5min 59s\n"
     ]
    }
   ],
   "source": [
    "%%time\n",
    "\n",
    "parametrs = {\n",
    "    'max_depth': range(1, 10),\n",
    "    'n_estimators': range(1, 10)\n",
    "}\n",
    "\n",
    "model = RandomForestRegressor(random_state=R_STATE)\n",
    "grid_search = GridSearchCV(model, param_grid=parametrs, cv=5, scoring=smape_scorer)\n",
    "grid_search.fit(df_train_features, df_train_target_rough)\n",
    "best_parametrs = pd.Series(grid_search.best_params_)[0]\n",
    "best_score_rough = -1 * grid_search.best_score_\n",
    "\n",
    "print(\"Лучшее значение параметров:\", best_parametrs)\n",
    "print(\"Лучшая оценка кросс-валидации:\", best_score_rough)"
   ]
  },
  {
   "cell_type": "code",
   "execution_count": 41,
   "metadata": {},
   "outputs": [
    {
     "name": "stdout",
     "output_type": "stream",
     "text": [
      "Лучшее значение параметров: 2\n",
      "Лучшая оценка кросс-валидации: 8.878457401976013\n",
      "CPU times: user 5min 59s, sys: 160 ms, total: 5min 59s\n",
      "Wall time: 6min\n"
     ]
    }
   ],
   "source": [
    "%%time\n",
    "\n",
    "parametrs = {\n",
    "    'max_depth': range(1, 10),\n",
    "    'n_estimators': range(1, 10)\n",
    "    }\n",
    "\n",
    "model = RandomForestRegressor(random_state=R_STATE)\n",
    "grid_search = GridSearchCV(model, param_grid=parametrs, cv=5, scoring=smape_scorer)\n",
    "grid_search.fit(df_train_features, df_train_target_fin)\n",
    "best_parametrs = pd.Series(grid_search.best_params_)[0]\n",
    "best_score_fin = -1 * grid_search.best_score_\n",
    "\n",
    "print(\"Лучшее значение параметров:\", best_parametrs)\n",
    "print(\"Лучшая оценка кросс-валидации:\", best_score_fin)"
   ]
  },
  {
   "cell_type": "code",
   "execution_count": 42,
   "metadata": {},
   "outputs": [
    {
     "data": {
      "text/plain": [
       "8.299783531636944"
      ]
     },
     "execution_count": 42,
     "metadata": {},
     "output_type": "execute_result"
    }
   ],
   "source": [
    "final_smape = final_smape = 0.25 * best_score_rough + 0.75 * best_score_fin\n",
    "final_smape"
   ]
  },
  {
   "cell_type": "code",
   "execution_count": 43,
   "metadata": {},
   "outputs": [
    {
     "name": "stdout",
     "output_type": "stream",
     "text": [
      "Лучшая оценка кросс-валидации: 7.0165382308653745\n",
      "CPU times: user 531 ms, sys: 635 ms, total: 1.17 s\n",
      "Wall time: 1.13 s\n"
     ]
    }
   ],
   "source": [
    "%%time\n",
    "  \n",
    "parametrs = { 'fit_intercept': [True]}\n",
    "\n",
    "model = LinearRegression()\n",
    "grid_search = GridSearchCV(model, param_grid=parametrs, cv=5, scoring=smape_scorer)\n",
    "grid_search.fit(df_train_features, df_train_target_rough)\n",
    "fit_intercept = pd.Series(grid_search.best_params_)[0]\n",
    "best_score_rough = -1 * grid_search.best_score_\n",
    "\n",
    "print(\"Лучшая оценка кросс-валидации:\", best_score_rough)"
   ]
  },
  {
   "cell_type": "code",
   "execution_count": 44,
   "metadata": {},
   "outputs": [
    {
     "name": "stdout",
     "output_type": "stream",
     "text": [
      "Лучшая оценка кросс-валидации: 9.500796676469514\n",
      "CPU times: user 632 ms, sys: 925 ms, total: 1.56 s\n",
      "Wall time: 1.59 s\n"
     ]
    }
   ],
   "source": [
    "%%time\n",
    "  \n",
    "parametrs = { 'fit_intercept': [True]}\n",
    "\n",
    "model = LinearRegression()\n",
    "grid_search = GridSearchCV(model, param_grid=parametrs, cv=5, scoring=smape_scorer)\n",
    "grid_search.fit(df_train_features, df_train_target_fin)\n",
    "fit_intercept = pd.Series(grid_search.best_params_)[0]\n",
    "best_score_fin = -1 * grid_search.best_score_\n",
    "\n",
    "print(\"Лучшая оценка кросс-валидации:\", best_score_fin)"
   ]
  },
  {
   "cell_type": "code",
   "execution_count": 45,
   "metadata": {},
   "outputs": [
    {
     "data": {
      "text/plain": [
       "8.87973206506848"
      ]
     },
     "execution_count": 45,
     "metadata": {},
     "output_type": "execute_result"
    }
   ],
   "source": [
    "final_smape = 0.25 * best_score_rough + 0.75 * best_score_fin\n",
    "final_smape"
   ]
  },
  {
   "cell_type": "markdown",
   "metadata": {},
   "source": [
    "## 3.3 Проверим лучшую модель "
   ]
  },
  {
   "cell_type": "markdown",
   "metadata": {},
   "source": [
    "Лучшая модель - LinearRegression() с итоговым sMAPE = 8.88. Проверим на ней тестовую выборку"
   ]
  },
  {
   "cell_type": "code",
   "execution_count": 47,
   "metadata": {},
   "outputs": [
    {
     "data": {
      "text/plain": [
       "rougher.input.feed_au                         0\n",
       "rougher.input.feed_ag                         0\n",
       "rougher.input.feed_pb                         0\n",
       "rougher.input.feed_sol                        0\n",
       "rougher.input.feed_rate                       0\n",
       "rougher.input.feed_size                       0\n",
       "rougher.input.floatbank10_sulfate             0\n",
       "rougher.input.floatbank10_xanthate            0\n",
       "rougher.state.floatbank10_a_air               0\n",
       "rougher.state.floatbank10_a_level             0\n",
       "rougher.state.floatbank10_b_air               0\n",
       "rougher.state.floatbank10_b_level             0\n",
       "rougher.state.floatbank10_c_air               0\n",
       "rougher.state.floatbank10_c_level             0\n",
       "rougher.state.floatbank10_d_air               0\n",
       "rougher.state.floatbank10_d_level             0\n",
       "rougher.state.floatbank10_e_air               0\n",
       "rougher.state.floatbank10_e_level             0\n",
       "rougher.state.floatbank10_f_air               0\n",
       "rougher.state.floatbank10_f_level             0\n",
       "rougher.input.floatbank11_sulfate             0\n",
       "rougher.input.floatbank11_xanthate            0\n",
       "primary_cleaner.input.sulfate                 0\n",
       "primary_cleaner.input.depressant              0\n",
       "primary_cleaner.input.feed_size               0\n",
       "primary_cleaner.input.xanthate                0\n",
       "primary_cleaner.state.floatbank8_a_air        0\n",
       "primary_cleaner.state.floatbank8_a_level      0\n",
       "primary_cleaner.state.floatbank8_b_air        0\n",
       "primary_cleaner.state.floatbank8_b_level      0\n",
       "primary_cleaner.state.floatbank8_c_air        0\n",
       "primary_cleaner.state.floatbank8_c_level      0\n",
       "primary_cleaner.state.floatbank8_d_air        0\n",
       "primary_cleaner.state.floatbank8_d_level      0\n",
       "secondary_cleaner.state.floatbank2_a_air      0\n",
       "secondary_cleaner.state.floatbank2_a_level    0\n",
       "secondary_cleaner.state.floatbank2_b_air      0\n",
       "secondary_cleaner.state.floatbank2_b_level    0\n",
       "secondary_cleaner.state.floatbank3_a_air      0\n",
       "secondary_cleaner.state.floatbank3_a_level    0\n",
       "secondary_cleaner.state.floatbank3_b_air      0\n",
       "secondary_cleaner.state.floatbank3_b_level    0\n",
       "secondary_cleaner.state.floatbank4_a_air      0\n",
       "secondary_cleaner.state.floatbank4_a_level    0\n",
       "secondary_cleaner.state.floatbank4_b_air      0\n",
       "secondary_cleaner.state.floatbank4_b_level    0\n",
       "secondary_cleaner.state.floatbank5_a_air      0\n",
       "secondary_cleaner.state.floatbank5_a_level    0\n",
       "secondary_cleaner.state.floatbank5_b_air      0\n",
       "secondary_cleaner.state.floatbank5_b_level    0\n",
       "secondary_cleaner.state.floatbank6_a_air      0\n",
       "secondary_cleaner.state.floatbank6_a_level    0\n",
       "rougher.output.recovery                       0\n",
       "final.output.recovery                         0\n",
       "dtype: int64"
      ]
     },
     "execution_count": 47,
     "metadata": {},
     "output_type": "execute_result"
    }
   ],
   "source": [
    "imputer = KNNImputer(n_neighbors=5)\n",
    "imputer.fit(df_train)\n",
    "X1 = imputer.transform(df_test)\n",
    "df_test = pd.DataFrame(X1,columns = df_test.columns)\n",
    "\n",
    "df_test.isna().sum()"
   ]
  },
  {
   "cell_type": "code",
   "execution_count": 48,
   "metadata": {},
   "outputs": [
    {
     "data": {
      "text/plain": [
       "0       89.514960\n",
       "1       89.858126\n",
       "2       91.816623\n",
       "3       88.478959\n",
       "4       89.230316\n",
       "          ...    \n",
       "4855    85.462226\n",
       "4856    85.443505\n",
       "4857    87.235441\n",
       "4858    89.299981\n",
       "4859    87.650868\n",
       "Name: rougher.output.recovery, Length: 4860, dtype: float64"
      ]
     },
     "metadata": {},
     "output_type": "display_data"
    },
    {
     "data": {
      "text/plain": [
       "0       70.281454\n",
       "1       65.523246\n",
       "2       74.817644\n",
       "3       63.082720\n",
       "4       74.463380\n",
       "          ...    \n",
       "4855    68.786981\n",
       "4856    67.839536\n",
       "4857    70.847012\n",
       "4858    72.659046\n",
       "4859    70.279619\n",
       "Name: final.output.recovery, Length: 4860, dtype: float64"
      ]
     },
     "metadata": {},
     "output_type": "display_data"
    },
    {
     "data": {
      "text/html": [
       "<div>\n",
       "<style scoped>\n",
       "    .dataframe tbody tr th:only-of-type {\n",
       "        vertical-align: middle;\n",
       "    }\n",
       "\n",
       "    .dataframe tbody tr th {\n",
       "        vertical-align: top;\n",
       "    }\n",
       "\n",
       "    .dataframe thead th {\n",
       "        text-align: right;\n",
       "    }\n",
       "</style>\n",
       "<table border=\"1\" class=\"dataframe\">\n",
       "  <thead>\n",
       "    <tr style=\"text-align: right;\">\n",
       "      <th></th>\n",
       "      <th>rougher.input.feed_au</th>\n",
       "      <th>rougher.input.feed_ag</th>\n",
       "      <th>rougher.input.feed_pb</th>\n",
       "      <th>rougher.input.feed_sol</th>\n",
       "      <th>rougher.input.feed_rate</th>\n",
       "      <th>rougher.input.feed_size</th>\n",
       "      <th>rougher.input.floatbank10_sulfate</th>\n",
       "      <th>rougher.input.floatbank10_xanthate</th>\n",
       "      <th>rougher.state.floatbank10_a_air</th>\n",
       "      <th>rougher.state.floatbank10_a_level</th>\n",
       "      <th>rougher.state.floatbank10_b_air</th>\n",
       "      <th>rougher.state.floatbank10_b_level</th>\n",
       "      <th>rougher.state.floatbank10_c_air</th>\n",
       "      <th>rougher.state.floatbank10_c_level</th>\n",
       "      <th>rougher.state.floatbank10_d_air</th>\n",
       "      <th>rougher.state.floatbank10_d_level</th>\n",
       "      <th>rougher.state.floatbank10_e_air</th>\n",
       "      <th>rougher.state.floatbank10_e_level</th>\n",
       "      <th>rougher.state.floatbank10_f_air</th>\n",
       "      <th>rougher.state.floatbank10_f_level</th>\n",
       "      <th>rougher.input.floatbank11_sulfate</th>\n",
       "      <th>rougher.input.floatbank11_xanthate</th>\n",
       "      <th>primary_cleaner.input.sulfate</th>\n",
       "      <th>primary_cleaner.input.depressant</th>\n",
       "      <th>primary_cleaner.input.feed_size</th>\n",
       "      <th>primary_cleaner.input.xanthate</th>\n",
       "      <th>primary_cleaner.state.floatbank8_a_air</th>\n",
       "      <th>primary_cleaner.state.floatbank8_a_level</th>\n",
       "      <th>primary_cleaner.state.floatbank8_b_air</th>\n",
       "      <th>primary_cleaner.state.floatbank8_b_level</th>\n",
       "      <th>primary_cleaner.state.floatbank8_c_air</th>\n",
       "      <th>primary_cleaner.state.floatbank8_c_level</th>\n",
       "      <th>primary_cleaner.state.floatbank8_d_air</th>\n",
       "      <th>primary_cleaner.state.floatbank8_d_level</th>\n",
       "      <th>secondary_cleaner.state.floatbank2_a_air</th>\n",
       "      <th>secondary_cleaner.state.floatbank2_a_level</th>\n",
       "      <th>secondary_cleaner.state.floatbank2_b_air</th>\n",
       "      <th>secondary_cleaner.state.floatbank2_b_level</th>\n",
       "      <th>secondary_cleaner.state.floatbank3_a_air</th>\n",
       "      <th>secondary_cleaner.state.floatbank3_a_level</th>\n",
       "      <th>secondary_cleaner.state.floatbank3_b_air</th>\n",
       "      <th>secondary_cleaner.state.floatbank3_b_level</th>\n",
       "      <th>secondary_cleaner.state.floatbank4_a_air</th>\n",
       "      <th>secondary_cleaner.state.floatbank4_a_level</th>\n",
       "      <th>secondary_cleaner.state.floatbank4_b_air</th>\n",
       "      <th>secondary_cleaner.state.floatbank4_b_level</th>\n",
       "      <th>secondary_cleaner.state.floatbank5_a_air</th>\n",
       "      <th>secondary_cleaner.state.floatbank5_a_level</th>\n",
       "      <th>secondary_cleaner.state.floatbank5_b_air</th>\n",
       "      <th>secondary_cleaner.state.floatbank5_b_level</th>\n",
       "      <th>secondary_cleaner.state.floatbank6_a_air</th>\n",
       "      <th>secondary_cleaner.state.floatbank6_a_level</th>\n",
       "    </tr>\n",
       "  </thead>\n",
       "  <tbody>\n",
       "    <tr>\n",
       "      <th>0</th>\n",
       "      <td>4.365491</td>\n",
       "      <td>6.158718</td>\n",
       "      <td>3.875727</td>\n",
       "      <td>39.135119</td>\n",
       "      <td>555.820208</td>\n",
       "      <td>94.544358</td>\n",
       "      <td>6.146982</td>\n",
       "      <td>9.308612</td>\n",
       "      <td>1196.238112</td>\n",
       "      <td>-299.862743</td>\n",
       "      <td>1147.248241</td>\n",
       "      <td>-500.363165</td>\n",
       "      <td>1047.279065</td>\n",
       "      <td>-500.354091</td>\n",
       "      <td>948.756608</td>\n",
       "      <td>-498.439416</td>\n",
       "      <td>849.441918</td>\n",
       "      <td>-499.255503</td>\n",
       "      <td>850.112246</td>\n",
       "      <td>-499.407112</td>\n",
       "      <td>6.168939</td>\n",
       "      <td>9.309852</td>\n",
       "      <td>95.248427</td>\n",
       "      <td>8.078957</td>\n",
       "      <td>6.500000</td>\n",
       "      <td>1.283045</td>\n",
       "      <td>1648.759906</td>\n",
       "      <td>-399.862053</td>\n",
       "      <td>1650.135395</td>\n",
       "      <td>-399.957321</td>\n",
       "      <td>1648.831890</td>\n",
       "      <td>-400.586116</td>\n",
       "      <td>1649.464582</td>\n",
       "      <td>-400.673303</td>\n",
       "      <td>34.940919</td>\n",
       "      <td>-500.150510</td>\n",
       "      <td>30.031867</td>\n",
       "      <td>-500.328335</td>\n",
       "      <td>26.033990</td>\n",
       "      <td>-500.147792</td>\n",
       "      <td>22.952306</td>\n",
       "      <td>-500.037678</td>\n",
       "      <td>23.018622</td>\n",
       "      <td>-500.492702</td>\n",
       "      <td>20.020205</td>\n",
       "      <td>-500.220296</td>\n",
       "      <td>17.963512</td>\n",
       "      <td>-499.939490</td>\n",
       "      <td>12.990306</td>\n",
       "      <td>-500.080993</td>\n",
       "      <td>19.990336</td>\n",
       "      <td>-499.191575</td>\n",
       "    </tr>\n",
       "    <tr>\n",
       "      <th>1</th>\n",
       "      <td>4.362781</td>\n",
       "      <td>6.048130</td>\n",
       "      <td>3.902537</td>\n",
       "      <td>39.713906</td>\n",
       "      <td>544.731687</td>\n",
       "      <td>123.742430</td>\n",
       "      <td>6.210119</td>\n",
       "      <td>9.297709</td>\n",
       "      <td>1201.904177</td>\n",
       "      <td>-299.907308</td>\n",
       "      <td>1154.087804</td>\n",
       "      <td>-500.036580</td>\n",
       "      <td>1054.009756</td>\n",
       "      <td>-500.237335</td>\n",
       "      <td>944.138793</td>\n",
       "      <td>-496.866953</td>\n",
       "      <td>851.589767</td>\n",
       "      <td>-499.040466</td>\n",
       "      <td>851.345606</td>\n",
       "      <td>-499.122561</td>\n",
       "      <td>6.209517</td>\n",
       "      <td>9.297194</td>\n",
       "      <td>98.880538</td>\n",
       "      <td>7.984164</td>\n",
       "      <td>6.500000</td>\n",
       "      <td>1.241969</td>\n",
       "      <td>1646.547763</td>\n",
       "      <td>-398.977083</td>\n",
       "      <td>1648.212240</td>\n",
       "      <td>-400.383265</td>\n",
       "      <td>1648.917387</td>\n",
       "      <td>-399.521344</td>\n",
       "      <td>1651.498591</td>\n",
       "      <td>-399.745329</td>\n",
       "      <td>34.980742</td>\n",
       "      <td>-498.131002</td>\n",
       "      <td>29.968453</td>\n",
       "      <td>-586.013330</td>\n",
       "      <td>25.971737</td>\n",
       "      <td>-499.608392</td>\n",
       "      <td>22.958448</td>\n",
       "      <td>-499.821308</td>\n",
       "      <td>23.024963</td>\n",
       "      <td>-501.153409</td>\n",
       "      <td>20.054122</td>\n",
       "      <td>-500.314711</td>\n",
       "      <td>17.979515</td>\n",
       "      <td>-499.272871</td>\n",
       "      <td>12.992404</td>\n",
       "      <td>-499.976268</td>\n",
       "      <td>20.013986</td>\n",
       "      <td>-500.625471</td>\n",
       "    </tr>\n",
       "    <tr>\n",
       "      <th>2</th>\n",
       "      <td>5.081681</td>\n",
       "      <td>6.082745</td>\n",
       "      <td>4.564078</td>\n",
       "      <td>37.208683</td>\n",
       "      <td>558.155110</td>\n",
       "      <td>82.610855</td>\n",
       "      <td>7.363824</td>\n",
       "      <td>9.003562</td>\n",
       "      <td>1200.826926</td>\n",
       "      <td>-300.124116</td>\n",
       "      <td>1150.754676</td>\n",
       "      <td>-499.986009</td>\n",
       "      <td>1049.182824</td>\n",
       "      <td>-500.014696</td>\n",
       "      <td>948.085464</td>\n",
       "      <td>-499.997003</td>\n",
       "      <td>850.170086</td>\n",
       "      <td>-500.270334</td>\n",
       "      <td>849.557905</td>\n",
       "      <td>-500.198702</td>\n",
       "      <td>7.358308</td>\n",
       "      <td>9.000624</td>\n",
       "      <td>119.497545</td>\n",
       "      <td>8.003752</td>\n",
       "      <td>6.500000</td>\n",
       "      <td>1.259741</td>\n",
       "      <td>1647.368779</td>\n",
       "      <td>-399.788506</td>\n",
       "      <td>1648.395206</td>\n",
       "      <td>-400.166490</td>\n",
       "      <td>1648.953828</td>\n",
       "      <td>-400.468641</td>\n",
       "      <td>1649.821569</td>\n",
       "      <td>-400.071884</td>\n",
       "      <td>34.952967</td>\n",
       "      <td>-501.204647</td>\n",
       "      <td>29.927025</td>\n",
       "      <td>-500.106628</td>\n",
       "      <td>25.978253</td>\n",
       "      <td>-499.890060</td>\n",
       "      <td>23.004376</td>\n",
       "      <td>-500.014529</td>\n",
       "      <td>22.993827</td>\n",
       "      <td>-501.559663</td>\n",
       "      <td>20.029144</td>\n",
       "      <td>-500.000662</td>\n",
       "      <td>18.012723</td>\n",
       "      <td>-500.024764</td>\n",
       "      <td>13.016445</td>\n",
       "      <td>-500.058432</td>\n",
       "      <td>19.973767</td>\n",
       "      <td>-501.394155</td>\n",
       "    </tr>\n",
       "    <tr>\n",
       "      <th>3</th>\n",
       "      <td>5.145949</td>\n",
       "      <td>6.084374</td>\n",
       "      <td>4.768124</td>\n",
       "      <td>36.808874</td>\n",
       "      <td>539.713765</td>\n",
       "      <td>77.984784</td>\n",
       "      <td>6.927072</td>\n",
       "      <td>8.955597</td>\n",
       "      <td>1199.292489</td>\n",
       "      <td>-299.778385</td>\n",
       "      <td>1152.512559</td>\n",
       "      <td>-500.338106</td>\n",
       "      <td>1052.601592</td>\n",
       "      <td>-499.695075</td>\n",
       "      <td>955.171539</td>\n",
       "      <td>-500.294989</td>\n",
       "      <td>851.957342</td>\n",
       "      <td>-499.779541</td>\n",
       "      <td>850.765662</td>\n",
       "      <td>-501.030559</td>\n",
       "      <td>6.929364</td>\n",
       "      <td>8.920717</td>\n",
       "      <td>108.080163</td>\n",
       "      <td>7.970121</td>\n",
       "      <td>6.660000</td>\n",
       "      <td>0.774909</td>\n",
       "      <td>1652.660845</td>\n",
       "      <td>-399.702218</td>\n",
       "      <td>1651.203128</td>\n",
       "      <td>-400.291472</td>\n",
       "      <td>1651.924848</td>\n",
       "      <td>-398.058033</td>\n",
       "      <td>1650.782696</td>\n",
       "      <td>-399.597977</td>\n",
       "      <td>35.038256</td>\n",
       "      <td>-500.102649</td>\n",
       "      <td>30.066959</td>\n",
       "      <td>-500.211499</td>\n",
       "      <td>26.013515</td>\n",
       "      <td>-500.054597</td>\n",
       "      <td>22.988928</td>\n",
       "      <td>-499.981410</td>\n",
       "      <td>23.032807</td>\n",
       "      <td>-501.287889</td>\n",
       "      <td>19.977466</td>\n",
       "      <td>-500.159903</td>\n",
       "      <td>17.980463</td>\n",
       "      <td>-500.504602</td>\n",
       "      <td>12.949071</td>\n",
       "      <td>-500.009937</td>\n",
       "      <td>20.010332</td>\n",
       "      <td>-508.337973</td>\n",
       "    </tr>\n",
       "    <tr>\n",
       "      <th>4</th>\n",
       "      <td>5.735249</td>\n",
       "      <td>6.165220</td>\n",
       "      <td>4.512346</td>\n",
       "      <td>37.810642</td>\n",
       "      <td>558.713584</td>\n",
       "      <td>86.434874</td>\n",
       "      <td>7.823471</td>\n",
       "      <td>7.490356</td>\n",
       "      <td>1198.005449</td>\n",
       "      <td>-300.283401</td>\n",
       "      <td>1099.481500</td>\n",
       "      <td>-499.702465</td>\n",
       "      <td>999.539264</td>\n",
       "      <td>-499.306051</td>\n",
       "      <td>889.445596</td>\n",
       "      <td>-498.118617</td>\n",
       "      <td>800.533525</td>\n",
       "      <td>-499.765068</td>\n",
       "      <td>800.510356</td>\n",
       "      <td>-497.289533</td>\n",
       "      <td>7.824875</td>\n",
       "      <td>7.500678</td>\n",
       "      <td>117.750648</td>\n",
       "      <td>6.954311</td>\n",
       "      <td>6.426667</td>\n",
       "      <td>0.731271</td>\n",
       "      <td>1649.411497</td>\n",
       "      <td>-399.853156</td>\n",
       "      <td>1648.917211</td>\n",
       "      <td>-400.321866</td>\n",
       "      <td>1649.117753</td>\n",
       "      <td>-399.645348</td>\n",
       "      <td>1650.398209</td>\n",
       "      <td>-400.654533</td>\n",
       "      <td>34.894598</td>\n",
       "      <td>-498.444587</td>\n",
       "      <td>30.020745</td>\n",
       "      <td>-533.831343</td>\n",
       "      <td>26.022094</td>\n",
       "      <td>-499.725484</td>\n",
       "      <td>22.992992</td>\n",
       "      <td>-499.891405</td>\n",
       "      <td>23.001911</td>\n",
       "      <td>-499.947838</td>\n",
       "      <td>20.023735</td>\n",
       "      <td>-499.713680</td>\n",
       "      <td>17.990955</td>\n",
       "      <td>-500.334769</td>\n",
       "      <td>13.007523</td>\n",
       "      <td>-499.968459</td>\n",
       "      <td>19.995999</td>\n",
       "      <td>-499.788805</td>\n",
       "    </tr>\n",
       "    <tr>\n",
       "      <th>...</th>\n",
       "      <td>...</td>\n",
       "      <td>...</td>\n",
       "      <td>...</td>\n",
       "      <td>...</td>\n",
       "      <td>...</td>\n",
       "      <td>...</td>\n",
       "      <td>...</td>\n",
       "      <td>...</td>\n",
       "      <td>...</td>\n",
       "      <td>...</td>\n",
       "      <td>...</td>\n",
       "      <td>...</td>\n",
       "      <td>...</td>\n",
       "      <td>...</td>\n",
       "      <td>...</td>\n",
       "      <td>...</td>\n",
       "      <td>...</td>\n",
       "      <td>...</td>\n",
       "      <td>...</td>\n",
       "      <td>...</td>\n",
       "      <td>...</td>\n",
       "      <td>...</td>\n",
       "      <td>...</td>\n",
       "      <td>...</td>\n",
       "      <td>...</td>\n",
       "      <td>...</td>\n",
       "      <td>...</td>\n",
       "      <td>...</td>\n",
       "      <td>...</td>\n",
       "      <td>...</td>\n",
       "      <td>...</td>\n",
       "      <td>...</td>\n",
       "      <td>...</td>\n",
       "      <td>...</td>\n",
       "      <td>...</td>\n",
       "      <td>...</td>\n",
       "      <td>...</td>\n",
       "      <td>...</td>\n",
       "      <td>...</td>\n",
       "      <td>...</td>\n",
       "      <td>...</td>\n",
       "      <td>...</td>\n",
       "      <td>...</td>\n",
       "      <td>...</td>\n",
       "      <td>...</td>\n",
       "      <td>...</td>\n",
       "      <td>...</td>\n",
       "      <td>...</td>\n",
       "      <td>...</td>\n",
       "      <td>...</td>\n",
       "      <td>...</td>\n",
       "      <td>...</td>\n",
       "    </tr>\n",
       "    <tr>\n",
       "      <th>4855</th>\n",
       "      <td>6.620245</td>\n",
       "      <td>5.992592</td>\n",
       "      <td>2.589242</td>\n",
       "      <td>39.934641</td>\n",
       "      <td>578.654582</td>\n",
       "      <td>63.473450</td>\n",
       "      <td>14.688804</td>\n",
       "      <td>6.898599</td>\n",
       "      <td>999.688257</td>\n",
       "      <td>-399.217124</td>\n",
       "      <td>1600.278420</td>\n",
       "      <td>-450.107091</td>\n",
       "      <td>1599.737339</td>\n",
       "      <td>-448.396498</td>\n",
       "      <td>1598.207230</td>\n",
       "      <td>-450.370000</td>\n",
       "      <td>1396.848252</td>\n",
       "      <td>-458.073441</td>\n",
       "      <td>1397.977965</td>\n",
       "      <td>-442.705181</td>\n",
       "      <td>14.676690</td>\n",
       "      <td>6.903515</td>\n",
       "      <td>150.944211</td>\n",
       "      <td>12.516814</td>\n",
       "      <td>7.250000</td>\n",
       "      <td>1.005121</td>\n",
       "      <td>1599.713324</td>\n",
       "      <td>-500.811273</td>\n",
       "      <td>1596.499220</td>\n",
       "      <td>-499.189257</td>\n",
       "      <td>1599.635875</td>\n",
       "      <td>-500.178569</td>\n",
       "      <td>1598.888237</td>\n",
       "      <td>-499.112223</td>\n",
       "      <td>26.008972</td>\n",
       "      <td>-500.410938</td>\n",
       "      <td>24.075851</td>\n",
       "      <td>-499.647030</td>\n",
       "      <td>23.969678</td>\n",
       "      <td>-500.207930</td>\n",
       "      <td>23.978896</td>\n",
       "      <td>-499.862885</td>\n",
       "      <td>14.003057</td>\n",
       "      <td>-503.152258</td>\n",
       "      <td>12.016724</td>\n",
       "      <td>-501.136446</td>\n",
       "      <td>10.041864</td>\n",
       "      <td>-499.338844</td>\n",
       "      <td>8.007022</td>\n",
       "      <td>-500.279583</td>\n",
       "      <td>14.001271</td>\n",
       "      <td>-602.072365</td>\n",
       "    </tr>\n",
       "    <tr>\n",
       "      <th>4856</th>\n",
       "      <td>6.741324</td>\n",
       "      <td>6.158617</td>\n",
       "      <td>2.647185</td>\n",
       "      <td>40.176307</td>\n",
       "      <td>571.622005</td>\n",
       "      <td>62.815291</td>\n",
       "      <td>14.892720</td>\n",
       "      <td>6.903204</td>\n",
       "      <td>1000.479783</td>\n",
       "      <td>-399.574748</td>\n",
       "      <td>1600.585419</td>\n",
       "      <td>-450.871865</td>\n",
       "      <td>1600.054220</td>\n",
       "      <td>-451.892850</td>\n",
       "      <td>1604.245003</td>\n",
       "      <td>-450.784204</td>\n",
       "      <td>1397.507497</td>\n",
       "      <td>-452.207181</td>\n",
       "      <td>1398.025205</td>\n",
       "      <td>-451.184768</td>\n",
       "      <td>14.838200</td>\n",
       "      <td>6.894752</td>\n",
       "      <td>147.591165</td>\n",
       "      <td>12.517364</td>\n",
       "      <td>7.250000</td>\n",
       "      <td>0.959430</td>\n",
       "      <td>1602.999120</td>\n",
       "      <td>-500.526448</td>\n",
       "      <td>1597.866105</td>\n",
       "      <td>-499.798253</td>\n",
       "      <td>1598.796914</td>\n",
       "      <td>-498.214347</td>\n",
       "      <td>1597.075286</td>\n",
       "      <td>-499.158291</td>\n",
       "      <td>26.019475</td>\n",
       "      <td>-499.818693</td>\n",
       "      <td>23.991310</td>\n",
       "      <td>-500.888315</td>\n",
       "      <td>24.026801</td>\n",
       "      <td>-499.856287</td>\n",
       "      <td>23.959707</td>\n",
       "      <td>-500.428539</td>\n",
       "      <td>14.031220</td>\n",
       "      <td>-503.471307</td>\n",
       "      <td>11.966426</td>\n",
       "      <td>-500.656842</td>\n",
       "      <td>10.051620</td>\n",
       "      <td>-498.318772</td>\n",
       "      <td>8.018091</td>\n",
       "      <td>-499.696138</td>\n",
       "      <td>13.958937</td>\n",
       "      <td>-599.213013</td>\n",
       "    </tr>\n",
       "    <tr>\n",
       "      <th>4857</th>\n",
       "      <td>6.627458</td>\n",
       "      <td>6.015149</td>\n",
       "      <td>2.466127</td>\n",
       "      <td>39.841423</td>\n",
       "      <td>563.733146</td>\n",
       "      <td>61.287347</td>\n",
       "      <td>13.723692</td>\n",
       "      <td>6.700148</td>\n",
       "      <td>1000.014718</td>\n",
       "      <td>-400.320877</td>\n",
       "      <td>1600.572169</td>\n",
       "      <td>-449.351989</td>\n",
       "      <td>1601.079206</td>\n",
       "      <td>-450.846324</td>\n",
       "      <td>1597.862670</td>\n",
       "      <td>-449.053827</td>\n",
       "      <td>1400.353257</td>\n",
       "      <td>-448.866374</td>\n",
       "      <td>1399.930779</td>\n",
       "      <td>-449.388880</td>\n",
       "      <td>13.716111</td>\n",
       "      <td>6.703495</td>\n",
       "      <td>144.447728</td>\n",
       "      <td>12.499446</td>\n",
       "      <td>7.250000</td>\n",
       "      <td>0.904020</td>\n",
       "      <td>1596.610313</td>\n",
       "      <td>-499.416573</td>\n",
       "      <td>1597.325921</td>\n",
       "      <td>-499.944194</td>\n",
       "      <td>1601.441880</td>\n",
       "      <td>-499.658913</td>\n",
       "      <td>1599.758645</td>\n",
       "      <td>-501.149616</td>\n",
       "      <td>25.953364</td>\n",
       "      <td>-501.033038</td>\n",
       "      <td>24.039465</td>\n",
       "      <td>-500.088979</td>\n",
       "      <td>24.010117</td>\n",
       "      <td>-499.705384</td>\n",
       "      <td>24.024501</td>\n",
       "      <td>-499.466383</td>\n",
       "      <td>13.996317</td>\n",
       "      <td>-502.995300</td>\n",
       "      <td>11.980055</td>\n",
       "      <td>-500.607751</td>\n",
       "      <td>9.964501</td>\n",
       "      <td>-499.261719</td>\n",
       "      <td>8.065048</td>\n",
       "      <td>-499.492395</td>\n",
       "      <td>13.997801</td>\n",
       "      <td>-600.621416</td>\n",
       "    </tr>\n",
       "    <tr>\n",
       "      <th>4858</th>\n",
       "      <td>6.702243</td>\n",
       "      <td>6.097592</td>\n",
       "      <td>2.278955</td>\n",
       "      <td>37.728375</td>\n",
       "      <td>549.812490</td>\n",
       "      <td>59.637037</td>\n",
       "      <td>13.746510</td>\n",
       "      <td>6.706417</td>\n",
       "      <td>999.635748</td>\n",
       "      <td>-399.484884</td>\n",
       "      <td>1599.852212</td>\n",
       "      <td>-449.448826</td>\n",
       "      <td>1599.325946</td>\n",
       "      <td>-448.812166</td>\n",
       "      <td>1614.612892</td>\n",
       "      <td>-449.774665</td>\n",
       "      <td>1401.626496</td>\n",
       "      <td>-447.607440</td>\n",
       "      <td>1400.158685</td>\n",
       "      <td>-448.035466</td>\n",
       "      <td>13.758277</td>\n",
       "      <td>6.702969</td>\n",
       "      <td>147.944885</td>\n",
       "      <td>12.481529</td>\n",
       "      <td>7.250000</td>\n",
       "      <td>0.893913</td>\n",
       "      <td>1603.053015</td>\n",
       "      <td>-499.728573</td>\n",
       "      <td>1600.537532</td>\n",
       "      <td>-500.096021</td>\n",
       "      <td>1597.568005</td>\n",
       "      <td>-499.601040</td>\n",
       "      <td>1599.213513</td>\n",
       "      <td>-500.964698</td>\n",
       "      <td>26.111929</td>\n",
       "      <td>-499.496608</td>\n",
       "      <td>24.094419</td>\n",
       "      <td>-500.250900</td>\n",
       "      <td>23.945513</td>\n",
       "      <td>-500.816108</td>\n",
       "      <td>23.995434</td>\n",
       "      <td>-499.761541</td>\n",
       "      <td>13.983963</td>\n",
       "      <td>-503.675714</td>\n",
       "      <td>11.928745</td>\n",
       "      <td>-500.583183</td>\n",
       "      <td>9.970359</td>\n",
       "      <td>-498.822343</td>\n",
       "      <td>8.016377</td>\n",
       "      <td>-499.013145</td>\n",
       "      <td>14.000032</td>\n",
       "      <td>-600.024741</td>\n",
       "    </tr>\n",
       "    <tr>\n",
       "      <th>4859</th>\n",
       "      <td>6.633002</td>\n",
       "      <td>5.908793</td>\n",
       "      <td>2.440899</td>\n",
       "      <td>36.958540</td>\n",
       "      <td>573.076049</td>\n",
       "      <td>58.509262</td>\n",
       "      <td>13.707775</td>\n",
       "      <td>6.820245</td>\n",
       "      <td>1000.589156</td>\n",
       "      <td>-398.879586</td>\n",
       "      <td>1598.975250</td>\n",
       "      <td>-451.238638</td>\n",
       "      <td>1600.058139</td>\n",
       "      <td>-451.271448</td>\n",
       "      <td>1610.182874</td>\n",
       "      <td>-450.460190</td>\n",
       "      <td>1399.194663</td>\n",
       "      <td>-450.332681</td>\n",
       "      <td>1399.638290</td>\n",
       "      <td>-450.198722</td>\n",
       "      <td>13.812674</td>\n",
       "      <td>6.790624</td>\n",
       "      <td>138.120409</td>\n",
       "      <td>12.464032</td>\n",
       "      <td>7.250000</td>\n",
       "      <td>0.898779</td>\n",
       "      <td>1603.436598</td>\n",
       "      <td>-499.864400</td>\n",
       "      <td>1597.455353</td>\n",
       "      <td>-500.266905</td>\n",
       "      <td>1600.747882</td>\n",
       "      <td>-500.541002</td>\n",
       "      <td>1599.754053</td>\n",
       "      <td>-499.216962</td>\n",
       "      <td>26.059510</td>\n",
       "      <td>-499.151646</td>\n",
       "      <td>23.934570</td>\n",
       "      <td>-499.351758</td>\n",
       "      <td>23.994184</td>\n",
       "      <td>-500.078566</td>\n",
       "      <td>23.924481</td>\n",
       "      <td>-499.989024</td>\n",
       "      <td>13.989632</td>\n",
       "      <td>-503.195299</td>\n",
       "      <td>12.052233</td>\n",
       "      <td>-500.928547</td>\n",
       "      <td>9.962574</td>\n",
       "      <td>-502.986357</td>\n",
       "      <td>7.979219</td>\n",
       "      <td>-500.146835</td>\n",
       "      <td>13.981614</td>\n",
       "      <td>-598.070855</td>\n",
       "    </tr>\n",
       "  </tbody>\n",
       "</table>\n",
       "<p>4860 rows × 52 columns</p>\n",
       "</div>"
      ],
      "text/plain": [
       "      rougher.input.feed_au  rougher.input.feed_ag  rougher.input.feed_pb  \\\n",
       "0                  4.365491               6.158718               3.875727   \n",
       "1                  4.362781               6.048130               3.902537   \n",
       "2                  5.081681               6.082745               4.564078   \n",
       "3                  5.145949               6.084374               4.768124   \n",
       "4                  5.735249               6.165220               4.512346   \n",
       "...                     ...                    ...                    ...   \n",
       "4855               6.620245               5.992592               2.589242   \n",
       "4856               6.741324               6.158617               2.647185   \n",
       "4857               6.627458               6.015149               2.466127   \n",
       "4858               6.702243               6.097592               2.278955   \n",
       "4859               6.633002               5.908793               2.440899   \n",
       "\n",
       "      rougher.input.feed_sol  rougher.input.feed_rate  \\\n",
       "0                  39.135119               555.820208   \n",
       "1                  39.713906               544.731687   \n",
       "2                  37.208683               558.155110   \n",
       "3                  36.808874               539.713765   \n",
       "4                  37.810642               558.713584   \n",
       "...                      ...                      ...   \n",
       "4855               39.934641               578.654582   \n",
       "4856               40.176307               571.622005   \n",
       "4857               39.841423               563.733146   \n",
       "4858               37.728375               549.812490   \n",
       "4859               36.958540               573.076049   \n",
       "\n",
       "      rougher.input.feed_size  rougher.input.floatbank10_sulfate  \\\n",
       "0                   94.544358                           6.146982   \n",
       "1                  123.742430                           6.210119   \n",
       "2                   82.610855                           7.363824   \n",
       "3                   77.984784                           6.927072   \n",
       "4                   86.434874                           7.823471   \n",
       "...                       ...                                ...   \n",
       "4855                63.473450                          14.688804   \n",
       "4856                62.815291                          14.892720   \n",
       "4857                61.287347                          13.723692   \n",
       "4858                59.637037                          13.746510   \n",
       "4859                58.509262                          13.707775   \n",
       "\n",
       "      rougher.input.floatbank10_xanthate  rougher.state.floatbank10_a_air  \\\n",
       "0                               9.308612                      1196.238112   \n",
       "1                               9.297709                      1201.904177   \n",
       "2                               9.003562                      1200.826926   \n",
       "3                               8.955597                      1199.292489   \n",
       "4                               7.490356                      1198.005449   \n",
       "...                                  ...                              ...   \n",
       "4855                            6.898599                       999.688257   \n",
       "4856                            6.903204                      1000.479783   \n",
       "4857                            6.700148                      1000.014718   \n",
       "4858                            6.706417                       999.635748   \n",
       "4859                            6.820245                      1000.589156   \n",
       "\n",
       "      rougher.state.floatbank10_a_level  rougher.state.floatbank10_b_air  \\\n",
       "0                           -299.862743                      1147.248241   \n",
       "1                           -299.907308                      1154.087804   \n",
       "2                           -300.124116                      1150.754676   \n",
       "3                           -299.778385                      1152.512559   \n",
       "4                           -300.283401                      1099.481500   \n",
       "...                                 ...                              ...   \n",
       "4855                        -399.217124                      1600.278420   \n",
       "4856                        -399.574748                      1600.585419   \n",
       "4857                        -400.320877                      1600.572169   \n",
       "4858                        -399.484884                      1599.852212   \n",
       "4859                        -398.879586                      1598.975250   \n",
       "\n",
       "      rougher.state.floatbank10_b_level  rougher.state.floatbank10_c_air  \\\n",
       "0                           -500.363165                      1047.279065   \n",
       "1                           -500.036580                      1054.009756   \n",
       "2                           -499.986009                      1049.182824   \n",
       "3                           -500.338106                      1052.601592   \n",
       "4                           -499.702465                       999.539264   \n",
       "...                                 ...                              ...   \n",
       "4855                        -450.107091                      1599.737339   \n",
       "4856                        -450.871865                      1600.054220   \n",
       "4857                        -449.351989                      1601.079206   \n",
       "4858                        -449.448826                      1599.325946   \n",
       "4859                        -451.238638                      1600.058139   \n",
       "\n",
       "      rougher.state.floatbank10_c_level  rougher.state.floatbank10_d_air  \\\n",
       "0                           -500.354091                       948.756608   \n",
       "1                           -500.237335                       944.138793   \n",
       "2                           -500.014696                       948.085464   \n",
       "3                           -499.695075                       955.171539   \n",
       "4                           -499.306051                       889.445596   \n",
       "...                                 ...                              ...   \n",
       "4855                        -448.396498                      1598.207230   \n",
       "4856                        -451.892850                      1604.245003   \n",
       "4857                        -450.846324                      1597.862670   \n",
       "4858                        -448.812166                      1614.612892   \n",
       "4859                        -451.271448                      1610.182874   \n",
       "\n",
       "      rougher.state.floatbank10_d_level  rougher.state.floatbank10_e_air  \\\n",
       "0                           -498.439416                       849.441918   \n",
       "1                           -496.866953                       851.589767   \n",
       "2                           -499.997003                       850.170086   \n",
       "3                           -500.294989                       851.957342   \n",
       "4                           -498.118617                       800.533525   \n",
       "...                                 ...                              ...   \n",
       "4855                        -450.370000                      1396.848252   \n",
       "4856                        -450.784204                      1397.507497   \n",
       "4857                        -449.053827                      1400.353257   \n",
       "4858                        -449.774665                      1401.626496   \n",
       "4859                        -450.460190                      1399.194663   \n",
       "\n",
       "      rougher.state.floatbank10_e_level  rougher.state.floatbank10_f_air  \\\n",
       "0                           -499.255503                       850.112246   \n",
       "1                           -499.040466                       851.345606   \n",
       "2                           -500.270334                       849.557905   \n",
       "3                           -499.779541                       850.765662   \n",
       "4                           -499.765068                       800.510356   \n",
       "...                                 ...                              ...   \n",
       "4855                        -458.073441                      1397.977965   \n",
       "4856                        -452.207181                      1398.025205   \n",
       "4857                        -448.866374                      1399.930779   \n",
       "4858                        -447.607440                      1400.158685   \n",
       "4859                        -450.332681                      1399.638290   \n",
       "\n",
       "      rougher.state.floatbank10_f_level  rougher.input.floatbank11_sulfate  \\\n",
       "0                           -499.407112                           6.168939   \n",
       "1                           -499.122561                           6.209517   \n",
       "2                           -500.198702                           7.358308   \n",
       "3                           -501.030559                           6.929364   \n",
       "4                           -497.289533                           7.824875   \n",
       "...                                 ...                                ...   \n",
       "4855                        -442.705181                          14.676690   \n",
       "4856                        -451.184768                          14.838200   \n",
       "4857                        -449.388880                          13.716111   \n",
       "4858                        -448.035466                          13.758277   \n",
       "4859                        -450.198722                          13.812674   \n",
       "\n",
       "      rougher.input.floatbank11_xanthate  primary_cleaner.input.sulfate  \\\n",
       "0                               9.309852                      95.248427   \n",
       "1                               9.297194                      98.880538   \n",
       "2                               9.000624                     119.497545   \n",
       "3                               8.920717                     108.080163   \n",
       "4                               7.500678                     117.750648   \n",
       "...                                  ...                            ...   \n",
       "4855                            6.903515                     150.944211   \n",
       "4856                            6.894752                     147.591165   \n",
       "4857                            6.703495                     144.447728   \n",
       "4858                            6.702969                     147.944885   \n",
       "4859                            6.790624                     138.120409   \n",
       "\n",
       "      primary_cleaner.input.depressant  primary_cleaner.input.feed_size  \\\n",
       "0                             8.078957                         6.500000   \n",
       "1                             7.984164                         6.500000   \n",
       "2                             8.003752                         6.500000   \n",
       "3                             7.970121                         6.660000   \n",
       "4                             6.954311                         6.426667   \n",
       "...                                ...                              ...   \n",
       "4855                         12.516814                         7.250000   \n",
       "4856                         12.517364                         7.250000   \n",
       "4857                         12.499446                         7.250000   \n",
       "4858                         12.481529                         7.250000   \n",
       "4859                         12.464032                         7.250000   \n",
       "\n",
       "      primary_cleaner.input.xanthate  primary_cleaner.state.floatbank8_a_air  \\\n",
       "0                           1.283045                             1648.759906   \n",
       "1                           1.241969                             1646.547763   \n",
       "2                           1.259741                             1647.368779   \n",
       "3                           0.774909                             1652.660845   \n",
       "4                           0.731271                             1649.411497   \n",
       "...                              ...                                     ...   \n",
       "4855                        1.005121                             1599.713324   \n",
       "4856                        0.959430                             1602.999120   \n",
       "4857                        0.904020                             1596.610313   \n",
       "4858                        0.893913                             1603.053015   \n",
       "4859                        0.898779                             1603.436598   \n",
       "\n",
       "      primary_cleaner.state.floatbank8_a_level  \\\n",
       "0                                  -399.862053   \n",
       "1                                  -398.977083   \n",
       "2                                  -399.788506   \n",
       "3                                  -399.702218   \n",
       "4                                  -399.853156   \n",
       "...                                        ...   \n",
       "4855                               -500.811273   \n",
       "4856                               -500.526448   \n",
       "4857                               -499.416573   \n",
       "4858                               -499.728573   \n",
       "4859                               -499.864400   \n",
       "\n",
       "      primary_cleaner.state.floatbank8_b_air  \\\n",
       "0                                1650.135395   \n",
       "1                                1648.212240   \n",
       "2                                1648.395206   \n",
       "3                                1651.203128   \n",
       "4                                1648.917211   \n",
       "...                                      ...   \n",
       "4855                             1596.499220   \n",
       "4856                             1597.866105   \n",
       "4857                             1597.325921   \n",
       "4858                             1600.537532   \n",
       "4859                             1597.455353   \n",
       "\n",
       "      primary_cleaner.state.floatbank8_b_level  \\\n",
       "0                                  -399.957321   \n",
       "1                                  -400.383265   \n",
       "2                                  -400.166490   \n",
       "3                                  -400.291472   \n",
       "4                                  -400.321866   \n",
       "...                                        ...   \n",
       "4855                               -499.189257   \n",
       "4856                               -499.798253   \n",
       "4857                               -499.944194   \n",
       "4858                               -500.096021   \n",
       "4859                               -500.266905   \n",
       "\n",
       "      primary_cleaner.state.floatbank8_c_air  \\\n",
       "0                                1648.831890   \n",
       "1                                1648.917387   \n",
       "2                                1648.953828   \n",
       "3                                1651.924848   \n",
       "4                                1649.117753   \n",
       "...                                      ...   \n",
       "4855                             1599.635875   \n",
       "4856                             1598.796914   \n",
       "4857                             1601.441880   \n",
       "4858                             1597.568005   \n",
       "4859                             1600.747882   \n",
       "\n",
       "      primary_cleaner.state.floatbank8_c_level  \\\n",
       "0                                  -400.586116   \n",
       "1                                  -399.521344   \n",
       "2                                  -400.468641   \n",
       "3                                  -398.058033   \n",
       "4                                  -399.645348   \n",
       "...                                        ...   \n",
       "4855                               -500.178569   \n",
       "4856                               -498.214347   \n",
       "4857                               -499.658913   \n",
       "4858                               -499.601040   \n",
       "4859                               -500.541002   \n",
       "\n",
       "      primary_cleaner.state.floatbank8_d_air  \\\n",
       "0                                1649.464582   \n",
       "1                                1651.498591   \n",
       "2                                1649.821569   \n",
       "3                                1650.782696   \n",
       "4                                1650.398209   \n",
       "...                                      ...   \n",
       "4855                             1598.888237   \n",
       "4856                             1597.075286   \n",
       "4857                             1599.758645   \n",
       "4858                             1599.213513   \n",
       "4859                             1599.754053   \n",
       "\n",
       "      primary_cleaner.state.floatbank8_d_level  \\\n",
       "0                                  -400.673303   \n",
       "1                                  -399.745329   \n",
       "2                                  -400.071884   \n",
       "3                                  -399.597977   \n",
       "4                                  -400.654533   \n",
       "...                                        ...   \n",
       "4855                               -499.112223   \n",
       "4856                               -499.158291   \n",
       "4857                               -501.149616   \n",
       "4858                               -500.964698   \n",
       "4859                               -499.216962   \n",
       "\n",
       "      secondary_cleaner.state.floatbank2_a_air  \\\n",
       "0                                    34.940919   \n",
       "1                                    34.980742   \n",
       "2                                    34.952967   \n",
       "3                                    35.038256   \n",
       "4                                    34.894598   \n",
       "...                                        ...   \n",
       "4855                                 26.008972   \n",
       "4856                                 26.019475   \n",
       "4857                                 25.953364   \n",
       "4858                                 26.111929   \n",
       "4859                                 26.059510   \n",
       "\n",
       "      secondary_cleaner.state.floatbank2_a_level  \\\n",
       "0                                    -500.150510   \n",
       "1                                    -498.131002   \n",
       "2                                    -501.204647   \n",
       "3                                    -500.102649   \n",
       "4                                    -498.444587   \n",
       "...                                          ...   \n",
       "4855                                 -500.410938   \n",
       "4856                                 -499.818693   \n",
       "4857                                 -501.033038   \n",
       "4858                                 -499.496608   \n",
       "4859                                 -499.151646   \n",
       "\n",
       "      secondary_cleaner.state.floatbank2_b_air  \\\n",
       "0                                    30.031867   \n",
       "1                                    29.968453   \n",
       "2                                    29.927025   \n",
       "3                                    30.066959   \n",
       "4                                    30.020745   \n",
       "...                                        ...   \n",
       "4855                                 24.075851   \n",
       "4856                                 23.991310   \n",
       "4857                                 24.039465   \n",
       "4858                                 24.094419   \n",
       "4859                                 23.934570   \n",
       "\n",
       "      secondary_cleaner.state.floatbank2_b_level  \\\n",
       "0                                    -500.328335   \n",
       "1                                    -586.013330   \n",
       "2                                    -500.106628   \n",
       "3                                    -500.211499   \n",
       "4                                    -533.831343   \n",
       "...                                          ...   \n",
       "4855                                 -499.647030   \n",
       "4856                                 -500.888315   \n",
       "4857                                 -500.088979   \n",
       "4858                                 -500.250900   \n",
       "4859                                 -499.351758   \n",
       "\n",
       "      secondary_cleaner.state.floatbank3_a_air  \\\n",
       "0                                    26.033990   \n",
       "1                                    25.971737   \n",
       "2                                    25.978253   \n",
       "3                                    26.013515   \n",
       "4                                    26.022094   \n",
       "...                                        ...   \n",
       "4855                                 23.969678   \n",
       "4856                                 24.026801   \n",
       "4857                                 24.010117   \n",
       "4858                                 23.945513   \n",
       "4859                                 23.994184   \n",
       "\n",
       "      secondary_cleaner.state.floatbank3_a_level  \\\n",
       "0                                    -500.147792   \n",
       "1                                    -499.608392   \n",
       "2                                    -499.890060   \n",
       "3                                    -500.054597   \n",
       "4                                    -499.725484   \n",
       "...                                          ...   \n",
       "4855                                 -500.207930   \n",
       "4856                                 -499.856287   \n",
       "4857                                 -499.705384   \n",
       "4858                                 -500.816108   \n",
       "4859                                 -500.078566   \n",
       "\n",
       "      secondary_cleaner.state.floatbank3_b_air  \\\n",
       "0                                    22.952306   \n",
       "1                                    22.958448   \n",
       "2                                    23.004376   \n",
       "3                                    22.988928   \n",
       "4                                    22.992992   \n",
       "...                                        ...   \n",
       "4855                                 23.978896   \n",
       "4856                                 23.959707   \n",
       "4857                                 24.024501   \n",
       "4858                                 23.995434   \n",
       "4859                                 23.924481   \n",
       "\n",
       "      secondary_cleaner.state.floatbank3_b_level  \\\n",
       "0                                    -500.037678   \n",
       "1                                    -499.821308   \n",
       "2                                    -500.014529   \n",
       "3                                    -499.981410   \n",
       "4                                    -499.891405   \n",
       "...                                          ...   \n",
       "4855                                 -499.862885   \n",
       "4856                                 -500.428539   \n",
       "4857                                 -499.466383   \n",
       "4858                                 -499.761541   \n",
       "4859                                 -499.989024   \n",
       "\n",
       "      secondary_cleaner.state.floatbank4_a_air  \\\n",
       "0                                    23.018622   \n",
       "1                                    23.024963   \n",
       "2                                    22.993827   \n",
       "3                                    23.032807   \n",
       "4                                    23.001911   \n",
       "...                                        ...   \n",
       "4855                                 14.003057   \n",
       "4856                                 14.031220   \n",
       "4857                                 13.996317   \n",
       "4858                                 13.983963   \n",
       "4859                                 13.989632   \n",
       "\n",
       "      secondary_cleaner.state.floatbank4_a_level  \\\n",
       "0                                    -500.492702   \n",
       "1                                    -501.153409   \n",
       "2                                    -501.559663   \n",
       "3                                    -501.287889   \n",
       "4                                    -499.947838   \n",
       "...                                          ...   \n",
       "4855                                 -503.152258   \n",
       "4856                                 -503.471307   \n",
       "4857                                 -502.995300   \n",
       "4858                                 -503.675714   \n",
       "4859                                 -503.195299   \n",
       "\n",
       "      secondary_cleaner.state.floatbank4_b_air  \\\n",
       "0                                    20.020205   \n",
       "1                                    20.054122   \n",
       "2                                    20.029144   \n",
       "3                                    19.977466   \n",
       "4                                    20.023735   \n",
       "...                                        ...   \n",
       "4855                                 12.016724   \n",
       "4856                                 11.966426   \n",
       "4857                                 11.980055   \n",
       "4858                                 11.928745   \n",
       "4859                                 12.052233   \n",
       "\n",
       "      secondary_cleaner.state.floatbank4_b_level  \\\n",
       "0                                    -500.220296   \n",
       "1                                    -500.314711   \n",
       "2                                    -500.000662   \n",
       "3                                    -500.159903   \n",
       "4                                    -499.713680   \n",
       "...                                          ...   \n",
       "4855                                 -501.136446   \n",
       "4856                                 -500.656842   \n",
       "4857                                 -500.607751   \n",
       "4858                                 -500.583183   \n",
       "4859                                 -500.928547   \n",
       "\n",
       "      secondary_cleaner.state.floatbank5_a_air  \\\n",
       "0                                    17.963512   \n",
       "1                                    17.979515   \n",
       "2                                    18.012723   \n",
       "3                                    17.980463   \n",
       "4                                    17.990955   \n",
       "...                                        ...   \n",
       "4855                                 10.041864   \n",
       "4856                                 10.051620   \n",
       "4857                                  9.964501   \n",
       "4858                                  9.970359   \n",
       "4859                                  9.962574   \n",
       "\n",
       "      secondary_cleaner.state.floatbank5_a_level  \\\n",
       "0                                    -499.939490   \n",
       "1                                    -499.272871   \n",
       "2                                    -500.024764   \n",
       "3                                    -500.504602   \n",
       "4                                    -500.334769   \n",
       "...                                          ...   \n",
       "4855                                 -499.338844   \n",
       "4856                                 -498.318772   \n",
       "4857                                 -499.261719   \n",
       "4858                                 -498.822343   \n",
       "4859                                 -502.986357   \n",
       "\n",
       "      secondary_cleaner.state.floatbank5_b_air  \\\n",
       "0                                    12.990306   \n",
       "1                                    12.992404   \n",
       "2                                    13.016445   \n",
       "3                                    12.949071   \n",
       "4                                    13.007523   \n",
       "...                                        ...   \n",
       "4855                                  8.007022   \n",
       "4856                                  8.018091   \n",
       "4857                                  8.065048   \n",
       "4858                                  8.016377   \n",
       "4859                                  7.979219   \n",
       "\n",
       "      secondary_cleaner.state.floatbank5_b_level  \\\n",
       "0                                    -500.080993   \n",
       "1                                    -499.976268   \n",
       "2                                    -500.058432   \n",
       "3                                    -500.009937   \n",
       "4                                    -499.968459   \n",
       "...                                          ...   \n",
       "4855                                 -500.279583   \n",
       "4856                                 -499.696138   \n",
       "4857                                 -499.492395   \n",
       "4858                                 -499.013145   \n",
       "4859                                 -500.146835   \n",
       "\n",
       "      secondary_cleaner.state.floatbank6_a_air  \\\n",
       "0                                    19.990336   \n",
       "1                                    20.013986   \n",
       "2                                    19.973767   \n",
       "3                                    20.010332   \n",
       "4                                    19.995999   \n",
       "...                                        ...   \n",
       "4855                                 14.001271   \n",
       "4856                                 13.958937   \n",
       "4857                                 13.997801   \n",
       "4858                                 14.000032   \n",
       "4859                                 13.981614   \n",
       "\n",
       "      secondary_cleaner.state.floatbank6_a_level  \n",
       "0                                    -499.191575  \n",
       "1                                    -500.625471  \n",
       "2                                    -501.394155  \n",
       "3                                    -508.337973  \n",
       "4                                    -499.788805  \n",
       "...                                          ...  \n",
       "4855                                 -602.072365  \n",
       "4856                                 -599.213013  \n",
       "4857                                 -600.621416  \n",
       "4858                                 -600.024741  \n",
       "4859                                 -598.070855  \n",
       "\n",
       "[4860 rows x 52 columns]"
      ]
     },
     "metadata": {},
     "output_type": "display_data"
    }
   ],
   "source": [
    "df_test_target_rough = df_test['rougher.output.recovery']\n",
    "df_test_target_fin = df_test['final.output.recovery']\n",
    "df_test_features = df_test.drop(['rougher.output.recovery', 'final.output.recovery'], axis=1)\n",
    "\n",
    "display(df_test_target_rough)\n",
    "display(df_test_target_fin)\n",
    "display(df_test_features)"
   ]
  },
  {
   "cell_type": "code",
   "execution_count": 49,
   "metadata": {},
   "outputs": [],
   "source": [
    "def model_training(model):\n",
    "    model_rough = model.fit(df_train_features, df_train_target_rough)\n",
    "    predictions_rougher = model_rough.predict(df_test_features)\n",
    "    \n",
    "    model_fit = model.fit(df_train_features, df_train_target_fin)\n",
    "    predictions_final = model_fit.predict(df_test_features)\n",
    "    \n",
    "    smape_rougher = smape_cul(predictions_rougher, df_test_target_rough)\n",
    "    smape_final = smape_cul(predictions_final, df_test_target_fin)\n",
    "    smape_end = 0.25 * smape_rougher + 0.75  * smape_final\n",
    "    \n",
    "    print('Оценка на rougher', smape_rougher)\n",
    "    print('Оценка качества на final', smape_final)\n",
    "    print('Итоговая оценка качества', smape_end)\n",
    "    "
   ]
  },
  {
   "cell_type": "code",
   "execution_count": 52,
   "metadata": {},
   "outputs": [
    {
     "name": "stdout",
     "output_type": "stream",
     "text": [
      "Оценка на rougher 4.556128039492862\n",
      "Оценка качества на final 7.979996907298902\n",
      "Итоговая оценка качества 7.124029690347392\n"
     ]
    }
   ],
   "source": [
    "model = LinearRegression()\n",
    "model_training(model)"
   ]
  },
  {
   "cell_type": "markdown",
   "metadata": {},
   "source": [
    "Создадим константную модель для проверки лучшей модели"
   ]
  },
  {
   "cell_type": "code",
   "execution_count": 53,
   "metadata": {},
   "outputs": [
    {
     "name": "stdout",
     "output_type": "stream",
     "text": [
      "Оценка на rougher 6.108333121374752\n",
      "Оценка качества на final 9.26075329463676\n",
      "Итоговая оценка качества 8.472648251321258\n"
     ]
    }
   ],
   "source": [
    "model = DummyRegressor()\n",
    "model_training(model)"
   ]
  },
  {
   "cell_type": "markdown",
   "metadata": {},
   "source": [
    "Проверим лучшую модель на тестовой выборке"
   ]
  },
  {
   "cell_type": "markdown",
   "metadata": {},
   "source": [
    "**Вывод:** \n",
    "Лучшая модель - LinearRegression() с итоговым sMAPE = 8.88.\n",
    "На тестирование получили итоговый sMAPE = 7.12. \n",
    "Константная модель показала хороший результат итоговый sMAPE = 8.47."
   ]
  },
  {
   "cell_type": "markdown",
   "metadata": {},
   "source": [
    "## 4. Общий вывод"
   ]
  },
  {
   "cell_type": "markdown",
   "metadata": {},
   "source": [
    "1) На этапе предобработки выявили:\n",
    "- Данные состоят из трех датафреймов: обучающая, тестовая и финальная выборки. Датафреймы содержат 86 столбцов, кроме тестовой выборки, которая содержит 52 столбца.  \n",
    "- Проверили правильно ли расчитана эффективность обогощения в обучающей выборке. Среднее значение sMAPE обучающей выборки и проверочное полностью совпадают. Метрика качства MAE однако показывает небольшое отклонение, тем не менее можно сделать вывод, что расчеты в обучающейй выборке достаточно точны.\n",
    "- Проанализировали признаки, недоступные в тестовой выборке. В тестовой выборке отсутствуют 34 столбца и следующая информация:\n",
    "  - Черновые расчетные характеристики\n",
    "  - Концентрация металлов на каждом этапе технологического процесса\n",
    "  - Доля металлов в отвальных хвостах на каждом этапе технологического процесса\n",
    "  - Соответственно без характеристик выше невозможно расчитать sMAPE\n",
    "- Провели предобработку данных. Данные содержат пропуски в большом количестве столбцов. На примере нескольких столбцов с самым большим количеством пропусков рассчитали долю пропусков - она не превышает 2.6%. Это незначительное значение, поэтому оставим пропуски. В данных отсутствуют явные и неявные дубликаты, а также неверные типы значений.\n",
    "\n",
    "2) На этапе анализа данных получили следующие выводы:\n",
    "- Рассмотрели, как меняется концентрация металлов (Au, Ag, Pb) на различных этапах: в сырье, в черновом концентрате, в концентрате после первой очистки и в финальном концентрате:\n",
    "  - Концентрат золота по этапам очистки уменьшается.\n",
    "  - Концентрат серебра по этам очистки увеличивается.\n",
    "  - Концентрат свинца по этапам очистки уменьшается.\n",
    "- Сравнили распределения размеров гранул исходного сырья на обучающей и тестовой выборках. Распределения на двух выборках полностью совпадают, соответственно, данные подоходят для создания прототипа модели.\n",
    "- Суммарная концентрация металлов на каждом этапе увеличивается, а также уменьшается разброс данных.\n",
    "\n",
    "3) Результат обучения модели:\n",
    "Лучшая модель - LinearRegression() с итоговым sMAPE = 8.88.\n",
    "На тестирование получили итоговый sMAPE = 7.12. \n",
    "Константная модель показала хороший результат итоговый sMAPE = 8.47."
   ]
  }
 ],
 "metadata": {
  "ExecuteTimeLog": [
   {
    "duration": 1541,
    "start_time": "2024-06-10T08:17:31.463Z"
   },
   {
    "duration": 1243,
    "start_time": "2024-06-10T08:17:33.006Z"
   },
   {
    "duration": 8,
    "start_time": "2024-06-10T08:17:34.251Z"
   },
   {
    "duration": 13,
    "start_time": "2024-06-10T08:17:34.261Z"
   },
   {
    "duration": 23,
    "start_time": "2024-06-10T08:17:34.276Z"
   },
   {
    "duration": 5,
    "start_time": "2024-06-10T08:17:34.301Z"
   },
   {
    "duration": 8,
    "start_time": "2024-06-10T08:17:34.307Z"
   },
   {
    "duration": 32,
    "start_time": "2024-06-10T08:17:34.316Z"
   },
   {
    "duration": 17,
    "start_time": "2024-06-10T08:17:34.349Z"
   },
   {
    "duration": 4,
    "start_time": "2024-06-10T08:17:34.369Z"
   },
   {
    "duration": 6,
    "start_time": "2024-06-10T08:17:34.374Z"
   },
   {
    "duration": 5557,
    "start_time": "2024-06-10T08:17:34.381Z"
   },
   {
    "duration": 2,
    "start_time": "2024-06-10T08:17:39.940Z"
   },
   {
    "duration": 10473,
    "start_time": "2024-06-10T08:17:39.943Z"
   },
   {
    "duration": 13,
    "start_time": "2024-06-10T08:17:50.417Z"
   },
   {
    "duration": 237,
    "start_time": "2024-06-10T08:17:50.431Z"
   },
   {
    "duration": 2076,
    "start_time": "2024-06-10T08:17:50.670Z"
   },
   {
    "duration": 2069,
    "start_time": "2024-06-10T08:17:52.748Z"
   },
   {
    "duration": 2077,
    "start_time": "2024-06-10T08:17:54.819Z"
   },
   {
    "duration": 36,
    "start_time": "2024-06-10T08:17:56.897Z"
   },
   {
    "duration": 787,
    "start_time": "2024-06-10T08:17:56.935Z"
   },
   {
    "duration": 3,
    "start_time": "2024-06-10T08:17:57.724Z"
   },
   {
    "duration": 289,
    "start_time": "2024-06-10T08:17:57.728Z"
   },
   {
    "duration": 295,
    "start_time": "2024-06-10T08:17:58.019Z"
   },
   {
    "duration": 290,
    "start_time": "2024-06-10T08:17:58.315Z"
   },
   {
    "duration": 300,
    "start_time": "2024-06-10T08:17:58.612Z"
   },
   {
    "duration": 3,
    "start_time": "2024-06-10T08:17:58.913Z"
   },
   {
    "duration": 9,
    "start_time": "2024-06-10T08:17:58.919Z"
   },
   {
    "duration": 20,
    "start_time": "2024-06-10T08:17:58.929Z"
   },
   {
    "duration": 38,
    "start_time": "2024-06-10T08:17:58.950Z"
   },
   {
    "duration": 3,
    "start_time": "2024-06-10T08:17:58.989Z"
   },
   {
    "duration": 190,
    "start_time": "2024-06-10T08:17:58.993Z"
   },
   {
    "duration": 29140,
    "start_time": "2024-06-10T08:17:59.184Z"
   },
   {
    "duration": 9,
    "start_time": "2024-06-10T08:18:28.325Z"
   },
   {
    "duration": 0,
    "start_time": "2024-06-10T08:18:28.335Z"
   },
   {
    "duration": 0,
    "start_time": "2024-06-10T08:18:28.336Z"
   },
   {
    "duration": 0,
    "start_time": "2024-06-10T08:18:28.337Z"
   },
   {
    "duration": 0,
    "start_time": "2024-06-10T08:18:28.337Z"
   },
   {
    "duration": 0,
    "start_time": "2024-06-10T08:18:28.338Z"
   },
   {
    "duration": 0,
    "start_time": "2024-06-10T08:18:28.339Z"
   },
   {
    "duration": 0,
    "start_time": "2024-06-10T08:18:28.340Z"
   },
   {
    "duration": 0,
    "start_time": "2024-06-10T08:18:28.340Z"
   },
   {
    "duration": 0,
    "start_time": "2024-06-10T08:18:28.341Z"
   },
   {
    "duration": 0,
    "start_time": "2024-06-10T08:18:28.342Z"
   },
   {
    "duration": 0,
    "start_time": "2024-06-10T08:18:28.343Z"
   },
   {
    "duration": 0,
    "start_time": "2024-06-10T08:18:28.344Z"
   },
   {
    "duration": 28481,
    "start_time": "2024-06-10T08:18:48.170Z"
   },
   {
    "duration": 29404,
    "start_time": "2024-06-10T08:19:16.653Z"
   },
   {
    "duration": 4,
    "start_time": "2024-06-10T08:19:46.058Z"
   },
   {
    "duration": 45737,
    "start_time": "2024-06-10T08:19:46.064Z"
   },
   {
    "duration": 46038,
    "start_time": "2024-06-10T08:20:31.803Z"
   },
   {
    "duration": 4,
    "start_time": "2024-06-10T08:21:17.842Z"
   },
   {
    "duration": 1865,
    "start_time": "2024-06-10T08:21:17.847Z"
   },
   {
    "duration": 1903,
    "start_time": "2024-06-10T08:21:19.715Z"
   },
   {
    "duration": 92,
    "start_time": "2024-06-10T08:21:21.620Z"
   },
   {
    "duration": 1343,
    "start_time": "2024-06-10T08:21:21.715Z"
   },
   {
    "duration": 3,
    "start_time": "2024-06-10T08:21:23.059Z"
   },
   {
    "duration": 32,
    "start_time": "2024-06-10T08:21:23.063Z"
   },
   {
    "duration": 23,
    "start_time": "2024-06-10T08:21:23.097Z"
   },
   {
    "duration": 7077,
    "start_time": "2024-06-10T08:21:23.122Z"
   },
   {
    "duration": 13,
    "start_time": "2024-06-10T08:21:30.201Z"
   },
   {
    "duration": 55,
    "start_time": "2024-06-10T08:21:38.586Z"
   },
   {
    "duration": 56,
    "start_time": "2024-06-10T08:21:52.018Z"
   },
   {
    "duration": 1684,
    "start_time": "2024-06-10T09:43:47.798Z"
   },
   {
    "duration": 4038,
    "start_time": "2024-06-10T09:43:53.789Z"
   },
   {
    "duration": 7,
    "start_time": "2024-06-10T09:44:02.330Z"
   },
   {
    "duration": 11,
    "start_time": "2024-06-10T09:44:04.115Z"
   },
   {
    "duration": 6,
    "start_time": "2024-06-10T09:44:05.219Z"
   },
   {
    "duration": 6,
    "start_time": "2024-06-10T09:44:07.499Z"
   },
   {
    "duration": 2,
    "start_time": "2024-06-10T09:48:20.541Z"
   },
   {
    "duration": 22,
    "start_time": "2024-06-10T09:48:30.849Z"
   },
   {
    "duration": 6,
    "start_time": "2024-06-10T09:48:34.682Z"
   },
   {
    "duration": 5,
    "start_time": "2024-06-10T09:48:35.622Z"
   },
   {
    "duration": 16785,
    "start_time": "2024-06-10T09:48:38.012Z"
   },
   {
    "duration": 31346,
    "start_time": "2024-06-10T09:48:56.120Z"
   },
   {
    "duration": 15,
    "start_time": "2024-06-10T09:49:29.586Z"
   },
   {
    "duration": 240,
    "start_time": "2024-06-10T09:49:38.081Z"
   },
   {
    "duration": 2363,
    "start_time": "2024-06-10T09:49:47.153Z"
   },
   {
    "duration": 2235,
    "start_time": "2024-06-10T09:49:53.350Z"
   },
   {
    "duration": 2324,
    "start_time": "2024-06-10T09:50:02.556Z"
   },
   {
    "duration": 34,
    "start_time": "2024-06-10T09:50:09.376Z"
   },
   {
    "duration": 786,
    "start_time": "2024-06-10T09:50:14.677Z"
   },
   {
    "duration": 4,
    "start_time": "2024-06-10T09:50:20.129Z"
   },
   {
    "duration": 250,
    "start_time": "2024-06-10T09:50:22.448Z"
   },
   {
    "duration": 232,
    "start_time": "2024-06-10T09:50:25.216Z"
   },
   {
    "duration": 244,
    "start_time": "2024-06-10T09:50:28.092Z"
   },
   {
    "duration": 243,
    "start_time": "2024-06-10T09:50:31.290Z"
   },
   {
    "duration": 3,
    "start_time": "2024-06-10T09:50:38.003Z"
   },
   {
    "duration": 3,
    "start_time": "2024-06-10T09:50:39.465Z"
   },
   {
    "duration": 124,
    "start_time": "2024-06-10T09:53:52.926Z"
   },
   {
    "duration": 6,
    "start_time": "2024-06-10T09:55:17.166Z"
   },
   {
    "duration": 2,
    "start_time": "2024-06-10T09:55:28.599Z"
   },
   {
    "duration": 33,
    "start_time": "2024-06-10T09:56:48.315Z"
   },
   {
    "duration": 3,
    "start_time": "2024-06-10T09:56:53.904Z"
   },
   {
    "duration": 21910,
    "start_time": "2024-06-10T09:57:04.240Z"
   },
   {
    "duration": 22366,
    "start_time": "2024-06-10T09:57:47.846Z"
   },
   {
    "duration": 4,
    "start_time": "2024-06-10T09:58:15.106Z"
   },
   {
    "duration": 33003,
    "start_time": "2024-06-10T09:58:29.522Z"
   },
   {
    "duration": 33136,
    "start_time": "2024-06-10T09:59:11.714Z"
   },
   {
    "duration": 4,
    "start_time": "2024-06-10T09:59:49.169Z"
   },
   {
    "duration": 2346,
    "start_time": "2024-06-10T09:59:52.715Z"
   },
   {
    "duration": 1777,
    "start_time": "2024-06-10T09:59:57.291Z"
   },
   {
    "duration": 5,
    "start_time": "2024-06-10T10:00:03.977Z"
   },
   {
    "duration": 392,
    "start_time": "2024-06-10T10:00:40.797Z"
   },
   {
    "duration": 25,
    "start_time": "2024-06-10T10:02:00.268Z"
   },
   {
    "duration": 1456,
    "start_time": "2024-06-10T10:03:46.705Z"
   },
   {
    "duration": 1181,
    "start_time": "2024-06-10T10:03:49.839Z"
   },
   {
    "duration": 8,
    "start_time": "2024-06-10T10:03:52.368Z"
   },
   {
    "duration": 13,
    "start_time": "2024-06-10T10:03:52.897Z"
   },
   {
    "duration": 5,
    "start_time": "2024-06-10T10:03:53.920Z"
   },
   {
    "duration": 8,
    "start_time": "2024-06-10T10:03:55.891Z"
   },
   {
    "duration": 3,
    "start_time": "2024-06-10T10:04:05.064Z"
   },
   {
    "duration": 23,
    "start_time": "2024-06-10T10:04:07.513Z"
   },
   {
    "duration": 5,
    "start_time": "2024-06-10T10:04:08.030Z"
   },
   {
    "duration": 5,
    "start_time": "2024-06-10T10:04:08.604Z"
   },
   {
    "duration": 15305,
    "start_time": "2024-06-10T10:04:09.730Z"
   },
   {
    "duration": 32589,
    "start_time": "2024-06-10T10:04:25.038Z"
   },
   {
    "duration": 16,
    "start_time": "2024-06-10T10:04:57.629Z"
   },
   {
    "duration": 249,
    "start_time": "2024-06-10T10:04:57.657Z"
   },
   {
    "duration": 2293,
    "start_time": "2024-06-10T10:04:57.908Z"
   },
   {
    "duration": 2275,
    "start_time": "2024-06-10T10:05:00.203Z"
   },
   {
    "duration": 2345,
    "start_time": "2024-06-10T10:05:02.479Z"
   },
   {
    "duration": 35,
    "start_time": "2024-06-10T10:05:04.826Z"
   },
   {
    "duration": 813,
    "start_time": "2024-06-10T10:05:04.863Z"
   },
   {
    "duration": 4,
    "start_time": "2024-06-10T10:05:05.679Z"
   },
   {
    "duration": 346,
    "start_time": "2024-06-10T10:05:05.684Z"
   },
   {
    "duration": 284,
    "start_time": "2024-06-10T10:05:06.031Z"
   },
   {
    "duration": 251,
    "start_time": "2024-06-10T10:05:06.317Z"
   },
   {
    "duration": 272,
    "start_time": "2024-06-10T10:05:06.570Z"
   },
   {
    "duration": 3,
    "start_time": "2024-06-10T10:05:06.844Z"
   },
   {
    "duration": 21,
    "start_time": "2024-06-10T10:05:06.849Z"
   },
   {
    "duration": 19,
    "start_time": "2024-06-10T10:05:06.871Z"
   },
   {
    "duration": 33,
    "start_time": "2024-06-10T10:05:06.892Z"
   },
   {
    "duration": 54,
    "start_time": "2024-06-10T10:05:06.927Z"
   },
   {
    "duration": 2,
    "start_time": "2024-06-10T10:05:06.983Z"
   },
   {
    "duration": 22248,
    "start_time": "2024-06-10T10:05:06.987Z"
   },
   {
    "duration": 22432,
    "start_time": "2024-06-10T10:05:29.237Z"
   },
   {
    "duration": 4,
    "start_time": "2024-06-10T10:05:51.671Z"
   },
   {
    "duration": 32751,
    "start_time": "2024-06-10T10:05:51.677Z"
   },
   {
    "duration": 33258,
    "start_time": "2024-06-10T10:06:24.430Z"
   },
   {
    "duration": 5,
    "start_time": "2024-06-10T10:06:57.690Z"
   },
   {
    "duration": 2465,
    "start_time": "2024-06-10T10:06:57.696Z"
   },
   {
    "duration": 2390,
    "start_time": "2024-06-10T10:07:00.169Z"
   },
   {
    "duration": 95,
    "start_time": "2024-06-10T10:07:02.561Z"
   },
   {
    "duration": 184,
    "start_time": "2024-06-10T10:07:02.658Z"
   },
   {
    "duration": 0,
    "start_time": "2024-06-10T10:07:02.843Z"
   },
   {
    "duration": 28,
    "start_time": "2024-06-10T10:08:24.906Z"
   },
   {
    "duration": 1512,
    "start_time": "2024-06-10T10:09:03.447Z"
   },
   {
    "duration": 1155,
    "start_time": "2024-06-10T10:09:05.633Z"
   },
   {
    "duration": 9,
    "start_time": "2024-06-10T10:09:06.910Z"
   },
   {
    "duration": 12,
    "start_time": "2024-06-10T10:09:07.144Z"
   },
   {
    "duration": 5,
    "start_time": "2024-06-10T10:09:07.687Z"
   },
   {
    "duration": 5,
    "start_time": "2024-06-10T10:09:08.669Z"
   },
   {
    "duration": 3,
    "start_time": "2024-06-10T10:09:10.167Z"
   },
   {
    "duration": 21,
    "start_time": "2024-06-10T10:09:12.337Z"
   },
   {
    "duration": 5,
    "start_time": "2024-06-10T10:09:12.634Z"
   },
   {
    "duration": 5,
    "start_time": "2024-06-10T10:09:12.905Z"
   },
   {
    "duration": 14050,
    "start_time": "2024-06-10T10:09:13.473Z"
   },
   {
    "duration": 31820,
    "start_time": "2024-06-10T10:09:27.525Z"
   },
   {
    "duration": 19,
    "start_time": "2024-06-10T10:09:59.347Z"
   },
   {
    "duration": 260,
    "start_time": "2024-06-10T10:09:59.368Z"
   },
   {
    "duration": 2273,
    "start_time": "2024-06-10T10:09:59.630Z"
   },
   {
    "duration": 2184,
    "start_time": "2024-06-10T10:10:01.904Z"
   },
   {
    "duration": 2246,
    "start_time": "2024-06-10T10:10:04.090Z"
   },
   {
    "duration": 33,
    "start_time": "2024-06-10T10:10:06.337Z"
   },
   {
    "duration": 783,
    "start_time": "2024-06-10T10:10:06.372Z"
   },
   {
    "duration": 4,
    "start_time": "2024-06-10T10:10:07.158Z"
   },
   {
    "duration": 287,
    "start_time": "2024-06-10T10:10:07.163Z"
   },
   {
    "duration": 255,
    "start_time": "2024-06-10T10:10:07.452Z"
   },
   {
    "duration": 254,
    "start_time": "2024-06-10T10:10:07.708Z"
   },
   {
    "duration": 247,
    "start_time": "2024-06-10T10:10:07.964Z"
   },
   {
    "duration": 4,
    "start_time": "2024-06-10T10:10:08.213Z"
   },
   {
    "duration": 9,
    "start_time": "2024-06-10T10:10:08.219Z"
   },
   {
    "duration": 9,
    "start_time": "2024-06-10T10:10:08.229Z"
   },
   {
    "duration": 17,
    "start_time": "2024-06-10T10:10:08.239Z"
   },
   {
    "duration": 35,
    "start_time": "2024-06-10T10:10:08.257Z"
   },
   {
    "duration": 2,
    "start_time": "2024-06-10T10:10:08.294Z"
   },
   {
    "duration": 22036,
    "start_time": "2024-06-10T10:10:08.298Z"
   },
   {
    "duration": 22711,
    "start_time": "2024-06-10T10:10:30.336Z"
   },
   {
    "duration": 4,
    "start_time": "2024-06-10T10:10:53.049Z"
   },
   {
    "duration": 33171,
    "start_time": "2024-06-10T10:10:53.056Z"
   },
   {
    "duration": 33159,
    "start_time": "2024-06-10T10:11:26.229Z"
   },
   {
    "duration": 4,
    "start_time": "2024-06-10T10:11:59.390Z"
   },
   {
    "duration": 2264,
    "start_time": "2024-06-10T10:11:59.396Z"
   },
   {
    "duration": 2592,
    "start_time": "2024-06-10T10:12:01.664Z"
   },
   {
    "duration": 98,
    "start_time": "2024-06-10T10:12:04.258Z"
   },
   {
    "duration": 12,
    "start_time": "2024-06-10T10:12:04.357Z"
   },
   {
    "duration": 122,
    "start_time": "2024-06-10T10:12:10.898Z"
   },
   {
    "duration": 1016,
    "start_time": "2024-06-10T10:13:05.631Z"
   },
   {
    "duration": 2,
    "start_time": "2024-06-10T10:13:46.383Z"
   },
   {
    "duration": 3,
    "start_time": "2024-06-10T10:13:55.379Z"
   },
   {
    "duration": 4,
    "start_time": "2024-06-10T10:14:34.371Z"
   },
   {
    "duration": 3225,
    "start_time": "2024-06-10T10:14:36.271Z"
   },
   {
    "duration": 1523,
    "start_time": "2024-06-10T10:16:18.731Z"
   },
   {
    "duration": 1155,
    "start_time": "2024-06-10T10:16:20.280Z"
   },
   {
    "duration": 8,
    "start_time": "2024-06-10T10:16:22.764Z"
   },
   {
    "duration": 10,
    "start_time": "2024-06-10T10:16:23.159Z"
   },
   {
    "duration": 5,
    "start_time": "2024-06-10T10:16:23.878Z"
   },
   {
    "duration": 5,
    "start_time": "2024-06-10T10:16:24.929Z"
   },
   {
    "duration": 2,
    "start_time": "2024-06-10T10:16:26.264Z"
   },
   {
    "duration": 30,
    "start_time": "2024-06-10T10:16:27.854Z"
   },
   {
    "duration": 5,
    "start_time": "2024-06-10T10:16:28.159Z"
   },
   {
    "duration": 6,
    "start_time": "2024-06-10T10:16:28.433Z"
   },
   {
    "duration": 14601,
    "start_time": "2024-06-10T10:16:29.015Z"
   },
   {
    "duration": 32130,
    "start_time": "2024-06-10T10:16:43.618Z"
   },
   {
    "duration": 15,
    "start_time": "2024-06-10T10:17:15.750Z"
   },
   {
    "duration": 250,
    "start_time": "2024-06-10T10:17:15.767Z"
   },
   {
    "duration": 2272,
    "start_time": "2024-06-10T10:17:16.019Z"
   },
   {
    "duration": 2208,
    "start_time": "2024-06-10T10:17:18.293Z"
   },
   {
    "duration": 2245,
    "start_time": "2024-06-10T10:17:20.503Z"
   },
   {
    "duration": 35,
    "start_time": "2024-06-10T10:17:22.749Z"
   },
   {
    "duration": 786,
    "start_time": "2024-06-10T10:17:22.785Z"
   },
   {
    "duration": 4,
    "start_time": "2024-06-10T10:17:23.574Z"
   },
   {
    "duration": 295,
    "start_time": "2024-06-10T10:17:23.580Z"
   },
   {
    "duration": 262,
    "start_time": "2024-06-10T10:17:23.876Z"
   },
   {
    "duration": 287,
    "start_time": "2024-06-10T10:17:24.140Z"
   },
   {
    "duration": 289,
    "start_time": "2024-06-10T10:17:24.429Z"
   },
   {
    "duration": 5,
    "start_time": "2024-06-10T10:17:24.720Z"
   },
   {
    "duration": 35,
    "start_time": "2024-06-10T10:17:24.726Z"
   },
   {
    "duration": 45,
    "start_time": "2024-06-10T10:17:24.763Z"
   },
   {
    "duration": 43,
    "start_time": "2024-06-10T10:17:24.810Z"
   },
   {
    "duration": 42,
    "start_time": "2024-06-10T10:17:24.855Z"
   },
   {
    "duration": 3,
    "start_time": "2024-06-10T10:17:24.899Z"
   },
   {
    "duration": 22373,
    "start_time": "2024-06-10T10:17:24.904Z"
   },
   {
    "duration": 22699,
    "start_time": "2024-06-10T10:17:47.279Z"
   },
   {
    "duration": 5,
    "start_time": "2024-06-10T10:18:09.980Z"
   },
   {
    "duration": 33310,
    "start_time": "2024-06-10T10:18:09.987Z"
   },
   {
    "duration": 33417,
    "start_time": "2024-06-10T10:18:43.299Z"
   },
   {
    "duration": 5,
    "start_time": "2024-06-10T10:19:16.718Z"
   },
   {
    "duration": 2038,
    "start_time": "2024-06-10T10:19:16.724Z"
   },
   {
    "duration": 2107,
    "start_time": "2024-06-10T10:19:18.855Z"
   },
   {
    "duration": 91,
    "start_time": "2024-06-10T10:19:20.966Z"
   },
   {
    "duration": 98,
    "start_time": "2024-06-10T10:19:21.059Z"
   },
   {
    "duration": 1081,
    "start_time": "2024-06-10T10:19:21.159Z"
   },
   {
    "duration": 3,
    "start_time": "2024-06-10T10:19:22.242Z"
   },
   {
    "duration": 10,
    "start_time": "2024-06-10T10:19:22.246Z"
   },
   {
    "duration": 5,
    "start_time": "2024-06-10T10:19:22.257Z"
   },
   {
    "duration": 3310,
    "start_time": "2024-06-10T10:19:22.264Z"
   },
   {
    "duration": 0,
    "start_time": "2024-06-10T10:19:25.576Z"
   },
   {
    "duration": 5,
    "start_time": "2024-06-10T10:22:52.585Z"
   },
   {
    "duration": 3243,
    "start_time": "2024-06-10T10:22:55.537Z"
   },
   {
    "duration": 4,
    "start_time": "2024-06-10T10:25:18.425Z"
   },
   {
    "duration": 3,
    "start_time": "2024-06-10T10:25:21.290Z"
   },
   {
    "duration": 4,
    "start_time": "2024-06-10T10:25:21.864Z"
   },
   {
    "duration": 3174,
    "start_time": "2024-06-10T10:25:22.544Z"
   },
   {
    "duration": 3,
    "start_time": "2024-06-10T10:26:05.489Z"
   },
   {
    "duration": 2,
    "start_time": "2024-06-10T10:26:10.178Z"
   },
   {
    "duration": 4,
    "start_time": "2024-06-10T10:26:10.711Z"
   },
   {
    "duration": 3202,
    "start_time": "2024-06-10T10:26:11.369Z"
   },
   {
    "duration": 51,
    "start_time": "2024-06-10T10:27:29.927Z"
   },
   {
    "duration": 15,
    "start_time": "2024-06-10T10:28:01.577Z"
   },
   {
    "duration": 14,
    "start_time": "2024-06-10T10:28:35.938Z"
   },
   {
    "duration": 3,
    "start_time": "2024-06-10T10:29:16.264Z"
   },
   {
    "duration": 3,
    "start_time": "2024-06-10T10:29:17.759Z"
   },
   {
    "duration": 4,
    "start_time": "2024-06-10T10:29:17.764Z"
   },
   {
    "duration": 3209,
    "start_time": "2024-06-10T10:29:18.385Z"
   },
   {
    "duration": 1075,
    "start_time": "2024-06-10T10:30:09.099Z"
   },
   {
    "duration": 4,
    "start_time": "2024-06-10T10:30:39.679Z"
   },
   {
    "duration": 248,
    "start_time": "2024-06-10T10:30:51.813Z"
   },
   {
    "duration": 15,
    "start_time": "2024-06-10T10:35:30.696Z"
   },
   {
    "duration": 3,
    "start_time": "2024-06-10T10:35:36.770Z"
   },
   {
    "duration": 5,
    "start_time": "2024-06-10T10:35:37.352Z"
   },
   {
    "duration": 3232,
    "start_time": "2024-06-10T10:35:38.159Z"
   },
   {
    "duration": 34,
    "start_time": "2024-06-10T10:36:16.490Z"
   },
   {
    "duration": 9,
    "start_time": "2024-06-10T10:38:07.482Z"
   },
   {
    "duration": 1448,
    "start_time": "2024-06-10T10:38:41.192Z"
   },
   {
    "duration": 1146,
    "start_time": "2024-06-10T10:38:42.866Z"
   },
   {
    "duration": 8,
    "start_time": "2024-06-10T10:38:44.203Z"
   },
   {
    "duration": 12,
    "start_time": "2024-06-10T10:38:44.464Z"
   },
   {
    "duration": 6,
    "start_time": "2024-06-10T10:38:45.004Z"
   },
   {
    "duration": 5,
    "start_time": "2024-06-10T10:38:45.870Z"
   },
   {
    "duration": 2,
    "start_time": "2024-06-10T10:38:47.154Z"
   },
   {
    "duration": 22,
    "start_time": "2024-06-10T10:38:48.520Z"
   },
   {
    "duration": 5,
    "start_time": "2024-06-10T10:38:48.761Z"
   },
   {
    "duration": 6,
    "start_time": "2024-06-10T10:38:49.054Z"
   },
   {
    "duration": 15153,
    "start_time": "2024-06-10T10:38:49.529Z"
   },
   {
    "duration": 33151,
    "start_time": "2024-06-10T10:39:04.684Z"
   },
   {
    "duration": 26,
    "start_time": "2024-06-10T10:39:37.837Z"
   },
   {
    "duration": 248,
    "start_time": "2024-06-10T10:39:37.866Z"
   },
   {
    "duration": 2293,
    "start_time": "2024-06-10T10:39:38.116Z"
   },
   {
    "duration": 2277,
    "start_time": "2024-06-10T10:39:40.411Z"
   },
   {
    "duration": 2201,
    "start_time": "2024-06-10T10:39:42.691Z"
   },
   {
    "duration": 35,
    "start_time": "2024-06-10T10:39:44.894Z"
   },
   {
    "duration": 706,
    "start_time": "2024-06-10T10:39:44.930Z"
   },
   {
    "duration": 4,
    "start_time": "2024-06-10T10:39:45.640Z"
   },
   {
    "duration": 277,
    "start_time": "2024-06-10T10:39:45.646Z"
   },
   {
    "duration": 251,
    "start_time": "2024-06-10T10:39:45.925Z"
   },
   {
    "duration": 258,
    "start_time": "2024-06-10T10:39:46.178Z"
   },
   {
    "duration": 262,
    "start_time": "2024-06-10T10:39:46.437Z"
   },
   {
    "duration": 3,
    "start_time": "2024-06-10T10:39:46.701Z"
   },
   {
    "duration": 36,
    "start_time": "2024-06-10T10:39:46.706Z"
   },
   {
    "duration": 31,
    "start_time": "2024-06-10T10:39:46.744Z"
   },
   {
    "duration": 9,
    "start_time": "2024-06-10T10:39:46.777Z"
   },
   {
    "duration": 39,
    "start_time": "2024-06-10T10:39:46.788Z"
   },
   {
    "duration": 3,
    "start_time": "2024-06-10T10:39:46.829Z"
   },
   {
    "duration": 21862,
    "start_time": "2024-06-10T10:39:46.834Z"
   },
   {
    "duration": 22472,
    "start_time": "2024-06-10T10:40:08.697Z"
   },
   {
    "duration": 5,
    "start_time": "2024-06-10T10:40:31.171Z"
   },
   {
    "duration": 32999,
    "start_time": "2024-06-10T10:40:31.177Z"
   },
   {
    "duration": 33537,
    "start_time": "2024-06-10T10:41:04.178Z"
   },
   {
    "duration": 3,
    "start_time": "2024-06-10T10:41:37.717Z"
   },
   {
    "duration": 2135,
    "start_time": "2024-06-10T10:41:37.722Z"
   },
   {
    "duration": 2594,
    "start_time": "2024-06-10T10:41:39.862Z"
   },
   {
    "duration": 7,
    "start_time": "2024-06-10T10:41:42.458Z"
   },
   {
    "duration": 7,
    "start_time": "2024-06-10T10:41:42.556Z"
   },
   {
    "duration": 1108,
    "start_time": "2024-06-10T10:41:42.564Z"
   },
   {
    "duration": 12,
    "start_time": "2024-06-10T10:41:43.674Z"
   },
   {
    "duration": 139,
    "start_time": "2024-06-10T10:41:43.688Z"
   },
   {
    "duration": 0,
    "start_time": "2024-06-10T10:41:43.829Z"
   },
   {
    "duration": 0,
    "start_time": "2024-06-10T10:41:43.830Z"
   },
   {
    "duration": 0,
    "start_time": "2024-06-10T10:41:43.831Z"
   },
   {
    "duration": 0,
    "start_time": "2024-06-10T10:41:43.832Z"
   },
   {
    "duration": 0,
    "start_time": "2024-06-10T10:41:43.833Z"
   },
   {
    "duration": 4,
    "start_time": "2024-06-10T10:43:04.424Z"
   },
   {
    "duration": 22,
    "start_time": "2024-06-10T10:43:06.784Z"
   },
   {
    "duration": 3,
    "start_time": "2024-06-10T10:43:09.722Z"
   },
   {
    "duration": 4,
    "start_time": "2024-06-10T10:43:10.330Z"
   },
   {
    "duration": 3228,
    "start_time": "2024-06-10T10:43:11.848Z"
   },
   {
    "duration": 4,
    "start_time": "2024-06-10T10:44:22.049Z"
   },
   {
    "duration": 23,
    "start_time": "2024-06-10T10:44:23.107Z"
   },
   {
    "duration": 3,
    "start_time": "2024-06-10T10:44:30.658Z"
   },
   {
    "duration": 4,
    "start_time": "2024-06-10T10:44:31.195Z"
   },
   {
    "duration": 3203,
    "start_time": "2024-06-10T10:44:31.826Z"
   },
   {
    "duration": 4,
    "start_time": "2024-06-10T10:46:13.227Z"
   },
   {
    "duration": 22,
    "start_time": "2024-06-10T10:46:14.568Z"
   },
   {
    "duration": 3,
    "start_time": "2024-06-10T10:46:16.090Z"
   },
   {
    "duration": 5,
    "start_time": "2024-06-10T10:46:16.683Z"
   },
   {
    "duration": 2994,
    "start_time": "2024-06-10T10:46:17.511Z"
   },
   {
    "duration": 8,
    "start_time": "2024-06-10T11:00:53.782Z"
   },
   {
    "duration": 1076,
    "start_time": "2024-06-10T11:01:12.358Z"
   },
   {
    "duration": 7,
    "start_time": "2024-06-10T11:01:24.678Z"
   },
   {
    "duration": 11,
    "start_time": "2024-06-10T11:25:58.580Z"
   },
   {
    "duration": 5,
    "start_time": "2024-06-10T11:26:42.333Z"
   },
   {
    "duration": 1514,
    "start_time": "2024-06-10T11:27:11.724Z"
   },
   {
    "duration": 1183,
    "start_time": "2024-06-10T11:27:14.709Z"
   },
   {
    "duration": 8,
    "start_time": "2024-06-10T11:27:17.323Z"
   },
   {
    "duration": 10,
    "start_time": "2024-06-10T11:27:17.651Z"
   },
   {
    "duration": 6,
    "start_time": "2024-06-10T11:27:18.082Z"
   },
   {
    "duration": 8,
    "start_time": "2024-06-10T11:27:18.891Z"
   },
   {
    "duration": 3,
    "start_time": "2024-06-10T11:27:19.939Z"
   },
   {
    "duration": 21,
    "start_time": "2024-06-10T11:27:21.254Z"
   },
   {
    "duration": 7,
    "start_time": "2024-06-10T11:27:21.487Z"
   },
   {
    "duration": 5,
    "start_time": "2024-06-10T11:27:21.746Z"
   },
   {
    "duration": 14191,
    "start_time": "2024-06-10T11:27:22.210Z"
   },
   {
    "duration": 32684,
    "start_time": "2024-06-10T11:27:36.403Z"
   },
   {
    "duration": 15,
    "start_time": "2024-06-10T11:28:09.089Z"
   },
   {
    "duration": 257,
    "start_time": "2024-06-10T11:28:09.106Z"
   },
   {
    "duration": 2347,
    "start_time": "2024-06-10T11:28:09.365Z"
   },
   {
    "duration": 2254,
    "start_time": "2024-06-10T11:28:11.713Z"
   },
   {
    "duration": 2247,
    "start_time": "2024-06-10T11:28:13.969Z"
   },
   {
    "duration": 33,
    "start_time": "2024-06-10T11:28:16.217Z"
   },
   {
    "duration": 802,
    "start_time": "2024-06-10T11:28:16.251Z"
   },
   {
    "duration": 4,
    "start_time": "2024-06-10T11:28:17.058Z"
   },
   {
    "duration": 3661,
    "start_time": "2024-06-10T11:28:17.064Z"
   },
   {
    "duration": 258,
    "start_time": "2024-06-10T11:28:20.727Z"
   },
   {
    "duration": 283,
    "start_time": "2024-06-10T11:28:20.986Z"
   },
   {
    "duration": 258,
    "start_time": "2024-06-10T11:28:21.271Z"
   },
   {
    "duration": 3,
    "start_time": "2024-06-10T11:28:21.531Z"
   },
   {
    "duration": 7,
    "start_time": "2024-06-10T11:28:21.536Z"
   },
   {
    "duration": 12,
    "start_time": "2024-06-10T11:28:21.544Z"
   },
   {
    "duration": 16,
    "start_time": "2024-06-10T11:28:21.557Z"
   },
   {
    "duration": 33,
    "start_time": "2024-06-10T11:28:21.575Z"
   },
   {
    "duration": 3,
    "start_time": "2024-06-10T11:28:21.609Z"
   },
   {
    "duration": 22100,
    "start_time": "2024-06-10T11:28:21.613Z"
   },
   {
    "duration": 22683,
    "start_time": "2024-06-10T11:28:43.715Z"
   },
   {
    "duration": 4,
    "start_time": "2024-06-10T11:29:06.400Z"
   },
   {
    "duration": 32998,
    "start_time": "2024-06-10T11:29:06.406Z"
   },
   {
    "duration": 33182,
    "start_time": "2024-06-10T11:29:39.406Z"
   },
   {
    "duration": 4,
    "start_time": "2024-06-10T11:30:12.590Z"
   },
   {
    "duration": 2370,
    "start_time": "2024-06-10T11:30:12.596Z"
   },
   {
    "duration": 2693,
    "start_time": "2024-06-10T11:30:15.063Z"
   },
   {
    "duration": 6,
    "start_time": "2024-06-10T11:30:17.758Z"
   },
   {
    "duration": 13,
    "start_time": "2024-06-10T11:30:17.856Z"
   },
   {
    "duration": 1095,
    "start_time": "2024-06-10T11:30:17.871Z"
   },
   {
    "duration": 6,
    "start_time": "2024-06-10T11:30:18.968Z"
   },
   {
    "duration": 46,
    "start_time": "2024-06-10T11:30:18.975Z"
   },
   {
    "duration": 3,
    "start_time": "2024-06-10T11:30:19.023Z"
   },
   {
    "duration": 121,
    "start_time": "2024-06-10T11:30:19.027Z"
   },
   {
    "duration": 3,
    "start_time": "2024-06-10T11:31:49.496Z"
   },
   {
    "duration": 5,
    "start_time": "2024-06-10T11:31:49.929Z"
   },
   {
    "duration": 3213,
    "start_time": "2024-06-10T11:31:50.844Z"
   },
   {
    "duration": 0,
    "start_time": "2024-06-10T11:31:54.059Z"
   },
   {
    "duration": 0,
    "start_time": "2024-06-10T11:31:54.061Z"
   },
   {
    "duration": 9,
    "start_time": "2024-06-10T11:31:54.429Z"
   },
   {
    "duration": 236,
    "start_time": "2024-06-10T11:31:58.556Z"
   },
   {
    "duration": 10,
    "start_time": "2024-06-10T11:32:08.047Z"
   },
   {
    "duration": 105,
    "start_time": "2024-06-10T11:32:09.117Z"
   },
   {
    "duration": 1067,
    "start_time": "2024-06-10T11:59:43.897Z"
   },
   {
    "duration": 8,
    "start_time": "2024-06-10T11:59:54.253Z"
   },
   {
    "duration": 16,
    "start_time": "2024-06-10T12:00:00.553Z"
   },
   {
    "duration": 11,
    "start_time": "2024-06-10T12:00:44.544Z"
   },
   {
    "duration": 9,
    "start_time": "2024-06-10T12:00:58.263Z"
   },
   {
    "duration": 5,
    "start_time": "2024-06-10T12:01:08.823Z"
   },
   {
    "duration": 18,
    "start_time": "2024-06-10T12:01:31.094Z"
   },
   {
    "duration": 12,
    "start_time": "2024-06-10T12:03:47.243Z"
   },
   {
    "duration": 10,
    "start_time": "2024-06-10T12:03:59.860Z"
   },
   {
    "duration": 13,
    "start_time": "2024-06-10T12:04:38.315Z"
   },
   {
    "duration": 11,
    "start_time": "2024-06-10T12:06:34.626Z"
   },
   {
    "duration": 11,
    "start_time": "2024-06-10T12:08:00.099Z"
   },
   {
    "duration": 13,
    "start_time": "2024-06-10T12:08:19.698Z"
   },
   {
    "duration": 10,
    "start_time": "2024-06-10T12:08:53.308Z"
   },
   {
    "duration": 14,
    "start_time": "2024-06-10T12:09:04.376Z"
   },
   {
    "duration": 11,
    "start_time": "2024-06-10T12:09:14.122Z"
   },
   {
    "duration": 11,
    "start_time": "2024-06-10T12:10:43.410Z"
   },
   {
    "duration": 11,
    "start_time": "2024-06-10T12:10:47.939Z"
   },
   {
    "duration": 23,
    "start_time": "2024-06-10T12:11:40.315Z"
   },
   {
    "duration": 65,
    "start_time": "2024-06-10T12:12:07.071Z"
   },
   {
    "duration": 32,
    "start_time": "2024-06-10T12:14:41.756Z"
   },
   {
    "duration": 121,
    "start_time": "2024-06-10T12:14:53.451Z"
   },
   {
    "duration": 3,
    "start_time": "2024-06-10T12:15:01.457Z"
   },
   {
    "duration": 4,
    "start_time": "2024-06-10T12:15:02.077Z"
   },
   {
    "duration": 1491,
    "start_time": "2024-06-10T12:15:02.770Z"
   },
   {
    "duration": 143,
    "start_time": "2024-06-10T12:16:28.620Z"
   },
   {
    "duration": 3,
    "start_time": "2024-06-10T12:16:32.403Z"
   },
   {
    "duration": 5,
    "start_time": "2024-06-10T12:16:32.874Z"
   },
   {
    "duration": 3178,
    "start_time": "2024-06-10T12:16:33.472Z"
   },
   {
    "duration": 157,
    "start_time": "2024-06-10T12:17:45.178Z"
   },
   {
    "duration": 3,
    "start_time": "2024-06-10T12:18:10.195Z"
   },
   {
    "duration": 4,
    "start_time": "2024-06-10T12:18:10.797Z"
   },
   {
    "duration": 3177,
    "start_time": "2024-06-10T12:18:11.305Z"
   },
   {
    "duration": 11,
    "start_time": "2024-06-10T12:22:01.319Z"
   },
   {
    "duration": 9,
    "start_time": "2024-06-10T12:22:22.089Z"
   },
   {
    "duration": 55,
    "start_time": "2024-06-10T12:25:04.161Z"
   },
   {
    "duration": 15,
    "start_time": "2024-06-10T12:25:14.577Z"
   },
   {
    "duration": 55,
    "start_time": "2024-06-10T12:25:15.184Z"
   },
   {
    "duration": 1483,
    "start_time": "2024-06-10T12:25:35.882Z"
   },
   {
    "duration": 1157,
    "start_time": "2024-06-10T12:25:37.539Z"
   },
   {
    "duration": 8,
    "start_time": "2024-06-10T12:25:39.568Z"
   },
   {
    "duration": 10,
    "start_time": "2024-06-10T12:25:39.846Z"
   },
   {
    "duration": 6,
    "start_time": "2024-06-10T12:25:40.371Z"
   },
   {
    "duration": 6,
    "start_time": "2024-06-10T12:25:41.232Z"
   },
   {
    "duration": 3,
    "start_time": "2024-06-10T12:25:42.508Z"
   },
   {
    "duration": 23,
    "start_time": "2024-06-10T12:25:44.016Z"
   },
   {
    "duration": 6,
    "start_time": "2024-06-10T12:25:44.266Z"
   },
   {
    "duration": 6,
    "start_time": "2024-06-10T12:25:44.625Z"
   },
   {
    "duration": 12793,
    "start_time": "2024-06-10T12:25:45.499Z"
   },
   {
    "duration": 31852,
    "start_time": "2024-06-10T12:25:58.294Z"
   },
   {
    "duration": 18,
    "start_time": "2024-06-10T12:26:30.148Z"
   },
   {
    "duration": 321,
    "start_time": "2024-06-10T12:26:30.168Z"
   },
   {
    "duration": 2199,
    "start_time": "2024-06-10T12:26:30.491Z"
   },
   {
    "duration": 2180,
    "start_time": "2024-06-10T12:26:32.692Z"
   },
   {
    "duration": 2332,
    "start_time": "2024-06-10T12:26:34.874Z"
   },
   {
    "duration": 33,
    "start_time": "2024-06-10T12:26:37.208Z"
   },
   {
    "duration": 791,
    "start_time": "2024-06-10T12:26:37.243Z"
   },
   {
    "duration": 4,
    "start_time": "2024-06-10T12:26:38.037Z"
   },
   {
    "duration": 266,
    "start_time": "2024-06-10T12:26:38.043Z"
   },
   {
    "duration": 252,
    "start_time": "2024-06-10T12:26:38.311Z"
   },
   {
    "duration": 261,
    "start_time": "2024-06-10T12:26:38.565Z"
   },
   {
    "duration": 249,
    "start_time": "2024-06-10T12:26:38.827Z"
   },
   {
    "duration": 3,
    "start_time": "2024-06-10T12:26:39.078Z"
   },
   {
    "duration": 5,
    "start_time": "2024-06-10T12:26:39.083Z"
   },
   {
    "duration": 8,
    "start_time": "2024-06-10T12:26:39.089Z"
   },
   {
    "duration": 5,
    "start_time": "2024-06-10T12:26:39.099Z"
   },
   {
    "duration": 52,
    "start_time": "2024-06-10T12:26:39.106Z"
   },
   {
    "duration": 2,
    "start_time": "2024-06-10T12:26:39.160Z"
   },
   {
    "duration": 21772,
    "start_time": "2024-06-10T12:26:39.163Z"
   },
   {
    "duration": 22472,
    "start_time": "2024-06-10T12:27:00.937Z"
   },
   {
    "duration": 4,
    "start_time": "2024-06-10T12:27:23.411Z"
   },
   {
    "duration": 33184,
    "start_time": "2024-06-10T12:27:23.416Z"
   },
   {
    "duration": 33165,
    "start_time": "2024-06-10T12:27:56.601Z"
   },
   {
    "duration": 4,
    "start_time": "2024-06-10T12:28:29.768Z"
   },
   {
    "duration": 2384,
    "start_time": "2024-06-10T12:28:29.773Z"
   },
   {
    "duration": 1992,
    "start_time": "2024-06-10T12:28:32.165Z"
   },
   {
    "duration": 96,
    "start_time": "2024-06-10T12:28:34.159Z"
   },
   {
    "duration": 14,
    "start_time": "2024-06-10T12:28:34.257Z"
   },
   {
    "duration": 1235,
    "start_time": "2024-06-10T12:28:34.272Z"
   },
   {
    "duration": 7,
    "start_time": "2024-06-10T12:28:35.509Z"
   },
   {
    "duration": 14,
    "start_time": "2024-06-10T12:28:35.517Z"
   },
   {
    "duration": 114,
    "start_time": "2024-06-10T12:30:36.471Z"
   },
   {
    "duration": 9,
    "start_time": "2024-06-10T12:30:48.663Z"
   },
   {
    "duration": 784,
    "start_time": "2024-06-10T12:30:55.296Z"
   },
   {
    "duration": 9,
    "start_time": "2024-06-10T12:31:27.455Z"
   },
   {
    "duration": 12,
    "start_time": "2024-06-10T12:31:29.360Z"
   },
   {
    "duration": 12,
    "start_time": "2024-06-10T12:31:36.243Z"
   },
   {
    "duration": 4,
    "start_time": "2024-06-10T12:32:22.384Z"
   },
   {
    "duration": 6,
    "start_time": "2024-06-10T12:32:30.760Z"
   },
   {
    "duration": 3,
    "start_time": "2024-06-10T12:33:25.864Z"
   },
   {
    "duration": 5,
    "start_time": "2024-06-10T12:33:27.025Z"
   },
   {
    "duration": 3037,
    "start_time": "2024-06-10T12:33:27.699Z"
   },
   {
    "duration": 120,
    "start_time": "2024-06-10T12:33:52.753Z"
   },
   {
    "duration": 10,
    "start_time": "2024-06-10T12:33:59.785Z"
   },
   {
    "duration": 14,
    "start_time": "2024-06-10T12:36:42.526Z"
   },
   {
    "duration": 1624,
    "start_time": "2024-06-11T16:46:54.421Z"
   },
   {
    "duration": 909,
    "start_time": "2024-06-11T16:46:56.047Z"
   },
   {
    "duration": 7,
    "start_time": "2024-06-11T16:46:56.957Z"
   },
   {
    "duration": 9,
    "start_time": "2024-06-11T16:46:56.965Z"
   },
   {
    "duration": 6,
    "start_time": "2024-06-11T16:46:56.975Z"
   },
   {
    "duration": 31,
    "start_time": "2024-06-11T16:46:56.982Z"
   },
   {
    "duration": 17,
    "start_time": "2024-06-11T16:46:57.014Z"
   },
   {
    "duration": 5,
    "start_time": "2024-06-11T16:46:57.033Z"
   },
   {
    "duration": 12,
    "start_time": "2024-06-11T16:46:57.040Z"
   },
   {
    "duration": 6074,
    "start_time": "2024-06-11T16:46:57.055Z"
   },
   {
    "duration": 11448,
    "start_time": "2024-06-11T16:47:03.131Z"
   },
   {
    "duration": 13,
    "start_time": "2024-06-11T16:47:14.581Z"
   },
   {
    "duration": 238,
    "start_time": "2024-06-11T16:47:14.595Z"
   },
   {
    "duration": 2220,
    "start_time": "2024-06-11T16:47:14.834Z"
   },
   {
    "duration": 2078,
    "start_time": "2024-06-11T16:47:17.056Z"
   },
   {
    "duration": 2130,
    "start_time": "2024-06-11T16:47:19.136Z"
   },
   {
    "duration": 27,
    "start_time": "2024-06-11T16:47:21.267Z"
   },
   {
    "duration": 797,
    "start_time": "2024-06-11T16:47:21.296Z"
   },
   {
    "duration": 4,
    "start_time": "2024-06-11T16:47:22.095Z"
   },
   {
    "duration": 316,
    "start_time": "2024-06-11T16:47:22.100Z"
   },
   {
    "duration": 301,
    "start_time": "2024-06-11T16:47:22.418Z"
   },
   {
    "duration": 304,
    "start_time": "2024-06-11T16:47:22.720Z"
   },
   {
    "duration": 308,
    "start_time": "2024-06-11T16:47:23.026Z"
   },
   {
    "duration": 4,
    "start_time": "2024-06-11T16:47:23.335Z"
   },
   {
    "duration": 16,
    "start_time": "2024-06-11T16:47:23.341Z"
   },
   {
    "duration": 119,
    "start_time": "2024-06-11T16:47:23.359Z"
   },
   {
    "duration": 0,
    "start_time": "2024-06-11T16:47:23.480Z"
   },
   {
    "duration": 0,
    "start_time": "2024-06-11T16:47:23.481Z"
   },
   {
    "duration": 0,
    "start_time": "2024-06-11T16:47:23.482Z"
   },
   {
    "duration": 0,
    "start_time": "2024-06-11T16:47:23.482Z"
   },
   {
    "duration": 0,
    "start_time": "2024-06-11T16:47:23.483Z"
   },
   {
    "duration": 0,
    "start_time": "2024-06-11T16:47:23.484Z"
   },
   {
    "duration": 0,
    "start_time": "2024-06-11T16:47:23.485Z"
   },
   {
    "duration": 0,
    "start_time": "2024-06-11T16:47:23.486Z"
   },
   {
    "duration": 0,
    "start_time": "2024-06-11T16:47:23.487Z"
   },
   {
    "duration": 0,
    "start_time": "2024-06-11T16:47:23.488Z"
   },
   {
    "duration": 0,
    "start_time": "2024-06-11T16:47:23.489Z"
   },
   {
    "duration": 0,
    "start_time": "2024-06-11T16:47:23.490Z"
   },
   {
    "duration": 0,
    "start_time": "2024-06-11T16:47:23.490Z"
   },
   {
    "duration": 0,
    "start_time": "2024-06-11T16:47:23.491Z"
   },
   {
    "duration": 0,
    "start_time": "2024-06-11T16:47:23.492Z"
   },
   {
    "duration": 1,
    "start_time": "2024-06-11T16:47:23.512Z"
   },
   {
    "duration": 0,
    "start_time": "2024-06-11T16:47:23.514Z"
   },
   {
    "duration": 0,
    "start_time": "2024-06-11T16:47:23.515Z"
   },
   {
    "duration": 0,
    "start_time": "2024-06-11T16:47:23.516Z"
   },
   {
    "duration": 0,
    "start_time": "2024-06-11T16:47:23.517Z"
   },
   {
    "duration": 31,
    "start_time": "2024-06-11T16:47:32.293Z"
   },
   {
    "duration": 3,
    "start_time": "2024-06-11T16:47:38.956Z"
   },
   {
    "duration": 17,
    "start_time": "2024-06-11T16:47:41.884Z"
   },
   {
    "duration": 3,
    "start_time": "2024-06-11T16:47:45.157Z"
   },
   {
    "duration": 9,
    "start_time": "2024-06-11T16:47:49.068Z"
   },
   {
    "duration": 16,
    "start_time": "2024-06-11T16:47:49.517Z"
   },
   {
    "duration": 46,
    "start_time": "2024-06-11T16:47:56.550Z"
   },
   {
    "duration": 9,
    "start_time": "2024-06-11T16:48:40.900Z"
   },
   {
    "duration": 66,
    "start_time": "2024-06-11T16:48:59.084Z"
   },
   {
    "duration": 1677,
    "start_time": "2024-06-11T16:49:32.823Z"
   },
   {
    "duration": 917,
    "start_time": "2024-06-11T16:49:34.502Z"
   },
   {
    "duration": 6,
    "start_time": "2024-06-11T16:49:35.421Z"
   },
   {
    "duration": 14,
    "start_time": "2024-06-11T16:49:35.429Z"
   },
   {
    "duration": 5,
    "start_time": "2024-06-11T16:49:35.444Z"
   },
   {
    "duration": 7,
    "start_time": "2024-06-11T16:49:35.451Z"
   },
   {
    "duration": 19,
    "start_time": "2024-06-11T16:49:35.460Z"
   },
   {
    "duration": 41,
    "start_time": "2024-06-11T16:49:35.480Z"
   },
   {
    "duration": 5,
    "start_time": "2024-06-11T16:49:35.523Z"
   },
   {
    "duration": 5962,
    "start_time": "2024-06-11T16:49:35.531Z"
   },
   {
    "duration": 12301,
    "start_time": "2024-06-11T16:49:41.495Z"
   },
   {
    "duration": 0,
    "start_time": "2024-06-11T16:49:53.797Z"
   },
   {
    "duration": 0,
    "start_time": "2024-06-11T16:49:53.798Z"
   },
   {
    "duration": 0,
    "start_time": "2024-06-11T16:49:53.799Z"
   },
   {
    "duration": 0,
    "start_time": "2024-06-11T16:49:53.801Z"
   },
   {
    "duration": 0,
    "start_time": "2024-06-11T16:49:53.801Z"
   },
   {
    "duration": 0,
    "start_time": "2024-06-11T16:49:53.812Z"
   },
   {
    "duration": 0,
    "start_time": "2024-06-11T16:49:53.813Z"
   },
   {
    "duration": 0,
    "start_time": "2024-06-11T16:49:53.814Z"
   },
   {
    "duration": 0,
    "start_time": "2024-06-11T16:49:53.815Z"
   },
   {
    "duration": 0,
    "start_time": "2024-06-11T16:49:53.815Z"
   },
   {
    "duration": 0,
    "start_time": "2024-06-11T16:49:53.816Z"
   },
   {
    "duration": 0,
    "start_time": "2024-06-11T16:49:53.817Z"
   },
   {
    "duration": 0,
    "start_time": "2024-06-11T16:49:53.818Z"
   },
   {
    "duration": 0,
    "start_time": "2024-06-11T16:49:53.819Z"
   },
   {
    "duration": 0,
    "start_time": "2024-06-11T16:49:53.820Z"
   },
   {
    "duration": 0,
    "start_time": "2024-06-11T16:49:53.821Z"
   },
   {
    "duration": 0,
    "start_time": "2024-06-11T16:49:53.821Z"
   },
   {
    "duration": 0,
    "start_time": "2024-06-11T16:49:53.822Z"
   },
   {
    "duration": 0,
    "start_time": "2024-06-11T16:49:53.823Z"
   },
   {
    "duration": 0,
    "start_time": "2024-06-11T16:49:53.824Z"
   },
   {
    "duration": 0,
    "start_time": "2024-06-11T16:49:53.825Z"
   },
   {
    "duration": 0,
    "start_time": "2024-06-11T16:49:53.826Z"
   },
   {
    "duration": 0,
    "start_time": "2024-06-11T16:49:53.827Z"
   },
   {
    "duration": 0,
    "start_time": "2024-06-11T16:49:53.827Z"
   },
   {
    "duration": 0,
    "start_time": "2024-06-11T16:49:53.828Z"
   },
   {
    "duration": 0,
    "start_time": "2024-06-11T16:49:53.829Z"
   },
   {
    "duration": 0,
    "start_time": "2024-06-11T16:49:53.830Z"
   },
   {
    "duration": 0,
    "start_time": "2024-06-11T16:49:53.830Z"
   },
   {
    "duration": 0,
    "start_time": "2024-06-11T16:49:53.831Z"
   },
   {
    "duration": 0,
    "start_time": "2024-06-11T16:49:53.832Z"
   },
   {
    "duration": 0,
    "start_time": "2024-06-11T16:49:53.833Z"
   },
   {
    "duration": 0,
    "start_time": "2024-06-11T16:49:53.833Z"
   },
   {
    "duration": 0,
    "start_time": "2024-06-11T16:49:53.834Z"
   },
   {
    "duration": 0,
    "start_time": "2024-06-11T16:49:53.835Z"
   },
   {
    "duration": 0,
    "start_time": "2024-06-11T16:49:53.836Z"
   },
   {
    "duration": 0,
    "start_time": "2024-06-11T16:49:53.837Z"
   },
   {
    "duration": 11,
    "start_time": "2024-06-11T16:50:19.883Z"
   },
   {
    "duration": 1595,
    "start_time": "2024-06-11T16:50:24.941Z"
   },
   {
    "duration": 903,
    "start_time": "2024-06-11T16:50:26.539Z"
   },
   {
    "duration": 6,
    "start_time": "2024-06-11T16:50:27.444Z"
   },
   {
    "duration": 17,
    "start_time": "2024-06-11T16:50:27.452Z"
   },
   {
    "duration": 20,
    "start_time": "2024-06-11T16:50:27.471Z"
   },
   {
    "duration": 13,
    "start_time": "2024-06-11T16:50:27.492Z"
   },
   {
    "duration": 29,
    "start_time": "2024-06-11T16:50:27.506Z"
   },
   {
    "duration": 5,
    "start_time": "2024-06-11T16:50:27.536Z"
   },
   {
    "duration": 8,
    "start_time": "2024-06-11T16:50:27.542Z"
   },
   {
    "duration": 6011,
    "start_time": "2024-06-11T16:50:27.553Z"
   },
   {
    "duration": 10957,
    "start_time": "2024-06-11T16:50:33.566Z"
   },
   {
    "duration": 13,
    "start_time": "2024-06-11T16:50:44.524Z"
   },
   {
    "duration": 240,
    "start_time": "2024-06-11T16:50:44.539Z"
   },
   {
    "duration": 2223,
    "start_time": "2024-06-11T16:50:44.780Z"
   },
   {
    "duration": 2159,
    "start_time": "2024-06-11T16:50:47.005Z"
   },
   {
    "duration": 2096,
    "start_time": "2024-06-11T16:50:49.166Z"
   },
   {
    "duration": 35,
    "start_time": "2024-06-11T16:50:51.264Z"
   },
   {
    "duration": 829,
    "start_time": "2024-06-11T16:50:51.300Z"
   },
   {
    "duration": 3,
    "start_time": "2024-06-11T16:50:52.130Z"
   },
   {
    "duration": 338,
    "start_time": "2024-06-11T16:50:52.135Z"
   },
   {
    "duration": 327,
    "start_time": "2024-06-11T16:50:52.474Z"
   },
   {
    "duration": 317,
    "start_time": "2024-06-11T16:50:52.802Z"
   },
   {
    "duration": 317,
    "start_time": "2024-06-11T16:50:53.120Z"
   },
   {
    "duration": 3,
    "start_time": "2024-06-11T16:50:53.439Z"
   },
   {
    "duration": 8,
    "start_time": "2024-06-11T16:50:53.444Z"
   },
   {
    "duration": 30,
    "start_time": "2024-06-11T16:50:53.453Z"
   },
   {
    "duration": 3,
    "start_time": "2024-06-11T16:50:53.485Z"
   },
   {
    "duration": 51,
    "start_time": "2024-06-11T16:50:53.492Z"
   },
   {
    "duration": 3,
    "start_time": "2024-06-11T16:50:53.545Z"
   },
   {
    "duration": 18073,
    "start_time": "2024-06-11T16:50:53.550Z"
   },
   {
    "duration": 17688,
    "start_time": "2024-06-11T16:51:11.624Z"
   },
   {
    "duration": 4,
    "start_time": "2024-06-11T16:51:29.314Z"
   },
   {
    "duration": 29279,
    "start_time": "2024-06-11T16:51:29.319Z"
   },
   {
    "duration": 0,
    "start_time": "2024-06-11T16:51:58.600Z"
   },
   {
    "duration": 0,
    "start_time": "2024-06-11T16:51:58.601Z"
   },
   {
    "duration": 0,
    "start_time": "2024-06-11T16:51:58.602Z"
   },
   {
    "duration": 0,
    "start_time": "2024-06-11T16:51:58.603Z"
   },
   {
    "duration": 0,
    "start_time": "2024-06-11T16:51:58.604Z"
   },
   {
    "duration": 0,
    "start_time": "2024-06-11T16:51:58.605Z"
   },
   {
    "duration": 0,
    "start_time": "2024-06-11T16:51:58.606Z"
   },
   {
    "duration": 0,
    "start_time": "2024-06-11T16:51:58.606Z"
   },
   {
    "duration": 0,
    "start_time": "2024-06-11T16:51:58.607Z"
   },
   {
    "duration": 0,
    "start_time": "2024-06-11T16:51:58.608Z"
   },
   {
    "duration": 0,
    "start_time": "2024-06-11T16:51:58.609Z"
   },
   {
    "duration": 0,
    "start_time": "2024-06-11T16:51:58.610Z"
   },
   {
    "duration": 0,
    "start_time": "2024-06-11T16:51:58.611Z"
   },
   {
    "duration": 9,
    "start_time": "2024-06-11T16:52:02.019Z"
   },
   {
    "duration": 18,
    "start_time": "2024-06-11T16:52:02.203Z"
   },
   {
    "duration": 46,
    "start_time": "2024-06-11T16:52:02.683Z"
   },
   {
    "duration": 10,
    "start_time": "2024-06-11T16:52:05.482Z"
   },
   {
    "duration": 10,
    "start_time": "2024-06-11T16:52:05.842Z"
   },
   {
    "duration": 4,
    "start_time": "2024-06-11T16:52:12.299Z"
   },
   {
    "duration": 4523,
    "start_time": "2024-06-11T16:52:13.035Z"
   },
   {
    "duration": 1450,
    "start_time": "2024-06-11T17:15:05.038Z"
   },
   {
    "duration": 3790,
    "start_time": "2024-06-11T17:15:10.320Z"
   },
   {
    "duration": 7,
    "start_time": "2024-06-11T17:15:23.229Z"
   },
   {
    "duration": 8,
    "start_time": "2024-06-11T17:15:24.157Z"
   },
   {
    "duration": 4,
    "start_time": "2024-06-11T17:15:29.093Z"
   },
   {
    "duration": 4,
    "start_time": "2024-06-11T17:15:31.293Z"
   },
   {
    "duration": 13,
    "start_time": "2024-06-11T17:15:47.260Z"
   },
   {
    "duration": 114,
    "start_time": "2024-06-11T17:16:50.218Z"
   },
   {
    "duration": 1307,
    "start_time": "2024-06-11T17:17:19.648Z"
   },
   {
    "duration": 883,
    "start_time": "2024-06-11T17:17:23.481Z"
   },
   {
    "duration": 6,
    "start_time": "2024-06-11T17:17:26.157Z"
   },
   {
    "duration": 8,
    "start_time": "2024-06-11T17:17:26.773Z"
   },
   {
    "duration": 5,
    "start_time": "2024-06-11T17:17:27.847Z"
   },
   {
    "duration": 5,
    "start_time": "2024-06-11T17:17:29.636Z"
   },
   {
    "duration": 115,
    "start_time": "2024-06-11T17:17:30.686Z"
   },
   {
    "duration": 13,
    "start_time": "2024-06-11T17:18:21.595Z"
   },
   {
    "duration": 1325,
    "start_time": "2024-06-11T17:18:42.019Z"
   },
   {
    "duration": 873,
    "start_time": "2024-06-11T17:18:45.161Z"
   },
   {
    "duration": 6,
    "start_time": "2024-06-11T17:18:56.484Z"
   },
   {
    "duration": 9,
    "start_time": "2024-06-11T17:18:59.548Z"
   },
   {
    "duration": 5,
    "start_time": "2024-06-11T17:19:01.411Z"
   },
   {
    "duration": 5,
    "start_time": "2024-06-11T17:19:03.068Z"
   },
   {
    "duration": 113,
    "start_time": "2024-06-11T17:19:06.558Z"
   },
   {
    "duration": 21,
    "start_time": "2024-06-11T17:19:53.909Z"
   },
   {
    "duration": 17,
    "start_time": "2024-06-11T17:21:18.372Z"
   },
   {
    "duration": 4,
    "start_time": "2024-06-11T17:21:28.148Z"
   },
   {
    "duration": 5,
    "start_time": "2024-06-11T17:21:28.974Z"
   },
   {
    "duration": 5786,
    "start_time": "2024-06-11T17:21:30.524Z"
   },
   {
    "duration": 11880,
    "start_time": "2024-06-11T17:21:37.685Z"
   },
   {
    "duration": 12,
    "start_time": "2024-06-11T17:21:50.436Z"
   },
   {
    "duration": 216,
    "start_time": "2024-06-11T17:21:55.724Z"
   },
   {
    "duration": 2123,
    "start_time": "2024-06-11T17:22:27.179Z"
   },
   {
    "duration": 2024,
    "start_time": "2024-06-11T17:22:31.174Z"
   },
   {
    "duration": 2175,
    "start_time": "2024-06-11T17:22:33.199Z"
   },
   {
    "duration": 32,
    "start_time": "2024-06-11T17:22:39.581Z"
   },
   {
    "duration": 650,
    "start_time": "2024-06-11T17:22:46.796Z"
   },
   {
    "duration": 4,
    "start_time": "2024-06-11T17:22:51.788Z"
   },
   {
    "duration": 197,
    "start_time": "2024-06-11T17:22:52.773Z"
   },
   {
    "duration": 262,
    "start_time": "2024-06-11T17:22:53.301Z"
   },
   {
    "duration": 207,
    "start_time": "2024-06-11T17:22:53.899Z"
   },
   {
    "duration": 207,
    "start_time": "2024-06-11T17:22:54.372Z"
   },
   {
    "duration": 2,
    "start_time": "2024-06-11T17:22:59.828Z"
   },
   {
    "duration": 3,
    "start_time": "2024-06-11T17:23:01.166Z"
   },
   {
    "duration": 15,
    "start_time": "2024-06-11T17:23:40.534Z"
   },
   {
    "duration": 5,
    "start_time": "2024-06-11T17:25:18.708Z"
   },
   {
    "duration": 10,
    "start_time": "2024-06-11T17:25:23.683Z"
   },
   {
    "duration": 4,
    "start_time": "2024-06-11T17:25:34.524Z"
   },
   {
    "duration": 18,
    "start_time": "2024-06-11T17:25:37.745Z"
   },
   {
    "duration": 3,
    "start_time": "2024-06-11T17:25:43.381Z"
   },
   {
    "duration": 13591,
    "start_time": "2024-06-11T17:25:44.797Z"
   },
   {
    "duration": 13478,
    "start_time": "2024-06-11T17:25:59.599Z"
   },
   {
    "duration": 3,
    "start_time": "2024-06-11T17:26:25.725Z"
   },
   {
    "duration": 20905,
    "start_time": "2024-06-11T17:26:57.852Z"
   },
   {
    "duration": 21017,
    "start_time": "2024-06-11T17:27:22.237Z"
   },
   {
    "duration": 7,
    "start_time": "2024-06-11T17:27:48.415Z"
   },
   {
    "duration": 359254,
    "start_time": "2024-06-11T17:28:23.209Z"
   },
   {
    "duration": 360211,
    "start_time": "2024-06-11T17:34:22.464Z"
   },
   {
    "duration": 4,
    "start_time": "2024-06-11T17:40:22.676Z"
   },
   {
    "duration": 1137,
    "start_time": "2024-06-11T17:40:22.682Z"
   },
   {
    "duration": 1599,
    "start_time": "2024-06-11T17:40:23.821Z"
   },
   {
    "duration": 4,
    "start_time": "2024-06-11T17:40:59.324Z"
   },
   {
    "duration": 14,
    "start_time": "2024-06-11T17:41:28.898Z"
   },
   {
    "duration": 823,
    "start_time": "2024-06-11T17:42:11.907Z"
   },
   {
    "duration": 44,
    "start_time": "2024-06-11T17:42:22.665Z"
   },
   {
    "duration": 4,
    "start_time": "2024-06-11T17:42:38.658Z"
   },
   {
    "duration": 2992,
    "start_time": "2024-06-11T17:42:39.355Z"
   },
   {
    "duration": 6,
    "start_time": "2024-06-11T17:42:45.109Z"
   },
   {
    "duration": 444,
    "start_time": "2024-06-11T18:05:28.174Z"
   },
   {
    "duration": 6,
    "start_time": "2024-06-11T18:05:38.240Z"
   }
  ],
  "kernelspec": {
   "display_name": "Python 3 (ipykernel)",
   "language": "python",
   "name": "python3"
  },
  "language_info": {
   "codemirror_mode": {
    "name": "ipython",
    "version": 3
   },
   "file_extension": ".py",
   "mimetype": "text/x-python",
   "name": "python",
   "nbconvert_exporter": "python",
   "pygments_lexer": "ipython3",
   "version": "3.11.5"
  },
  "toc": {
   "base_numbering": 1,
   "nav_menu": {},
   "number_sections": true,
   "sideBar": true,
   "skip_h1_title": true,
   "title_cell": "Содержание",
   "title_sidebar": "Contents",
   "toc_cell": true,
   "toc_position": {},
   "toc_section_display": true,
   "toc_window_display": true
  }
 },
 "nbformat": 4,
 "nbformat_minor": 2
}
