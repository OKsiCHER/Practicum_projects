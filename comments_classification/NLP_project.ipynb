{
 "cells": [
  {
   "cell_type": "markdown",
   "metadata": {
    "toc": true
   },
   "source": [
    "<h1>Содержание<span class=\"tocSkip\"></span></h1>\n",
    "<div class=\"toc\"><ul class=\"toc-item\"><li><span><a href=\"#Подготовка\" data-toc-modified-id=\"Подготовка-1\"><span class=\"toc-item-num\">1&nbsp;&nbsp;</span>Подготовка</a></span></li><li><span><a href=\"#Обучение\" data-toc-modified-id=\"Обучение-2\"><span class=\"toc-item-num\">2&nbsp;&nbsp;</span>Обучение</a></span></li><li><span><a href=\"#Выводы\" data-toc-modified-id=\"Выводы-3\"><span class=\"toc-item-num\">3&nbsp;&nbsp;</span>Выводы</a></span></li><li><span><a href=\"#Чек-лист-проверки\" data-toc-modified-id=\"Чек-лист-проверки-4\"><span class=\"toc-item-num\">4&nbsp;&nbsp;</span>Чек-лист проверки</a></span></li></ul></div>"
   ]
  },
  {
   "cell_type": "markdown",
   "metadata": {},
   "source": [
    "# Проект для «Викишоп»"
   ]
  },
  {
   "cell_type": "markdown",
   "metadata": {},
   "source": [
    "Интернет-магазин «Викишоп» запускает новый сервис. Теперь пользователи могут редактировать и дополнять описания товаров, как в вики-сообществах. То есть клиенты предлагают свои правки и комментируют изменения других. Магазину нужен инструмент, который будет искать токсичные комментарии и отправлять их на модерацию. \n",
    "\n",
    "Обучите модель классифицировать комментарии на позитивные и негативные. В вашем распоряжении набор данных с разметкой о токсичности правок.\n",
    "\n",
    "Постройте модель со значением метрики качества *F1* не меньше 0.75. \n",
    "\n",
    "**Инструкция по выполнению проекта**\n",
    "\n",
    "1. Загрузите и подготовьте данные.\n",
    "2. Обучите разные модели. \n",
    "3. Сделайте выводы.\n",
    "\n",
    "\n",
    "**Описание данных**\n",
    "\n",
    "Данные находятся в файле `toxic_comments.csv`. Столбец *text* в нём содержит текст комментария, а *toxic* — целевой признак."
   ]
  },
  {
   "cell_type": "code",
   "execution_count": 1,
   "metadata": {},
   "outputs": [
    {
     "name": "stderr",
     "output_type": "stream",
     "text": [
      "[nltk_data] Downloading package stopwords to\n",
      "[nltk_data]     C:\\Users\\chern\\AppData\\Roaming\\nltk_data...\n",
      "[nltk_data]   Package stopwords is already up-to-date!\n",
      "[nltk_data] Downloading package averaged_perceptron_tagger to\n",
      "[nltk_data]     C:\\Users\\chern\\AppData\\Roaming\\nltk_data...\n",
      "[nltk_data]   Package averaged_perceptron_tagger is already up-to-\n",
      "[nltk_data]       date!\n",
      "[nltk_data] Downloading package punkt to\n",
      "[nltk_data]     C:\\Users\\chern\\AppData\\Roaming\\nltk_data...\n",
      "[nltk_data]   Package punkt is already up-to-date!\n"
     ]
    }
   ],
   "source": [
    "import numpy as np\n",
    "import matplotlib.pyplot as plt\n",
    "%matplotlib inline\n",
    "import pandas as pd\n",
    "import re\n",
    "\n",
    "\n",
    "from sklearn.dummy import DummyClassifier\n",
    "from sklearn.feature_extraction.text import TfidfVectorizer\n",
    "from sklearn.linear_model import LogisticRegression\n",
    "from sklearn.metrics import f1_score\n",
    "from sklearn.model_selection import train_test_split, GridSearchCV\n",
    "from sklearn.pipeline import Pipeline\n",
    "from sklearn.tree import DecisionTreeClassifier\n",
    "from sklearn.utils import shuffle\n",
    "from catboost import CatBoostClassifier\n",
    "from tqdm.notebook import tqdm\n",
    "\n",
    "import nltk\n",
    "from nltk.corpus import stopwords as nltk_stopwords, wordnet\n",
    "from nltk import word_tokenize\n",
    "stopwords = set(nltk_stopwords.words('english'))\n",
    "nltk.download('stopwords')\n",
    "nltk.download('averaged_perceptron_tagger')\n",
    "nltk.download('punkt')\n",
    "from nltk.stem import WordNetLemmatizer\n",
    "from nltk.probability import FreqDist\n",
    "from wordcloud import WordCloud\n",
    "\n",
    "from pymystem3 import Mystem\n",
    "m = Mystem() \n",
    "import transformers\n",
    "\n",
    "import warnings\n",
    "warnings.filterwarnings('ignore')"
   ]
  },
  {
   "cell_type": "markdown",
   "metadata": {},
   "source": [
    "## Подготовка"
   ]
  },
  {
   "cell_type": "markdown",
   "metadata": {},
   "source": [
    "Загрузим и рассмотрим данные:"
   ]
  },
  {
   "cell_type": "code",
   "execution_count": 2,
   "metadata": {},
   "outputs": [
    {
     "data": {
      "text/html": [
       "<div>\n",
       "<style scoped>\n",
       "    .dataframe tbody tr th:only-of-type {\n",
       "        vertical-align: middle;\n",
       "    }\n",
       "\n",
       "    .dataframe tbody tr th {\n",
       "        vertical-align: top;\n",
       "    }\n",
       "\n",
       "    .dataframe thead th {\n",
       "        text-align: right;\n",
       "    }\n",
       "</style>\n",
       "<table border=\"1\" class=\"dataframe\">\n",
       "  <thead>\n",
       "    <tr style=\"text-align: right;\">\n",
       "      <th></th>\n",
       "      <th>Unnamed: 0</th>\n",
       "      <th>text</th>\n",
       "      <th>toxic</th>\n",
       "    </tr>\n",
       "  </thead>\n",
       "  <tbody>\n",
       "    <tr>\n",
       "      <th>0</th>\n",
       "      <td>0</td>\n",
       "      <td>Explanation\\nWhy the edits made under my usern...</td>\n",
       "      <td>0</td>\n",
       "    </tr>\n",
       "    <tr>\n",
       "      <th>1</th>\n",
       "      <td>1</td>\n",
       "      <td>D'aww! He matches this background colour I'm s...</td>\n",
       "      <td>0</td>\n",
       "    </tr>\n",
       "    <tr>\n",
       "      <th>2</th>\n",
       "      <td>2</td>\n",
       "      <td>Hey man, I'm really not trying to edit war. It...</td>\n",
       "      <td>0</td>\n",
       "    </tr>\n",
       "    <tr>\n",
       "      <th>3</th>\n",
       "      <td>3</td>\n",
       "      <td>\"\\nMore\\nI can't make any real suggestions on ...</td>\n",
       "      <td>0</td>\n",
       "    </tr>\n",
       "    <tr>\n",
       "      <th>4</th>\n",
       "      <td>4</td>\n",
       "      <td>You, sir, are my hero. Any chance you remember...</td>\n",
       "      <td>0</td>\n",
       "    </tr>\n",
       "    <tr>\n",
       "      <th>5</th>\n",
       "      <td>5</td>\n",
       "      <td>\"\\n\\nCongratulations from me as well, use the ...</td>\n",
       "      <td>0</td>\n",
       "    </tr>\n",
       "    <tr>\n",
       "      <th>6</th>\n",
       "      <td>6</td>\n",
       "      <td>COCKSUCKER BEFORE YOU PISS AROUND ON MY WORK</td>\n",
       "      <td>1</td>\n",
       "    </tr>\n",
       "    <tr>\n",
       "      <th>7</th>\n",
       "      <td>7</td>\n",
       "      <td>Your vandalism to the Matt Shirvington article...</td>\n",
       "      <td>0</td>\n",
       "    </tr>\n",
       "    <tr>\n",
       "      <th>8</th>\n",
       "      <td>8</td>\n",
       "      <td>Sorry if the word 'nonsense' was offensive to ...</td>\n",
       "      <td>0</td>\n",
       "    </tr>\n",
       "    <tr>\n",
       "      <th>9</th>\n",
       "      <td>9</td>\n",
       "      <td>alignment on this subject and which are contra...</td>\n",
       "      <td>0</td>\n",
       "    </tr>\n",
       "  </tbody>\n",
       "</table>\n",
       "</div>"
      ],
      "text/plain": [
       "   Unnamed: 0                                               text  toxic\n",
       "0           0  Explanation\\nWhy the edits made under my usern...      0\n",
       "1           1  D'aww! He matches this background colour I'm s...      0\n",
       "2           2  Hey man, I'm really not trying to edit war. It...      0\n",
       "3           3  \"\\nMore\\nI can't make any real suggestions on ...      0\n",
       "4           4  You, sir, are my hero. Any chance you remember...      0\n",
       "5           5  \"\\n\\nCongratulations from me as well, use the ...      0\n",
       "6           6       COCKSUCKER BEFORE YOU PISS AROUND ON MY WORK      1\n",
       "7           7  Your vandalism to the Matt Shirvington article...      0\n",
       "8           8  Sorry if the word 'nonsense' was offensive to ...      0\n",
       "9           9  alignment on this subject and which are contra...      0"
      ]
     },
     "metadata": {},
     "output_type": "display_data"
    },
    {
     "name": "stdout",
     "output_type": "stream",
     "text": [
      "<class 'pandas.core.frame.DataFrame'>\n",
      "RangeIndex: 159292 entries, 0 to 159291\n",
      "Data columns (total 3 columns):\n",
      " #   Column      Non-Null Count   Dtype \n",
      "---  ------      --------------   ----- \n",
      " 0   Unnamed: 0  159292 non-null  int64 \n",
      " 1   text        159292 non-null  object\n",
      " 2   toxic       159292 non-null  int64 \n",
      "dtypes: int64(2), object(1)\n",
      "memory usage: 3.6+ MB\n"
     ]
    },
    {
     "data": {
      "text/plain": [
       "None"
      ]
     },
     "metadata": {},
     "output_type": "display_data"
    },
    {
     "data": {
      "text/plain": [
       "(159292, 3)"
      ]
     },
     "metadata": {},
     "output_type": "display_data"
    }
   ],
   "source": [
    "try:\n",
    "    df = pd.read_csv('/datasets/toxic_comments.csv')\n",
    "except:\n",
    "    df = pd.read_csv(\"C:/Users/chern/toxic_comments.csv\")\n",
    "\n",
    "display(df.head(10))\n",
    "display(df.info())\n",
    "display(df.shape)"
   ]
  },
  {
   "cell_type": "markdown",
   "metadata": {},
   "source": [
    "Удалим лишний столбец, дублирующий индексы:"
   ]
  },
  {
   "cell_type": "code",
   "execution_count": 3,
   "metadata": {},
   "outputs": [],
   "source": [
    "df = df.drop(['Unnamed: 0'], axis=1)"
   ]
  },
  {
   "cell_type": "markdown",
   "metadata": {},
   "source": [
    "Лемантизируем текст и уберем лишние знаки:"
   ]
  },
  {
   "cell_type": "code",
   "execution_count": 4,
   "metadata": {},
   "outputs": [],
   "source": [
    "def clear_text(text):\n",
    "    text = text.lower()\n",
    "    text = re.sub(r'[^a-zA-Z]', ' ', text)   \n",
    "    text = ' '.join(text.split())\n",
    "    return text"
   ]
  },
  {
   "cell_type": "code",
   "execution_count": 5,
   "metadata": {},
   "outputs": [],
   "source": [
    "def get_wordnet_pos(word):\n",
    "    tag = nltk.pos_tag([word])[0][1][0].upper()\n",
    "    tag_dict = {\"J\": wordnet.ADJ,\n",
    "                \"N\": wordnet.NOUN,\n",
    "                \"V\": wordnet.VERB,\n",
    "                \"R\": wordnet.ADV}\n",
    "    return tag_dict.get(tag, wordnet.NOUN)"
   ]
  },
  {
   "cell_type": "code",
   "execution_count": 6,
   "metadata": {},
   "outputs": [],
   "source": [
    "lemmatizer = WordNetLemmatizer()"
   ]
  },
  {
   "cell_type": "code",
   "execution_count": 7,
   "metadata": {},
   "outputs": [
    {
     "data": {
      "application/vnd.jupyter.widget-view+json": {
       "model_id": "9936a0afb0e94900841ae95160ee5fd3",
       "version_major": 2,
       "version_minor": 0
      },
      "text/plain": [
       "  0%|          | 0/159292 [00:00<?, ?it/s]"
      ]
     },
     "metadata": {},
     "output_type": "display_data"
    },
    {
     "name": "stdout",
     "output_type": "stream",
     "text": [
      "CPU times: total: 2h 42min 59s\n",
      "Wall time: 2h 43min 39s\n"
     ]
    }
   ],
   "source": [
    "%%time\n",
    "def lemmafunction(text):\n",
    "    k = []\n",
    "    for i in nltk.word_tokenize(text):\n",
    "        y = lemmatizer.lemmatize(i, get_wordnet_pos(i))\n",
    "        k.append(y)\n",
    "    return ' '.join(k) \n",
    "\n",
    "lemy = []\n",
    "for i in tqdm(range(len(df.text))):\n",
    "    \n",
    "    lemy.append(lemmafunction(clear_text(df.text[i])))\n",
    "df['text'] = pd.Series(lemy, index=df.index)"
   ]
  },
  {
   "cell_type": "code",
   "execution_count": 8,
   "metadata": {},
   "outputs": [
    {
     "data": {
      "text/plain": [
       "<Text: explanation why the edits make under my username hardcore metallica fan be revert they weren t vandalism just closure on some gas after i vote at new york doll fac and please don t remove the template from the talk page since i m retire now d aww he match this background colour i m seemingly stuck with thanks talk january utc hey man i m really not try to edit war it s just that this guy be constantly remove relevant information and talk to me through edits instead of my talk page he seem to care more about the format than the actual info more i can t make any real suggestion on improvement i wonder if the section statistic should be later on or a subsection of type of accident i think the reference may need tidy so that they be all in the exact same format ie date format etc i can do that later on if no one else do first if you have any preference for format style on reference or want to do it yourself please let me know there appear to be a backlog on article for review so i guess there may be a delay until a reviewer turn up it s list in the relevant form eg wikipedia good article nomination transport you sir be my hero any chance you remember what page that s on congratulation from me a well use the tool well talk cocksucker before you piss around on my work your vandalism to the matt shirvington article have be revert please don t do it again or you will be ban...>"
      ]
     },
     "execution_count": 8,
     "metadata": {},
     "output_type": "execute_result"
    }
   ],
   "source": [
    "df_nltk = nltk.Text(df.text)\n",
    "df_nltk"
   ]
  },
  {
   "cell_type": "code",
   "execution_count": 9,
   "metadata": {},
   "outputs": [
    {
     "data": {
      "text/plain": [
       "[('january', 21),\n",
       " ('thank you for experiment with wikipedia your test work and it have be revert or remove please use the sandbox for any other test you may want to do take a look at the welcome page to learn more about contribute to our encyclopedia talk',\n",
       "  19),\n",
       " ('jun utc', 18),\n",
       " ('please stop if you continue to vandalize page you will be block from edit wikipedia',\n",
       "  18),\n",
       " ('precede unsigned comment add by', 16)]"
      ]
     },
     "execution_count": 9,
     "metadata": {},
     "output_type": "execute_result"
    }
   ],
   "source": [
    "fdist = FreqDist(df_nltk)\n",
    "fdist.most_common(5)"
   ]
  },
  {
   "cell_type": "code",
   "execution_count": 10,
   "metadata": {},
   "outputs": [
    {
     "data": {
      "image/png": "[encoded data removed]",
      "text/plain": [
       "<Figure size 640x480 with 1 Axes>"
      ]
     },
     "metadata": {},
     "output_type": "display_data"
    }
   ],
   "source": [
    "fdist.plot(30,cumulative=False);"
   ]
  },
  {
   "cell_type": "code",
   "execution_count": 11,
   "metadata": {},
   "outputs": [],
   "source": [
    "#cloud = str(df.text, encoding='utf-8', errors='errors')"
   ]
  },
  {
   "cell_type": "code",
   "execution_count": 12,
   "metadata": {},
   "outputs": [
    {
     "data": {
      "image/png": "[encoded data removed]",
      "text/plain": [
       "<Figure size 640x480 with 1 Axes>"
      ]
     },
     "metadata": {},
     "output_type": "display_data"
    }
   ],
   "source": [
    "plt.imshow(WordCloud().generate(' '.join(df.text)))\n",
    "plt.axis(\"off\")\n",
    "plt.tight_layout(pad = 0)\n",
    "plt.show()"
   ]
  },
  {
   "cell_type": "markdown",
   "metadata": {},
   "source": [
    "Разделим данные на признаки и целевой признак, а также на обучающую и тестовую выборки в соотношении 75:25"
   ]
  },
  {
   "cell_type": "code",
   "execution_count": 13,
   "metadata": {},
   "outputs": [],
   "source": [
    "features = df.drop(['toxic'], axis=1) \n",
    "target = df.toxic"
   ]
  },
  {
   "cell_type": "code",
   "execution_count": 14,
   "metadata": {},
   "outputs": [
    {
     "data": {
      "text/html": [
       "<div>\n",
       "<style scoped>\n",
       "    .dataframe tbody tr th:only-of-type {\n",
       "        vertical-align: middle;\n",
       "    }\n",
       "\n",
       "    .dataframe tbody tr th {\n",
       "        vertical-align: top;\n",
       "    }\n",
       "\n",
       "    .dataframe thead th {\n",
       "        text-align: right;\n",
       "    }\n",
       "</style>\n",
       "<table border=\"1\" class=\"dataframe\">\n",
       "  <thead>\n",
       "    <tr style=\"text-align: right;\">\n",
       "      <th></th>\n",
       "      <th>text</th>\n",
       "    </tr>\n",
       "  </thead>\n",
       "  <tbody>\n",
       "    <tr>\n",
       "      <th>25283</th>\n",
       "      <td>your advice please we put elmo tanner up for g...</td>\n",
       "    </tr>\n",
       "    <tr>\n",
       "      <th>12729</th>\n",
       "      <td>it be possible to have a bias opinion and writ...</td>\n",
       "    </tr>\n",
       "    <tr>\n",
       "      <th>149149</th>\n",
       "      <td>kansa watch list i didn t know if you have a l...</td>\n",
       "    </tr>\n",
       "    <tr>\n",
       "      <th>60470</th>\n",
       "      <td>welcome hello and welcome to wikipedia thank y...</td>\n",
       "    </tr>\n",
       "    <tr>\n",
       "      <th>100052</th>\n",
       "      <td>sir good even i want to say something about an...</td>\n",
       "    </tr>\n",
       "    <tr>\n",
       "      <th>...</th>\n",
       "      <td>...</td>\n",
       "    </tr>\n",
       "    <tr>\n",
       "      <th>97639</th>\n",
       "      <td>gun powder ma</td>\n",
       "    </tr>\n",
       "    <tr>\n",
       "      <th>95939</th>\n",
       "      <td>what volume for whoever note that there be a t...</td>\n",
       "    </tr>\n",
       "    <tr>\n",
       "      <th>152315</th>\n",
       "      <td>i agree with wikireader the source iqinn give ...</td>\n",
       "    </tr>\n",
       "    <tr>\n",
       "      <th>117952</th>\n",
       "      <td>it have now be a week and a half and not and n...</td>\n",
       "    </tr>\n",
       "    <tr>\n",
       "      <th>43567</th>\n",
       "      <td>well let s go through this one by one we shoul...</td>\n",
       "    </tr>\n",
       "  </tbody>\n",
       "</table>\n",
       "<p>119469 rows × 1 columns</p>\n",
       "</div>"
      ],
      "text/plain": [
       "                                                     text\n",
       "25283   your advice please we put elmo tanner up for g...\n",
       "12729   it be possible to have a bias opinion and writ...\n",
       "149149  kansa watch list i didn t know if you have a l...\n",
       "60470   welcome hello and welcome to wikipedia thank y...\n",
       "100052  sir good even i want to say something about an...\n",
       "...                                                   ...\n",
       "97639                                       gun powder ma\n",
       "95939   what volume for whoever note that there be a t...\n",
       "152315  i agree with wikireader the source iqinn give ...\n",
       "117952  it have now be a week and a half and not and n...\n",
       "43567   well let s go through this one by one we shoul...\n",
       "\n",
       "[119469 rows x 1 columns]"
      ]
     },
     "metadata": {},
     "output_type": "display_data"
    },
    {
     "data": {
      "text/html": [
       "<div>\n",
       "<style scoped>\n",
       "    .dataframe tbody tr th:only-of-type {\n",
       "        vertical-align: middle;\n",
       "    }\n",
       "\n",
       "    .dataframe tbody tr th {\n",
       "        vertical-align: top;\n",
       "    }\n",
       "\n",
       "    .dataframe thead th {\n",
       "        text-align: right;\n",
       "    }\n",
       "</style>\n",
       "<table border=\"1\" class=\"dataframe\">\n",
       "  <thead>\n",
       "    <tr style=\"text-align: right;\">\n",
       "      <th></th>\n",
       "      <th>text</th>\n",
       "    </tr>\n",
       "  </thead>\n",
       "  <tbody>\n",
       "    <tr>\n",
       "      <th>33703</th>\n",
       "      <td>well since i be block i shall temporarily resp...</td>\n",
       "    </tr>\n",
       "    <tr>\n",
       "      <th>86675</th>\n",
       "      <td>hahahahaha typical the article be about anti p...</td>\n",
       "    </tr>\n",
       "    <tr>\n",
       "      <th>47557</th>\n",
       "      <td>which you make after i be encourage by a media...</td>\n",
       "    </tr>\n",
       "    <tr>\n",
       "      <th>96900</th>\n",
       "      <td>i regard you a racist i will request you be ba...</td>\n",
       "    </tr>\n",
       "    <tr>\n",
       "      <th>66242</th>\n",
       "      <td>a broken chair be not a chair a broken chord b...</td>\n",
       "    </tr>\n",
       "    <tr>\n",
       "      <th>...</th>\n",
       "      <td>...</td>\n",
       "    </tr>\n",
       "    <tr>\n",
       "      <th>131527</th>\n",
       "      <td>a few comment about some criterion x instead o...</td>\n",
       "    </tr>\n",
       "    <tr>\n",
       "      <th>55718</th>\n",
       "      <td>well a soon a i find it cologne be refer by he...</td>\n",
       "    </tr>\n",
       "    <tr>\n",
       "      <th>1982</th>\n",
       "      <td>well change it then</td>\n",
       "    </tr>\n",
       "    <tr>\n",
       "      <th>136314</th>\n",
       "      <td>it not offical it by some year old kid who hav...</td>\n",
       "    </tr>\n",
       "    <tr>\n",
       "      <th>108647</th>\n",
       "      <td>hi i be a person in the u s with english a a p...</td>\n",
       "    </tr>\n",
       "  </tbody>\n",
       "</table>\n",
       "<p>39823 rows × 1 columns</p>\n",
       "</div>"
      ],
      "text/plain": [
       "                                                     text\n",
       "33703   well since i be block i shall temporarily resp...\n",
       "86675   hahahahaha typical the article be about anti p...\n",
       "47557   which you make after i be encourage by a media...\n",
       "96900   i regard you a racist i will request you be ba...\n",
       "66242   a broken chair be not a chair a broken chord b...\n",
       "...                                                   ...\n",
       "131527  a few comment about some criterion x instead o...\n",
       "55718   well a soon a i find it cologne be refer by he...\n",
       "1982                                  well change it then\n",
       "136314  it not offical it by some year old kid who hav...\n",
       "108647  hi i be a person in the u s with english a a p...\n",
       "\n",
       "[39823 rows x 1 columns]"
      ]
     },
     "metadata": {},
     "output_type": "display_data"
    },
    {
     "data": {
      "text/plain": [
       "25283     0\n",
       "12729     0\n",
       "149149    0\n",
       "60470     0\n",
       "100052    0\n",
       "         ..\n",
       "97639     0\n",
       "95939     0\n",
       "152315    0\n",
       "117952    0\n",
       "43567     0\n",
       "Name: toxic, Length: 119469, dtype: int64"
      ]
     },
     "metadata": {},
     "output_type": "display_data"
    },
    {
     "data": {
      "text/plain": [
       "33703     0\n",
       "86675     0\n",
       "47557     0\n",
       "96900     1\n",
       "66242     0\n",
       "         ..\n",
       "131527    0\n",
       "55718     0\n",
       "1982      0\n",
       "136314    0\n",
       "108647    0\n",
       "Name: toxic, Length: 39823, dtype: int64"
      ]
     },
     "metadata": {},
     "output_type": "display_data"
    }
   ],
   "source": [
    "features_train, features_test, target_train, target_test = train_test_split(\n",
    "    features, target, test_size=0.25, random_state=0\n",
    ")\n",
    "\n",
    "display(features_train, features_test, target_train, target_test)"
   ]
  },
  {
   "cell_type": "code",
   "execution_count": 15,
   "metadata": {},
   "outputs": [
    {
     "data": {
      "text/plain": [
       "(119469,)"
      ]
     },
     "execution_count": 15,
     "metadata": {},
     "output_type": "execute_result"
    }
   ],
   "source": [
    "features_train = features_train.text.astype(\"string\")\n",
    "features_train.shape"
   ]
  },
  {
   "cell_type": "markdown",
   "metadata": {},
   "source": [
    "Посмотрим на соотношение классов в таргете:"
   ]
  },
  {
   "cell_type": "code",
   "execution_count": 16,
   "metadata": {
    "scrolled": false
   },
   "outputs": [
    {
     "name": "stdout",
     "output_type": "stream",
     "text": [
      "toxic\n",
      "0    0.898585\n",
      "1    0.101415\n",
      "Name: proportion, dtype: float64\n"
     ]
    },
    {
     "data": {
      "image/png": "[encoded data removed]",
      "text/plain": [
       "<Figure size 640x480 with 1 Axes>"
      ]
     },
     "metadata": {},
     "output_type": "display_data"
    }
   ],
   "source": [
    "class_frequency = target_train.value_counts(normalize=True)\n",
    "print(class_frequency)\n",
    "\n",
    "class_frequency.plot(kind='bar')\n",
    "plt.title('Баланс классов')\n",
    "plt.xlabel('Комментарии')\n",
    "plt.show();"
   ]
  },
  {
   "cell_type": "code",
   "execution_count": 17,
   "metadata": {},
   "outputs": [
    {
     "data": {
      "text/plain": [
       "1"
      ]
     },
     "execution_count": 17,
     "metadata": {},
     "output_type": "execute_result"
    }
   ],
   "source": [
    "ratio = len(target_train == 0)//len(target_train == 1)\n",
    "ratio"
   ]
  },
  {
   "cell_type": "markdown",
   "metadata": {},
   "source": [
    "Так как, наблюдается сильный дисбаланс классов, проведем ресемплирование уменьшением выборки - уменьшим размер класса \"0\""
   ]
  },
  {
   "cell_type": "code",
   "execution_count": 20,
   "metadata": {},
   "outputs": [
    {
     "data": {
      "text/plain": [
       "(119469,)"
      ]
     },
     "metadata": {},
     "output_type": "display_data"
    },
    {
     "data": {
      "text/plain": [
       "(119469,)"
      ]
     },
     "metadata": {},
     "output_type": "display_data"
    }
   ],
   "source": [
    "display(features_train.shape, target_train.shape)"
   ]
  },
  {
   "cell_type": "code",
   "execution_count": 21,
   "metadata": {},
   "outputs": [
    {
     "data": {
      "text/plain": [
       "25283     your advice please we put elmo tanner up for g...\n",
       "12729     it be possible to have a bias opinion and writ...\n",
       "149149    kansa watch list i didn t know if you have a l...\n",
       "60470     welcome hello and welcome to wikipedia thank y...\n",
       "100052    sir good even i want to say something about an...\n",
       "                                ...                        \n",
       "97639                                         gun powder ma\n",
       "95939     what volume for whoever note that there be a t...\n",
       "152315    i agree with wikireader the source iqinn give ...\n",
       "117952    it have now be a week and a half and not and n...\n",
       "43567     well let s go through this one by one we shoul...\n",
       "Name: text, Length: 119469, dtype: string"
      ]
     },
     "metadata": {},
     "output_type": "display_data"
    },
    {
     "data": {
      "text/plain": [
       "25283     0\n",
       "12729     0\n",
       "149149    0\n",
       "60470     0\n",
       "100052    0\n",
       "         ..\n",
       "97639     0\n",
       "95939     0\n",
       "152315    0\n",
       "117952    0\n",
       "43567     0\n",
       "Name: toxic, Length: 119469, dtype: int64"
      ]
     },
     "metadata": {},
     "output_type": "display_data"
    }
   ],
   "source": [
    "display(features_train, target_train)"
   ]
  },
  {
   "cell_type": "markdown",
   "metadata": {},
   "source": [
    "**Вывод:**\n",
    "- Данные состоят из 3 столбцов и 159292 строк.\n",
    "- Удалили лишний столбец, дублирующий индексы.\n",
    "- Обработели текст: провели лемантизацию и очистку текста.\n",
    "- Разделили данные на признаки и целевой признак, а также на обучающую и тестовую выборки в соотношении 75:25.\n",
    "- Проверили баланс классов и обнаружили сильный дисбаланс: 90:10%"
   ]
  },
  {
   "cell_type": "markdown",
   "metadata": {},
   "source": [
    "## Обучение"
   ]
  },
  {
   "cell_type": "markdown",
   "metadata": {},
   "source": [
    "Обучим данные на модели Дерево решений:"
   ]
  },
  {
   "cell_type": "code",
   "execution_count": 22,
   "metadata": {},
   "outputs": [
    {
     "name": "stdout",
     "output_type": "stream",
     "text": [
      "Лучшее значение глубины: {'dtc__class_weight': 'balanced', 'dtc__max_depth': 9, 'dtc__random_state': 12345}\n",
      "Лучшая оценка кросс-валидации: 0.5711270913436571\n",
      "CPU times: total: 5min 17s\n",
      "Wall time: 5min 19s\n"
     ]
    }
   ],
   "source": [
    "%%time\n",
    "\n",
    "pipeline_dtc = Pipeline([(\"vector\", TfidfVectorizer(stop_words='english')), \n",
    "                     (\"dtc\", DecisionTreeClassifier())])\n",
    "\n",
    "parameters_dtc = {'dtc__max_depth': ([x for x in range(1, 10)]),\n",
    "                  'dtc__random_state': ([12345]), \n",
    "                  'dtc__class_weight': (['balanced'])}\n",
    "\n",
    "grid_search_dtc = GridSearchCV(pipeline_dtc, param_grid=parameters_dtc, cv=3, scoring='f1')\n",
    "grid_search_dtc.fit(features_train, target_train)\n",
    "\n",
    "best_parametrs_dtc = grid_search_dtc.best_params_\n",
    "best_score_dtc = 1 * grid_search_dtc.best_score_\n",
    "\n",
    "print(\"Лучшее значение глубины:\", best_parametrs_dtc)\n",
    "print(\"Лучшая оценка кросс-валидации:\", best_score_dtc)"
   ]
  },
  {
   "cell_type": "markdown",
   "metadata": {},
   "source": [
    "Обучим данные на модели Логистическая регрессия:"
   ]
  },
  {
   "cell_type": "code",
   "execution_count": 23,
   "metadata": {},
   "outputs": [
    {
     "name": "stdout",
     "output_type": "stream",
     "text": [
      "Лучшее значение глубины: {'lr__C': 10, 'lr__class_weight': 'balanced', 'lr__random_state': 12345}\n",
      "Лучшая оценка кросс-валидации: 0.7600818976158735\n",
      "CPU times: total: 2min 15s\n",
      "Wall time: 1min 23s\n"
     ]
    }
   ],
   "source": [
    "%%time\n",
    "\n",
    "pipeline_lr = Pipeline([(\"vector\", TfidfVectorizer(stop_words='english', sublinear_tf=True)), \n",
    "                     (\"lr\", LogisticRegression())])\n",
    "\n",
    "parameters_lr = {'lr__random_state': ([12345]), \n",
    "                 'lr__class_weight': (['balanced']),\n",
    "                 'lr__C': ([0.1, 1, 10])}\n",
    "\n",
    "grid_search_lr = GridSearchCV(pipeline_lr, param_grid=parameters_lr, cv=3, scoring='f1')\n",
    "grid_search_lr.fit(features_train, target_train)\n",
    "\n",
    "best_parametrs_lr = grid_search_lr.best_params_\n",
    "best_score_lr = 1 * grid_search_lr.best_score_\n",
    "\n",
    "print(\"Лучшее значение глубины:\", best_parametrs_lr)\n",
    "print(\"Лучшая оценка кросс-валидации:\", best_score_lr)"
   ]
  },
  {
   "cell_type": "markdown",
   "metadata": {},
   "source": [
    "Обучим данные на модели CatBoost:"
   ]
  },
  {
   "cell_type": "code",
   "execution_count": 24,
   "metadata": {},
   "outputs": [
    {
     "name": "stdout",
     "output_type": "stream",
     "text": [
      "Лучшее значение глубины: {'cbc__class_weights': (1, 1), 'cbc__random_state': 12345, 'cbc__verbose': False}\n",
      "Лучшая оценка кросс-валидации: 0.7424463811791782\n",
      "CPU times: total: 9h 45min 48s\n",
      "Wall time: 1h 58min 9s\n"
     ]
    }
   ],
   "source": [
    "%%time\n",
    "\n",
    "pipeline_cbc = Pipeline([(\"vector\", TfidfVectorizer(stop_words='english')), \n",
    "                     (\"cbc\", CatBoostClassifier())])\n",
    "\n",
    "parameters_cbc = {'cbc__random_state': ([12345]),\n",
    "                  'cbc__verbose': ([False]),\n",
    "                  'cbc__class_weights': ([(1, 1), (1, 11)])}\n",
    "\n",
    "grid_search_cbc = GridSearchCV(pipeline_cbc, param_grid=parameters_cbc, cv=3, scoring='f1')\n",
    "grid_search_cbc.fit(features_train, target_train)\n",
    "\n",
    "best_parametrs_cbc = grid_search_cbc.best_params_\n",
    "best_score_cbc = 1 * grid_search_cbc.best_score_\n",
    "\n",
    "print(\"Лучшее значение глубины:\", best_parametrs_cbc)\n",
    "print(\"Лучшая оценка кросс-валидации:\", best_score_cbc)"
   ]
  },
  {
   "cell_type": "markdown",
   "metadata": {},
   "source": [
    "Протестируем лучшую модель:"
   ]
  },
  {
   "cell_type": "code",
   "execution_count": 25,
   "metadata": {},
   "outputs": [
    {
     "data": {
      "text/plain": [
       "(39823,)"
      ]
     },
     "execution_count": 25,
     "metadata": {},
     "output_type": "execute_result"
    }
   ],
   "source": [
    "features_test = features_test.text.astype(\"string\")\n",
    "features_test.shape"
   ]
  },
  {
   "cell_type": "code",
   "execution_count": 26,
   "metadata": {},
   "outputs": [
    {
     "data": {
      "text/plain": [
       "array([0, 0, 0, ..., 0, 0, 0], dtype=int64)"
      ]
     },
     "execution_count": 26,
     "metadata": {},
     "output_type": "execute_result"
    }
   ],
   "source": [
    "predict_t = grid_search_lr.predict(features_test)\n",
    "predict_t"
   ]
  },
  {
   "cell_type": "code",
   "execution_count": 27,
   "metadata": {},
   "outputs": [
    {
     "data": {
      "text/plain": [
       "0.7637481498349082"
      ]
     },
     "execution_count": 27,
     "metadata": {},
     "output_type": "execute_result"
    }
   ],
   "source": [
    "result = f1_score(target_test, predict_t)\n",
    "\n",
    "result"
   ]
  },
  {
   "cell_type": "markdown",
   "metadata": {},
   "source": [
    "Проверим адекватность лучшей модели на константной модели:"
   ]
  },
  {
   "cell_type": "code",
   "execution_count": 28,
   "metadata": {},
   "outputs": [
    {
     "data": {
      "text/plain": [
       "0.18545098307247168"
      ]
     },
     "execution_count": 28,
     "metadata": {},
     "output_type": "execute_result"
    }
   ],
   "source": [
    "model = DummyClassifier(strategy='constant', constant = 1)\n",
    "model.fit(features_train, target_train)\n",
    "\n",
    "predictions_DR = model.predict(features_test)\n",
    "result = f1_score(target_test, predictions_DR)\n",
    "\n",
    "result"
   ]
  },
  {
   "cell_type": "markdown",
   "metadata": {},
   "source": [
    "## **Вывод:**\n",
    "- Обучили данные на 3 моделях: Дерево решений, Логистическая регрессия и CatBoost.\n",
    "- Лучший результат показала Логистическая регрессия со значением f1_score = 0.76.\n",
    "- Протестировали дучшую можель с результатом f1_score = 0.76\n",
    "- Проверили модель на адекватность на константной модели. Метрика качества хуже, чем на лучшей модели, следовательно, адекватность модели подтвердилась."
   ]
  },
  {
   "cell_type": "markdown",
   "metadata": {},
   "source": [
    "## Выводы"
   ]
  },
  {
   "cell_type": "markdown",
   "metadata": {},
   "source": [
    "Цель исследования - обучить модель классифицировать комментарии на позитивные и негативные.\n",
    "\n",
    "1) В результате исследования рассмотрели предоставленные данные и подготовили их к обучению:\n",
    "\n",
    "- Данные состоят из 3 столбцов и 159292 строк.\n",
    "- Удалили лишний столбец, дублирующий индексы.\n",
    "- Обработели текст: провели лемантизацию и очистку текста.\n",
    "- Разделили данные на признаки и целевой признак, а также на обучающую и тестовую выборки в соотношении 75:25.\n",
    "- Проверили баланс классов и обнаружили сильный дисбаланс: 90:10%\n",
    "\n",
    "\n",
    "2) Следующим шагом обучили и протестировали модели:\n",
    "\n",
    "- Обучили данные на 3 моделях: Дерево решений, Логистическая регрессия и CatBoost.\n",
    "- Лучший результат показала Логистическая регрессия со значением f1_score = 0.76.\n",
    "- Протестировали дучшую можель с результатом f1_score = 0.76.\n",
    "- Проверили модель на адекватность на константной модели. Метрика качества хуже, чем на лучшей модели, следовательно, адекватность модели подтвердилась."
   ]
  }
 ],
 "metadata": {
  "ExecuteTimeLog": [
   {
    "duration": 2073,
    "start_time": "2024-07-07T09:41:02.316Z"
   },
   {
    "duration": 3455,
    "start_time": "2024-07-07T09:42:41.035Z"
   },
   {
    "duration": 2224,
    "start_time": "2024-07-07T09:55:08.367Z"
   },
   {
    "duration": 420,
    "start_time": "2024-07-07T09:55:29.867Z"
   },
   {
    "duration": 2059,
    "start_time": "2024-07-07T10:00:36.435Z"
   },
   {
    "duration": 974,
    "start_time": "2024-07-07T10:00:41.245Z"
   },
   {
    "duration": 2258,
    "start_time": "2024-07-07T10:00:45.172Z"
   },
   {
    "duration": 1731,
    "start_time": "2024-07-07T10:00:48.098Z"
   },
   {
    "duration": 2224,
    "start_time": "2024-07-07T10:02:48.660Z"
   },
   {
    "duration": 1031,
    "start_time": "2024-07-07T10:02:52.764Z"
   },
   {
    "duration": 14,
    "start_time": "2024-07-07T10:02:54.628Z"
   },
   {
    "duration": 10,
    "start_time": "2024-07-07T10:02:55.709Z"
   },
   {
    "duration": 1696,
    "start_time": "2024-07-07T10:02:56.637Z"
   },
   {
    "duration": 709,
    "start_time": "2024-07-07T10:02:59.373Z"
   },
   {
    "duration": 6,
    "start_time": "2024-07-07T10:05:47.212Z"
   },
   {
    "duration": 2131,
    "start_time": "2024-07-07T10:06:54.359Z"
   },
   {
    "duration": 1014,
    "start_time": "2024-07-07T10:06:57.812Z"
   },
   {
    "duration": 22,
    "start_time": "2024-07-07T10:07:03.492Z"
   },
   {
    "duration": 9,
    "start_time": "2024-07-07T10:07:04.148Z"
   },
   {
    "duration": 3,
    "start_time": "2024-07-07T10:07:04.698Z"
   },
   {
    "duration": 1749,
    "start_time": "2024-07-07T10:07:05.388Z"
   },
   {
    "duration": 713,
    "start_time": "2024-07-07T10:07:07.973Z"
   },
   {
    "duration": 370,
    "start_time": "2024-07-07T10:09:22.293Z"
   },
   {
    "duration": 39,
    "start_time": "2024-07-07T10:10:31.768Z"
   },
   {
    "duration": 2200,
    "start_time": "2024-07-07T10:10:49.790Z"
   },
   {
    "duration": 985,
    "start_time": "2024-07-07T10:10:53.117Z"
   },
   {
    "duration": 16,
    "start_time": "2024-07-07T10:10:54.764Z"
   },
   {
    "duration": 9,
    "start_time": "2024-07-07T10:10:55.469Z"
   },
   {
    "duration": 155,
    "start_time": "2024-07-07T10:10:56.331Z"
   },
   {
    "duration": 2762,
    "start_time": "2024-07-07T10:31:51.462Z"
   },
   {
    "duration": 2500,
    "start_time": "2024-07-07T10:33:09.506Z"
   },
   {
    "duration": 931,
    "start_time": "2024-07-07T10:33:19.743Z"
   },
   {
    "duration": 15,
    "start_time": "2024-07-07T10:33:24.920Z"
   },
   {
    "duration": 183,
    "start_time": "2024-07-07T10:33:28.416Z"
   },
   {
    "duration": 3,
    "start_time": "2024-07-07T10:33:48.539Z"
   },
   {
    "duration": 4,
    "start_time": "2024-07-07T10:33:59.698Z"
   },
   {
    "duration": 5,
    "start_time": "2024-07-07T10:34:17.611Z"
   },
   {
    "duration": 43,
    "start_time": "2024-07-07T10:35:03.459Z"
   },
   {
    "duration": 11,
    "start_time": "2024-07-07T10:37:23.493Z"
   },
   {
    "duration": 20,
    "start_time": "2024-07-07T10:37:29.388Z"
   },
   {
    "duration": 2817,
    "start_time": "2024-07-07T10:37:50.300Z"
   },
   {
    "duration": 949,
    "start_time": "2024-07-07T10:37:57.030Z"
   },
   {
    "duration": 19,
    "start_time": "2024-07-07T10:38:00.985Z"
   },
   {
    "duration": 3,
    "start_time": "2024-07-07T10:38:01.769Z"
   },
   {
    "duration": 3,
    "start_time": "2024-07-07T10:38:04.265Z"
   },
   {
    "duration": 36,
    "start_time": "2024-07-07T10:38:05.222Z"
   },
   {
    "duration": 168,
    "start_time": "2024-07-07T10:38:24.307Z"
   },
   {
    "duration": 5,
    "start_time": "2024-07-07T10:38:43.555Z"
   },
   {
    "duration": 4,
    "start_time": "2024-07-07T10:38:49.242Z"
   },
   {
    "duration": 2578,
    "start_time": "2024-07-07T19:46:58.478Z"
   },
   {
    "duration": 3273,
    "start_time": "2024-07-07T19:47:11.045Z"
   },
   {
    "duration": 15,
    "start_time": "2024-07-07T19:47:17.818Z"
   },
   {
    "duration": 3,
    "start_time": "2024-07-07T19:50:15.573Z"
   },
   {
    "duration": 277818,
    "start_time": "2024-07-07T19:51:15.253Z"
   },
   {
    "duration": 2474,
    "start_time": "2024-07-07T19:58:44.054Z"
   },
   {
    "duration": 808,
    "start_time": "2024-07-07T19:58:49.726Z"
   },
   {
    "duration": 8,
    "start_time": "2024-07-07T19:59:03.894Z"
   },
   {
    "duration": 13,
    "start_time": "2024-07-07T19:59:06.334Z"
   },
   {
    "duration": 3,
    "start_time": "2024-07-07T19:59:12.805Z"
   },
   {
    "duration": 276657,
    "start_time": "2024-07-07T19:59:13.567Z"
   },
   {
    "duration": 4,
    "start_time": "2024-07-07T20:06:46.375Z"
   },
   {
    "duration": 17,
    "start_time": "2024-07-07T20:06:49.758Z"
   },
   {
    "duration": 9,
    "start_time": "2024-07-07T20:06:51.190Z"
   },
   {
    "duration": 3,
    "start_time": "2024-07-07T20:07:05.367Z"
   },
   {
    "duration": 53570,
    "start_time": "2024-07-07T20:07:31.336Z"
   },
   {
    "duration": 7,
    "start_time": "2024-07-07T20:09:48.362Z"
   },
   {
    "duration": 90,
    "start_time": "2024-07-07T20:09:56.733Z"
   },
   {
    "duration": 86,
    "start_time": "2024-07-07T20:12:28.840Z"
   },
   {
    "duration": 4,
    "start_time": "2024-07-07T20:19:04.449Z"
   },
   {
    "duration": 17,
    "start_time": "2024-07-07T20:22:07.746Z"
   },
   {
    "duration": 5,
    "start_time": "2024-07-07T20:23:00.793Z"
   },
   {
    "duration": 7,
    "start_time": "2024-07-07T20:23:05.385Z"
   },
   {
    "duration": 132,
    "start_time": "2024-07-07T20:23:46.132Z"
   },
   {
    "duration": 6,
    "start_time": "2024-07-07T20:23:55.182Z"
   },
   {
    "duration": 190,
    "start_time": "2024-07-07T20:23:56.539Z"
   },
   {
    "duration": 5,
    "start_time": "2024-07-07T20:24:03.650Z"
   },
   {
    "duration": 90,
    "start_time": "2024-07-07T20:24:04.436Z"
   },
   {
    "duration": 5,
    "start_time": "2024-07-07T20:24:11.041Z"
   },
   {
    "duration": 86,
    "start_time": "2024-07-07T20:24:11.610Z"
   },
   {
    "duration": 14,
    "start_time": "2024-07-07T20:24:23.153Z"
   },
   {
    "duration": 6,
    "start_time": "2024-07-07T20:24:32.898Z"
   },
   {
    "duration": 90,
    "start_time": "2024-07-07T20:24:38.994Z"
   },
   {
    "duration": 5,
    "start_time": "2024-07-07T20:24:46.937Z"
   },
   {
    "duration": 89,
    "start_time": "2024-07-07T20:24:51.102Z"
   },
   {
    "duration": 5,
    "start_time": "2024-07-07T20:24:58.681Z"
   },
   {
    "duration": 97,
    "start_time": "2024-07-07T20:24:59.634Z"
   },
   {
    "duration": 5,
    "start_time": "2024-07-07T20:25:06.253Z"
   },
   {
    "duration": 90,
    "start_time": "2024-07-07T20:25:06.810Z"
   },
   {
    "duration": 5,
    "start_time": "2024-07-07T20:25:14.647Z"
   },
   {
    "duration": 89,
    "start_time": "2024-07-07T20:25:15.099Z"
   },
   {
    "duration": 7,
    "start_time": "2024-07-07T20:25:26.601Z"
   },
   {
    "duration": 5,
    "start_time": "2024-07-07T20:25:32.362Z"
   },
   {
    "duration": 102,
    "start_time": "2024-07-07T20:25:33.009Z"
   },
   {
    "duration": 13,
    "start_time": "2024-07-07T20:29:47.394Z"
   },
   {
    "duration": 13,
    "start_time": "2024-07-07T20:30:08.140Z"
   },
   {
    "duration": 6,
    "start_time": "2024-07-07T20:31:55.642Z"
   },
   {
    "duration": 4,
    "start_time": "2024-07-07T20:33:41.325Z"
   },
   {
    "duration": 106,
    "start_time": "2024-07-07T20:33:58.108Z"
   },
   {
    "duration": 4,
    "start_time": "2024-07-07T20:34:10.202Z"
   },
   {
    "duration": 6,
    "start_time": "2024-07-07T20:40:35.981Z"
   },
   {
    "duration": 5,
    "start_time": "2024-07-07T20:41:17.552Z"
   },
   {
    "duration": 2,
    "start_time": "2024-07-07T20:43:02.285Z"
   },
   {
    "duration": 16,
    "start_time": "2024-07-07T20:44:52.252Z"
   },
   {
    "duration": 3,
    "start_time": "2024-07-07T20:48:04.534Z"
   },
   {
    "duration": 13,
    "start_time": "2024-07-07T20:48:10.221Z"
   },
   {
    "duration": 2533,
    "start_time": "2024-07-07T20:48:28.853Z"
   },
   {
    "duration": 854,
    "start_time": "2024-07-07T20:48:32.677Z"
   },
   {
    "duration": 8,
    "start_time": "2024-07-07T20:48:34.214Z"
   },
   {
    "duration": 14,
    "start_time": "2024-07-07T20:48:34.868Z"
   },
   {
    "duration": 2,
    "start_time": "2024-07-07T20:48:35.390Z"
   },
   {
    "duration": 270598,
    "start_time": "2024-07-07T20:48:35.860Z"
   },
   {
    "duration": 4,
    "start_time": "2024-07-07T20:53:06.460Z"
   },
   {
    "duration": 22,
    "start_time": "2024-07-07T20:53:06.465Z"
   },
   {
    "duration": 9,
    "start_time": "2024-07-07T20:53:38.526Z"
   },
   {
    "duration": 3,
    "start_time": "2024-07-07T20:53:43.720Z"
   },
   {
    "duration": 112,
    "start_time": "2024-07-07T20:54:06.053Z"
   },
   {
    "duration": 5,
    "start_time": "2024-07-07T20:54:11.005Z"
   },
   {
    "duration": 8,
    "start_time": "2024-07-07T20:54:11.734Z"
   },
   {
    "duration": 93,
    "start_time": "2024-07-07T20:54:12.464Z"
   },
   {
    "duration": 5,
    "start_time": "2024-07-07T20:54:13.397Z"
   },
   {
    "duration": 4,
    "start_time": "2024-07-07T20:54:14.246Z"
   },
   {
    "duration": 5,
    "start_time": "2024-07-07T20:54:14.734Z"
   },
   {
    "duration": 7,
    "start_time": "2024-07-07T20:54:15.215Z"
   },
   {
    "duration": 4,
    "start_time": "2024-07-07T20:54:15.669Z"
   },
   {
    "duration": 2,
    "start_time": "2024-07-07T20:54:18.447Z"
   },
   {
    "duration": 162,
    "start_time": "2024-07-07T20:54:19.084Z"
   },
   {
    "duration": 18,
    "start_time": "2024-07-07T20:55:03.949Z"
   },
   {
    "duration": 3,
    "start_time": "2024-07-07T20:55:19.303Z"
   },
   {
    "duration": 13,
    "start_time": "2024-07-07T20:55:20.045Z"
   },
   {
    "duration": 133,
    "start_time": "2024-07-07T22:09:00.076Z"
   },
   {
    "duration": 2620,
    "start_time": "2024-07-07T22:13:20.271Z"
   },
   {
    "duration": 840,
    "start_time": "2024-07-07T22:13:25.692Z"
   },
   {
    "duration": 12,
    "start_time": "2024-07-07T22:13:29.162Z"
   },
   {
    "duration": 14,
    "start_time": "2024-07-07T22:13:29.950Z"
   },
   {
    "duration": 2,
    "start_time": "2024-07-07T22:13:31.014Z"
   },
   {
    "duration": 354,
    "start_time": "2024-07-07T22:13:32.201Z"
   },
   {
    "duration": 3,
    "start_time": "2024-07-07T22:15:40.317Z"
   },
   {
    "duration": 1120,
    "start_time": "2024-07-07T22:15:42.110Z"
   },
   {
    "duration": 3,
    "start_time": "2024-07-07T22:15:50.526Z"
   },
   {
    "duration": 34,
    "start_time": "2024-07-07T22:15:51.021Z"
   },
   {
    "duration": 8,
    "start_time": "2024-07-07T22:15:51.710Z"
   },
   {
    "duration": 2630,
    "start_time": "2024-07-07T22:16:44.963Z"
   },
   {
    "duration": 822,
    "start_time": "2024-07-07T22:16:50.413Z"
   },
   {
    "duration": 9,
    "start_time": "2024-07-07T22:16:51.838Z"
   },
   {
    "duration": 16,
    "start_time": "2024-07-07T22:16:53.046Z"
   },
   {
    "duration": 3,
    "start_time": "2024-07-07T22:17:34.614Z"
   },
   {
    "duration": 1135,
    "start_time": "2024-07-07T22:17:36.214Z"
   },
   {
    "duration": 9,
    "start_time": "2024-07-07T22:17:44.762Z"
   },
   {
    "duration": 3,
    "start_time": "2024-07-07T22:18:07.398Z"
   },
   {
    "duration": 95,
    "start_time": "2024-07-07T22:18:08.648Z"
   },
   {
    "duration": 3,
    "start_time": "2024-07-07T22:18:13.686Z"
   },
   {
    "duration": 6,
    "start_time": "2024-07-07T22:18:14.311Z"
   },
   {
    "duration": 105,
    "start_time": "2024-07-07T22:18:16.113Z"
   },
   {
    "duration": 5,
    "start_time": "2024-07-07T22:18:24.872Z"
   },
   {
    "duration": 103,
    "start_time": "2024-07-07T22:18:25.431Z"
   },
   {
    "duration": 5,
    "start_time": "2024-07-07T22:18:33.246Z"
   },
   {
    "duration": 3,
    "start_time": "2024-07-07T22:18:34.008Z"
   },
   {
    "duration": 5,
    "start_time": "2024-07-07T22:18:38.231Z"
   },
   {
    "duration": 4,
    "start_time": "2024-07-07T22:18:48.654Z"
   },
   {
    "duration": 4,
    "start_time": "2024-07-07T22:18:52.919Z"
   },
   {
    "duration": 2,
    "start_time": "2024-07-07T22:18:53.886Z"
   },
   {
    "duration": 153,
    "start_time": "2024-07-07T22:18:59.063Z"
   },
   {
    "duration": 10,
    "start_time": "2024-07-07T22:19:17.367Z"
   },
   {
    "duration": 4,
    "start_time": "2024-07-07T22:20:08.230Z"
   },
   {
    "duration": 4,
    "start_time": "2024-07-07T22:20:09.279Z"
   },
   {
    "duration": 4,
    "start_time": "2024-07-07T22:20:09.760Z"
   },
   {
    "duration": 2,
    "start_time": "2024-07-07T22:20:10.318Z"
   },
   {
    "duration": 14,
    "start_time": "2024-07-07T22:20:10.870Z"
   },
   {
    "duration": 11,
    "start_time": "2024-07-07T22:20:14.247Z"
   },
   {
    "duration": 4,
    "start_time": "2024-07-07T22:20:54.999Z"
   },
   {
    "duration": 18,
    "start_time": "2024-07-07T22:24:13.328Z"
   },
   {
    "duration": 118,
    "start_time": "2024-07-07T22:26:30.243Z"
   },
   {
    "duration": 2,
    "start_time": "2024-07-07T22:27:53.785Z"
   },
   {
    "duration": 14,
    "start_time": "2024-07-07T22:31:06.849Z"
   },
   {
    "duration": 34,
    "start_time": "2024-07-07T22:31:39.649Z"
   },
   {
    "duration": 10,
    "start_time": "2024-07-07T22:36:58.531Z"
   },
   {
    "duration": 72,
    "start_time": "2024-07-07T22:37:20.995Z"
   },
   {
    "duration": 68,
    "start_time": "2024-07-07T22:42:12.371Z"
   },
   {
    "duration": 62,
    "start_time": "2024-07-07T22:42:41.163Z"
   },
   {
    "duration": 2656,
    "start_time": "2024-07-07T22:43:00.036Z"
   },
   {
    "duration": 810,
    "start_time": "2024-07-07T22:43:05.194Z"
   },
   {
    "duration": 8,
    "start_time": "2024-07-07T22:43:06.571Z"
   },
   {
    "duration": 13,
    "start_time": "2024-07-07T22:43:07.187Z"
   },
   {
    "duration": 2,
    "start_time": "2024-07-07T22:43:07.578Z"
   },
   {
    "duration": 1110,
    "start_time": "2024-07-07T22:43:07.978Z"
   },
   {
    "duration": 9,
    "start_time": "2024-07-07T22:43:10.314Z"
   },
   {
    "duration": 3,
    "start_time": "2024-07-07T22:43:10.682Z"
   },
   {
    "duration": 215,
    "start_time": "2024-07-07T22:43:10.994Z"
   },
   {
    "duration": 5,
    "start_time": "2024-07-07T22:43:11.354Z"
   },
   {
    "duration": 5,
    "start_time": "2024-07-07T22:43:11.810Z"
   },
   {
    "duration": 106,
    "start_time": "2024-07-07T22:43:12.515Z"
   },
   {
    "duration": 4,
    "start_time": "2024-07-07T22:43:13.163Z"
   },
   {
    "duration": 3,
    "start_time": "2024-07-07T22:43:13.587Z"
   },
   {
    "duration": 5,
    "start_time": "2024-07-07T22:43:28.050Z"
   },
   {
    "duration": 88,
    "start_time": "2024-07-07T22:43:28.677Z"
   },
   {
    "duration": 5,
    "start_time": "2024-07-07T22:43:35.050Z"
   },
   {
    "duration": 87,
    "start_time": "2024-07-07T22:43:35.496Z"
   },
   {
    "duration": 5,
    "start_time": "2024-07-07T22:43:40.954Z"
   },
   {
    "duration": 3,
    "start_time": "2024-07-07T22:43:41.603Z"
   },
   {
    "duration": 16,
    "start_time": "2024-07-07T22:43:42.235Z"
   },
   {
    "duration": 2,
    "start_time": "2024-07-07T22:43:43.510Z"
   },
   {
    "duration": 277,
    "start_time": "2024-07-07T22:43:44.187Z"
   },
   {
    "duration": 130,
    "start_time": "2024-07-07T22:45:34.568Z"
   },
   {
    "duration": 91,
    "start_time": "2024-07-07T22:45:53.213Z"
   },
   {
    "duration": 79,
    "start_time": "2024-07-07T22:46:33.006Z"
   },
   {
    "duration": 80,
    "start_time": "2024-07-07T22:48:16.155Z"
   },
   {
    "duration": 5,
    "start_time": "2024-07-07T22:49:39.283Z"
   },
   {
    "duration": 77,
    "start_time": "2024-07-07T22:49:54.758Z"
   },
   {
    "duration": 11,
    "start_time": "2024-07-07T22:56:22.273Z"
   },
   {
    "duration": 8,
    "start_time": "2024-07-07T22:56:54.673Z"
   },
   {
    "duration": 10,
    "start_time": "2024-07-07T22:56:58.024Z"
   },
   {
    "duration": 7,
    "start_time": "2024-07-07T22:57:53.328Z"
   },
   {
    "duration": 94,
    "start_time": "2024-07-07T22:57:54.132Z"
   },
   {
    "duration": 10,
    "start_time": "2024-07-07T22:58:06.312Z"
   },
   {
    "duration": 86,
    "start_time": "2024-07-07T22:58:08.216Z"
   },
   {
    "duration": 8,
    "start_time": "2024-07-07T22:58:15.027Z"
   },
   {
    "duration": 107,
    "start_time": "2024-07-07T22:58:15.480Z"
   },
   {
    "duration": 7,
    "start_time": "2024-07-07T22:58:23.561Z"
   },
   {
    "duration": 92,
    "start_time": "2024-07-07T22:58:24.217Z"
   },
   {
    "duration": 6,
    "start_time": "2024-07-07T22:58:29.028Z"
   },
   {
    "duration": 92,
    "start_time": "2024-07-07T22:58:29.521Z"
   },
   {
    "duration": 8,
    "start_time": "2024-07-07T22:58:36.019Z"
   },
   {
    "duration": 95,
    "start_time": "2024-07-07T22:58:37.561Z"
   },
   {
    "duration": 9,
    "start_time": "2024-07-07T22:58:42.970Z"
   },
   {
    "duration": 84,
    "start_time": "2024-07-07T22:58:44.185Z"
   },
   {
    "duration": 8,
    "start_time": "2024-07-07T22:58:49.512Z"
   },
   {
    "duration": 83,
    "start_time": "2024-07-07T22:58:50.625Z"
   },
   {
    "duration": 7,
    "start_time": "2024-07-07T22:58:55.254Z"
   },
   {
    "duration": 84,
    "start_time": "2024-07-07T22:58:55.913Z"
   },
   {
    "duration": 7,
    "start_time": "2024-07-07T22:59:06.185Z"
   },
   {
    "duration": 87,
    "start_time": "2024-07-07T22:59:06.827Z"
   },
   {
    "duration": 7,
    "start_time": "2024-07-07T22:59:11.241Z"
   },
   {
    "duration": 87,
    "start_time": "2024-07-07T22:59:11.577Z"
   },
   {
    "duration": 8,
    "start_time": "2024-07-07T22:59:16.418Z"
   },
   {
    "duration": 84,
    "start_time": "2024-07-07T22:59:16.877Z"
   },
   {
    "duration": 10,
    "start_time": "2024-07-07T22:59:23.048Z"
   },
   {
    "duration": 88,
    "start_time": "2024-07-07T22:59:23.425Z"
   },
   {
    "duration": 10,
    "start_time": "2024-07-07T23:01:05.290Z"
   },
   {
    "duration": 90,
    "start_time": "2024-07-07T23:01:07.555Z"
   },
   {
    "duration": 7,
    "start_time": "2024-07-07T23:01:16.522Z"
   },
   {
    "duration": 93,
    "start_time": "2024-07-07T23:01:17.156Z"
   },
   {
    "duration": 8,
    "start_time": "2024-07-07T23:01:22.890Z"
   },
   {
    "duration": 114,
    "start_time": "2024-07-07T23:01:23.366Z"
   },
   {
    "duration": 7,
    "start_time": "2024-07-07T23:01:31.132Z"
   },
   {
    "duration": 98,
    "start_time": "2024-07-07T23:01:31.602Z"
   },
   {
    "duration": 8,
    "start_time": "2024-07-07T23:01:36.058Z"
   },
   {
    "duration": 99,
    "start_time": "2024-07-07T23:01:36.490Z"
   },
   {
    "duration": 15,
    "start_time": "2024-07-07T23:09:57.204Z"
   },
   {
    "duration": 7,
    "start_time": "2024-07-07T23:10:13.302Z"
   },
   {
    "duration": 88,
    "start_time": "2024-07-07T23:10:33.980Z"
   },
   {
    "duration": 2620,
    "start_time": "2024-07-07T23:10:47.554Z"
   },
   {
    "duration": 876,
    "start_time": "2024-07-07T23:10:51.494Z"
   },
   {
    "duration": 9,
    "start_time": "2024-07-07T23:10:53.086Z"
   },
   {
    "duration": 14,
    "start_time": "2024-07-07T23:10:53.589Z"
   },
   {
    "duration": 3,
    "start_time": "2024-07-07T23:10:54.013Z"
   },
   {
    "duration": 1160,
    "start_time": "2024-07-07T23:10:54.425Z"
   },
   {
    "duration": 8,
    "start_time": "2024-07-07T23:10:55.587Z"
   },
   {
    "duration": 6,
    "start_time": "2024-07-07T23:10:55.596Z"
   },
   {
    "duration": 213,
    "start_time": "2024-07-07T23:10:55.668Z"
   },
   {
    "duration": 4,
    "start_time": "2024-07-07T23:10:56.221Z"
   },
   {
    "duration": 7,
    "start_time": "2024-07-07T23:10:56.836Z"
   },
   {
    "duration": 91,
    "start_time": "2024-07-07T23:10:57.647Z"
   },
   {
    "duration": 163,
    "start_time": "2024-07-07T23:11:00.604Z"
   },
   {
    "duration": 5,
    "start_time": "2024-07-07T23:11:14.165Z"
   },
   {
    "duration": 2592,
    "start_time": "2024-07-07T23:11:51.637Z"
   },
   {
    "duration": 855,
    "start_time": "2024-07-07T23:11:55.781Z"
   },
   {
    "duration": 11,
    "start_time": "2024-07-07T23:11:57.413Z"
   },
   {
    "duration": 15,
    "start_time": "2024-07-07T23:11:57.948Z"
   },
   {
    "duration": 2,
    "start_time": "2024-07-07T23:11:58.501Z"
   },
   {
    "duration": 1161,
    "start_time": "2024-07-07T23:11:59.004Z"
   },
   {
    "duration": 9,
    "start_time": "2024-07-07T23:12:00.166Z"
   },
   {
    "duration": 2664,
    "start_time": "2024-07-07T23:12:18.559Z"
   },
   {
    "duration": 847,
    "start_time": "2024-07-07T23:12:22.797Z"
   },
   {
    "duration": 9,
    "start_time": "2024-07-07T23:12:24.333Z"
   },
   {
    "duration": 2,
    "start_time": "2024-07-07T23:12:24.837Z"
   },
   {
    "duration": 3,
    "start_time": "2024-07-07T23:12:25.908Z"
   },
   {
    "duration": 6497,
    "start_time": "2024-07-07T23:12:26.829Z"
   },
   {
    "duration": 7,
    "start_time": "2024-07-07T23:12:37.746Z"
   },
   {
    "duration": 7,
    "start_time": "2024-07-07T23:12:41.213Z"
   },
   {
    "duration": 214,
    "start_time": "2024-07-07T23:12:42.021Z"
   },
   {
    "duration": 5,
    "start_time": "2024-07-07T23:12:45.654Z"
   },
   {
    "duration": 21,
    "start_time": "2024-07-07T23:12:46.357Z"
   },
   {
    "duration": 92,
    "start_time": "2024-07-07T23:12:47.308Z"
   },
   {
    "duration": 4,
    "start_time": "2024-07-07T23:12:50.230Z"
   },
   {
    "duration": 6,
    "start_time": "2024-07-07T23:14:14.669Z"
   },
   {
    "duration": 18,
    "start_time": "2024-07-07T23:14:25.333Z"
   },
   {
    "duration": 212,
    "start_time": "2024-07-07T23:14:32.293Z"
   },
   {
    "duration": 2539,
    "start_time": "2024-07-07T23:14:53.564Z"
   },
   {
    "duration": 820,
    "start_time": "2024-07-07T23:14:58.638Z"
   },
   {
    "duration": 8,
    "start_time": "2024-07-07T23:14:59.460Z"
   },
   {
    "duration": 3,
    "start_time": "2024-07-07T23:14:59.732Z"
   },
   {
    "duration": 3,
    "start_time": "2024-07-07T23:15:00.261Z"
   },
   {
    "duration": 6473,
    "start_time": "2024-07-07T23:15:00.742Z"
   },
   {
    "duration": 8,
    "start_time": "2024-07-07T23:15:07.217Z"
   },
   {
    "duration": 7,
    "start_time": "2024-07-07T23:15:07.226Z"
   },
   {
    "duration": 237,
    "start_time": "2024-07-07T23:15:07.235Z"
   },
   {
    "duration": 5,
    "start_time": "2024-07-07T23:15:07.473Z"
   },
   {
    "duration": 36,
    "start_time": "2024-07-07T23:15:07.479Z"
   },
   {
    "duration": 103,
    "start_time": "2024-07-07T23:15:07.516Z"
   },
   {
    "duration": 3,
    "start_time": "2024-07-07T23:15:07.621Z"
   },
   {
    "duration": 7,
    "start_time": "2024-07-07T23:15:07.625Z"
   },
   {
    "duration": 18,
    "start_time": "2024-07-07T23:15:07.633Z"
   },
   {
    "duration": 36,
    "start_time": "2024-07-07T23:15:07.652Z"
   },
   {
    "duration": 210,
    "start_time": "2024-07-07T23:15:08.062Z"
   },
   {
    "duration": 185,
    "start_time": "2024-07-07T23:15:49.845Z"
   },
   {
    "duration": 2687,
    "start_time": "2024-07-07T23:16:26.797Z"
   },
   {
    "duration": 854,
    "start_time": "2024-07-07T23:16:29.486Z"
   },
   {
    "duration": 9,
    "start_time": "2024-07-07T23:16:30.341Z"
   },
   {
    "duration": 69,
    "start_time": "2024-07-07T23:16:30.352Z"
   },
   {
    "duration": 22,
    "start_time": "2024-07-07T23:16:30.422Z"
   },
   {
    "duration": 6426,
    "start_time": "2024-07-07T23:16:30.492Z"
   },
   {
    "duration": 8,
    "start_time": "2024-07-07T23:16:36.920Z"
   },
   {
    "duration": 7,
    "start_time": "2024-07-07T23:16:36.929Z"
   },
   {
    "duration": 223,
    "start_time": "2024-07-07T23:16:36.937Z"
   },
   {
    "duration": 4,
    "start_time": "2024-07-07T23:16:37.161Z"
   },
   {
    "duration": 28,
    "start_time": "2024-07-07T23:16:37.166Z"
   },
   {
    "duration": 93,
    "start_time": "2024-07-07T23:16:37.196Z"
   },
   {
    "duration": 4,
    "start_time": "2024-07-07T23:16:37.291Z"
   },
   {
    "duration": 34,
    "start_time": "2024-07-07T23:16:37.296Z"
   },
   {
    "duration": 2,
    "start_time": "2024-07-07T23:16:40.661Z"
   },
   {
    "duration": 848,
    "start_time": "2024-07-07T23:16:41.125Z"
   },
   {
    "duration": 27,
    "start_time": "2024-07-07T23:17:38.790Z"
   },
   {
    "duration": 35,
    "start_time": "2024-07-07T23:17:53.319Z"
   },
   {
    "duration": 2643,
    "start_time": "2024-07-07T23:18:23.814Z"
   },
   {
    "duration": 835,
    "start_time": "2024-07-07T23:18:28.103Z"
   },
   {
    "duration": 11,
    "start_time": "2024-07-07T23:18:29.640Z"
   },
   {
    "duration": 3,
    "start_time": "2024-07-07T23:18:29.998Z"
   },
   {
    "duration": 3,
    "start_time": "2024-07-07T23:18:30.406Z"
   },
   {
    "duration": 6394,
    "start_time": "2024-07-07T23:18:30.653Z"
   },
   {
    "duration": 10,
    "start_time": "2024-07-07T23:18:37.048Z"
   },
   {
    "duration": 9,
    "start_time": "2024-07-07T23:18:37.059Z"
   },
   {
    "duration": 240,
    "start_time": "2024-07-07T23:18:37.070Z"
   },
   {
    "duration": 5,
    "start_time": "2024-07-07T23:18:37.312Z"
   },
   {
    "duration": 24,
    "start_time": "2024-07-07T23:18:37.318Z"
   },
   {
    "duration": 102,
    "start_time": "2024-07-07T23:18:37.343Z"
   },
   {
    "duration": 4,
    "start_time": "2024-07-07T23:18:37.447Z"
   },
   {
    "duration": 6,
    "start_time": "2024-07-07T23:18:40.510Z"
   },
   {
    "duration": 32,
    "start_time": "2024-07-07T23:18:41.409Z"
   },
   {
    "duration": 3,
    "start_time": "2024-07-07T23:18:45.541Z"
   },
   {
    "duration": 325,
    "start_time": "2024-07-07T23:18:46.024Z"
   },
   {
    "duration": 2617,
    "start_time": "2024-07-08T00:20:15.469Z"
   },
   {
    "duration": 856,
    "start_time": "2024-07-08T00:20:20.941Z"
   },
   {
    "duration": 8,
    "start_time": "2024-07-08T00:20:24.268Z"
   },
   {
    "duration": 2,
    "start_time": "2024-07-08T00:20:24.894Z"
   },
   {
    "duration": 3,
    "start_time": "2024-07-08T00:20:25.406Z"
   },
   {
    "duration": 6407,
    "start_time": "2024-07-08T00:20:25.909Z"
   },
   {
    "duration": 8,
    "start_time": "2024-07-08T00:20:32.318Z"
   },
   {
    "duration": 7,
    "start_time": "2024-07-08T00:20:36.301Z"
   },
   {
    "duration": 42,
    "start_time": "2024-07-08T00:20:41.594Z"
   },
   {
    "duration": 33,
    "start_time": "2024-07-08T00:21:58.838Z"
   },
   {
    "duration": 169,
    "start_time": "2024-07-08T00:22:24.231Z"
   },
   {
    "duration": 212,
    "start_time": "2024-07-08T00:23:05.022Z"
   },
   {
    "duration": 4,
    "start_time": "2024-07-08T00:23:12.569Z"
   },
   {
    "duration": 22,
    "start_time": "2024-07-08T00:23:21.117Z"
   },
   {
    "duration": 91,
    "start_time": "2024-07-08T00:23:24.318Z"
   },
   {
    "duration": 4,
    "start_time": "2024-07-08T00:24:04.494Z"
   },
   {
    "duration": 333,
    "start_time": "2024-07-08T00:25:09.438Z"
   },
   {
    "duration": 22,
    "start_time": "2024-07-08T00:25:58.341Z"
   },
   {
    "duration": 113,
    "start_time": "2024-07-08T00:25:59.421Z"
   },
   {
    "duration": 100,
    "start_time": "2024-07-08T00:26:06.510Z"
   },
   {
    "duration": 3,
    "start_time": "2024-07-08T00:26:29.809Z"
   },
   {
    "duration": 14,
    "start_time": "2024-07-08T00:26:45.549Z"
   },
   {
    "duration": 37,
    "start_time": "2024-07-08T00:30:02.014Z"
   },
   {
    "duration": 2679,
    "start_time": "2024-07-08T00:30:21.590Z"
   },
   {
    "duration": 841,
    "start_time": "2024-07-08T00:30:27.519Z"
   },
   {
    "duration": 9,
    "start_time": "2024-07-08T00:30:29.269Z"
   },
   {
    "duration": 3,
    "start_time": "2024-07-08T00:30:29.813Z"
   },
   {
    "duration": 3,
    "start_time": "2024-07-08T00:30:30.249Z"
   },
   {
    "duration": 6293,
    "start_time": "2024-07-08T00:30:30.648Z"
   },
   {
    "duration": 7,
    "start_time": "2024-07-08T00:30:36.943Z"
   },
   {
    "duration": 10,
    "start_time": "2024-07-08T00:30:37.950Z"
   },
   {
    "duration": 30,
    "start_time": "2024-07-08T00:30:38.679Z"
   },
   {
    "duration": 2526,
    "start_time": "2024-07-08T00:31:36.672Z"
   },
   {
    "duration": 825,
    "start_time": "2024-07-08T00:31:39.201Z"
   },
   {
    "duration": 8,
    "start_time": "2024-07-08T00:31:40.028Z"
   },
   {
    "duration": 48,
    "start_time": "2024-07-08T00:31:40.038Z"
   },
   {
    "duration": 25,
    "start_time": "2024-07-08T00:31:40.088Z"
   },
   {
    "duration": 6337,
    "start_time": "2024-07-08T00:31:40.114Z"
   },
   {
    "duration": 8,
    "start_time": "2024-07-08T00:31:46.453Z"
   },
   {
    "duration": 12,
    "start_time": "2024-07-08T00:31:46.462Z"
   },
   {
    "duration": 44,
    "start_time": "2024-07-08T00:31:46.475Z"
   },
   {
    "duration": 214,
    "start_time": "2024-07-08T00:31:46.520Z"
   },
   {
    "duration": 4,
    "start_time": "2024-07-08T00:31:46.736Z"
   },
   {
    "duration": 26,
    "start_time": "2024-07-08T00:31:46.741Z"
   },
   {
    "duration": 99,
    "start_time": "2024-07-08T00:31:46.768Z"
   },
   {
    "duration": 4,
    "start_time": "2024-07-08T00:31:46.868Z"
   },
   {
    "duration": 17,
    "start_time": "2024-07-08T00:31:46.873Z"
   },
   {
    "duration": 164,
    "start_time": "2024-07-08T00:38:58.735Z"
   },
   {
    "duration": 22,
    "start_time": "2024-07-08T00:39:05.353Z"
   },
   {
    "duration": 14,
    "start_time": "2024-07-08T00:40:35.007Z"
   },
   {
    "duration": 2633,
    "start_time": "2024-07-08T00:40:44.735Z"
   },
   {
    "duration": 818,
    "start_time": "2024-07-08T00:40:52.009Z"
   },
   {
    "duration": 9,
    "start_time": "2024-07-08T00:40:55.639Z"
   },
   {
    "duration": 2,
    "start_time": "2024-07-08T00:40:56.328Z"
   },
   {
    "duration": 4,
    "start_time": "2024-07-08T00:40:56.807Z"
   },
   {
    "duration": 6365,
    "start_time": "2024-07-08T00:40:57.298Z"
   },
   {
    "duration": 8,
    "start_time": "2024-07-08T00:41:03.665Z"
   },
   {
    "duration": 7,
    "start_time": "2024-07-08T00:41:06.375Z"
   },
   {
    "duration": 35,
    "start_time": "2024-07-08T00:41:06.896Z"
   },
   {
    "duration": 223,
    "start_time": "2024-07-08T00:41:10.113Z"
   },
   {
    "duration": 4,
    "start_time": "2024-07-08T00:41:13.253Z"
   },
   {
    "duration": 13,
    "start_time": "2024-07-08T00:41:13.838Z"
   },
   {
    "duration": 89,
    "start_time": "2024-07-08T00:41:15.569Z"
   },
   {
    "duration": 5,
    "start_time": "2024-07-08T00:41:18.538Z"
   },
   {
    "duration": 9,
    "start_time": "2024-07-08T00:41:30.344Z"
   },
   {
    "duration": 3,
    "start_time": "2024-07-08T00:41:34.342Z"
   },
   {
    "duration": 411,
    "start_time": "2024-07-08T00:41:34.840Z"
   },
   {
    "duration": 4,
    "start_time": "2024-07-08T00:42:47.935Z"
   },
   {
    "duration": 2552,
    "start_time": "2024-07-08T00:43:51.632Z"
   },
   {
    "duration": 843,
    "start_time": "2024-07-08T00:44:13.104Z"
   },
   {
    "duration": 153,
    "start_time": "2024-07-08T00:49:04.954Z"
   },
   {
    "duration": 2522,
    "start_time": "2024-07-08T00:49:20.167Z"
   },
   {
    "duration": 809,
    "start_time": "2024-07-08T00:49:26.145Z"
   },
   {
    "duration": 8,
    "start_time": "2024-07-08T00:49:29.968Z"
   },
   {
    "duration": 2,
    "start_time": "2024-07-08T00:49:30.681Z"
   },
   {
    "duration": 3,
    "start_time": "2024-07-08T00:49:31.490Z"
   },
   {
    "duration": 6480,
    "start_time": "2024-07-08T00:49:32.105Z"
   },
   {
    "duration": 8,
    "start_time": "2024-07-08T00:49:39.332Z"
   },
   {
    "duration": 7,
    "start_time": "2024-07-08T00:49:41.912Z"
   },
   {
    "duration": 40,
    "start_time": "2024-07-08T00:49:42.649Z"
   },
   {
    "duration": 220,
    "start_time": "2024-07-08T00:49:43.312Z"
   },
   {
    "duration": 4,
    "start_time": "2024-07-08T00:49:43.889Z"
   },
   {
    "duration": 162,
    "start_time": "2024-07-08T00:49:44.592Z"
   },
   {
    "duration": 14,
    "start_time": "2024-07-08T00:50:01.081Z"
   },
   {
    "duration": 89,
    "start_time": "2024-07-08T00:50:04.601Z"
   },
   {
    "duration": 5,
    "start_time": "2024-07-08T00:50:06.740Z"
   },
   {
    "duration": 3,
    "start_time": "2024-07-08T00:50:32.084Z"
   },
   {
    "duration": 4,
    "start_time": "2024-07-08T00:51:55.057Z"
   },
   {
    "duration": 9,
    "start_time": "2024-07-08T00:51:59.026Z"
   },
   {
    "duration": 10,
    "start_time": "2024-07-08T00:52:22.753Z"
   },
   {
    "duration": 3,
    "start_time": "2024-07-08T00:53:09.213Z"
   },
   {
    "duration": 11,
    "start_time": "2024-07-08T00:53:13.521Z"
   },
   {
    "duration": 2777,
    "start_time": "2024-07-08T01:02:10.921Z"
   },
   {
    "duration": 829,
    "start_time": "2024-07-08T01:02:16.057Z"
   },
   {
    "duration": 9,
    "start_time": "2024-07-08T01:02:19.345Z"
   },
   {
    "duration": 2,
    "start_time": "2024-07-08T01:02:19.944Z"
   },
   {
    "duration": 3,
    "start_time": "2024-07-08T01:02:20.353Z"
   },
   {
    "duration": 6364,
    "start_time": "2024-07-08T01:02:20.810Z"
   },
   {
    "duration": 9,
    "start_time": "2024-07-08T01:02:27.176Z"
   },
   {
    "duration": 7,
    "start_time": "2024-07-08T01:02:29.987Z"
   },
   {
    "duration": 32,
    "start_time": "2024-07-08T01:02:30.601Z"
   },
   {
    "duration": 213,
    "start_time": "2024-07-08T01:02:31.230Z"
   },
   {
    "duration": 4,
    "start_time": "2024-07-08T01:02:33.545Z"
   },
   {
    "duration": 25,
    "start_time": "2024-07-08T01:02:34.097Z"
   },
   {
    "duration": 114,
    "start_time": "2024-07-08T01:02:36.011Z"
   },
   {
    "duration": 4,
    "start_time": "2024-07-08T01:02:40.625Z"
   },
   {
    "duration": 12,
    "start_time": "2024-07-08T01:02:49.873Z"
   },
   {
    "duration": 920,
    "start_time": "2024-07-08T01:05:16.528Z"
   },
   {
    "duration": 691,
    "start_time": "2024-07-08T01:06:31.479Z"
   },
   {
    "duration": 15,
    "start_time": "2024-07-08T01:08:02.336Z"
   },
   {
    "duration": 90,
    "start_time": "2024-07-08T01:08:03.615Z"
   },
   {
    "duration": 4,
    "start_time": "2024-07-08T01:08:14.539Z"
   },
   {
    "duration": 8,
    "start_time": "2024-07-08T01:08:16.570Z"
   },
   {
    "duration": 2,
    "start_time": "2024-07-08T01:08:21.511Z"
   },
   {
    "duration": 41296,
    "start_time": "2024-07-08T01:08:22.024Z"
   },
   {
    "duration": 30989,
    "start_time": "2024-07-08T03:01:45.128Z"
   },
   {
    "duration": 35551,
    "start_time": "2024-07-08T03:06:13.768Z"
   },
   {
    "duration": 51,
    "start_time": "2024-07-08T03:12:09.682Z"
   },
   {
    "duration": 224,
    "start_time": "2024-07-08T03:12:30.239Z"
   },
   {
    "duration": 226077,
    "start_time": "2024-07-08T03:16:48.457Z"
   },
   {
    "duration": 2846,
    "start_time": "2024-07-08T04:21:54.475Z"
   },
   {
    "duration": 3077,
    "start_time": "2024-07-08T04:22:00.589Z"
   },
   {
    "duration": 9,
    "start_time": "2024-07-08T04:22:06.805Z"
   },
   {
    "duration": 2,
    "start_time": "2024-07-08T04:22:10.195Z"
   },
   {
    "duration": 2,
    "start_time": "2024-07-08T04:22:11.067Z"
   },
   {
    "duration": 6350,
    "start_time": "2024-07-08T04:22:12.067Z"
   },
   {
    "duration": 8,
    "start_time": "2024-07-08T04:22:18.419Z"
   },
   {
    "duration": 8,
    "start_time": "2024-07-08T04:22:21.046Z"
   },
   {
    "duration": 32,
    "start_time": "2024-07-08T04:22:21.939Z"
   },
   {
    "duration": 208,
    "start_time": "2024-07-08T04:22:22.731Z"
   },
   {
    "duration": 4,
    "start_time": "2024-07-08T04:22:23.803Z"
   },
   {
    "duration": 14,
    "start_time": "2024-07-08T04:22:24.704Z"
   },
   {
    "duration": 95,
    "start_time": "2024-07-08T04:22:25.554Z"
   },
   {
    "duration": 5,
    "start_time": "2024-07-08T04:22:28.045Z"
   },
   {
    "duration": 10,
    "start_time": "2024-07-08T04:22:28.978Z"
   },
   {
    "duration": 40666,
    "start_time": "2024-07-08T04:22:33.291Z"
   },
   {
    "duration": 40089,
    "start_time": "2024-07-08T04:23:26.892Z"
   },
   {
    "duration": 26509,
    "start_time": "2024-07-08T04:24:22.120Z"
   },
   {
    "duration": 2633,
    "start_time": "2024-07-08T05:14:31.254Z"
   },
   {
    "duration": 871,
    "start_time": "2024-07-08T05:14:33.889Z"
   },
   {
    "duration": 9,
    "start_time": "2024-07-08T05:14:34.762Z"
   },
   {
    "duration": 3,
    "start_time": "2024-07-08T05:14:34.773Z"
   },
   {
    "duration": 4,
    "start_time": "2024-07-08T05:14:34.777Z"
   },
   {
    "duration": 6482,
    "start_time": "2024-07-08T05:14:34.799Z"
   },
   {
    "duration": 7,
    "start_time": "2024-07-08T05:14:41.283Z"
   },
   {
    "duration": 19,
    "start_time": "2024-07-08T05:14:41.291Z"
   },
   {
    "duration": 30,
    "start_time": "2024-07-08T05:14:41.312Z"
   },
   {
    "duration": 253,
    "start_time": "2024-07-08T05:14:41.343Z"
   },
   {
    "duration": 4,
    "start_time": "2024-07-08T05:14:41.597Z"
   },
   {
    "duration": 20,
    "start_time": "2024-07-08T05:14:41.602Z"
   },
   {
    "duration": 94,
    "start_time": "2024-07-08T05:14:41.624Z"
   },
   {
    "duration": 4,
    "start_time": "2024-07-08T05:14:41.719Z"
   },
   {
    "duration": 8,
    "start_time": "2024-07-08T05:14:41.725Z"
   },
   {
    "duration": 41738,
    "start_time": "2024-07-08T05:14:41.734Z"
   },
   {
    "duration": 33641,
    "start_time": "2024-07-08T05:15:23.473Z"
   },
   {
    "duration": 323,
    "start_time": "2024-07-08T05:15:57.116Z"
   },
   {
    "duration": 110,
    "start_time": "2024-07-08T05:17:25.744Z"
   },
   {
    "duration": 83,
    "start_time": "2024-07-08T05:17:35.399Z"
   },
   {
    "duration": 2053410,
    "start_time": "2024-07-08T05:18:26.407Z"
   },
   {
    "duration": 5,
    "start_time": "2024-07-08T06:28:03.216Z"
   },
   {
    "duration": 4,
    "start_time": "2024-07-08T06:29:18.323Z"
   },
   {
    "duration": 18,
    "start_time": "2024-07-08T06:32:00.211Z"
   },
   {
    "duration": 8,
    "start_time": "2024-07-08T06:36:22.571Z"
   },
   {
    "duration": 5,
    "start_time": "2024-07-08T06:36:33.491Z"
   },
   {
    "duration": 11,
    "start_time": "2024-07-08T06:38:36.715Z"
   },
   {
    "duration": 17,
    "start_time": "2024-07-08T06:38:46.566Z"
   },
   {
    "duration": 7,
    "start_time": "2024-07-08T06:39:26.732Z"
   },
   {
    "duration": 17,
    "start_time": "2024-07-08T06:39:27.620Z"
   },
   {
    "duration": 3,
    "start_time": "2024-07-08T06:39:58.811Z"
   },
   {
    "duration": 8,
    "start_time": "2024-07-08T06:40:26.756Z"
   },
   {
    "duration": 15,
    "start_time": "2024-07-08T06:40:27.795Z"
   },
   {
    "duration": 3,
    "start_time": "2024-07-08T06:40:51.259Z"
   },
   {
    "duration": 2725,
    "start_time": "2024-07-08T06:41:14.675Z"
   },
   {
    "duration": 850,
    "start_time": "2024-07-08T06:41:20.274Z"
   },
   {
    "duration": 9,
    "start_time": "2024-07-08T06:41:21.278Z"
   },
   {
    "duration": 3,
    "start_time": "2024-07-08T06:41:21.805Z"
   },
   {
    "duration": 3,
    "start_time": "2024-07-08T06:41:22.208Z"
   },
   {
    "duration": 6424,
    "start_time": "2024-07-08T06:41:22.426Z"
   },
   {
    "duration": 8,
    "start_time": "2024-07-08T06:41:28.852Z"
   },
   {
    "duration": 6,
    "start_time": "2024-07-08T06:41:28.861Z"
   },
   {
    "duration": 71,
    "start_time": "2024-07-08T06:41:28.869Z"
   },
   {
    "duration": 211,
    "start_time": "2024-07-08T06:41:28.942Z"
   },
   {
    "duration": 4,
    "start_time": "2024-07-08T06:41:29.154Z"
   },
   {
    "duration": 40,
    "start_time": "2024-07-08T06:41:29.159Z"
   },
   {
    "duration": 87,
    "start_time": "2024-07-08T06:41:33.881Z"
   },
   {
    "duration": 5,
    "start_time": "2024-07-08T06:41:34.555Z"
   },
   {
    "duration": 10,
    "start_time": "2024-07-08T06:41:35.155Z"
   },
   {
    "duration": 32996,
    "start_time": "2024-07-08T06:41:40.020Z"
   },
   {
    "duration": 9,
    "start_time": "2024-07-08T06:42:19.573Z"
   },
   {
    "duration": 166,
    "start_time": "2024-07-08T06:42:20.652Z"
   },
   {
    "duration": 5,
    "start_time": "2024-07-08T06:44:35.541Z"
   },
   {
    "duration": 1142,
    "start_time": "2024-07-08T06:45:56.622Z"
   },
   {
    "duration": 15,
    "start_time": "2024-07-08T06:46:07.893Z"
   },
   {
    "duration": 7,
    "start_time": "2024-07-08T06:46:53.639Z"
   },
   {
    "duration": 16,
    "start_time": "2024-07-08T06:47:10.023Z"
   },
   {
    "duration": 1160,
    "start_time": "2024-07-08T06:47:30.942Z"
   },
   {
    "duration": 16,
    "start_time": "2024-07-08T06:47:32.104Z"
   },
   {
    "duration": 9,
    "start_time": "2024-07-08T06:48:41.608Z"
   },
   {
    "duration": 12,
    "start_time": "2024-07-08T06:49:58.912Z"
   },
   {
    "duration": 22,
    "start_time": "2024-07-08T06:50:26.609Z"
   },
   {
    "duration": 10,
    "start_time": "2024-07-08T06:51:04.689Z"
   },
   {
    "duration": 13,
    "start_time": "2024-07-08T06:51:11.657Z"
   },
   {
    "duration": 2777,
    "start_time": "2024-07-08T06:51:55.283Z"
   },
   {
    "duration": 886,
    "start_time": "2024-07-08T06:52:00.811Z"
   },
   {
    "duration": 13,
    "start_time": "2024-07-08T06:52:01.699Z"
   },
   {
    "duration": 2,
    "start_time": "2024-07-08T06:52:01.801Z"
   },
   {
    "duration": 3,
    "start_time": "2024-07-08T06:52:02.353Z"
   },
   {
    "duration": 6923,
    "start_time": "2024-07-08T06:52:02.817Z"
   },
   {
    "duration": 8,
    "start_time": "2024-07-08T06:52:09.741Z"
   },
   {
    "duration": 24,
    "start_time": "2024-07-08T06:52:09.750Z"
   },
   {
    "duration": 44,
    "start_time": "2024-07-08T06:52:09.776Z"
   },
   {
    "duration": 241,
    "start_time": "2024-07-08T06:52:09.822Z"
   },
   {
    "duration": 4,
    "start_time": "2024-07-08T06:52:10.064Z"
   },
   {
    "duration": 14,
    "start_time": "2024-07-08T06:52:10.070Z"
   },
   {
    "duration": 127,
    "start_time": "2024-07-08T06:52:10.086Z"
   },
   {
    "duration": 6,
    "start_time": "2024-07-08T06:52:10.214Z"
   },
   {
    "duration": 14,
    "start_time": "2024-07-08T06:52:10.222Z"
   },
   {
    "duration": 43894,
    "start_time": "2024-07-08T06:52:10.238Z"
   },
   {
    "duration": 29489,
    "start_time": "2024-07-08T06:52:54.133Z"
   },
   {
    "duration": 2082691,
    "start_time": "2024-07-08T06:53:23.629Z"
   },
   {
    "duration": 11,
    "start_time": "2024-07-08T07:28:06.322Z"
   },
   {
    "duration": 1657,
    "start_time": "2024-07-08T07:28:06.334Z"
   },
   {
    "duration": 18,
    "start_time": "2024-07-08T07:28:07.993Z"
   },
   {
    "duration": 22,
    "start_time": "2024-07-08T07:28:08.012Z"
   },
   {
    "duration": 3683,
    "start_time": "2024-07-09T19:44:08.304Z"
   },
   {
    "duration": 874,
    "start_time": "2024-07-09T19:44:30.407Z"
   },
   {
    "duration": 7367,
    "start_time": "2024-07-09T19:45:01.527Z"
   },
   {
    "duration": 2882,
    "start_time": "2024-07-09T19:45:25.342Z"
   },
   {
    "duration": 3153,
    "start_time": "2024-07-09T19:45:33.757Z"
   },
   {
    "duration": 9,
    "start_time": "2024-07-09T19:45:42.297Z"
   },
   {
    "duration": 3,
    "start_time": "2024-07-09T19:45:49.199Z"
   },
   {
    "duration": 3946,
    "start_time": "2024-07-09T19:45:50.703Z"
   },
   {
    "duration": 4,
    "start_time": "2024-07-09T19:46:00.303Z"
   },
   {
    "duration": 4,
    "start_time": "2024-07-09T19:46:02.015Z"
   },
   {
    "duration": 389,
    "start_time": "2024-07-09T19:46:08.663Z"
   },
   {
    "duration": 304,
    "start_time": "2024-07-09T19:46:43.824Z"
   },
   {
    "duration": 2964,
    "start_time": "2024-07-09T19:46:52.886Z"
   },
   {
    "duration": 860,
    "start_time": "2024-07-09T19:46:58.799Z"
   },
   {
    "duration": 9,
    "start_time": "2024-07-09T19:47:01.106Z"
   },
   {
    "duration": 3,
    "start_time": "2024-07-09T19:47:02.170Z"
   },
   {
    "duration": 3994,
    "start_time": "2024-07-09T19:47:02.654Z"
   },
   {
    "duration": 4,
    "start_time": "2024-07-09T19:47:07.896Z"
   },
   {
    "duration": 3,
    "start_time": "2024-07-09T19:47:09.214Z"
   },
   {
    "duration": 1092920,
    "start_time": "2024-07-09T19:47:12.358Z"
   },
   {
    "duration": 10,
    "start_time": "2024-07-09T20:08:56.612Z"
   },
   {
    "duration": 182,
    "start_time": "2024-07-09T20:09:17.275Z"
   },
   {
    "duration": 170,
    "start_time": "2024-07-09T20:11:44.275Z"
   },
   {
    "duration": 2802,
    "start_time": "2024-07-09T20:12:10.474Z"
   },
   {
    "duration": 869,
    "start_time": "2024-07-09T20:12:15.101Z"
   },
   {
    "duration": 12,
    "start_time": "2024-07-09T20:12:20.228Z"
   },
   {
    "duration": 3,
    "start_time": "2024-07-09T20:12:21.519Z"
   },
   {
    "duration": 3870,
    "start_time": "2024-07-09T20:12:22.258Z"
   },
   {
    "duration": 178,
    "start_time": "2024-07-09T20:12:29.306Z"
   },
   {
    "duration": 16,
    "start_time": "2024-07-09T20:12:50.348Z"
   },
   {
    "duration": 3310,
    "start_time": "2024-07-09T20:13:26.869Z"
   },
   {
    "duration": 851,
    "start_time": "2024-07-09T20:13:33.581Z"
   },
   {
    "duration": 13,
    "start_time": "2024-07-09T20:13:37.942Z"
   },
   {
    "duration": 3,
    "start_time": "2024-07-09T20:13:38.948Z"
   },
   {
    "duration": 3896,
    "start_time": "2024-07-09T20:13:39.612Z"
   },
   {
    "duration": 173,
    "start_time": "2024-07-09T20:13:48.091Z"
   },
   {
    "duration": 16,
    "start_time": "2024-07-09T20:14:27.525Z"
   },
   {
    "duration": 9,
    "start_time": "2024-07-09T20:17:24.721Z"
   },
   {
    "duration": 176,
    "start_time": "2024-07-09T20:17:34.810Z"
   },
   {
    "duration": 10,
    "start_time": "2024-07-09T20:17:53.727Z"
   },
   {
    "duration": 16,
    "start_time": "2024-07-09T20:18:01.423Z"
   },
   {
    "duration": 2327,
    "start_time": "2024-07-09T20:18:30.615Z"
   },
   {
    "duration": 16,
    "start_time": "2024-07-09T20:18:35.575Z"
   },
   {
    "duration": 3,
    "start_time": "2024-07-09T20:18:36.880Z"
   },
   {
    "duration": 2898,
    "start_time": "2024-07-09T20:18:58.260Z"
   },
   {
    "duration": 858,
    "start_time": "2024-07-09T20:19:02.699Z"
   },
   {
    "duration": 10,
    "start_time": "2024-07-09T20:19:06.785Z"
   },
   {
    "duration": 3,
    "start_time": "2024-07-09T20:19:08.023Z"
   },
   {
    "duration": 4005,
    "start_time": "2024-07-09T20:19:09.008Z"
   },
   {
    "duration": 2305,
    "start_time": "2024-07-09T20:19:16.432Z"
   },
   {
    "duration": 3,
    "start_time": "2024-07-09T20:19:20.204Z"
   },
   {
    "duration": 3,
    "start_time": "2024-07-09T20:19:22.747Z"
   },
   {
    "duration": 1080845,
    "start_time": "2024-07-09T20:19:29.274Z"
   },
   {
    "duration": 7,
    "start_time": "2024-07-09T20:38:09.113Z"
   },
   {
    "duration": 193,
    "start_time": "2024-07-09T20:38:10.177Z"
   },
   {
    "duration": 667,
    "start_time": "2024-07-09T20:38:25.288Z"
   },
   {
    "duration": 76,
    "start_time": "2024-07-09T20:38:37.559Z"
   },
   {
    "duration": 26469,
    "start_time": "2024-07-09T20:38:38.512Z"
   },
   {
    "duration": 26648,
    "start_time": "2024-07-09T20:39:23.960Z"
   },
   {
    "duration": 7,
    "start_time": "2024-07-09T20:40:04.400Z"
   },
   {
    "duration": 43,
    "start_time": "2024-07-09T20:40:05.010Z"
   },
   {
    "duration": 100,
    "start_time": "2024-07-09T20:40:10.345Z"
   },
   {
    "duration": 4,
    "start_time": "2024-07-09T20:40:14.397Z"
   },
   {
    "duration": 2,
    "start_time": "2024-07-09T20:40:15.777Z"
   },
   {
    "duration": 3,
    "start_time": "2024-07-09T20:40:16.801Z"
   },
   {
    "duration": 5,
    "start_time": "2024-07-09T20:40:17.337Z"
   },
   {
    "duration": 8,
    "start_time": "2024-07-09T20:40:18.456Z"
   },
   {
    "duration": 970,
    "start_time": "2024-07-09T20:40:25.184Z"
   },
   {
    "duration": 54,
    "start_time": "2024-07-09T21:14:03.401Z"
   },
   {
    "duration": 2826,
    "start_time": "2024-07-09T21:14:10.467Z"
   },
   {
    "duration": 857,
    "start_time": "2024-07-09T21:14:15.357Z"
   },
   {
    "duration": 8,
    "start_time": "2024-07-09T21:14:21.102Z"
   },
   {
    "duration": 186,
    "start_time": "2024-07-09T21:14:22.222Z"
   },
   {
    "duration": 3,
    "start_time": "2024-07-09T21:16:32.557Z"
   },
   {
    "duration": 3988,
    "start_time": "2024-07-09T21:16:33.238Z"
   },
   {
    "duration": 46131,
    "start_time": "2024-07-09T21:17:04.336Z"
   },
   {
    "duration": 7,
    "start_time": "2024-07-09T21:18:21.774Z"
   },
   {
    "duration": 2928,
    "start_time": "2024-07-09T21:18:36.998Z"
   },
   {
    "duration": 897,
    "start_time": "2024-07-09T21:18:41.567Z"
   },
   {
    "duration": 9,
    "start_time": "2024-07-09T21:18:45.591Z"
   },
   {
    "duration": 3,
    "start_time": "2024-07-09T21:18:46.989Z"
   },
   {
    "duration": 3969,
    "start_time": "2024-07-09T21:18:54.855Z"
   },
   {
    "duration": 46138,
    "start_time": "2024-07-09T21:19:01.331Z"
   },
   {
    "duration": 7,
    "start_time": "2024-07-09T21:19:47.471Z"
   },
   {
    "duration": 127,
    "start_time": "2024-07-09T21:20:03.258Z"
   },
   {
    "duration": 3,
    "start_time": "2024-07-09T21:20:04.160Z"
   },
   {
    "duration": 3,
    "start_time": "2024-07-09T21:20:05.891Z"
   },
   {
    "duration": 360,
    "start_time": "2024-07-09T21:20:10.840Z"
   },
   {
    "duration": 2850,
    "start_time": "2024-07-09T21:23:44.218Z"
   },
   {
    "duration": 875,
    "start_time": "2024-07-09T21:23:51.305Z"
   },
   {
    "duration": 9,
    "start_time": "2024-07-09T21:23:55.280Z"
   },
   {
    "duration": 3,
    "start_time": "2024-07-09T21:23:56.506Z"
   },
   {
    "duration": 3916,
    "start_time": "2024-07-09T21:23:57.875Z"
   },
   {
    "duration": 46188,
    "start_time": "2024-07-09T21:24:04.746Z"
   },
   {
    "duration": 5,
    "start_time": "2024-07-09T21:24:53.835Z"
   },
   {
    "duration": 4,
    "start_time": "2024-07-09T21:26:06.586Z"
   },
   {
    "duration": 3,
    "start_time": "2024-07-09T21:26:08.106Z"
   },
   {
    "duration": 517,
    "start_time": "2024-07-09T21:26:14.691Z"
   },
   {
    "duration": 2796,
    "start_time": "2024-07-09T21:29:09.954Z"
   },
   {
    "duration": 868,
    "start_time": "2024-07-09T21:29:14.708Z"
   },
   {
    "duration": 9,
    "start_time": "2024-07-09T21:29:19.324Z"
   },
   {
    "duration": 3,
    "start_time": "2024-07-09T21:29:22.499Z"
   },
   {
    "duration": 3842,
    "start_time": "2024-07-09T21:29:23.653Z"
   },
   {
    "duration": 46654,
    "start_time": "2024-07-09T21:29:30.244Z"
   },
   {
    "duration": 6,
    "start_time": "2024-07-09T21:30:33.333Z"
   },
   {
    "duration": 3,
    "start_time": "2024-07-09T21:30:36.125Z"
   },
   {
    "duration": 21944,
    "start_time": "2024-07-09T21:30:38.038Z"
   },
   {
    "duration": 173,
    "start_time": "2024-07-09T21:31:43.342Z"
   },
   {
    "duration": 5,
    "start_time": "2024-07-09T21:38:28.265Z"
   },
   {
    "duration": 2882,
    "start_time": "2024-07-09T21:40:45.707Z"
   },
   {
    "duration": 868,
    "start_time": "2024-07-09T21:40:51.643Z"
   },
   {
    "duration": 9,
    "start_time": "2024-07-09T21:40:56.230Z"
   },
   {
    "duration": 3,
    "start_time": "2024-07-09T21:40:57.539Z"
   },
   {
    "duration": 3956,
    "start_time": "2024-07-09T21:40:58.324Z"
   },
   {
    "duration": 47095,
    "start_time": "2024-07-09T21:41:04.739Z"
   },
   {
    "duration": 9,
    "start_time": "2024-07-09T21:43:54.356Z"
   },
   {
    "duration": 3,
    "start_time": "2024-07-09T21:43:59.295Z"
   },
   {
    "duration": 485,
    "start_time": "2024-07-09T21:44:22.071Z"
   },
   {
    "duration": 2868,
    "start_time": "2024-07-09T21:45:14.782Z"
   },
   {
    "duration": 856,
    "start_time": "2024-07-09T21:45:19.476Z"
   },
   {
    "duration": 9,
    "start_time": "2024-07-09T21:45:25.204Z"
   },
   {
    "duration": 3,
    "start_time": "2024-07-09T21:45:26.345Z"
   },
   {
    "duration": 4061,
    "start_time": "2024-07-09T21:45:28.453Z"
   },
   {
    "duration": 3,
    "start_time": "2024-07-09T21:45:36.837Z"
   },
   {
    "duration": 21672,
    "start_time": "2024-07-09T21:45:39.566Z"
   },
   {
    "duration": 10114,
    "start_time": "2024-07-09T21:46:05.645Z"
   },
   {
    "duration": 6,
    "start_time": "2024-07-09T21:46:22.759Z"
   },
   {
    "duration": 2859,
    "start_time": "2024-07-09T21:52:22.455Z"
   },
   {
    "duration": 853,
    "start_time": "2024-07-09T21:52:28.447Z"
   },
   {
    "duration": 9,
    "start_time": "2024-07-09T21:52:33.345Z"
   },
   {
    "duration": 3,
    "start_time": "2024-07-09T21:52:34.999Z"
   },
   {
    "duration": 3900,
    "start_time": "2024-07-09T21:52:37.010Z"
   },
   {
    "duration": 4,
    "start_time": "2024-07-09T21:52:46.792Z"
   },
   {
    "duration": 4,
    "start_time": "2024-07-09T21:53:59.024Z"
   },
   {
    "duration": 1058682,
    "start_time": "2024-07-09T21:54:05.801Z"
   },
   {
    "duration": 6,
    "start_time": "2024-07-09T22:12:09.229Z"
   },
   {
    "duration": 2348,
    "start_time": "2024-07-09T22:12:15.628Z"
   },
   {
    "duration": 178,
    "start_time": "2024-07-09T22:12:17.977Z"
   },
   {
    "duration": 2396,
    "start_time": "2024-07-09T22:12:30.100Z"
   },
   {
    "duration": 137,
    "start_time": "2024-07-09T22:12:37.194Z"
   },
   {
    "duration": 690,
    "start_time": "2024-07-09T22:12:41.101Z"
   },
   {
    "duration": 73,
    "start_time": "2024-07-09T22:12:47.547Z"
   },
   {
    "duration": 26962,
    "start_time": "2024-07-09T22:12:48.501Z"
   },
   {
    "duration": 8,
    "start_time": "2024-07-09T22:13:21.245Z"
   },
   {
    "duration": 40,
    "start_time": "2024-07-09T22:13:22.155Z"
   },
   {
    "duration": 109,
    "start_time": "2024-07-09T22:13:27.164Z"
   },
   {
    "duration": 7,
    "start_time": "2024-07-09T22:13:30.435Z"
   },
   {
    "duration": 4,
    "start_time": "2024-07-09T22:13:31.536Z"
   },
   {
    "duration": 2,
    "start_time": "2024-07-09T22:13:32.275Z"
   },
   {
    "duration": 5,
    "start_time": "2024-07-09T22:13:32.752Z"
   },
   {
    "duration": 9,
    "start_time": "2024-07-09T22:13:34.031Z"
   },
   {
    "duration": 998,
    "start_time": "2024-07-09T22:13:39.981Z"
   },
   {
    "duration": 2965,
    "start_time": "2024-07-09T22:14:38.004Z"
   },
   {
    "duration": 896,
    "start_time": "2024-07-09T22:14:43.460Z"
   },
   {
    "duration": 9,
    "start_time": "2024-07-09T22:14:48.231Z"
   },
   {
    "duration": 3,
    "start_time": "2024-07-09T22:14:50.374Z"
   },
   {
    "duration": 4296,
    "start_time": "2024-07-09T22:14:52.462Z"
   },
   {
    "duration": 4,
    "start_time": "2024-07-09T22:15:11.078Z"
   },
   {
    "duration": 22340,
    "start_time": "2024-07-09T22:15:12.431Z"
   },
   {
    "duration": 10892,
    "start_time": "2024-07-09T22:17:15.239Z"
   },
   {
    "duration": 21,
    "start_time": "2024-07-09T22:17:28.916Z"
   },
   {
    "duration": 4,
    "start_time": "2024-07-09T22:17:29.855Z"
   },
   {
    "duration": 199,
    "start_time": "2024-07-09T22:17:43.117Z"
   },
   {
    "duration": 45,
    "start_time": "2024-07-09T22:18:59.560Z"
   },
   {
    "duration": 50,
    "start_time": "2024-07-09T22:19:12.031Z"
   },
   {
    "duration": 56,
    "start_time": "2024-07-09T22:19:38.455Z"
   },
   {
    "duration": 2856,
    "start_time": "2024-07-09T22:23:13.058Z"
   },
   {
    "duration": 851,
    "start_time": "2024-07-09T22:23:18.609Z"
   },
   {
    "duration": 9,
    "start_time": "2024-07-09T22:23:22.857Z"
   },
   {
    "duration": 3,
    "start_time": "2024-07-09T22:23:26.288Z"
   },
   {
    "duration": 3874,
    "start_time": "2024-07-09T22:23:27.187Z"
   },
   {
    "duration": 4,
    "start_time": "2024-07-09T22:23:49.138Z"
   },
   {
    "duration": 1046539,
    "start_time": "2024-07-09T22:24:05.160Z"
   },
   {
    "duration": 10,
    "start_time": "2024-07-09T22:51:04.337Z"
   },
   {
    "duration": 4758,
    "start_time": "2024-07-09T22:52:01.527Z"
   },
   {
    "duration": 2442,
    "start_time": "2024-07-09T22:52:12.175Z"
   },
   {
    "duration": 189,
    "start_time": "2024-07-09T22:52:19.759Z"
   },
   {
    "duration": 740,
    "start_time": "2024-07-09T22:52:21.271Z"
   },
   {
    "duration": 75,
    "start_time": "2024-07-09T22:52:25.125Z"
   },
   {
    "duration": 26687,
    "start_time": "2024-07-09T22:52:25.837Z"
   },
   {
    "duration": 7,
    "start_time": "2024-07-09T22:59:11.024Z"
   },
   {
    "duration": 34,
    "start_time": "2024-07-09T22:59:11.698Z"
   },
   {
    "duration": 98,
    "start_time": "2024-07-09T22:59:15.560Z"
   },
   {
    "duration": 5,
    "start_time": "2024-07-09T22:59:16.922Z"
   },
   {
    "duration": 2,
    "start_time": "2024-07-09T22:59:17.954Z"
   },
   {
    "duration": 2,
    "start_time": "2024-07-09T22:59:18.627Z"
   },
   {
    "duration": 5,
    "start_time": "2024-07-09T22:59:19.256Z"
   },
   {
    "duration": 9,
    "start_time": "2024-07-09T22:59:19.977Z"
   },
   {
    "duration": 288,
    "start_time": "2024-07-09T22:59:30.105Z"
   },
   {
    "duration": 3688,
    "start_time": "2024-07-09T23:05:19.827Z"
   },
   {
    "duration": 865,
    "start_time": "2024-07-09T23:05:23.517Z"
   },
   {
    "duration": 12,
    "start_time": "2024-07-09T23:05:28.179Z"
   },
   {
    "duration": 89956,
    "start_time": "2024-07-09T23:05:38.754Z"
   },
   {
    "duration": 8,
    "start_time": "2024-07-09T23:07:12.588Z"
   },
   {
    "duration": 3,
    "start_time": "2024-07-09T23:07:21.419Z"
   },
   {
    "duration": 161,
    "start_time": "2024-07-09T23:07:22.394Z"
   },
   {
    "duration": 232,
    "start_time": "2024-07-09T23:07:48.884Z"
   },
   {
    "duration": 3603,
    "start_time": "2024-07-09T23:09:36.337Z"
   },
   {
    "duration": 840,
    "start_time": "2024-07-09T23:09:43.473Z"
   },
   {
    "duration": 9,
    "start_time": "2024-07-09T23:09:47.521Z"
   },
   {
    "duration": 3,
    "start_time": "2024-07-09T23:09:49.089Z"
   },
   {
    "duration": 183,
    "start_time": "2024-07-09T23:09:50.183Z"
   },
   {
    "duration": 45,
    "start_time": "2024-07-09T23:10:24.650Z"
   },
   {
    "duration": 4819,
    "start_time": "2024-07-09T23:10:30.425Z"
   },
   {
    "duration": 3156,
    "start_time": "2024-07-09T23:10:36.458Z"
   },
   {
    "duration": 13,
    "start_time": "2024-07-09T23:10:43.480Z"
   },
   {
    "duration": 3,
    "start_time": "2024-07-09T23:10:49.714Z"
   },
   {
    "duration": 4402,
    "start_time": "2024-07-09T23:16:13.331Z"
   },
   {
    "duration": 3177,
    "start_time": "2024-07-09T23:16:19.741Z"
   },
   {
    "duration": 9,
    "start_time": "2024-07-09T23:16:29.322Z"
   },
   {
    "duration": 2,
    "start_time": "2024-07-09T23:16:30.348Z"
   },
   {
    "duration": 91034,
    "start_time": "2024-07-09T23:16:31.802Z"
   },
   {
    "duration": 8,
    "start_time": "2024-07-09T23:19:00.770Z"
   },
   {
    "duration": 3,
    "start_time": "2024-07-09T23:19:04.120Z"
   },
   {
    "duration": 371,
    "start_time": "2024-07-09T23:19:05.969Z"
   },
   {
    "duration": 9,
    "start_time": "2024-07-09T23:20:25.022Z"
   },
   {
    "duration": 888,
    "start_time": "2024-07-09T23:20:34.017Z"
   },
   {
    "duration": 3731,
    "start_time": "2024-07-09T23:21:07.143Z"
   },
   {
    "duration": 843,
    "start_time": "2024-07-09T23:21:13.169Z"
   },
   {
    "duration": 9,
    "start_time": "2024-07-09T23:21:18.674Z"
   },
   {
    "duration": 59,
    "start_time": "2024-07-09T23:21:42.224Z"
   },
   {
    "duration": 4729,
    "start_time": "2024-07-09T23:22:29.641Z"
   },
   {
    "duration": 3525,
    "start_time": "2024-07-09T23:23:05.546Z"
   },
   {
    "duration": 3253,
    "start_time": "2024-07-09T23:23:09.072Z"
   },
   {
    "duration": 45,
    "start_time": "2024-07-09T23:23:33.010Z"
   },
   {
    "duration": 4293,
    "start_time": "2024-07-09T23:23:40.931Z"
   },
   {
    "duration": 3245,
    "start_time": "2024-07-09T23:23:47.252Z"
   },
   {
    "duration": 9,
    "start_time": "2024-07-09T23:23:53.922Z"
   },
   {
    "duration": 89759,
    "start_time": "2024-07-09T23:24:02.443Z"
   },
   {
    "duration": 10,
    "start_time": "2024-07-09T23:26:46.874Z"
   },
   {
    "duration": 2,
    "start_time": "2024-07-09T23:26:47.676Z"
   },
   {
    "duration": 354,
    "start_time": "2024-07-09T23:26:50.755Z"
   },
   {
    "duration": 2,
    "start_time": "2024-07-09T23:27:48.582Z"
   },
   {
    "duration": 303,
    "start_time": "2024-07-09T23:27:49.349Z"
   },
   {
    "duration": 3,
    "start_time": "2024-07-09T23:27:58.083Z"
   },
   {
    "duration": 216,
    "start_time": "2024-07-09T23:27:58.876Z"
   },
   {
    "duration": 9,
    "start_time": "2024-07-09T23:29:50.739Z"
   },
   {
    "duration": 3468,
    "start_time": "2024-07-09T23:57:46.736Z"
   },
   {
    "duration": 914,
    "start_time": "2024-07-09T23:57:53.557Z"
   },
   {
    "duration": 9,
    "start_time": "2024-07-09T23:57:58.732Z"
   },
   {
    "duration": 3,
    "start_time": "2024-07-09T23:58:05.776Z"
   },
   {
    "duration": 166,
    "start_time": "2024-07-09T23:58:06.567Z"
   },
   {
    "duration": 82456,
    "start_time": "2024-07-09T23:58:21.403Z"
   },
   {
    "duration": 10,
    "start_time": "2024-07-10T00:00:03.075Z"
   },
   {
    "duration": 87785,
    "start_time": "2024-07-10T00:00:09.732Z"
   },
   {
    "duration": 7,
    "start_time": "2024-07-10T00:04:07.779Z"
   },
   {
    "duration": 3508,
    "start_time": "2024-07-10T00:09:24.616Z"
   },
   {
    "duration": 935,
    "start_time": "2024-07-10T00:09:31.648Z"
   },
   {
    "duration": 9,
    "start_time": "2024-07-10T00:09:35.824Z"
   },
   {
    "duration": 2,
    "start_time": "2024-07-10T00:09:37.288Z"
   },
   {
    "duration": 3925,
    "start_time": "2024-07-10T00:09:38.625Z"
   },
   {
    "duration": 3,
    "start_time": "2024-07-10T00:10:14.752Z"
   },
   {
    "duration": 20955,
    "start_time": "2024-07-10T00:10:42.825Z"
   },
   {
    "duration": 173,
    "start_time": "2024-07-10T00:11:30.930Z"
   },
   {
    "duration": 2,
    "start_time": "2024-07-10T00:12:02.362Z"
   },
   {
    "duration": 6,
    "start_time": "2024-07-10T00:12:03.133Z"
   },
   {
    "duration": 86,
    "start_time": "2024-07-10T00:13:30.386Z"
   },
   {
    "duration": 9,
    "start_time": "2024-07-10T00:14:15.983Z"
   },
   {
    "duration": 100,
    "start_time": "2024-07-10T00:14:20.873Z"
   },
   {
    "duration": 70,
    "start_time": "2024-07-10T00:14:41.909Z"
   },
   {
    "duration": 86,
    "start_time": "2024-07-10T00:14:47.768Z"
   },
   {
    "duration": 99,
    "start_time": "2024-07-10T00:15:10.580Z"
   },
   {
    "duration": 33999,
    "start_time": "2024-07-10T00:15:22.506Z"
   },
   {
    "duration": 8,
    "start_time": "2024-07-10T00:16:05.824Z"
   },
   {
    "duration": 34319,
    "start_time": "2024-07-10T00:16:31.777Z"
   },
   {
    "duration": 8,
    "start_time": "2024-07-10T00:17:10.112Z"
   },
   {
    "duration": 3741,
    "start_time": "2024-07-10T00:18:55.007Z"
   },
   {
    "duration": 854,
    "start_time": "2024-07-10T00:19:00.896Z"
   },
   {
    "duration": 9,
    "start_time": "2024-07-10T00:19:03.121Z"
   },
   {
    "duration": 3,
    "start_time": "2024-07-10T00:19:04.120Z"
   },
   {
    "duration": 2,
    "start_time": "2024-07-10T00:19:05.240Z"
   },
   {
    "duration": 3,
    "start_time": "2024-07-10T00:19:06.015Z"
   },
   {
    "duration": 2,
    "start_time": "2024-07-10T00:19:06.849Z"
   },
   {
    "duration": 2,
    "start_time": "2024-07-10T00:19:07.646Z"
   },
   {
    "duration": 1296,
    "start_time": "2024-07-10T00:19:08.306Z"
   },
   {
    "duration": 1127155,
    "start_time": "2024-07-10T00:19:10.748Z"
   },
   {
    "duration": 9,
    "start_time": "2024-07-10T00:38:08.058Z"
   },
   {
    "duration": 2415,
    "start_time": "2024-07-10T00:39:12.127Z"
   },
   {
    "duration": 179,
    "start_time": "2024-07-10T00:39:17.312Z"
   },
   {
    "duration": 577,
    "start_time": "2024-07-10T00:39:20.042Z"
   },
   {
    "duration": 1253,
    "start_time": "2024-07-10T00:39:26.961Z"
   },
   {
    "duration": 24517,
    "start_time": "2024-07-10T00:39:29.674Z"
   },
   {
    "duration": 8,
    "start_time": "2024-07-10T00:41:35.363Z"
   },
   {
    "duration": 36,
    "start_time": "2024-07-10T00:41:36.406Z"
   },
   {
    "duration": 89,
    "start_time": "2024-07-10T00:41:46.411Z"
   },
   {
    "duration": 5,
    "start_time": "2024-07-10T00:41:51.129Z"
   },
   {
    "duration": 2,
    "start_time": "2024-07-10T00:41:52.411Z"
   },
   {
    "duration": 2,
    "start_time": "2024-07-10T00:41:53.506Z"
   },
   {
    "duration": 5,
    "start_time": "2024-07-10T00:41:54.040Z"
   },
   {
    "duration": 9,
    "start_time": "2024-07-10T00:41:55.120Z"
   },
   {
    "duration": 293,
    "start_time": "2024-07-10T00:41:59.533Z"
   },
   {
    "duration": 815,
    "start_time": "2024-07-10T03:50:26.515Z"
   },
   {
    "duration": 7984,
    "start_time": "2024-07-10T03:51:00.449Z"
   },
   {
    "duration": 2374,
    "start_time": "2024-07-10T03:51:23.273Z"
   },
   {
    "duration": 3234,
    "start_time": "2024-07-10T03:51:26.778Z"
   },
   {
    "duration": 9,
    "start_time": "2024-07-10T03:51:34.171Z"
   },
   {
    "duration": 4,
    "start_time": "2024-07-10T03:51:35.098Z"
   },
   {
    "duration": 2,
    "start_time": "2024-07-10T03:51:35.650Z"
   },
   {
    "duration": 3,
    "start_time": "2024-07-10T03:51:36.490Z"
   },
   {
    "duration": 2,
    "start_time": "2024-07-10T03:51:37.051Z"
   },
   {
    "duration": 2,
    "start_time": "2024-07-10T03:51:37.627Z"
   },
   {
    "duration": 1243,
    "start_time": "2024-07-10T03:51:38.305Z"
   },
   {
    "duration": 1186910,
    "start_time": "2024-07-10T03:51:40.674Z"
   },
   {
    "duration": 8,
    "start_time": "2024-07-10T04:11:33.899Z"
   },
   {
    "duration": 2346,
    "start_time": "2024-07-10T04:11:39.668Z"
   },
   {
    "duration": 178,
    "start_time": "2024-07-10T04:11:45.421Z"
   },
   {
    "duration": 688,
    "start_time": "2024-07-10T04:11:46.798Z"
   },
   {
    "duration": 8,
    "start_time": "2024-07-10T04:11:50.891Z"
   },
   {
    "duration": 32,
    "start_time": "2024-07-10T04:11:55.989Z"
   },
   {
    "duration": 95,
    "start_time": "2024-07-10T04:12:15.909Z"
   },
   {
    "duration": 4,
    "start_time": "2024-07-10T04:12:20.117Z"
   },
   {
    "duration": 6,
    "start_time": "2024-07-10T04:12:24.637Z"
   },
   {
    "duration": 10,
    "start_time": "2024-07-10T04:12:25.602Z"
   },
   {
    "duration": 120,
    "start_time": "2024-07-10T04:13:12.850Z"
   },
   {
    "duration": 96,
    "start_time": "2024-07-10T04:13:23.471Z"
   },
   {
    "duration": 91,
    "start_time": "2024-07-10T04:14:01.791Z"
   },
   {
    "duration": 142,
    "start_time": "2024-07-10T04:14:25.009Z"
   },
   {
    "duration": 1805,
    "start_time": "2024-07-10T05:15:31.881Z"
   },
   {
    "duration": 2839,
    "start_time": "2024-07-10T05:15:47.388Z"
   },
   {
    "duration": 1016,
    "start_time": "2024-07-10T05:15:55.016Z"
   },
   {
    "duration": 9,
    "start_time": "2024-07-10T05:15:59.136Z"
   },
   {
    "duration": 3,
    "start_time": "2024-07-10T05:16:02.202Z"
   },
   {
    "duration": 4,
    "start_time": "2024-07-10T05:16:02.927Z"
   },
   {
    "duration": 2,
    "start_time": "2024-07-10T05:16:03.704Z"
   },
   {
    "duration": 1278551,
    "start_time": "2024-07-10T05:16:04.286Z"
   },
   {
    "duration": 19,
    "start_time": "2024-07-10T05:38:40.404Z"
   },
   {
    "duration": 23,
    "start_time": "2024-07-10T05:38:45.191Z"
   },
   {
    "duration": 27,
    "start_time": "2024-07-10T05:38:45.853Z"
   },
   {
    "duration": 140,
    "start_time": "2024-07-10T05:38:50.425Z"
   },
   {
    "duration": 13,
    "start_time": "2024-07-10T05:38:52.103Z"
   },
   {
    "duration": 2,
    "start_time": "2024-07-10T05:38:52.876Z"
   },
   {
    "duration": 7,
    "start_time": "2024-07-10T05:38:53.411Z"
   },
   {
    "duration": 5,
    "start_time": "2024-07-10T05:38:53.660Z"
   },
   {
    "duration": 19,
    "start_time": "2024-07-10T05:38:54.093Z"
   },
   {
    "duration": 316,
    "start_time": "2024-07-10T05:38:56.654Z"
   },
   {
    "duration": 744,
    "start_time": "2024-07-10T07:05:51.823Z"
   },
   {
    "duration": 4,
    "start_time": "2024-07-10T07:06:04.381Z"
   },
   {
    "duration": 1646,
    "start_time": "2024-07-10T07:08:47.941Z"
   },
   {
    "duration": 2827,
    "start_time": "2024-07-10T07:09:23.334Z"
   },
   {
    "duration": 1002,
    "start_time": "2024-07-10T07:09:32.061Z"
   },
   {
    "duration": 12,
    "start_time": "2024-07-10T07:09:35.992Z"
   },
   {
    "duration": 3,
    "start_time": "2024-07-10T07:09:37.328Z"
   },
   {
    "duration": 4,
    "start_time": "2024-07-10T07:09:37.834Z"
   },
   {
    "duration": 2,
    "start_time": "2024-07-10T07:09:38.304Z"
   },
   {
    "duration": 1219885,
    "start_time": "2024-07-10T07:09:38.814Z"
   },
   {
    "duration": 231,
    "start_time": "2024-07-10T07:30:02.483Z"
   },
   {
    "duration": 31,
    "start_time": "2024-07-10T07:30:10.981Z"
   },
   {
    "duration": 208,
    "start_time": "2024-07-10T07:30:17.317Z"
   },
   {
    "duration": 745,
    "start_time": "2024-07-10T07:30:19.245Z"
   },
   {
    "duration": 8,
    "start_time": "2024-07-10T07:30:23.923Z"
   },
   {
    "duration": 29,
    "start_time": "2024-07-10T07:30:25.596Z"
   },
   {
    "duration": 1714,
    "start_time": "2024-07-10T07:30:29.589Z"
   },
   {
    "duration": 139,
    "start_time": "2024-07-10T07:30:33.860Z"
   },
   {
    "duration": 7,
    "start_time": "2024-07-10T07:30:37.222Z"
   },
   {
    "duration": 3,
    "start_time": "2024-07-10T07:30:38.396Z"
   },
   {
    "duration": 2,
    "start_time": "2024-07-10T07:30:39.964Z"
   },
   {
    "duration": 5,
    "start_time": "2024-07-10T07:30:40.571Z"
   },
   {
    "duration": 6,
    "start_time": "2024-07-10T07:30:41.717Z"
   },
   {
    "duration": 3618,
    "start_time": "2024-07-10T07:33:09.204Z"
   },
   {
    "duration": 3452,
    "start_time": "2024-07-10T07:33:12.823Z"
   },
   {
    "duration": 9,
    "start_time": "2024-07-10T07:33:16.276Z"
   },
   {
    "duration": 7,
    "start_time": "2024-07-10T07:33:16.286Z"
   },
   {
    "duration": 4,
    "start_time": "2024-07-10T07:33:16.295Z"
   },
   {
    "duration": 4,
    "start_time": "2024-07-10T07:33:16.301Z"
   },
   {
    "duration": 9324,
    "start_time": "2024-07-11T20:11:58.136Z"
   },
   {
    "duration": 74,
    "start_time": "2024-07-11T20:54:24.256Z"
   },
   {
    "duration": 3539,
    "start_time": "2024-07-11T20:54:28.203Z"
   },
   {
    "duration": 2374,
    "start_time": "2024-07-11T20:54:31.744Z"
   },
   {
    "duration": 16101,
    "start_time": "2024-07-11T20:54:34.119Z"
   },
   {
    "duration": 67,
    "start_time": "2024-07-11T20:55:46.692Z"
   },
   {
    "duration": 2190,
    "start_time": "2024-07-11T20:56:19.882Z"
   },
   {
    "duration": 3,
    "start_time": "2024-07-11T20:56:29.258Z"
   },
   {
    "duration": 4,
    "start_time": "2024-07-11T20:56:30.062Z"
   },
   {
    "duration": 2,
    "start_time": "2024-07-11T20:56:30.455Z"
   },
   {
    "duration": 3,
    "start_time": "2024-07-11T20:56:30.613Z"
   },
   {
    "duration": 3,
    "start_time": "2024-07-11T20:56:30.800Z"
   },
   {
    "duration": 8616,
    "start_time": "2024-07-11T20:56:31.012Z"
   },
   {
    "duration": 3,
    "start_time": "2024-07-11T20:56:44.188Z"
   },
   {
    "duration": 7,
    "start_time": "2024-07-11T20:56:45.554Z"
   },
   {
    "duration": 1872,
    "start_time": "2024-07-11T20:56:46.854Z"
   },
   {
    "duration": 10,
    "start_time": "2024-07-11T20:56:49.967Z"
   },
   {
    "duration": 8,
    "start_time": "2024-07-11T20:56:50.788Z"
   },
   {
    "duration": 8,
    "start_time": "2024-07-11T20:57:15.938Z"
   },
   {
    "duration": 3,
    "start_time": "2024-07-11T20:58:13.252Z"
   },
   {
    "duration": 7,
    "start_time": "2024-07-11T20:58:18.542Z"
   },
   {
    "duration": 4,
    "start_time": "2024-07-11T20:58:23.014Z"
   },
   {
    "duration": 10,
    "start_time": "2024-07-11T20:58:28.727Z"
   },
   {
    "duration": 197,
    "start_time": "2024-07-11T20:58:33.135Z"
   },
   {
    "duration": 3906,
    "start_time": "2024-07-11T20:59:03.570Z"
   },
   {
    "duration": 3343,
    "start_time": "2024-07-11T20:59:17.587Z"
   },
   {
    "duration": 2345,
    "start_time": "2024-07-11T20:59:20.932Z"
   },
   {
    "duration": 19401,
    "start_time": "2024-07-11T20:59:23.279Z"
   },
   {
    "duration": 837,
    "start_time": "2024-07-11T20:59:43.524Z"
   },
   {
    "duration": 2,
    "start_time": "2024-07-11T20:59:44.362Z"
   },
   {
    "duration": 35,
    "start_time": "2024-07-11T20:59:44.366Z"
   },
   {
    "duration": 2,
    "start_time": "2024-07-11T20:59:44.403Z"
   },
   {
    "duration": 4,
    "start_time": "2024-07-11T20:59:44.406Z"
   },
   {
    "duration": 4,
    "start_time": "2024-07-11T20:59:44.411Z"
   },
   {
    "duration": 8474,
    "start_time": "2024-07-11T20:59:44.416Z"
   },
   {
    "duration": 628,
    "start_time": "2024-07-11T21:02:12.075Z"
   },
   {
    "duration": 3,
    "start_time": "2024-07-11T21:02:16.721Z"
   },
   {
    "duration": 136,
    "start_time": "2024-07-11T21:02:20.381Z"
   },
   {
    "duration": 3,
    "start_time": "2024-07-11T21:02:25.929Z"
   },
   {
    "duration": 5,
    "start_time": "2024-07-11T21:02:27.071Z"
   },
   {
    "duration": 11,
    "start_time": "2024-07-11T21:02:59.159Z"
   },
   {
    "duration": 3,
    "start_time": "2024-07-11T21:03:21.390Z"
   },
   {
    "duration": 3,
    "start_time": "2024-07-11T21:03:25.276Z"
   },
   {
    "duration": 3,
    "start_time": "2024-07-11T21:03:28.962Z"
   },
   {
    "duration": 12,
    "start_time": "2024-07-11T21:03:34.728Z"
   },
   {
    "duration": 3,
    "start_time": "2024-07-11T21:03:47.349Z"
   },
   {
    "duration": 412,
    "start_time": "2024-07-11T21:03:48.189Z"
   },
   {
    "duration": 443,
    "start_time": "2024-07-11T21:03:51.446Z"
   },
   {
    "duration": 427,
    "start_time": "2024-07-11T21:04:00.107Z"
   },
   {
    "duration": 3,
    "start_time": "2024-07-11T21:04:02.693Z"
   },
   {
    "duration": 438,
    "start_time": "2024-07-11T21:04:03.829Z"
   },
   {
    "duration": 3,
    "start_time": "2024-07-11T21:04:07.866Z"
   },
   {
    "duration": 418,
    "start_time": "2024-07-11T21:04:09.610Z"
   },
   {
    "duration": 3293,
    "start_time": "2024-07-11T21:05:02.768Z"
   },
   {
    "duration": 2372,
    "start_time": "2024-07-11T21:05:06.063Z"
   },
   {
    "duration": 21035,
    "start_time": "2024-07-11T21:05:08.438Z"
   },
   {
    "duration": 846,
    "start_time": "2024-07-11T21:05:29.474Z"
   },
   {
    "duration": 2,
    "start_time": "2024-07-11T21:05:30.321Z"
   },
   {
    "duration": 3,
    "start_time": "2024-07-11T21:06:32.000Z"
   },
   {
    "duration": 389,
    "start_time": "2024-07-11T21:06:32.852Z"
   },
   {
    "duration": 430,
    "start_time": "2024-07-11T21:06:42.350Z"
   },
   {
    "duration": 148,
    "start_time": "2024-07-11T21:06:47.066Z"
   },
   {
    "duration": 441,
    "start_time": "2024-07-11T21:07:01.694Z"
   },
   {
    "duration": 450,
    "start_time": "2024-07-11T21:07:02.992Z"
   },
   {
    "duration": 1319,
    "start_time": "2024-07-11T21:07:38.384Z"
   },
   {
    "duration": 1794,
    "start_time": "2024-07-11T21:07:59.933Z"
   },
   {
    "duration": 1811,
    "start_time": "2024-07-11T21:08:04.928Z"
   },
   {
    "duration": 712,
    "start_time": "2024-07-11T21:08:11.015Z"
   },
   {
    "duration": 44,
    "start_time": "2024-07-11T21:09:58.091Z"
   },
   {
    "duration": 3680,
    "start_time": "2024-07-12T05:22:32.229Z"
   },
   {
    "duration": 3076,
    "start_time": "2024-07-12T05:22:46.164Z"
   },
   {
    "duration": 176,
    "start_time": "2024-07-12T05:22:55.906Z"
   },
   {
    "duration": 2669,
    "start_time": "2024-07-12T05:24:03.229Z"
   },
   {
    "duration": 13,
    "start_time": "2024-07-12T05:24:13.323Z"
   },
   {
    "duration": 5,
    "start_time": "2024-07-12T05:24:14.356Z"
   },
   {
    "duration": 4,
    "start_time": "2024-07-12T05:24:15.868Z"
   },
   {
    "duration": 2,
    "start_time": "2024-07-12T05:24:16.897Z"
   },
   {
    "duration": 1321521,
    "start_time": "2024-07-12T05:24:19.548Z"
   },
   {
    "duration": 37,
    "start_time": "2024-07-12T05:59:24.747Z"
   },
   {
    "duration": 204,
    "start_time": "2024-07-12T05:59:25.693Z"
   },
   {
    "duration": 753,
    "start_time": "2024-07-12T05:59:26.316Z"
   },
   {
    "duration": 29945,
    "start_time": "2024-07-12T05:59:33.363Z"
   }
  ],
  "kernelspec": {
   "display_name": "Python 3 (ipykernel)",
   "language": "python",
   "name": "python3"
  },
  "language_info": {
   "codemirror_mode": {
    "name": "ipython",
    "version": 3
   },
   "file_extension": ".py",
   "mimetype": "text/x-python",
   "name": "python",
   "nbconvert_exporter": "python",
   "pygments_lexer": "ipython3",
   "version": "3.11.5"
  },
  "toc": {
   "base_numbering": 1,
   "nav_menu": {},
   "number_sections": true,
   "sideBar": true,
   "skip_h1_title": true,
   "title_cell": "Содержание",
   "title_sidebar": "Contents",
   "toc_cell": true,
   "toc_position": {
    "height": "calc(100% - 180px)",
    "left": "10px",
    "top": "150px",
    "width": "302.391px"
   },
   "toc_section_display": true,
   "toc_window_display": false
  }
 },
 "nbformat": 4,
 "nbformat_minor": 2
}
