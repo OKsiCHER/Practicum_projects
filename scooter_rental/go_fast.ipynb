{
 "cells": [
  {
   "cell_type": "markdown",
   "id": "8bd72545",
   "metadata": {},
   "source": [
    "# Исследование сервиса аренды самокатов GoFast \n",
    "\n",
    "В аналитику популярного сервиса аренды самокатов GoFast передали данные о некоторых пользователях из нескольких городов, а также об их поездках. Необходимо проанализировать данные и проверить некоторые гипотезы, которые могут помочь бизнесу вырасти.\n",
    "\n",
    "Чтобы совершать поездки по городу, пользователи сервиса GoFast пользуются мобильным приложением. Сервисом можно пользоваться:\n",
    "\n",
    "**без подписки**\n",
    "абонентская плата отсутствует;\n",
    "стоимость одной минуты поездки — 8 рублей;\n",
    "стоимость старта (начала поездки) — 50 рублей;\n",
    "\n",
    "**с подпиской Ultra**\n",
    "абонентская плата — 199 рублей в месяц;\n",
    "стоимость одной минуты поездки — 6 рублей;\n",
    "стоимость старта — бесплатно.\n",
    "\n",
    "План проекта:\n",
    "\n",
    "1. Загрузка данных\n",
    "\n",
    "2. Предобработка данных\n",
    "\n",
    "3. Исследовательский анализ данных\n",
    "\n",
    "4. Объединение данных \n",
    "\n",
    "5. Подсчет выручки\n",
    "\n",
    "6. Проверка гипотез\n",
    "\n",
    "7. Распределение \n",
    "\n",
    "8. Общий вывод"
   ]
  },
  {
   "cell_type": "code",
   "execution_count": 1,
   "id": "72576667",
   "metadata": {},
   "outputs": [],
   "source": [
    "import pandas as pd\n",
    "import numpy as np\n",
    "import scipy.stats as st \n",
    "import matplotlib.pyplot as plt "
   ]
  },
  {
   "cell_type": "markdown",
   "id": "c42cbe00",
   "metadata": {},
   "source": [
    "#### Шаг 1. Загрузка данных"
   ]
  },
  {
   "cell_type": "code",
   "execution_count": 2,
   "id": "eff9f206",
   "metadata": {},
   "outputs": [],
   "source": [
    "try:\n",
    "    users = pd.read_csv('/datasets/users_go.csv')\n",
    "    rides = pd.read_csv('/datasets/rides_go.csv')\n",
    "    subscr = pd.read_csv('/datasets/subscriptions_go.csv')\n",
    "except:\n",
    "    users = pd.read_csv(\"C:/Users/chern/users_go.csv\")\n",
    "    rides = pd.read_csv(\"C:/Users/chern/rides_go.csv\")\n",
    "    subscr = pd.read_csv(\"C:/Users/chern/subscriptions_go.csv\")"
   ]
  },
  {
   "cell_type": "code",
   "execution_count": 3,
   "id": "3ca6df55",
   "metadata": {},
   "outputs": [
    {
     "data": {
      "text/html": [
       "<div>\n",
       "<style scoped>\n",
       "    .dataframe tbody tr th:only-of-type {\n",
       "        vertical-align: middle;\n",
       "    }\n",
       "\n",
       "    .dataframe tbody tr th {\n",
       "        vertical-align: top;\n",
       "    }\n",
       "\n",
       "    .dataframe thead th {\n",
       "        text-align: right;\n",
       "    }\n",
       "</style>\n",
       "<table border=\"1\" class=\"dataframe\">\n",
       "  <thead>\n",
       "    <tr style=\"text-align: right;\">\n",
       "      <th></th>\n",
       "      <th>user_id</th>\n",
       "      <th>name</th>\n",
       "      <th>age</th>\n",
       "      <th>city</th>\n",
       "      <th>subscription_type</th>\n",
       "    </tr>\n",
       "  </thead>\n",
       "  <tbody>\n",
       "    <tr>\n",
       "      <th>0</th>\n",
       "      <td>1</td>\n",
       "      <td>Кира</td>\n",
       "      <td>22</td>\n",
       "      <td>Тюмень</td>\n",
       "      <td>ultra</td>\n",
       "    </tr>\n",
       "    <tr>\n",
       "      <th>1</th>\n",
       "      <td>2</td>\n",
       "      <td>Станислав</td>\n",
       "      <td>31</td>\n",
       "      <td>Омск</td>\n",
       "      <td>ultra</td>\n",
       "    </tr>\n",
       "    <tr>\n",
       "      <th>2</th>\n",
       "      <td>3</td>\n",
       "      <td>Алексей</td>\n",
       "      <td>20</td>\n",
       "      <td>Москва</td>\n",
       "      <td>ultra</td>\n",
       "    </tr>\n",
       "    <tr>\n",
       "      <th>3</th>\n",
       "      <td>4</td>\n",
       "      <td>Константин</td>\n",
       "      <td>26</td>\n",
       "      <td>Ростов-на-Дону</td>\n",
       "      <td>ultra</td>\n",
       "    </tr>\n",
       "    <tr>\n",
       "      <th>4</th>\n",
       "      <td>5</td>\n",
       "      <td>Адель</td>\n",
       "      <td>28</td>\n",
       "      <td>Омск</td>\n",
       "      <td>ultra</td>\n",
       "    </tr>\n",
       "    <tr>\n",
       "      <th>5</th>\n",
       "      <td>6</td>\n",
       "      <td>Регина</td>\n",
       "      <td>25</td>\n",
       "      <td>Краснодар</td>\n",
       "      <td>ultra</td>\n",
       "    </tr>\n",
       "    <tr>\n",
       "      <th>6</th>\n",
       "      <td>7</td>\n",
       "      <td>Игорь</td>\n",
       "      <td>23</td>\n",
       "      <td>Омск</td>\n",
       "      <td>ultra</td>\n",
       "    </tr>\n",
       "    <tr>\n",
       "      <th>7</th>\n",
       "      <td>8</td>\n",
       "      <td>Юрий</td>\n",
       "      <td>23</td>\n",
       "      <td>Краснодар</td>\n",
       "      <td>ultra</td>\n",
       "    </tr>\n",
       "    <tr>\n",
       "      <th>8</th>\n",
       "      <td>9</td>\n",
       "      <td>Ян</td>\n",
       "      <td>21</td>\n",
       "      <td>Пятигорск</td>\n",
       "      <td>ultra</td>\n",
       "    </tr>\n",
       "    <tr>\n",
       "      <th>9</th>\n",
       "      <td>10</td>\n",
       "      <td>Валерий</td>\n",
       "      <td>18</td>\n",
       "      <td>Екатеринбург</td>\n",
       "      <td>ultra</td>\n",
       "    </tr>\n",
       "    <tr>\n",
       "      <th>10</th>\n",
       "      <td>11</td>\n",
       "      <td>Агата</td>\n",
       "      <td>31</td>\n",
       "      <td>Краснодар</td>\n",
       "      <td>ultra</td>\n",
       "    </tr>\n",
       "    <tr>\n",
       "      <th>11</th>\n",
       "      <td>12</td>\n",
       "      <td>Марк</td>\n",
       "      <td>27</td>\n",
       "      <td>Тюмень</td>\n",
       "      <td>ultra</td>\n",
       "    </tr>\n",
       "    <tr>\n",
       "      <th>12</th>\n",
       "      <td>13</td>\n",
       "      <td>Ева</td>\n",
       "      <td>24</td>\n",
       "      <td>Краснодар</td>\n",
       "      <td>ultra</td>\n",
       "    </tr>\n",
       "    <tr>\n",
       "      <th>13</th>\n",
       "      <td>14</td>\n",
       "      <td>Антонина</td>\n",
       "      <td>18</td>\n",
       "      <td>Пятигорск</td>\n",
       "      <td>ultra</td>\n",
       "    </tr>\n",
       "    <tr>\n",
       "      <th>14</th>\n",
       "      <td>15</td>\n",
       "      <td>Валерия</td>\n",
       "      <td>24</td>\n",
       "      <td>Тюмень</td>\n",
       "      <td>ultra</td>\n",
       "    </tr>\n",
       "    <tr>\n",
       "      <th>15</th>\n",
       "      <td>16</td>\n",
       "      <td>Амалия</td>\n",
       "      <td>27</td>\n",
       "      <td>Краснодар</td>\n",
       "      <td>ultra</td>\n",
       "    </tr>\n",
       "    <tr>\n",
       "      <th>16</th>\n",
       "      <td>17</td>\n",
       "      <td>Даниил</td>\n",
       "      <td>29</td>\n",
       "      <td>Москва</td>\n",
       "      <td>ultra</td>\n",
       "    </tr>\n",
       "    <tr>\n",
       "      <th>17</th>\n",
       "      <td>18</td>\n",
       "      <td>Аделина</td>\n",
       "      <td>24</td>\n",
       "      <td>Сочи</td>\n",
       "      <td>ultra</td>\n",
       "    </tr>\n",
       "    <tr>\n",
       "      <th>18</th>\n",
       "      <td>19</td>\n",
       "      <td>Регина</td>\n",
       "      <td>32</td>\n",
       "      <td>Тюмень</td>\n",
       "      <td>ultra</td>\n",
       "    </tr>\n",
       "    <tr>\n",
       "      <th>19</th>\n",
       "      <td>20</td>\n",
       "      <td>Игорь</td>\n",
       "      <td>23</td>\n",
       "      <td>Омск</td>\n",
       "      <td>ultra</td>\n",
       "    </tr>\n",
       "  </tbody>\n",
       "</table>\n",
       "</div>"
      ],
      "text/plain": [
       "    user_id        name  age            city subscription_type\n",
       "0         1        Кира   22          Тюмень             ultra\n",
       "1         2   Станислав   31            Омск             ultra\n",
       "2         3     Алексей   20          Москва             ultra\n",
       "3         4  Константин   26  Ростов-на-Дону             ultra\n",
       "4         5       Адель   28            Омск             ultra\n",
       "5         6      Регина   25       Краснодар             ultra\n",
       "6         7       Игорь   23            Омск             ultra\n",
       "7         8        Юрий   23       Краснодар             ultra\n",
       "8         9          Ян   21       Пятигорск             ultra\n",
       "9        10     Валерий   18    Екатеринбург             ultra\n",
       "10       11       Агата   31       Краснодар             ultra\n",
       "11       12        Марк   27          Тюмень             ultra\n",
       "12       13         Ева   24       Краснодар             ultra\n",
       "13       14    Антонина   18       Пятигорск             ultra\n",
       "14       15     Валерия   24          Тюмень             ultra\n",
       "15       16      Амалия   27       Краснодар             ultra\n",
       "16       17      Даниил   29          Москва             ultra\n",
       "17       18     Аделина   24            Сочи             ultra\n",
       "18       19      Регина   32          Тюмень             ultra\n",
       "19       20       Игорь   23            Омск             ultra"
      ]
     },
     "execution_count": 3,
     "metadata": {},
     "output_type": "execute_result"
    }
   ],
   "source": [
    "# выведем первые строки всех трех датафреймов \n",
    "users.head(20)"
   ]
  },
  {
   "cell_type": "code",
   "execution_count": 4,
   "id": "5707b2be",
   "metadata": {},
   "outputs": [
    {
     "name": "stdout",
     "output_type": "stream",
     "text": [
      "<class 'pandas.core.frame.DataFrame'>\n",
      "RangeIndex: 1565 entries, 0 to 1564\n",
      "Data columns (total 5 columns):\n",
      " #   Column             Non-Null Count  Dtype \n",
      "---  ------             --------------  ----- \n",
      " 0   user_id            1565 non-null   int64 \n",
      " 1   name               1565 non-null   object\n",
      " 2   age                1565 non-null   int64 \n",
      " 3   city               1565 non-null   object\n",
      " 4   subscription_type  1565 non-null   object\n",
      "dtypes: int64(2), object(3)\n",
      "memory usage: 61.3+ KB\n"
     ]
    }
   ],
   "source": [
    "users.info()"
   ]
  },
  {
   "cell_type": "markdown",
   "id": "10149028",
   "metadata": {},
   "source": [
    "В таблице 1565 строк, тип данных integer и object. Изменение типов данных не требуется."
   ]
  },
  {
   "cell_type": "code",
   "execution_count": 5,
   "id": "489fc7d7",
   "metadata": {},
   "outputs": [
    {
     "data": {
      "text/html": [
       "<div>\n",
       "<style scoped>\n",
       "    .dataframe tbody tr th:only-of-type {\n",
       "        vertical-align: middle;\n",
       "    }\n",
       "\n",
       "    .dataframe tbody tr th {\n",
       "        vertical-align: top;\n",
       "    }\n",
       "\n",
       "    .dataframe thead th {\n",
       "        text-align: right;\n",
       "    }\n",
       "</style>\n",
       "<table border=\"1\" class=\"dataframe\">\n",
       "  <thead>\n",
       "    <tr style=\"text-align: right;\">\n",
       "      <th></th>\n",
       "      <th>user_id</th>\n",
       "      <th>distance</th>\n",
       "      <th>duration</th>\n",
       "      <th>date</th>\n",
       "    </tr>\n",
       "  </thead>\n",
       "  <tbody>\n",
       "    <tr>\n",
       "      <th>0</th>\n",
       "      <td>1</td>\n",
       "      <td>4409.919140</td>\n",
       "      <td>25.599769</td>\n",
       "      <td>2021-01-01</td>\n",
       "    </tr>\n",
       "    <tr>\n",
       "      <th>1</th>\n",
       "      <td>1</td>\n",
       "      <td>2617.592153</td>\n",
       "      <td>15.816871</td>\n",
       "      <td>2021-01-18</td>\n",
       "    </tr>\n",
       "    <tr>\n",
       "      <th>2</th>\n",
       "      <td>1</td>\n",
       "      <td>754.159807</td>\n",
       "      <td>6.232113</td>\n",
       "      <td>2021-04-20</td>\n",
       "    </tr>\n",
       "    <tr>\n",
       "      <th>3</th>\n",
       "      <td>1</td>\n",
       "      <td>2694.783254</td>\n",
       "      <td>18.511000</td>\n",
       "      <td>2021-08-11</td>\n",
       "    </tr>\n",
       "    <tr>\n",
       "      <th>4</th>\n",
       "      <td>1</td>\n",
       "      <td>4028.687306</td>\n",
       "      <td>26.265803</td>\n",
       "      <td>2021-08-28</td>\n",
       "    </tr>\n",
       "    <tr>\n",
       "      <th>5</th>\n",
       "      <td>1</td>\n",
       "      <td>2770.890808</td>\n",
       "      <td>16.650138</td>\n",
       "      <td>2021-10-09</td>\n",
       "    </tr>\n",
       "    <tr>\n",
       "      <th>6</th>\n",
       "      <td>1</td>\n",
       "      <td>3039.020292</td>\n",
       "      <td>14.927879</td>\n",
       "      <td>2021-10-19</td>\n",
       "    </tr>\n",
       "    <tr>\n",
       "      <th>7</th>\n",
       "      <td>1</td>\n",
       "      <td>2842.118050</td>\n",
       "      <td>23.117468</td>\n",
       "      <td>2021-11-06</td>\n",
       "    </tr>\n",
       "    <tr>\n",
       "      <th>8</th>\n",
       "      <td>1</td>\n",
       "      <td>3412.690668</td>\n",
       "      <td>15.238072</td>\n",
       "      <td>2021-11-14</td>\n",
       "    </tr>\n",
       "    <tr>\n",
       "      <th>9</th>\n",
       "      <td>1</td>\n",
       "      <td>748.690645</td>\n",
       "      <td>15.041884</td>\n",
       "      <td>2021-11-22</td>\n",
       "    </tr>\n",
       "    <tr>\n",
       "      <th>10</th>\n",
       "      <td>1</td>\n",
       "      <td>4031.020195</td>\n",
       "      <td>17.674448</td>\n",
       "      <td>2021-12-14</td>\n",
       "    </tr>\n",
       "    <tr>\n",
       "      <th>11</th>\n",
       "      <td>1</td>\n",
       "      <td>2720.609748</td>\n",
       "      <td>9.529463</td>\n",
       "      <td>2021-12-22</td>\n",
       "    </tr>\n",
       "    <tr>\n",
       "      <th>12</th>\n",
       "      <td>2</td>\n",
       "      <td>3105.086678</td>\n",
       "      <td>24.307514</td>\n",
       "      <td>2021-03-15</td>\n",
       "    </tr>\n",
       "    <tr>\n",
       "      <th>13</th>\n",
       "      <td>2</td>\n",
       "      <td>3053.519401</td>\n",
       "      <td>11.543256</td>\n",
       "      <td>2021-03-18</td>\n",
       "    </tr>\n",
       "    <tr>\n",
       "      <th>14</th>\n",
       "      <td>2</td>\n",
       "      <td>4029.116927</td>\n",
       "      <td>25.109188</td>\n",
       "      <td>2021-03-23</td>\n",
       "    </tr>\n",
       "    <tr>\n",
       "      <th>15</th>\n",
       "      <td>2</td>\n",
       "      <td>2805.786329</td>\n",
       "      <td>20.652145</td>\n",
       "      <td>2021-04-08</td>\n",
       "    </tr>\n",
       "    <tr>\n",
       "      <th>16</th>\n",
       "      <td>2</td>\n",
       "      <td>3358.595495</td>\n",
       "      <td>18.396489</td>\n",
       "      <td>2021-04-13</td>\n",
       "    </tr>\n",
       "    <tr>\n",
       "      <th>17</th>\n",
       "      <td>2</td>\n",
       "      <td>3255.338202</td>\n",
       "      <td>13.851127</td>\n",
       "      <td>2021-06-20</td>\n",
       "    </tr>\n",
       "    <tr>\n",
       "      <th>18</th>\n",
       "      <td>2</td>\n",
       "      <td>3942.817648</td>\n",
       "      <td>20.142725</td>\n",
       "      <td>2021-07-02</td>\n",
       "    </tr>\n",
       "    <tr>\n",
       "      <th>19</th>\n",
       "      <td>2</td>\n",
       "      <td>2837.905316</td>\n",
       "      <td>26.027432</td>\n",
       "      <td>2021-07-18</td>\n",
       "    </tr>\n",
       "  </tbody>\n",
       "</table>\n",
       "</div>"
      ],
      "text/plain": [
       "    user_id     distance   duration        date\n",
       "0         1  4409.919140  25.599769  2021-01-01\n",
       "1         1  2617.592153  15.816871  2021-01-18\n",
       "2         1   754.159807   6.232113  2021-04-20\n",
       "3         1  2694.783254  18.511000  2021-08-11\n",
       "4         1  4028.687306  26.265803  2021-08-28\n",
       "5         1  2770.890808  16.650138  2021-10-09\n",
       "6         1  3039.020292  14.927879  2021-10-19\n",
       "7         1  2842.118050  23.117468  2021-11-06\n",
       "8         1  3412.690668  15.238072  2021-11-14\n",
       "9         1   748.690645  15.041884  2021-11-22\n",
       "10        1  4031.020195  17.674448  2021-12-14\n",
       "11        1  2720.609748   9.529463  2021-12-22\n",
       "12        2  3105.086678  24.307514  2021-03-15\n",
       "13        2  3053.519401  11.543256  2021-03-18\n",
       "14        2  4029.116927  25.109188  2021-03-23\n",
       "15        2  2805.786329  20.652145  2021-04-08\n",
       "16        2  3358.595495  18.396489  2021-04-13\n",
       "17        2  3255.338202  13.851127  2021-06-20\n",
       "18        2  3942.817648  20.142725  2021-07-02\n",
       "19        2  2837.905316  26.027432  2021-07-18"
      ]
     },
     "execution_count": 5,
     "metadata": {},
     "output_type": "execute_result"
    }
   ],
   "source": [
    "rides.head(20)"
   ]
  },
  {
   "cell_type": "code",
   "execution_count": 6,
   "id": "0d7e497f",
   "metadata": {},
   "outputs": [
    {
     "name": "stdout",
     "output_type": "stream",
     "text": [
      "<class 'pandas.core.frame.DataFrame'>\n",
      "RangeIndex: 18068 entries, 0 to 18067\n",
      "Data columns (total 4 columns):\n",
      " #   Column    Non-Null Count  Dtype  \n",
      "---  ------    --------------  -----  \n",
      " 0   user_id   18068 non-null  int64  \n",
      " 1   distance  18068 non-null  float64\n",
      " 2   duration  18068 non-null  float64\n",
      " 3   date      18068 non-null  object \n",
      "dtypes: float64(2), int64(1), object(1)\n",
      "memory usage: 564.8+ KB\n"
     ]
    }
   ],
   "source": [
    "rides.info()"
   ]
  },
  {
   "cell_type": "markdown",
   "id": "18fd4f44",
   "metadata": {},
   "source": [
    "В таблице 18068 строк, тип данных integer, object и float. Замена float на integer в столбцах distance и duration не требуется, так как данные в них выражены непрерывными величинами. В столбце date следует изменить тип данных с object на datetime."
   ]
  },
  {
   "cell_type": "code",
   "execution_count": 7,
   "id": "fe1cfc27",
   "metadata": {
    "scrolled": true
   },
   "outputs": [
    {
     "data": {
      "text/html": [
       "<div>\n",
       "<style scoped>\n",
       "    .dataframe tbody tr th:only-of-type {\n",
       "        vertical-align: middle;\n",
       "    }\n",
       "\n",
       "    .dataframe tbody tr th {\n",
       "        vertical-align: top;\n",
       "    }\n",
       "\n",
       "    .dataframe thead th {\n",
       "        text-align: right;\n",
       "    }\n",
       "</style>\n",
       "<table border=\"1\" class=\"dataframe\">\n",
       "  <thead>\n",
       "    <tr style=\"text-align: right;\">\n",
       "      <th></th>\n",
       "      <th>subscription_type</th>\n",
       "      <th>minute_price</th>\n",
       "      <th>start_ride_price</th>\n",
       "      <th>subscription_fee</th>\n",
       "    </tr>\n",
       "  </thead>\n",
       "  <tbody>\n",
       "    <tr>\n",
       "      <th>0</th>\n",
       "      <td>free</td>\n",
       "      <td>8</td>\n",
       "      <td>50</td>\n",
       "      <td>0</td>\n",
       "    </tr>\n",
       "    <tr>\n",
       "      <th>1</th>\n",
       "      <td>ultra</td>\n",
       "      <td>6</td>\n",
       "      <td>0</td>\n",
       "      <td>199</td>\n",
       "    </tr>\n",
       "  </tbody>\n",
       "</table>\n",
       "</div>"
      ],
      "text/plain": [
       "  subscription_type  minute_price  start_ride_price  subscription_fee\n",
       "0              free             8                50                 0\n",
       "1             ultra             6                 0               199"
      ]
     },
     "execution_count": 7,
     "metadata": {},
     "output_type": "execute_result"
    }
   ],
   "source": [
    "subscr.head(20)"
   ]
  },
  {
   "cell_type": "code",
   "execution_count": 8,
   "id": "a6c809e6",
   "metadata": {},
   "outputs": [
    {
     "name": "stdout",
     "output_type": "stream",
     "text": [
      "<class 'pandas.core.frame.DataFrame'>\n",
      "RangeIndex: 2 entries, 0 to 1\n",
      "Data columns (total 4 columns):\n",
      " #   Column             Non-Null Count  Dtype \n",
      "---  ------             --------------  ----- \n",
      " 0   subscription_type  2 non-null      object\n",
      " 1   minute_price       2 non-null      int64 \n",
      " 2   start_ride_price   2 non-null      int64 \n",
      " 3   subscription_fee   2 non-null      int64 \n",
      "dtypes: int64(3), object(1)\n",
      "memory usage: 192.0+ bytes\n"
     ]
    }
   ],
   "source": [
    "subscr.info()"
   ]
  },
  {
   "cell_type": "markdown",
   "id": "95b569b6",
   "metadata": {},
   "source": [
    "В таблице всего 2 строки по имеющимся типам подписки. Типы данных object и integer присвоены верно."
   ]
  },
  {
   "cell_type": "markdown",
   "id": "1173cbc9",
   "metadata": {},
   "source": [
    "#### Вывод:\n",
    "\n",
    "Ознакомившись с датафреймами, видим, что есть следующие совокупные данные для анализа: \n",
    "\n",
    "**user_id** - уникальный номер пользователя;\n",
    "**name** - имя пользователя;\n",
    "**age** - возраст пользователя;\n",
    "**city** - город использования услуг сервиса;\n",
    "**subscription_type** - тип подписки (либо free, либо ultra);\n",
    "**distance** - расстояние одной поездки в метрах;\n",
    "**duration** - продолжительность одной поездки в минутах;\n",
    "**date** - дата совершения поездки;\n",
    "**minute_price** - стоимость одной минуты поездки;\n",
    "**start_ride_price** - стоимость старта (начала поездки).\n",
    "\n",
    "В таблицах представлены типы данных object, integer и float. Изменения требуются только в столбце date датафрейма users: следует изменить тип данных с object на datetime. Остальные типы значений присвоены верно. "
   ]
  },
  {
   "cell_type": "markdown",
   "id": "e95ebca7",
   "metadata": {},
   "source": [
    "#### Шаг 2. Предобработка данных"
   ]
  },
  {
   "cell_type": "code",
   "execution_count": 9,
   "id": "af6d202c",
   "metadata": {},
   "outputs": [],
   "source": [
    "# Приведем столбец date к типу даты pandas и создадим новый столбец с номером месяца \n",
    "rides['date'] = pd.to_datetime(rides['date'], format='%Y-%m-%d')\n",
    "rides['month'] = rides['date'].dt.month"
   ]
  },
  {
   "cell_type": "code",
   "execution_count": 10,
   "id": "e8a53d4e",
   "metadata": {},
   "outputs": [
    {
     "data": {
      "text/plain": [
       "array([2021])"
      ]
     },
     "execution_count": 10,
     "metadata": {},
     "output_type": "execute_result"
    }
   ],
   "source": [
    "rides['year'] = rides['date'].dt.year\n",
    "rides['year'].unique()"
   ]
  },
  {
   "cell_type": "code",
   "execution_count": 11,
   "id": "e601895e",
   "metadata": {},
   "outputs": [
    {
     "data": {
      "text/plain": [
       "user_id              0\n",
       "name                 0\n",
       "age                  0\n",
       "city                 0\n",
       "subscription_type    0\n",
       "dtype: int64"
      ]
     },
     "execution_count": 11,
     "metadata": {},
     "output_type": "execute_result"
    }
   ],
   "source": [
    "# проверим датафрейм users на наличие пропусков\n",
    "users.isna().sum()"
   ]
  },
  {
   "cell_type": "code",
   "execution_count": 12,
   "id": "e3a4274c",
   "metadata": {},
   "outputs": [
    {
     "data": {
      "text/plain": [
       "array(['Тюмень', 'Омск', 'Москва', 'Ростов-на-Дону', 'Краснодар',\n",
       "       'Пятигорск', 'Екатеринбург', 'Сочи'], dtype=object)"
      ]
     },
     "execution_count": 12,
     "metadata": {},
     "output_type": "execute_result"
    }
   ],
   "source": [
    "# проверим столбец city на наличие неявных дубликатов \n",
    "users['city'].unique()"
   ]
  },
  {
   "cell_type": "code",
   "execution_count": 13,
   "id": "eef5a198",
   "metadata": {},
   "outputs": [
    {
     "data": {
      "text/plain": [
       "31"
      ]
     },
     "execution_count": 13,
     "metadata": {},
     "output_type": "execute_result"
    }
   ],
   "source": [
    "# проверим датафрейм на явные дубликаты \n",
    "users.duplicated().sum()"
   ]
  },
  {
   "cell_type": "code",
   "execution_count": 14,
   "id": "4282517c",
   "metadata": {},
   "outputs": [],
   "source": [
    "# удалим явные дубликаты\n",
    "users = users.drop_duplicates()"
   ]
  },
  {
   "cell_type": "code",
   "execution_count": 15,
   "id": "9ac1f197",
   "metadata": {},
   "outputs": [
    {
     "data": {
      "text/plain": [
       "user_id     0\n",
       "distance    0\n",
       "duration    0\n",
       "date        0\n",
       "month       0\n",
       "year        0\n",
       "dtype: int64"
      ]
     },
     "execution_count": 15,
     "metadata": {},
     "output_type": "execute_result"
    }
   ],
   "source": [
    "# проверим датафрейм rides на пропуски\n",
    "rides.isna().sum()"
   ]
  },
  {
   "cell_type": "code",
   "execution_count": 16,
   "id": "b0f2e7e9",
   "metadata": {},
   "outputs": [
    {
     "data": {
      "text/plain": [
       "0"
      ]
     },
     "execution_count": 16,
     "metadata": {},
     "output_type": "execute_result"
    }
   ],
   "source": [
    "# проверим на наличие явных дубликатов\n",
    "rides.duplicated().sum()"
   ]
  },
  {
   "cell_type": "code",
   "execution_count": 17,
   "id": "37d164ac",
   "metadata": {},
   "outputs": [
    {
     "data": {
      "text/plain": [
       "subscription_type    0\n",
       "minute_price         0\n",
       "start_ride_price     0\n",
       "subscription_fee     0\n",
       "dtype: int64"
      ]
     },
     "execution_count": 17,
     "metadata": {},
     "output_type": "execute_result"
    }
   ],
   "source": [
    "# проверим датафрейм subscr на наличие пропусков\n",
    "subscr.isna().sum()"
   ]
  },
  {
   "cell_type": "code",
   "execution_count": 18,
   "id": "34daf099",
   "metadata": {},
   "outputs": [
    {
     "data": {
      "text/plain": [
       "0"
      ]
     },
     "execution_count": 18,
     "metadata": {},
     "output_type": "execute_result"
    }
   ],
   "source": [
    "# проверим на явные дубликаты\n",
    "subscr.duplicated().sum()"
   ]
  },
  {
   "cell_type": "markdown",
   "id": "92846f07",
   "metadata": {},
   "source": [
    "#### Вывод:\n",
    "\n",
    "Проверили все датафреймы на наличие дубликатов (явных и неявных) и пропусков.\n",
    "В rides и subscr проблем не обнаружилось.\n",
    "В users удалили явные дубликаты и изменили формат столбца city на datetime64."
   ]
  },
  {
   "cell_type": "markdown",
   "id": "212593c7",
   "metadata": {},
   "source": [
    "#### Шаг 3. Исследовательский анализ данных"
   ]
  },
  {
   "cell_type": "code",
   "execution_count": 19,
   "id": "6bf288b5",
   "metadata": {},
   "outputs": [
    {
     "data": {
      "text/plain": [
       "count          1534\n",
       "unique            8\n",
       "top       Пятигорск\n",
       "freq            219\n",
       "Name: city, dtype: object"
      ]
     },
     "execution_count": 19,
     "metadata": {},
     "output_type": "execute_result"
    }
   ],
   "source": [
    "# исследуем столбец city и построим график\n",
    "users['city'].describe()"
   ]
  },
  {
   "cell_type": "code",
   "execution_count": 20,
   "id": "8769a134",
   "metadata": {
    "scrolled": true
   },
   "outputs": [
    {
     "data": {
      "image/png": "[encoded data removed]",
      "text/plain": [
       "<Figure size 288x288 with 1 Axes>"
      ]
     },
     "metadata": {
      "needs_background": "light"
     },
     "output_type": "display_data"
    }
   ],
   "source": [
    "users_city = users.pivot_table(index='city', values='user_id', aggfunc='count').sort_values(by='user_id')\n",
    "\n",
    "ax = users_city.plot(kind='barh', grid=True, figsize=(4, 4)) \n",
    " \n",
    "for i, city in enumerate(users_city.index):\n",
    "    value=users_city.loc[city, 'user_id']\n",
    "    ax.text(value, i, str(value), color=\"black\", va=\"center\", ha=\"left\", fontweight=\"bold\")\n",
    "    \n",
    "plt.title('Частота встречаемости городов' )\n",
    "plt.ylabel('Города')\n",
    "plt.xlabel('Количество пользователей') \n",
    "\n",
    "plt.show()"
   ]
  },
  {
   "cell_type": "markdown",
   "id": "f07cc7bf",
   "metadata": {},
   "source": [
    "В выборке представлены данные о работе приложения в 8 городах России. Разница в количистве пользователей не велика и в основном укладывается в промежуток из 50 пользователей. Наиболее популярно приложение в городе Пятигорск, а наименее - в Москве."
   ]
  },
  {
   "cell_type": "code",
   "execution_count": 21,
   "id": "5f208c8a",
   "metadata": {},
   "outputs": [
    {
     "data": {
      "text/plain": [
       "subscription_type\n",
       "free     835\n",
       "ultra    699\n",
       "Name: user_id, dtype: int64"
      ]
     },
     "execution_count": 21,
     "metadata": {},
     "output_type": "execute_result"
    }
   ],
   "source": [
    "# исследуем тип подписки и построим график\n",
    "subscr_t = users.groupby('subscription_type')['user_id'].count()\n",
    "subscr_t"
   ]
  },
  {
   "cell_type": "code",
   "execution_count": 22,
   "id": "b5439b28",
   "metadata": {
    "scrolled": true
   },
   "outputs": [
    {
     "data": {
      "image/png": "[encoded data removed]",
      "text/plain": [
       "<Figure size 432x288 with 1 Axes>"
      ]
     },
     "metadata": {},
     "output_type": "display_data"
    }
   ],
   "source": [
    "fig, ax = plt.subplots()\n",
    "labels = 'free', 'ultra'\n",
    "ax.pie(subscr_t, labels=labels, autopct='%1.1f%%')\n",
    "title='Соотношение пользователей с подпиской и без подписки'\n",
    "radius=1\n",
    "\n",
    "plt.show()"
   ]
  },
  {
   "cell_type": "markdown",
   "id": "fbe9e25a",
   "metadata": {},
   "source": [
    "Разница между пользователями с подпиской и без составляет всего 8,8% в пользу первых. Такая небольшая разница позволит корректно сравнивать две группы пользователей и проверять гипотезы. "
   ]
  },
  {
   "cell_type": "code",
   "execution_count": 23,
   "id": "1f7ba1e5",
   "metadata": {},
   "outputs": [
    {
     "data": {
      "text/plain": [
       "count    1534.000000\n",
       "mean       24.903520\n",
       "std         4.572367\n",
       "min        12.000000\n",
       "25%        22.000000\n",
       "50%        25.000000\n",
       "75%        28.000000\n",
       "max        43.000000\n",
       "Name: age, dtype: float64"
      ]
     },
     "execution_count": 23,
     "metadata": {},
     "output_type": "execute_result"
    }
   ],
   "source": [
    "# исследуем возраст пользователей\n",
    "users['age'].describe()"
   ]
  },
  {
   "cell_type": "code",
   "execution_count": 24,
   "id": "b255046c",
   "metadata": {},
   "outputs": [
    {
     "data": {
      "image/png": "[encoded data removed]",
      "text/plain": [
       "<Figure size 360x360 with 1 Axes>"
      ]
     },
     "metadata": {
      "needs_background": "light"
     },
     "output_type": "display_data"
    }
   ],
   "source": [
    "users.plot(y='age', kind='box', title='Возраст пользователей', figsize=(5, 5)); "
   ]
  },
  {
   "cell_type": "markdown",
   "id": "a74978b9",
   "metadata": {},
   "source": [
    "Медианный возраст пользователей равен 25 годам, а наибольшая часть пользователей расположилась в отрезке от примерно 22 до 27 лет. Очень редко сервисом пользуются в возрасте младше 13 и старше 37 лет. "
   ]
  },
  {
   "cell_type": "code",
   "execution_count": 25,
   "id": "d901b75d",
   "metadata": {},
   "outputs": [
    {
     "data": {
      "text/plain": [
       "count    18068.000000\n",
       "mean      3070.659976\n",
       "std       1116.831209\n",
       "min          0.855683\n",
       "25%       2543.226360\n",
       "50%       3133.609994\n",
       "75%       3776.222735\n",
       "max       7211.007745\n",
       "Name: distance, dtype: float64"
      ]
     },
     "execution_count": 25,
     "metadata": {},
     "output_type": "execute_result"
    }
   ],
   "source": [
    "# исследуем расстояния поездок \n",
    "rides['distance'].describe()"
   ]
  },
  {
   "cell_type": "code",
   "execution_count": 26,
   "id": "3089b6fb",
   "metadata": {
    "scrolled": true
   },
   "outputs": [
    {
     "data": {
      "image/png": "[encoded data removed]",
      "text/plain": [
       "<Figure size 360x360 with 1 Axes>"
      ]
     },
     "metadata": {
      "needs_background": "light"
     },
     "output_type": "display_data"
    }
   ],
   "source": [
    "rides.plot(y='distance', kind='box', title='Расстояние, которое пользователь преодолел за одну поездку', figsize=(5, 5)); "
   ]
  },
  {
   "cell_type": "code",
   "execution_count": 27,
   "id": "9dc9a2bd",
   "metadata": {},
   "outputs": [
    {
     "data": {
      "image/png": "[encoded data removed]",
      "text/plain": [
       "<Figure size 360x360 with 1 Axes>"
      ]
     },
     "metadata": {
      "needs_background": "light"
     },
     "output_type": "display_data"
    }
   ],
   "source": [
    "rides.plot(y='distance', kind='hist', title='Расстояние, которое пользователь преодолел за одну поездку', figsize=(5, 5)); "
   ]
  },
  {
   "cell_type": "markdown",
   "id": "5eaadbe6",
   "metadata": {},
   "source": [
    "Медианное значение расстояния поездки равно около 3,1 км, при этом большая часть поездок совершаются на дистанции от 2,5 до 3,9 км. Данные содержат большое количество выбросов единичных значений в промежутке до 900 м и более 5,6 км. На гистограмме видны аномальные значения около 0 м. и до 800-900 м.  "
   ]
  },
  {
   "cell_type": "code",
   "execution_count": 28,
   "id": "32bd6e6c",
   "metadata": {},
   "outputs": [
    {
     "data": {
      "text/plain": [
       "count    18068.000000\n",
       "mean        17.805011\n",
       "std          6.091051\n",
       "min          0.500000\n",
       "25%         13.597563\n",
       "50%         17.678395\n",
       "75%         21.724800\n",
       "max         40.823963\n",
       "Name: duration, dtype: float64"
      ]
     },
     "execution_count": 28,
     "metadata": {},
     "output_type": "execute_result"
    }
   ],
   "source": [
    "# исследуем продолжительность поездок \n",
    "rides['duration'].describe()"
   ]
  },
  {
   "cell_type": "code",
   "execution_count": 29,
   "id": "c16c5b29",
   "metadata": {},
   "outputs": [
    {
     "data": {
      "image/png": "[encoded data removed]",
      "text/plain": [
       "<Figure size 360x360 with 1 Axes>"
      ]
     },
     "metadata": {
      "needs_background": "light"
     },
     "output_type": "display_data"
    }
   ],
   "source": [
    "rides.plot(y='duration', kind='box', title='Продолжительность поездки', figsize=(5, 5)); "
   ]
  },
  {
   "cell_type": "code",
   "execution_count": 30,
   "id": "169e1e5f",
   "metadata": {},
   "outputs": [
    {
     "data": {
      "image/png": "[encoded data removed]",
      "text/plain": [
       "<Figure size 360x360 with 1 Axes>"
      ]
     },
     "metadata": {
      "needs_background": "light"
     },
     "output_type": "display_data"
    }
   ],
   "source": [
    "rides.plot(y='duration', kind='hist', title='Продолжительность поездки', figsize=(5, 5)); "
   ]
  },
  {
   "cell_type": "code",
   "execution_count": 31,
   "id": "797fde80",
   "metadata": {},
   "outputs": [
    {
     "data": {
      "text/plain": [
       "213.83"
      ]
     },
     "execution_count": 31,
     "metadata": {},
     "output_type": "execute_result"
    }
   ],
   "source": [
    "rides_short = rides.query('duration < 5')\n",
    "rides_short_v = (rides_short['distance'] / rides_short['duration']).mean()\n",
    "(rides_short_v * 60 / 1000).round(2)"
   ]
  },
  {
   "cell_type": "code",
   "execution_count": 32,
   "id": "99e3f832",
   "metadata": {},
   "outputs": [
    {
     "data": {
      "text/plain": [
       "10.73"
      ]
     },
     "execution_count": 32,
     "metadata": {},
     "output_type": "execute_result"
    }
   ],
   "source": [
    "rides_mean = rides.query('15 < duration < 20')\n",
    "rides_mean_v = (rides_mean['distance'] / rides_mean['duration']).mean()\n",
    "(rides_mean_v * 60 / 1000).round(2)"
   ]
  },
  {
   "cell_type": "markdown",
   "id": "d243f70f",
   "metadata": {},
   "source": [
    "Медианное значение продолжительности поездки составляет около 17,5 мин, при этом большая часть поездок завершается в течение  13-22 мин. Данные содержат большое количество выбросов единичных значений в верхнем промежутке более 33 мин. и небольшое количество выбросов около 0 мин., когда либо произошел технический сбой, либо поездка не была совершена. \n",
    "Рассмотрели скорость передвижения для аномально быстрых поездок до 5 мин, она составила в среднем 213,83 км.ч. Электросамокат технически не может развить такую скорость, это подтверждает ошибку в данных. Для сравнения рассчитали среднюю скорость для прогулок с медианной продолжительностью - 15-20 мин. Скорость оказалась небольшой - 10,73 км в час, на такой скорости скорее всего самокат используется для прогулок, вероятно, с остановками."
   ]
  },
  {
   "cell_type": "markdown",
   "id": "cc4bf232",
   "metadata": {},
   "source": [
    "#### Вывод:\n",
    "\n",
    "Анализ данных показал, что чаще всего клиентами приложения становятся пользователи без подписки, использующие приложение в г. Пятигорск, в возрасте 25 лет. Наиболее популярными оказались поездки на 3,1 км и по 17,5 мин. "
   ]
  },
  {
   "cell_type": "markdown",
   "id": "4ef51331",
   "metadata": {},
   "source": [
    "#### Шаг 4. Объединение данных"
   ]
  },
  {
   "cell_type": "code",
   "execution_count": 33,
   "id": "35ad1b40",
   "metadata": {},
   "outputs": [],
   "source": [
    "# соберем 3 датафрейма в один датафрейм data \n",
    "data = users.merge(rides, on='user_id', how='outer').merge(subscr, on='subscription_type', how='outer') "
   ]
  },
  {
   "cell_type": "code",
   "execution_count": 34,
   "id": "12d9da06",
   "metadata": {
    "scrolled": true
   },
   "outputs": [
    {
     "data": {
      "text/html": [
       "<div>\n",
       "<style scoped>\n",
       "    .dataframe tbody tr th:only-of-type {\n",
       "        vertical-align: middle;\n",
       "    }\n",
       "\n",
       "    .dataframe tbody tr th {\n",
       "        vertical-align: top;\n",
       "    }\n",
       "\n",
       "    .dataframe thead th {\n",
       "        text-align: right;\n",
       "    }\n",
       "</style>\n",
       "<table border=\"1\" class=\"dataframe\">\n",
       "  <thead>\n",
       "    <tr style=\"text-align: right;\">\n",
       "      <th></th>\n",
       "      <th>user_id</th>\n",
       "      <th>name</th>\n",
       "      <th>age</th>\n",
       "      <th>city</th>\n",
       "      <th>subscription_type</th>\n",
       "      <th>distance</th>\n",
       "      <th>duration</th>\n",
       "      <th>date</th>\n",
       "      <th>month</th>\n",
       "      <th>year</th>\n",
       "      <th>minute_price</th>\n",
       "      <th>start_ride_price</th>\n",
       "      <th>subscription_fee</th>\n",
       "    </tr>\n",
       "  </thead>\n",
       "  <tbody>\n",
       "    <tr>\n",
       "      <th>0</th>\n",
       "      <td>1</td>\n",
       "      <td>Кира</td>\n",
       "      <td>22</td>\n",
       "      <td>Тюмень</td>\n",
       "      <td>ultra</td>\n",
       "      <td>4409.919140</td>\n",
       "      <td>25.599769</td>\n",
       "      <td>2021-01-01</td>\n",
       "      <td>1</td>\n",
       "      <td>2021</td>\n",
       "      <td>6</td>\n",
       "      <td>0</td>\n",
       "      <td>199</td>\n",
       "    </tr>\n",
       "    <tr>\n",
       "      <th>1</th>\n",
       "      <td>1</td>\n",
       "      <td>Кира</td>\n",
       "      <td>22</td>\n",
       "      <td>Тюмень</td>\n",
       "      <td>ultra</td>\n",
       "      <td>2617.592153</td>\n",
       "      <td>15.816871</td>\n",
       "      <td>2021-01-18</td>\n",
       "      <td>1</td>\n",
       "      <td>2021</td>\n",
       "      <td>6</td>\n",
       "      <td>0</td>\n",
       "      <td>199</td>\n",
       "    </tr>\n",
       "    <tr>\n",
       "      <th>2</th>\n",
       "      <td>1</td>\n",
       "      <td>Кира</td>\n",
       "      <td>22</td>\n",
       "      <td>Тюмень</td>\n",
       "      <td>ultra</td>\n",
       "      <td>754.159807</td>\n",
       "      <td>6.232113</td>\n",
       "      <td>2021-04-20</td>\n",
       "      <td>4</td>\n",
       "      <td>2021</td>\n",
       "      <td>6</td>\n",
       "      <td>0</td>\n",
       "      <td>199</td>\n",
       "    </tr>\n",
       "    <tr>\n",
       "      <th>3</th>\n",
       "      <td>1</td>\n",
       "      <td>Кира</td>\n",
       "      <td>22</td>\n",
       "      <td>Тюмень</td>\n",
       "      <td>ultra</td>\n",
       "      <td>2694.783254</td>\n",
       "      <td>18.511000</td>\n",
       "      <td>2021-08-11</td>\n",
       "      <td>8</td>\n",
       "      <td>2021</td>\n",
       "      <td>6</td>\n",
       "      <td>0</td>\n",
       "      <td>199</td>\n",
       "    </tr>\n",
       "    <tr>\n",
       "      <th>4</th>\n",
       "      <td>1</td>\n",
       "      <td>Кира</td>\n",
       "      <td>22</td>\n",
       "      <td>Тюмень</td>\n",
       "      <td>ultra</td>\n",
       "      <td>4028.687306</td>\n",
       "      <td>26.265803</td>\n",
       "      <td>2021-08-28</td>\n",
       "      <td>8</td>\n",
       "      <td>2021</td>\n",
       "      <td>6</td>\n",
       "      <td>0</td>\n",
       "      <td>199</td>\n",
       "    </tr>\n",
       "    <tr>\n",
       "      <th>5</th>\n",
       "      <td>1</td>\n",
       "      <td>Кира</td>\n",
       "      <td>22</td>\n",
       "      <td>Тюмень</td>\n",
       "      <td>ultra</td>\n",
       "      <td>2770.890808</td>\n",
       "      <td>16.650138</td>\n",
       "      <td>2021-10-09</td>\n",
       "      <td>10</td>\n",
       "      <td>2021</td>\n",
       "      <td>6</td>\n",
       "      <td>0</td>\n",
       "      <td>199</td>\n",
       "    </tr>\n",
       "    <tr>\n",
       "      <th>6</th>\n",
       "      <td>1</td>\n",
       "      <td>Кира</td>\n",
       "      <td>22</td>\n",
       "      <td>Тюмень</td>\n",
       "      <td>ultra</td>\n",
       "      <td>3039.020292</td>\n",
       "      <td>14.927879</td>\n",
       "      <td>2021-10-19</td>\n",
       "      <td>10</td>\n",
       "      <td>2021</td>\n",
       "      <td>6</td>\n",
       "      <td>0</td>\n",
       "      <td>199</td>\n",
       "    </tr>\n",
       "    <tr>\n",
       "      <th>7</th>\n",
       "      <td>1</td>\n",
       "      <td>Кира</td>\n",
       "      <td>22</td>\n",
       "      <td>Тюмень</td>\n",
       "      <td>ultra</td>\n",
       "      <td>2842.118050</td>\n",
       "      <td>23.117468</td>\n",
       "      <td>2021-11-06</td>\n",
       "      <td>11</td>\n",
       "      <td>2021</td>\n",
       "      <td>6</td>\n",
       "      <td>0</td>\n",
       "      <td>199</td>\n",
       "    </tr>\n",
       "    <tr>\n",
       "      <th>8</th>\n",
       "      <td>1</td>\n",
       "      <td>Кира</td>\n",
       "      <td>22</td>\n",
       "      <td>Тюмень</td>\n",
       "      <td>ultra</td>\n",
       "      <td>3412.690668</td>\n",
       "      <td>15.238072</td>\n",
       "      <td>2021-11-14</td>\n",
       "      <td>11</td>\n",
       "      <td>2021</td>\n",
       "      <td>6</td>\n",
       "      <td>0</td>\n",
       "      <td>199</td>\n",
       "    </tr>\n",
       "    <tr>\n",
       "      <th>9</th>\n",
       "      <td>1</td>\n",
       "      <td>Кира</td>\n",
       "      <td>22</td>\n",
       "      <td>Тюмень</td>\n",
       "      <td>ultra</td>\n",
       "      <td>748.690645</td>\n",
       "      <td>15.041884</td>\n",
       "      <td>2021-11-22</td>\n",
       "      <td>11</td>\n",
       "      <td>2021</td>\n",
       "      <td>6</td>\n",
       "      <td>0</td>\n",
       "      <td>199</td>\n",
       "    </tr>\n",
       "    <tr>\n",
       "      <th>10</th>\n",
       "      <td>1</td>\n",
       "      <td>Кира</td>\n",
       "      <td>22</td>\n",
       "      <td>Тюмень</td>\n",
       "      <td>ultra</td>\n",
       "      <td>4031.020195</td>\n",
       "      <td>17.674448</td>\n",
       "      <td>2021-12-14</td>\n",
       "      <td>12</td>\n",
       "      <td>2021</td>\n",
       "      <td>6</td>\n",
       "      <td>0</td>\n",
       "      <td>199</td>\n",
       "    </tr>\n",
       "    <tr>\n",
       "      <th>11</th>\n",
       "      <td>1</td>\n",
       "      <td>Кира</td>\n",
       "      <td>22</td>\n",
       "      <td>Тюмень</td>\n",
       "      <td>ultra</td>\n",
       "      <td>2720.609748</td>\n",
       "      <td>9.529463</td>\n",
       "      <td>2021-12-22</td>\n",
       "      <td>12</td>\n",
       "      <td>2021</td>\n",
       "      <td>6</td>\n",
       "      <td>0</td>\n",
       "      <td>199</td>\n",
       "    </tr>\n",
       "    <tr>\n",
       "      <th>12</th>\n",
       "      <td>2</td>\n",
       "      <td>Станислав</td>\n",
       "      <td>31</td>\n",
       "      <td>Омск</td>\n",
       "      <td>ultra</td>\n",
       "      <td>3105.086678</td>\n",
       "      <td>24.307514</td>\n",
       "      <td>2021-03-15</td>\n",
       "      <td>3</td>\n",
       "      <td>2021</td>\n",
       "      <td>6</td>\n",
       "      <td>0</td>\n",
       "      <td>199</td>\n",
       "    </tr>\n",
       "    <tr>\n",
       "      <th>13</th>\n",
       "      <td>2</td>\n",
       "      <td>Станислав</td>\n",
       "      <td>31</td>\n",
       "      <td>Омск</td>\n",
       "      <td>ultra</td>\n",
       "      <td>3053.519401</td>\n",
       "      <td>11.543256</td>\n",
       "      <td>2021-03-18</td>\n",
       "      <td>3</td>\n",
       "      <td>2021</td>\n",
       "      <td>6</td>\n",
       "      <td>0</td>\n",
       "      <td>199</td>\n",
       "    </tr>\n",
       "    <tr>\n",
       "      <th>14</th>\n",
       "      <td>2</td>\n",
       "      <td>Станислав</td>\n",
       "      <td>31</td>\n",
       "      <td>Омск</td>\n",
       "      <td>ultra</td>\n",
       "      <td>4029.116927</td>\n",
       "      <td>25.109188</td>\n",
       "      <td>2021-03-23</td>\n",
       "      <td>3</td>\n",
       "      <td>2021</td>\n",
       "      <td>6</td>\n",
       "      <td>0</td>\n",
       "      <td>199</td>\n",
       "    </tr>\n",
       "    <tr>\n",
       "      <th>15</th>\n",
       "      <td>2</td>\n",
       "      <td>Станислав</td>\n",
       "      <td>31</td>\n",
       "      <td>Омск</td>\n",
       "      <td>ultra</td>\n",
       "      <td>2805.786329</td>\n",
       "      <td>20.652145</td>\n",
       "      <td>2021-04-08</td>\n",
       "      <td>4</td>\n",
       "      <td>2021</td>\n",
       "      <td>6</td>\n",
       "      <td>0</td>\n",
       "      <td>199</td>\n",
       "    </tr>\n",
       "    <tr>\n",
       "      <th>16</th>\n",
       "      <td>2</td>\n",
       "      <td>Станислав</td>\n",
       "      <td>31</td>\n",
       "      <td>Омск</td>\n",
       "      <td>ultra</td>\n",
       "      <td>3358.595495</td>\n",
       "      <td>18.396489</td>\n",
       "      <td>2021-04-13</td>\n",
       "      <td>4</td>\n",
       "      <td>2021</td>\n",
       "      <td>6</td>\n",
       "      <td>0</td>\n",
       "      <td>199</td>\n",
       "    </tr>\n",
       "    <tr>\n",
       "      <th>17</th>\n",
       "      <td>2</td>\n",
       "      <td>Станислав</td>\n",
       "      <td>31</td>\n",
       "      <td>Омск</td>\n",
       "      <td>ultra</td>\n",
       "      <td>3255.338202</td>\n",
       "      <td>13.851127</td>\n",
       "      <td>2021-06-20</td>\n",
       "      <td>6</td>\n",
       "      <td>2021</td>\n",
       "      <td>6</td>\n",
       "      <td>0</td>\n",
       "      <td>199</td>\n",
       "    </tr>\n",
       "    <tr>\n",
       "      <th>18</th>\n",
       "      <td>2</td>\n",
       "      <td>Станислав</td>\n",
       "      <td>31</td>\n",
       "      <td>Омск</td>\n",
       "      <td>ultra</td>\n",
       "      <td>3942.817648</td>\n",
       "      <td>20.142725</td>\n",
       "      <td>2021-07-02</td>\n",
       "      <td>7</td>\n",
       "      <td>2021</td>\n",
       "      <td>6</td>\n",
       "      <td>0</td>\n",
       "      <td>199</td>\n",
       "    </tr>\n",
       "    <tr>\n",
       "      <th>19</th>\n",
       "      <td>2</td>\n",
       "      <td>Станислав</td>\n",
       "      <td>31</td>\n",
       "      <td>Омск</td>\n",
       "      <td>ultra</td>\n",
       "      <td>2837.905316</td>\n",
       "      <td>26.027432</td>\n",
       "      <td>2021-07-18</td>\n",
       "      <td>7</td>\n",
       "      <td>2021</td>\n",
       "      <td>6</td>\n",
       "      <td>0</td>\n",
       "      <td>199</td>\n",
       "    </tr>\n",
       "  </tbody>\n",
       "</table>\n",
       "</div>"
      ],
      "text/plain": [
       "    user_id       name  age    city subscription_type     distance   duration  \\\n",
       "0         1       Кира   22  Тюмень             ultra  4409.919140  25.599769   \n",
       "1         1       Кира   22  Тюмень             ultra  2617.592153  15.816871   \n",
       "2         1       Кира   22  Тюмень             ultra   754.159807   6.232113   \n",
       "3         1       Кира   22  Тюмень             ultra  2694.783254  18.511000   \n",
       "4         1       Кира   22  Тюмень             ultra  4028.687306  26.265803   \n",
       "5         1       Кира   22  Тюмень             ultra  2770.890808  16.650138   \n",
       "6         1       Кира   22  Тюмень             ultra  3039.020292  14.927879   \n",
       "7         1       Кира   22  Тюмень             ultra  2842.118050  23.117468   \n",
       "8         1       Кира   22  Тюмень             ultra  3412.690668  15.238072   \n",
       "9         1       Кира   22  Тюмень             ultra   748.690645  15.041884   \n",
       "10        1       Кира   22  Тюмень             ultra  4031.020195  17.674448   \n",
       "11        1       Кира   22  Тюмень             ultra  2720.609748   9.529463   \n",
       "12        2  Станислав   31    Омск             ultra  3105.086678  24.307514   \n",
       "13        2  Станислав   31    Омск             ultra  3053.519401  11.543256   \n",
       "14        2  Станислав   31    Омск             ultra  4029.116927  25.109188   \n",
       "15        2  Станислав   31    Омск             ultra  2805.786329  20.652145   \n",
       "16        2  Станислав   31    Омск             ultra  3358.595495  18.396489   \n",
       "17        2  Станислав   31    Омск             ultra  3255.338202  13.851127   \n",
       "18        2  Станислав   31    Омск             ultra  3942.817648  20.142725   \n",
       "19        2  Станислав   31    Омск             ultra  2837.905316  26.027432   \n",
       "\n",
       "         date  month  year  minute_price  start_ride_price  subscription_fee  \n",
       "0  2021-01-01      1  2021             6                 0               199  \n",
       "1  2021-01-18      1  2021             6                 0               199  \n",
       "2  2021-04-20      4  2021             6                 0               199  \n",
       "3  2021-08-11      8  2021             6                 0               199  \n",
       "4  2021-08-28      8  2021             6                 0               199  \n",
       "5  2021-10-09     10  2021             6                 0               199  \n",
       "6  2021-10-19     10  2021             6                 0               199  \n",
       "7  2021-11-06     11  2021             6                 0               199  \n",
       "8  2021-11-14     11  2021             6                 0               199  \n",
       "9  2021-11-22     11  2021             6                 0               199  \n",
       "10 2021-12-14     12  2021             6                 0               199  \n",
       "11 2021-12-22     12  2021             6                 0               199  \n",
       "12 2021-03-15      3  2021             6                 0               199  \n",
       "13 2021-03-18      3  2021             6                 0               199  \n",
       "14 2021-03-23      3  2021             6                 0               199  \n",
       "15 2021-04-08      4  2021             6                 0               199  \n",
       "16 2021-04-13      4  2021             6                 0               199  \n",
       "17 2021-06-20      6  2021             6                 0               199  \n",
       "18 2021-07-02      7  2021             6                 0               199  \n",
       "19 2021-07-18      7  2021             6                 0               199  "
      ]
     },
     "execution_count": 34,
     "metadata": {},
     "output_type": "execute_result"
    }
   ],
   "source": [
    "pd.set_option('display.max_columns', None)\n",
    "data.head(20)"
   ]
  },
  {
   "cell_type": "code",
   "execution_count": 35,
   "id": "f3b8dce0",
   "metadata": {},
   "outputs": [
    {
     "name": "stdout",
     "output_type": "stream",
     "text": [
      "<class 'pandas.core.frame.DataFrame'>\n",
      "Int64Index: 18068 entries, 0 to 18067\n",
      "Data columns (total 13 columns):\n",
      " #   Column             Non-Null Count  Dtype         \n",
      "---  ------             --------------  -----         \n",
      " 0   user_id            18068 non-null  int64         \n",
      " 1   name               18068 non-null  object        \n",
      " 2   age                18068 non-null  int64         \n",
      " 3   city               18068 non-null  object        \n",
      " 4   subscription_type  18068 non-null  object        \n",
      " 5   distance           18068 non-null  float64       \n",
      " 6   duration           18068 non-null  float64       \n",
      " 7   date               18068 non-null  datetime64[ns]\n",
      " 8   month              18068 non-null  int64         \n",
      " 9   year               18068 non-null  int64         \n",
      " 10  minute_price       18068 non-null  int64         \n",
      " 11  start_ride_price   18068 non-null  int64         \n",
      " 12  subscription_fee   18068 non-null  int64         \n",
      "dtypes: datetime64[ns](1), float64(2), int64(7), object(3)\n",
      "memory usage: 1.9+ MB\n"
     ]
    }
   ],
   "source": [
    "data.info()"
   ]
  },
  {
   "cell_type": "code",
   "execution_count": 36,
   "id": "590b9111",
   "metadata": {},
   "outputs": [
    {
     "data": {
      "text/plain": [
       "user_id              0\n",
       "name                 0\n",
       "age                  0\n",
       "city                 0\n",
       "subscription_type    0\n",
       "distance             0\n",
       "duration             0\n",
       "date                 0\n",
       "month                0\n",
       "year                 0\n",
       "minute_price         0\n",
       "start_ride_price     0\n",
       "subscription_fee     0\n",
       "dtype: int64"
      ]
     },
     "execution_count": 36,
     "metadata": {},
     "output_type": "execute_result"
    }
   ],
   "source": [
    "data.isna().sum()"
   ]
  },
  {
   "cell_type": "code",
   "execution_count": 37,
   "id": "19512c1c",
   "metadata": {},
   "outputs": [
    {
     "data": {
      "text/plain": [
       "0"
      ]
     },
     "execution_count": 37,
     "metadata": {},
     "output_type": "execute_result"
    }
   ],
   "source": [
    "data.duplicated().sum()"
   ]
  },
  {
   "cell_type": "markdown",
   "id": "ca5e2f97",
   "metadata": {},
   "source": [
    "Создали общий датафрейм Data. Проверили новую таблицу на корректность данных. Количество строк совпадает с таблицей users, типы значений указаны верно, дубликаты и пропуски не обнаружены."
   ]
  },
  {
   "cell_type": "code",
   "execution_count": 38,
   "id": "294ef3b7",
   "metadata": {},
   "outputs": [
    {
     "data": {
      "text/plain": [
       "6500"
      ]
     },
     "execution_count": 38,
     "metadata": {},
     "output_type": "execute_result"
    }
   ],
   "source": [
    "# выделим в отдельные датафрейм данные по пользователям с подпиской и без, и сравним полученные данные\n",
    "is_subscr = data.query('subscription_type == \"ultra\"')\n",
    "len(is_subscr)"
   ]
  },
  {
   "cell_type": "code",
   "execution_count": 39,
   "id": "fa5620a4",
   "metadata": {},
   "outputs": [
    {
     "data": {
      "text/plain": [
       "11568"
      ]
     },
     "execution_count": 39,
     "metadata": {},
     "output_type": "execute_result"
    }
   ],
   "source": [
    "no_subscr = data.query('subscription_type == \"free\"')\n",
    "len(no_subscr)"
   ]
  },
  {
   "cell_type": "code",
   "execution_count": 40,
   "id": "e4c2446f",
   "metadata": {},
   "outputs": [
    {
     "data": {
      "text/plain": [
       "count    6500.000000\n",
       "mean       18.541985\n",
       "std         5.572048\n",
       "min         3.760353\n",
       "25%        14.524654\n",
       "50%        18.178153\n",
       "75%        21.884129\n",
       "max        40.823963\n",
       "Name: duration, dtype: float64"
      ]
     },
     "execution_count": 40,
     "metadata": {},
     "output_type": "execute_result"
    }
   ],
   "source": [
    "is_subscr['duration'].describe()"
   ]
  },
  {
   "cell_type": "code",
   "execution_count": 41,
   "id": "ea2b1698",
   "metadata": {},
   "outputs": [
    {
     "data": {
      "text/plain": [
       "count    11568.000000\n",
       "mean        17.390909\n",
       "std          6.326803\n",
       "min          0.500000\n",
       "25%         12.958437\n",
       "50%         17.326890\n",
       "75%         21.594071\n",
       "max         34.948498\n",
       "Name: duration, dtype: float64"
      ]
     },
     "execution_count": 41,
     "metadata": {},
     "output_type": "execute_result"
    }
   ],
   "source": [
    "no_subscr['duration'].describe()"
   ]
  },
  {
   "cell_type": "code",
   "execution_count": 42,
   "id": "36c80b75",
   "metadata": {
    "scrolled": true
   },
   "outputs": [
    {
     "data": {
      "image/png": "[encoded data removed]",
      "text/plain": [
       "<Figure size 432x288 with 1 Axes>"
      ]
     },
     "metadata": {
      "needs_background": "light"
     },
     "output_type": "display_data"
    }
   ],
   "source": [
    "plt.style.use('seaborn-deep')\n",
    "\n",
    "x = is_subscr['duration']\n",
    "y = no_subscr['duration']\n",
    "bins = np.linspace(0, 50, 50)\n",
    "\n",
    "plt.hist([x, y], bins, label=['x', 'y'], density=True)\n",
    "plt.legend(loc='upper right')\n",
    "plt.show()"
   ]
  },
  {
   "cell_type": "code",
   "execution_count": 43,
   "id": "0548cc87",
   "metadata": {},
   "outputs": [
    {
     "data": {
      "text/plain": [
       "count    6500.000000\n",
       "mean     3115.445388\n",
       "std       836.895330\n",
       "min       244.210438\n",
       "25%      2785.444017\n",
       "50%      3148.637229\n",
       "75%      3560.574425\n",
       "max      5699.769662\n",
       "Name: distance, dtype: float64"
      ]
     },
     "execution_count": 43,
     "metadata": {},
     "output_type": "execute_result"
    }
   ],
   "source": [
    "is_subscr['distance'].describe()"
   ]
  },
  {
   "cell_type": "code",
   "execution_count": 44,
   "id": "75819f7f",
   "metadata": {},
   "outputs": [
    {
     "data": {
      "text/plain": [
       "count    11568.000000\n",
       "mean      3045.495282\n",
       "std       1246.173806\n",
       "min          0.855683\n",
       "25%       2366.562689\n",
       "50%       3114.648465\n",
       "75%       3905.697894\n",
       "max       7211.007745\n",
       "Name: distance, dtype: float64"
      ]
     },
     "execution_count": 44,
     "metadata": {},
     "output_type": "execute_result"
    }
   ],
   "source": [
    "no_subscr['distance'].describe()"
   ]
  },
  {
   "cell_type": "code",
   "execution_count": 45,
   "id": "ef143e9a",
   "metadata": {},
   "outputs": [
    {
     "data": {
      "image/png": "[encoded data removed]",
      "text/plain": [
       "<Figure size 432x288 with 1 Axes>"
      ]
     },
     "metadata": {
      "needs_background": "light"
     },
     "output_type": "display_data"
    }
   ],
   "source": [
    "plt.style.use('seaborn-deep')\n",
    "\n",
    "x = is_subscr['distance']\n",
    "y = no_subscr['distance']\n",
    "bins = np.linspace(0, 8000, 2000)\n",
    "\n",
    "plt.hist([x, y], bins, label=['x', 'y'], density=True)\n",
    "plt.legend(loc='upper right')\n",
    "plt.show()"
   ]
  },
  {
   "cell_type": "markdown",
   "id": "ca81bce5",
   "metadata": {},
   "source": [
    "#### Вывод:\n",
    "\n",
    "В среднем пользователь с подпиской преодолевает 3,1 км, а средняя продолжительность поездки составляет около 18,5 мин.\n",
    "Для пользователя без подписки такое расстояние равно 3 км, а время - 17 мин. Пользователи с подпиской в среднем катаются немного дольше и дальше, чем пользователи без подписки.  На графиках видно, что пользователи с подпиской (х), преобладают на пользователями без подписки (y) и по продолжительности поездки и по расстоянию. "
   ]
  },
  {
   "cell_type": "markdown",
   "id": "402d620f",
   "metadata": {},
   "source": [
    "#### Шаг 5. Подсчёт выручки"
   ]
  },
  {
   "cell_type": "code",
   "execution_count": 46,
   "id": "53049e0a",
   "metadata": {
    "scrolled": false
   },
   "outputs": [
    {
     "data": {
      "text/html": [
       "<div>\n",
       "<style scoped>\n",
       "    .dataframe tbody tr th:only-of-type {\n",
       "        vertical-align: middle;\n",
       "    }\n",
       "\n",
       "    .dataframe tbody tr th {\n",
       "        vertical-align: top;\n",
       "    }\n",
       "\n",
       "    .dataframe thead th {\n",
       "        text-align: right;\n",
       "    }\n",
       "</style>\n",
       "<table border=\"1\" class=\"dataframe\">\n",
       "  <thead>\n",
       "    <tr style=\"text-align: right;\">\n",
       "      <th></th>\n",
       "      <th></th>\n",
       "      <th>count</th>\n",
       "      <th>distance</th>\n",
       "      <th>duration</th>\n",
       "      <th>minute_price</th>\n",
       "      <th>start_ride_price</th>\n",
       "      <th>subscription_fee</th>\n",
       "      <th>subscription_type</th>\n",
       "    </tr>\n",
       "    <tr>\n",
       "      <th>user_id</th>\n",
       "      <th>month</th>\n",
       "      <th></th>\n",
       "      <th></th>\n",
       "      <th></th>\n",
       "      <th></th>\n",
       "      <th></th>\n",
       "      <th></th>\n",
       "      <th></th>\n",
       "    </tr>\n",
       "  </thead>\n",
       "  <tbody>\n",
       "    <tr>\n",
       "      <th rowspan=\"6\" valign=\"top\">1</th>\n",
       "      <th>1</th>\n",
       "      <td>2</td>\n",
       "      <td>7027.511294</td>\n",
       "      <td>42.0</td>\n",
       "      <td>6</td>\n",
       "      <td>0</td>\n",
       "      <td>199</td>\n",
       "      <td>ultra</td>\n",
       "    </tr>\n",
       "    <tr>\n",
       "      <th>4</th>\n",
       "      <td>1</td>\n",
       "      <td>754.159807</td>\n",
       "      <td>7.0</td>\n",
       "      <td>6</td>\n",
       "      <td>0</td>\n",
       "      <td>199</td>\n",
       "      <td>ultra</td>\n",
       "    </tr>\n",
       "    <tr>\n",
       "      <th>8</th>\n",
       "      <td>2</td>\n",
       "      <td>6723.470560</td>\n",
       "      <td>46.0</td>\n",
       "      <td>6</td>\n",
       "      <td>0</td>\n",
       "      <td>199</td>\n",
       "      <td>ultra</td>\n",
       "    </tr>\n",
       "    <tr>\n",
       "      <th>10</th>\n",
       "      <td>2</td>\n",
       "      <td>5809.911100</td>\n",
       "      <td>32.0</td>\n",
       "      <td>6</td>\n",
       "      <td>0</td>\n",
       "      <td>199</td>\n",
       "      <td>ultra</td>\n",
       "    </tr>\n",
       "    <tr>\n",
       "      <th>11</th>\n",
       "      <td>3</td>\n",
       "      <td>7003.499363</td>\n",
       "      <td>56.0</td>\n",
       "      <td>6</td>\n",
       "      <td>0</td>\n",
       "      <td>199</td>\n",
       "      <td>ultra</td>\n",
       "    </tr>\n",
       "    <tr>\n",
       "      <th>12</th>\n",
       "      <td>2</td>\n",
       "      <td>6751.629942</td>\n",
       "      <td>28.0</td>\n",
       "      <td>6</td>\n",
       "      <td>0</td>\n",
       "      <td>199</td>\n",
       "      <td>ultra</td>\n",
       "    </tr>\n",
       "    <tr>\n",
       "      <th rowspan=\"7\" valign=\"top\">2</th>\n",
       "      <th>3</th>\n",
       "      <td>3</td>\n",
       "      <td>10187.723006</td>\n",
       "      <td>63.0</td>\n",
       "      <td>6</td>\n",
       "      <td>0</td>\n",
       "      <td>199</td>\n",
       "      <td>ultra</td>\n",
       "    </tr>\n",
       "    <tr>\n",
       "      <th>4</th>\n",
       "      <td>2</td>\n",
       "      <td>6164.381824</td>\n",
       "      <td>40.0</td>\n",
       "      <td>6</td>\n",
       "      <td>0</td>\n",
       "      <td>199</td>\n",
       "      <td>ultra</td>\n",
       "    </tr>\n",
       "    <tr>\n",
       "      <th>6</th>\n",
       "      <td>1</td>\n",
       "      <td>3255.338202</td>\n",
       "      <td>14.0</td>\n",
       "      <td>6</td>\n",
       "      <td>0</td>\n",
       "      <td>199</td>\n",
       "      <td>ultra</td>\n",
       "    </tr>\n",
       "    <tr>\n",
       "      <th>7</th>\n",
       "      <td>2</td>\n",
       "      <td>6780.722964</td>\n",
       "      <td>48.0</td>\n",
       "      <td>6</td>\n",
       "      <td>0</td>\n",
       "      <td>199</td>\n",
       "      <td>ultra</td>\n",
       "    </tr>\n",
       "    <tr>\n",
       "      <th>8</th>\n",
       "      <td>1</td>\n",
       "      <td>923.007439</td>\n",
       "      <td>7.0</td>\n",
       "      <td>6</td>\n",
       "      <td>0</td>\n",
       "      <td>199</td>\n",
       "      <td>ultra</td>\n",
       "    </tr>\n",
       "    <tr>\n",
       "      <th>10</th>\n",
       "      <td>1</td>\n",
       "      <td>2824.636598</td>\n",
       "      <td>19.0</td>\n",
       "      <td>6</td>\n",
       "      <td>0</td>\n",
       "      <td>199</td>\n",
       "      <td>ultra</td>\n",
       "    </tr>\n",
       "    <tr>\n",
       "      <th>12</th>\n",
       "      <td>1</td>\n",
       "      <td>3828.248580</td>\n",
       "      <td>12.0</td>\n",
       "      <td>6</td>\n",
       "      <td>0</td>\n",
       "      <td>199</td>\n",
       "      <td>ultra</td>\n",
       "    </tr>\n",
       "    <tr>\n",
       "      <th rowspan=\"7\" valign=\"top\">3</th>\n",
       "      <th>1</th>\n",
       "      <td>1</td>\n",
       "      <td>3061.777147</td>\n",
       "      <td>13.0</td>\n",
       "      <td>6</td>\n",
       "      <td>0</td>\n",
       "      <td>199</td>\n",
       "      <td>ultra</td>\n",
       "    </tr>\n",
       "    <tr>\n",
       "      <th>2</th>\n",
       "      <td>2</td>\n",
       "      <td>5421.152016</td>\n",
       "      <td>39.0</td>\n",
       "      <td>6</td>\n",
       "      <td>0</td>\n",
       "      <td>199</td>\n",
       "      <td>ultra</td>\n",
       "    </tr>\n",
       "    <tr>\n",
       "      <th>4</th>\n",
       "      <td>1</td>\n",
       "      <td>2956.651632</td>\n",
       "      <td>21.0</td>\n",
       "      <td>6</td>\n",
       "      <td>0</td>\n",
       "      <td>199</td>\n",
       "      <td>ultra</td>\n",
       "    </tr>\n",
       "    <tr>\n",
       "      <th>5</th>\n",
       "      <td>3</td>\n",
       "      <td>9064.026918</td>\n",
       "      <td>63.0</td>\n",
       "      <td>6</td>\n",
       "      <td>0</td>\n",
       "      <td>199</td>\n",
       "      <td>ultra</td>\n",
       "    </tr>\n",
       "    <tr>\n",
       "      <th>7</th>\n",
       "      <td>3</td>\n",
       "      <td>10919.595403</td>\n",
       "      <td>67.0</td>\n",
       "      <td>6</td>\n",
       "      <td>0</td>\n",
       "      <td>199</td>\n",
       "      <td>ultra</td>\n",
       "    </tr>\n",
       "    <tr>\n",
       "      <th>9</th>\n",
       "      <td>1</td>\n",
       "      <td>2891.012822</td>\n",
       "      <td>23.0</td>\n",
       "      <td>6</td>\n",
       "      <td>0</td>\n",
       "      <td>199</td>\n",
       "      <td>ultra</td>\n",
       "    </tr>\n",
       "    <tr>\n",
       "      <th>12</th>\n",
       "      <td>1</td>\n",
       "      <td>2593.381928</td>\n",
       "      <td>13.0</td>\n",
       "      <td>6</td>\n",
       "      <td>0</td>\n",
       "      <td>199</td>\n",
       "      <td>ultra</td>\n",
       "    </tr>\n",
       "  </tbody>\n",
       "</table>\n",
       "</div>"
      ],
      "text/plain": [
       "               count      distance  duration  minute_price  start_ride_price  \\\n",
       "user_id month                                                                  \n",
       "1       1          2   7027.511294      42.0             6                 0   \n",
       "        4          1    754.159807       7.0             6                 0   \n",
       "        8          2   6723.470560      46.0             6                 0   \n",
       "        10         2   5809.911100      32.0             6                 0   \n",
       "        11         3   7003.499363      56.0             6                 0   \n",
       "        12         2   6751.629942      28.0             6                 0   \n",
       "2       3          3  10187.723006      63.0             6                 0   \n",
       "        4          2   6164.381824      40.0             6                 0   \n",
       "        6          1   3255.338202      14.0             6                 0   \n",
       "        7          2   6780.722964      48.0             6                 0   \n",
       "        8          1    923.007439       7.0             6                 0   \n",
       "        10         1   2824.636598      19.0             6                 0   \n",
       "        12         1   3828.248580      12.0             6                 0   \n",
       "3       1          1   3061.777147      13.0             6                 0   \n",
       "        2          2   5421.152016      39.0             6                 0   \n",
       "        4          1   2956.651632      21.0             6                 0   \n",
       "        5          3   9064.026918      63.0             6                 0   \n",
       "        7          3  10919.595403      67.0             6                 0   \n",
       "        9          1   2891.012822      23.0             6                 0   \n",
       "        12         1   2593.381928      13.0             6                 0   \n",
       "\n",
       "               subscription_fee subscription_type  \n",
       "user_id month                                      \n",
       "1       1                   199             ultra  \n",
       "        4                   199             ultra  \n",
       "        8                   199             ultra  \n",
       "        10                  199             ultra  \n",
       "        11                  199             ultra  \n",
       "        12                  199             ultra  \n",
       "2       3                   199             ultra  \n",
       "        4                   199             ultra  \n",
       "        6                   199             ultra  \n",
       "        7                   199             ultra  \n",
       "        8                   199             ultra  \n",
       "        10                  199             ultra  \n",
       "        12                  199             ultra  \n",
       "3       1                   199             ultra  \n",
       "        2                   199             ultra  \n",
       "        4                   199             ultra  \n",
       "        5                   199             ultra  \n",
       "        7                   199             ultra  \n",
       "        9                   199             ultra  \n",
       "        12                  199             ultra  "
      ]
     },
     "execution_count": 46,
     "metadata": {},
     "output_type": "execute_result"
    }
   ],
   "source": [
    "# создадим сводную таблицу с разбивкой данных по пользователям и месяцам\n",
    "data['duration'] = np.ceil(data['duration']) \n",
    "\n",
    "data_monthly = (\n",
    "    data.pivot_table(index=['user_id', 'month'], \n",
    "                     values=['subscription_type', 'distance', 'duration', 'start_ride_price', 'minute_price', 'subscription_fee'], \n",
    "                     aggfunc=({'subscription_type': 'first', 'distance': {'count', 'sum'}, 'duration': 'sum', 'minute_price': 'mean', 'start_ride_price': 'mean', \n",
    "                                'subscription_fee': 'mean'}))\n",
    ")\n",
    "data_monthly.columns = ['count', 'distance', 'duration', 'minute_price', 'start_ride_price', 'subscription_fee', 'subscription_type']\n",
    "\n",
    "data_monthly.head(20)"
   ]
  },
  {
   "cell_type": "code",
   "execution_count": 47,
   "id": "03e3791e",
   "metadata": {
    "scrolled": false
   },
   "outputs": [],
   "source": [
    "# добавим столбец с ежемесяччной прибылью по пользователям\n",
    "data_monthly['profit'] = (\n",
    "data_monthly['start_ride_price'] * data_monthly['count'] + data_monthly['minute_price'] \n",
    "* data_monthly['duration'] + data_monthly['subscription_fee'])"
   ]
  },
  {
   "cell_type": "code",
   "execution_count": 48,
   "id": "e9eec53d",
   "metadata": {},
   "outputs": [
    {
     "data": {
      "text/plain": [
       "month\n",
       "1     337958.0\n",
       "2     290428.0\n",
       "3     329822.0\n",
       "4     322916.0\n",
       "5     337265.0\n",
       "6     335978.0\n",
       "7     328504.0\n",
       "8     325650.0\n",
       "9     323037.0\n",
       "10    315360.0\n",
       "11    305622.0\n",
       "12    326101.0\n",
       "Name: profit, dtype: float64"
      ]
     },
     "execution_count": 48,
     "metadata": {},
     "output_type": "execute_result"
    }
   ],
   "source": [
    "# посмотрим общую прибыль за каждый месяц\n",
    "data_monthly.groupby('month')['profit'].sum()"
   ]
  },
  {
   "cell_type": "markdown",
   "id": "975dfb67",
   "metadata": {},
   "source": [
    "#### Вывод:\n",
    "\n",
    "Из полученных данных видно, что по отдельно взятому пользователю траты на поездки через приложение могут отличаться в разы в зависимости от месяца. \n",
    "Общая прибыль приложения в зависимости от месяца также немного вариативна.\n",
    "Самым прибыльным стал январь, когда приложение заработало 337 958,00 рублей. А меньше всего принес февраль с прибылью - 290 428,00 рублей. "
   ]
  },
  {
   "cell_type": "markdown",
   "id": "41545ac0",
   "metadata": {},
   "source": [
    "#### Шаг 6. Проверка гипотез"
   ]
  },
  {
   "cell_type": "markdown",
   "id": "4e09d918",
   "metadata": {},
   "source": [
    "Проверим несколько утверждений продакт-менеджеров сервиса:\n",
    "\n",
    "1) Пользователи с подпиской тратят больше времени на поездки, чем пользователи без подписки.\n",
    "\n",
    "2) Расстояние, которое проезжают пользователи с подпиской за одну поездку, не превышает 3130 метров.\n",
    "\n",
    "3) Помесячная выручка от пользователей с подпиской по месяцам выше, чем выручка от пользователей без подписки.\n",
    "\n",
    "4) После обновления серверов количество обращений в техподдержку значимо снизилось."
   ]
  },
  {
   "cell_type": "markdown",
   "id": "24f5b5f1",
   "metadata": {},
   "source": [
    "Сформулируем гипотезу по первому утверждению и проверим ее:\n",
    "\n",
    "Н0 = время поездки для пользователей с подпиской и без совпадает\n",
    "\n",
    "Н1 = время поездки пользователей с подпиской больше, чем пользователей без подписки. Соответственно, пользователи с подпиской приносят больше прибыли "
   ]
  },
  {
   "cell_type": "code",
   "execution_count": 49,
   "id": "23ea867b",
   "metadata": {},
   "outputs": [
    {
     "data": {
      "text/plain": [
       "'среднее время поездки пользователей с подпиской: 18.54198516280583'"
      ]
     },
     "execution_count": 49,
     "metadata": {},
     "output_type": "execute_result"
    }
   ],
   "source": [
    "sample1 = is_subscr['duration']\n",
    "(f'среднее время поездки пользователей с подпиской: {np.mean(sample1)}')"
   ]
  },
  {
   "cell_type": "code",
   "execution_count": 50,
   "id": "7a80c46d",
   "metadata": {},
   "outputs": [
    {
     "data": {
      "text/plain": [
       "'среднее время поездки пользователей без подписки: 17.39090929866399'"
      ]
     },
     "execution_count": 50,
     "metadata": {},
     "output_type": "execute_result"
    }
   ],
   "source": [
    "sample2 = no_subscr['duration']\n",
    "(f'среднее время поездки пользователей без подписки: {np.mean(sample2)}')"
   ]
  },
  {
   "cell_type": "code",
   "execution_count": 51,
   "id": "abf08794",
   "metadata": {},
   "outputs": [
    {
     "data": {
      "text/plain": [
       "('p-значение:', 1.2804098316645618e-34)"
      ]
     },
     "execution_count": 51,
     "metadata": {},
     "output_type": "execute_result"
    }
   ],
   "source": [
    "alpha = 0.05\n",
    "\n",
    "results = st.ttest_ind(\n",
    "    sample1,\n",
    "    sample2,\n",
    "    alternative='greater')\n",
    "\n",
    "'p-значение:', results.pvalue "
   ]
  },
  {
   "cell_type": "code",
   "execution_count": 52,
   "id": "2fb28f78",
   "metadata": {},
   "outputs": [
    {
     "name": "stdout",
     "output_type": "stream",
     "text": [
      "Отвергаем нулевую гипотезу, т.к. есть основания утверждать, что пользователи с подпиской, действительно, в среднем катаются дольше и, как результат, приносят приложению большую прибыль, чем пользователи без подписки\n"
     ]
    }
   ],
   "source": [
    "if results.pvalue < alpha:\n",
    "    print('Отвергаем нулевую гипотезу, т.к. есть основания утверждать, что пользователи с подпиской, действительно, в среднем катаются дольше и, как результат, приносят приложению большую прибыль, чем пользователи без подписки')\n",
    "else:\n",
    "    print('Не получилось отвергнуть нулевую гипотезу')"
   ]
  },
  {
   "cell_type": "markdown",
   "id": "bcd5ac6c",
   "metadata": {},
   "source": [
    "Сформулируем гипотезу по второму утверждению и проверим ее:\n",
    "\n",
    "Н0 = пользователи с подпиской за одну поездку проезжают 3130 м. Расстояние одной поездки являеется оптимальным с точки зрения износа самоката\n",
    "\n",
    "Н1 = пользователи с подпиской за одну поездку проезжают больше 3130 м. Расстояние одной поездки превышает оптимальное с точки зрения износа самоката "
   ]
  },
  {
   "cell_type": "code",
   "execution_count": 53,
   "id": "fd9a38c2",
   "metadata": {},
   "outputs": [
    {
     "data": {
      "text/plain": [
       "'среднее расстояние поездки пользователей с подпиской: 3115.4453880370247'"
      ]
     },
     "execution_count": 53,
     "metadata": {},
     "output_type": "execute_result"
    }
   ],
   "source": [
    "sample3 = is_subscr['distance']\n",
    "(f'среднее расстояние поездки пользователей с подпиской: {np.mean(sample3)}')"
   ]
  },
  {
   "cell_type": "code",
   "execution_count": 54,
   "id": "3a9499ad",
   "metadata": {},
   "outputs": [
    {
     "data": {
      "text/plain": [
       "('p-значение:', 0.9195368847849785)"
      ]
     },
     "execution_count": 54,
     "metadata": {},
     "output_type": "execute_result"
    }
   ],
   "source": [
    "value = 3130\n",
    "\n",
    "alpha = 0.05\n",
    "\n",
    "results2 = st.ttest_1samp(\n",
    "           sample3, value,\n",
    "           alternative='greater')\n",
    "\n",
    "'p-значение:', results2.pvalue"
   ]
  },
  {
   "cell_type": "code",
   "execution_count": 55,
   "id": "1757e7f2",
   "metadata": {},
   "outputs": [
    {
     "name": "stdout",
     "output_type": "stream",
     "text": [
      "Не получилось отвергнуть нулевую гипотезу, т.к. есть основания утверждать, что расстояние одной поездки пользователя с подпиской являеется оптимальным с точки зрения износа самоката\n"
     ]
    }
   ],
   "source": [
    "if results2.pvalue < alpha:\n",
    "    print('Отвергаем нулевую гипотезу, т.к. есть основания утверждать, что расстояние одной поездки пользователя с подпиской не являеется оптимальным с точки зрения износа самоката')\n",
    "else:\n",
    "    print('Не получилось отвергнуть нулевую гипотезу, т.к. есть основания утверждать, что расстояние одной поездки пользователя с подпиской являеется оптимальным с точки зрения износа самоката')"
   ]
  },
  {
   "cell_type": "markdown",
   "id": "ad84e495",
   "metadata": {},
   "source": [
    "Сформулируем гипотезу по третьему утверждению и проверим ее:\n",
    "\n",
    "Н0 = помесячная выручка от пользователей с подпиской равна выручке от пользователей без подписки \n",
    "\n",
    "Н1 = выручка от пользователей с подпиской выше, чем выручка от пользователей без подписки. Подписка приносит больший доход."
   ]
  },
  {
   "cell_type": "code",
   "execution_count": 56,
   "id": "8c59edfa",
   "metadata": {},
   "outputs": [
    {
     "data": {
      "text/plain": [
       "('p-значение:', 1.8850394384715216e-31)"
      ]
     },
     "execution_count": 56,
     "metadata": {},
     "output_type": "execute_result"
    }
   ],
   "source": [
    "alpha = 0.05\n",
    "\n",
    "results3 = st.ttest_ind(data_monthly[data_monthly['subscription_type'] == \"ultra\"]['profit'],\n",
    "                        data_monthly[data_monthly['subscription_type'] == \"free\"]['profit'],\n",
    "                        alternative='greater')\n",
    "\n",
    "'p-значение:', results3.pvalue "
   ]
  },
  {
   "cell_type": "code",
   "execution_count": 57,
   "id": "e0d94541",
   "metadata": {},
   "outputs": [
    {
     "name": "stdout",
     "output_type": "stream",
     "text": [
      "Отвергаем нулевую гипотезу, т.к. есть основания утверждать, что выручка от пользователей с подпиской выше, чем выручка от пользователей без подписки. Подписка приносит больший доход.\n"
     ]
    }
   ],
   "source": [
    "if results.pvalue < alpha:\n",
    "    print('Отвергаем нулевую гипотезу, т.к. есть основания утверждать, что выручка от пользователей с подпиской выше, чем выручка от пользователей без подписки. Подписка приносит больший доход.')\n",
    "else:\n",
    "    print('Не получилось отвергнуть нулевую гипотезу, маловероятно, что подписка приносит больший доход')"
   ]
  },
  {
   "cell_type": "markdown",
   "id": "404e9cee",
   "metadata": {},
   "source": [
    "Если бы мы подтверждали гипотезу по четвертому утверждению:\n",
    "\n",
    "Н0 = количество обращений в тех поддержку после обновления сервера равно количеству обращений до\n",
    "\n",
    "Н1 = после обновления сервера количество обращений в тех поддержку снизилось\n",
    "\n",
    "То мы бы использовали двухвыборочный t-тест для зависимых выборок - st.ttest_rel() "
   ]
  },
  {
   "cell_type": "markdown",
   "id": "5b558ffe",
   "metadata": {},
   "source": [
    "#### Вывод:\n",
    "\n",
    "Результаты проверки гипотез показали, что все предположения менеджеров скорее всего верны."
   ]
  },
  {
   "cell_type": "markdown",
   "id": "61213c5e",
   "metadata": {},
   "source": [
    "#### Шаг 7. Распределения"
   ]
  },
  {
   "cell_type": "code",
   "execution_count": 58,
   "id": "95cd1d51",
   "metadata": {},
   "outputs": [
    {
     "data": {
      "text/plain": [
       "1161"
      ]
     },
     "execution_count": 58,
     "metadata": {},
     "output_type": "execute_result"
    }
   ],
   "source": [
    "# задача 1\n",
    "from math import sqrt\n",
    "from scipy.stats import binom, norm\n",
    "\n",
    "n = 1000\n",
    "p = 0.1\n",
    "k = 99\n",
    "cdf = 0.05\n",
    "\n",
    "while cdf <= binom.cdf(k, n, p):\n",
    "    n += 1\n",
    "\n",
    "n"
   ]
  },
  {
   "cell_type": "code",
   "execution_count": 59,
   "id": "e2a4953d",
   "metadata": {},
   "outputs": [
    {
     "name": "stderr",
     "output_type": "stream",
     "text": [
      "/opt/conda/lib/python3.9/site-packages/scipy/stats/_discrete_distns.py:78: RuntimeWarning: divide by zero encountered in _binom_pdf\n",
      "  return _boost._binom_pdf(x, n, p)\n"
     ]
    },
    {
     "data": {
      "image/png": "[encoded data removed]",
      "text/plain": [
       "<Figure size 432x288 with 1 Axes>"
      ]
     },
     "metadata": {
      "needs_background": "light"
     },
     "output_type": "display_data"
    }
   ],
   "source": [
    "distr = []\n",
    "\n",
    "for k in range(0, n + 1):\n",
    "    current_value = binom.pmf(k, n, p)\n",
    "    distr.append(current_value)\n",
    "    \n",
    "plt.bar(range(0, n + 1), distr);"
   ]
  },
  {
   "cell_type": "markdown",
   "id": "42d05dca",
   "metadata": {},
   "source": [
    "#### Вывод:\n",
    "\n",
    "Чтобы вероятность не выполнить план была около 5%, необходимо разослать 1161 промокод"
   ]
  },
  {
   "cell_type": "code",
   "execution_count": 60,
   "id": "2ef109c1",
   "metadata": {},
   "outputs": [
    {
     "data": {
      "text/plain": [
       "0.15371708296369768"
      ]
     },
     "execution_count": 60,
     "metadata": {},
     "output_type": "execute_result"
    }
   ],
   "source": [
    "# задача 2\n",
    "n = 1000000\n",
    "p = 0.4\n",
    "\n",
    "mu = n * p \n",
    "sigma = sqrt(n * p * (1 - p))\n",
    "\n",
    "distr3 = st.norm(mu, sigma)\n",
    "    \n",
    "result = distr3.cdf(399500)\n",
    "result"
   ]
  },
  {
   "cell_type": "markdown",
   "id": "1ca08b38",
   "metadata": {},
   "source": [
    "#### Вывод:\n",
    "\n",
    "Вероятность того, что уведомление откроют не более 399,5 тыс. пользователей равна 15,37%"
   ]
  },
  {
   "cell_type": "markdown",
   "id": "63f0f01a",
   "metadata": {},
   "source": [
    "#### Общий вывод\n",
    "\n",
    "Для исследования были переданы данные сервиса аренды самокатов GoFast о некоторых пользователях из нескольких городов, а также об их поездках. \n",
    "\n",
    "Цель исследования - проанализировать предоставленные данные и проверить некоторые гипотезы, которые могут помочь бизнесу вырасти.\n",
    "\n",
    "Ознакомившись с таблицами пришли к следующим выводам:\n",
    "\n",
    "- В выборке данных представлены данные о работе приложения GoFast в 8 городах России. Разница в количистве пользователей не велика и в основном укладывается в промежуток из 50 пользователей. Наиболее популярно приложение в городе Пятигорск, а наименее - в Москве.\n",
    "\n",
    "- Разница между пользователями с подпиской и без составляет всего 8,8% в пользу первых. Такая небольшая разница позволит корректно сравнивать две группы пользователей и проверять гипотезы. \n",
    "\n",
    "- Медианный возраст пользователей равен 25 годам, а наибольшая часть пользователей расположилась в отрезке от примерно 22 до 27 лет. Очень редко сервисом пользуются в возрасте младше 13 и старше 37 лет. \n",
    "\n",
    "- Медианное значение расстояния поездки равно около 3,1 км, при этом большая часть поездок совершается на дистанции от 2,5 до 3,9 км. Данные содержат большое количество выбросов единичных значений в промежутке до 900 м и более 5,6 км. \n",
    "\n",
    "Рассмотрели скорость передвижения для аномально быстрых поездок до 5 мин, она составила в среднем 213,83 км.ч. Электросамокат технически не может развить такую скорость, это подтверждает ошибку в данных. Для сравнения расчитали среднюю скорость для прогулок с медианной продолжительностью - 15-20 мин. Скорость оказалась небольшой - 10,73 км в час, на такой скорости скорее всего самокат используется для прогулок, вероятно, с остановками.\n",
    "\n",
    "- Медианное значение продолжительности поездки составляет около 17,5 мин, при этом большая часть поездок завершается в течение  13-22 мин. Данные содержат большое количество выбросов единичных значений в верхнем промежутке более 33 мин. и небольшое количество выбросов около 0 мин., когда либо произошел технический сбой, либо поездка не была совершена.  \n",
    "\n",
    "Таким образом, анализ данных показал, что чаще всего клиентами приложения становятся пользователи без подписки, использующие приложение в г. Пятигорск, в возрасте 25 лет. Наиболее популярными оказались поездки на 3,1 км и по 17,5 мин.\n",
    "\n",
    "Далее, возник вопрос: есть ли разница в характеристиках поездки пользователя с подпиской и без поддписки?\n",
    "Чтобы ответить на данный вопрос сравнили продолжительность и расстояние поездок данных категорий пользователей и пришли к следующему выводу: в среднем пользователь с подпиской преодолевает 3,1 км, а средняя продолжительность поездки составляет около 18,5 мин. Для пользователя без подписки такое расстояние равно 3 км, а время - 17 мин. Пользователи с подпиской в среднем катаются немного дольше и дальше, чем пользователи без подписки. \n",
    "\n",
    "\n",
    "Исследовали размер выручки по пользователям и месяцам.  Обнаружили, что по отдельно взятому пользователю траты на поездки через приложение могут отличаться в разы в зависимости от месяца. Общая прибыль приложения в зависимости от месяца также немного вариативна. Самым прибыльным стал январь, когда приложение заработало 337 958,00 рублей. А меньше всего принес февраль с прибылью - 290 428,00 рублей. \n",
    "\n",
    "\n",
    "Проверили несколько утверждений продакт-менеджеров сервиса:\n",
    "\n",
    "1) Пользователи с подпиской тратят больше времени на поездки, чем пользователи без подписки.\n",
    "\n",
    "2) Расстояние, которое проезжают пользователи с подпиской за одну поездку, не превышает 3130 метров.\n",
    "\n",
    "3) Помесячная выручка от пользователей с подпиской по месяцам выше, чем выручка от пользователей без подписки.\n",
    "\n",
    "\n",
    "Сформулировали гипотезу по первому утверждению и проверли ее:\n",
    "Н0 = время поездки для пользователей с подпиской и без совпадает.\n",
    "Н1 = время поездки пользователей с подпиской больше, чем пользователей без подписки. Соответственно, пользователи с подпиской приносят больше прибыли.\n",
    "\n",
    "Отвергли нулевую гипотезу, т.к. есть основания утверждать, что пользователи с подпиской, действительно, в среднем катаются дольше и как результат приносят приложению большую прибыль, чем пользователи без подписки.\n",
    "\n",
    "\n",
    "\n",
    "Сформулировали гипотезу по второму утверждению и проверили ее:\n",
    "Н0 = пользователи с подпиской за одну поездку проезжают 3130 м. Расстояние одной поездки являеется оптимальным с точки зрения износа самоката.\n",
    "Н1 = пользователи с подпиской за одну поездку проезжают больше 3130 м. Расстояние одной поездки превышает оптимальное с точки зрения износа самоката.\n",
    "\n",
    "Не получилось отвергнуть нулевую гипотезу, т.к. есть основания утверждать, что расстояние одной поездки пользователя с подпиской являеется оптимальным с точки зрения износа самоката.\n",
    "\n",
    "\n",
    "\n",
    "Сформулировали гипотезу по третьему утверждению и проверили ее:\n",
    "Н0 = помесячная выручка от пользователей с подпиской равна выручке от пользователей без подписки.\n",
    "Н1 = выручка от пользователей с подпиской выше, чем выручка от пользователей без подписки. Подписка приносит больший доход.\n",
    "\n",
    "Отвергаем нулевую гипотезу, т.к. есть основания утверждать, что выручка от пользователей с подпиской выше, чем выручка от пользователей без подписки. Подписка приносит больший доход.\n",
    "\n",
    "Таким образом, все предположения менеджеров скорее всего верны."
   ]
  }
 ],
 "metadata": {
  "ExecuteTimeLog": [
   {
    "duration": 1147,
    "start_time": "2024-04-16T09:48:02.654Z"
   },
   {
    "duration": 270,
    "start_time": "2024-04-16T09:48:03.803Z"
   },
   {
    "duration": 13,
    "start_time": "2024-04-16T09:48:04.075Z"
   },
   {
    "duration": 9,
    "start_time": "2024-04-16T09:48:04.090Z"
   },
   {
    "duration": 11,
    "start_time": "2024-04-16T09:48:04.101Z"
   },
   {
    "duration": 12,
    "start_time": "2024-04-16T09:48:04.113Z"
   },
   {
    "duration": 9,
    "start_time": "2024-04-16T09:48:04.126Z"
   },
   {
    "duration": 7,
    "start_time": "2024-04-16T09:48:04.136Z"
   },
   {
    "duration": 7,
    "start_time": "2024-04-16T09:48:04.145Z"
   },
   {
    "duration": 4,
    "start_time": "2024-04-16T09:48:04.155Z"
   },
   {
    "duration": 7,
    "start_time": "2024-04-16T09:48:04.160Z"
   },
   {
    "duration": 11,
    "start_time": "2024-04-16T09:48:04.169Z"
   },
   {
    "duration": 6,
    "start_time": "2024-04-16T09:48:04.182Z"
   },
   {
    "duration": 33,
    "start_time": "2024-04-16T09:48:04.189Z"
   },
   {
    "duration": 8,
    "start_time": "2024-04-16T09:48:04.224Z"
   },
   {
    "duration": 197,
    "start_time": "2024-04-16T09:48:04.234Z"
   },
   {
    "duration": 6,
    "start_time": "2024-04-16T09:48:04.432Z"
   },
   {
    "duration": 90,
    "start_time": "2024-04-16T09:48:04.439Z"
   },
   {
    "duration": 7,
    "start_time": "2024-04-16T09:48:04.531Z"
   },
   {
    "duration": 108,
    "start_time": "2024-04-16T09:48:04.539Z"
   },
   {
    "duration": 8,
    "start_time": "2024-04-16T09:48:04.649Z"
   },
   {
    "duration": 144,
    "start_time": "2024-04-16T09:48:04.658Z"
   },
   {
    "duration": 11,
    "start_time": "2024-04-16T09:48:04.804Z"
   },
   {
    "duration": 119,
    "start_time": "2024-04-16T09:48:04.817Z"
   },
   {
    "duration": 10,
    "start_time": "2024-04-16T09:48:04.938Z"
   },
   {
    "duration": 22,
    "start_time": "2024-04-16T09:48:04.950Z"
   },
   {
    "duration": 11,
    "start_time": "2024-04-16T09:48:04.974Z"
   },
   {
    "duration": 111,
    "start_time": "2024-04-16T09:48:05.015Z"
   },
   {
    "duration": 8,
    "start_time": "2024-04-16T09:48:05.127Z"
   },
   {
    "duration": 118,
    "start_time": "2024-04-16T09:48:05.137Z"
   },
   {
    "duration": 8,
    "start_time": "2024-04-16T09:48:05.256Z"
   },
   {
    "duration": 8,
    "start_time": "2024-04-16T09:48:05.265Z"
   },
   {
    "duration": 143,
    "start_time": "2024-04-16T09:48:05.274Z"
   },
   {
    "duration": 9,
    "start_time": "2024-04-16T09:48:05.418Z"
   },
   {
    "duration": 125,
    "start_time": "2024-04-16T09:48:05.428Z"
   },
   {
    "duration": 8,
    "start_time": "2024-04-16T09:48:05.555Z"
   },
   {
    "duration": 59,
    "start_time": "2024-04-16T09:48:05.564Z"
   },
   {
    "duration": 20,
    "start_time": "2024-04-16T09:48:05.624Z"
   },
   {
    "duration": 6,
    "start_time": "2024-04-16T09:48:05.646Z"
   },
   {
    "duration": 6,
    "start_time": "2024-04-16T09:48:05.653Z"
   },
   {
    "duration": 19,
    "start_time": "2024-04-16T09:48:05.660Z"
   },
   {
    "duration": 15,
    "start_time": "2024-04-16T09:48:05.681Z"
   },
   {
    "duration": 4,
    "start_time": "2024-04-16T09:48:05.698Z"
   },
   {
    "duration": 6,
    "start_time": "2024-04-16T09:48:05.715Z"
   },
   {
    "duration": 6,
    "start_time": "2024-04-16T09:48:05.722Z"
   },
   {
    "duration": 21,
    "start_time": "2024-04-16T09:48:05.729Z"
   },
   {
    "duration": 16,
    "start_time": "2024-04-16T09:48:05.751Z"
   },
   {
    "duration": 31,
    "start_time": "2024-04-16T09:48:05.769Z"
   },
   {
    "duration": 18,
    "start_time": "2024-04-16T09:48:05.802Z"
   },
   {
    "duration": 7,
    "start_time": "2024-04-16T09:48:05.822Z"
   },
   {
    "duration": 6,
    "start_time": "2024-04-16T09:48:05.831Z"
   },
   {
    "duration": 1811,
    "start_time": "2024-04-16T09:48:05.838Z"
   },
   {
    "duration": 6,
    "start_time": "2024-04-16T09:48:07.651Z"
   },
   {
    "duration": 17,
    "start_time": "2024-04-16T09:48:07.658Z"
   },
   {
    "duration": 91,
    "start_time": "2024-04-16T09:48:07.676Z"
   },
   {
    "duration": 170,
    "start_time": "2024-04-16T11:03:45.080Z"
   },
   {
    "duration": 23,
    "start_time": "2024-04-16T11:07:37.754Z"
   },
   {
    "duration": 9,
    "start_time": "2024-04-16T11:15:06.972Z"
   },
   {
    "duration": 19,
    "start_time": "2024-04-16T11:17:04.566Z"
   },
   {
    "duration": 9,
    "start_time": "2024-04-16T11:17:07.157Z"
   },
   {
    "duration": 20,
    "start_time": "2024-04-16T11:17:44.259Z"
   },
   {
    "duration": 10,
    "start_time": "2024-04-16T11:17:46.606Z"
   },
   {
    "duration": 49,
    "start_time": "2024-04-16T11:17:50.093Z"
   },
   {
    "duration": 20,
    "start_time": "2024-04-16T11:17:52.493Z"
   },
   {
    "duration": 11,
    "start_time": "2024-04-16T11:17:54.694Z"
   },
   {
    "duration": 49,
    "start_time": "2024-04-16T11:18:55.526Z"
   },
   {
    "duration": 20,
    "start_time": "2024-04-16T11:18:57.479Z"
   },
   {
    "duration": 9,
    "start_time": "2024-04-16T11:18:59.374Z"
   },
   {
    "duration": 61,
    "start_time": "2024-04-16T11:19:13.671Z"
   },
   {
    "duration": 57,
    "start_time": "2024-04-16T11:19:51.942Z"
   },
   {
    "duration": 55,
    "start_time": "2024-04-16T11:19:57.414Z"
   },
   {
    "duration": 20,
    "start_time": "2024-04-16T11:19:59.598Z"
   },
   {
    "duration": 10,
    "start_time": "2024-04-16T11:20:01.334Z"
   },
   {
    "duration": 105,
    "start_time": "2024-04-16T11:21:43.830Z"
   },
   {
    "duration": 34,
    "start_time": "2024-04-16T11:21:58.839Z"
   },
   {
    "duration": 21,
    "start_time": "2024-04-16T11:22:05.415Z"
   },
   {
    "duration": 9,
    "start_time": "2024-04-16T11:22:07.038Z"
   },
   {
    "duration": 32,
    "start_time": "2024-04-16T11:22:56.231Z"
   },
   {
    "duration": 45,
    "start_time": "2024-04-16T11:23:02.431Z"
   },
   {
    "duration": 43,
    "start_time": "2024-04-16T11:23:13.974Z"
   },
   {
    "duration": 791,
    "start_time": "2024-04-16T11:23:19.267Z"
   },
   {
    "duration": 20,
    "start_time": "2024-04-16T11:23:30.509Z"
   },
   {
    "duration": 9,
    "start_time": "2024-04-16T11:23:32.046Z"
   },
   {
    "duration": 797,
    "start_time": "2024-04-16T11:23:52.142Z"
   },
   {
    "duration": 20,
    "start_time": "2024-04-16T11:23:56.494Z"
   },
   {
    "duration": 9,
    "start_time": "2024-04-16T11:23:58.614Z"
   },
   {
    "duration": 49,
    "start_time": "2024-04-16T11:25:27.062Z"
   },
   {
    "duration": 948,
    "start_time": "2024-04-16T11:25:30.855Z"
   },
   {
    "duration": 20,
    "start_time": "2024-04-16T11:25:38.718Z"
   },
   {
    "duration": 10,
    "start_time": "2024-04-16T11:25:40.517Z"
   },
   {
    "duration": 5,
    "start_time": "2024-04-16T11:26:39.510Z"
   },
   {
    "duration": 9,
    "start_time": "2024-04-16T11:26:41.182Z"
   },
   {
    "duration": 46,
    "start_time": "2024-04-16T11:26:58.010Z"
   },
   {
    "duration": 4,
    "start_time": "2024-04-16T11:27:03.815Z"
   },
   {
    "duration": 9,
    "start_time": "2024-04-16T11:27:04.823Z"
   },
   {
    "duration": 45,
    "start_time": "2024-04-16T11:27:37.751Z"
   },
   {
    "duration": 5,
    "start_time": "2024-04-16T11:27:43.703Z"
   },
   {
    "duration": 8,
    "start_time": "2024-04-16T11:27:45.343Z"
   },
   {
    "duration": 56,
    "start_time": "2024-04-16T11:28:14.416Z"
   },
   {
    "duration": 47,
    "start_time": "2024-04-16T11:28:27.775Z"
   },
   {
    "duration": 6,
    "start_time": "2024-04-16T11:28:33.655Z"
   },
   {
    "duration": 10,
    "start_time": "2024-04-16T11:28:35.095Z"
   },
   {
    "duration": 31,
    "start_time": "2024-04-16T11:28:58.999Z"
   },
   {
    "duration": 829,
    "start_time": "2024-04-16T11:29:03.870Z"
   },
   {
    "duration": 14,
    "start_time": "2024-04-16T11:29:05.151Z"
   },
   {
    "duration": 5,
    "start_time": "2024-04-16T11:29:16.095Z"
   },
   {
    "duration": 9,
    "start_time": "2024-04-16T11:29:18.502Z"
   },
   {
    "duration": 46,
    "start_time": "2024-04-16T11:29:50.980Z"
   },
   {
    "duration": 1000,
    "start_time": "2024-04-16T11:29:56.958Z"
   },
   {
    "duration": 875,
    "start_time": "2024-04-16T11:30:03.599Z"
   },
   {
    "duration": 1001,
    "start_time": "2024-04-16T11:30:12.743Z"
   },
   {
    "duration": 6,
    "start_time": "2024-04-16T11:30:26.231Z"
   },
   {
    "duration": 10,
    "start_time": "2024-04-16T11:30:29.142Z"
   },
   {
    "duration": 33,
    "start_time": "2024-04-16T11:30:36.776Z"
   },
   {
    "duration": 31,
    "start_time": "2024-04-16T11:30:54.480Z"
   },
   {
    "duration": 48,
    "start_time": "2024-04-16T11:31:15.495Z"
   },
   {
    "duration": 6,
    "start_time": "2024-04-16T11:31:22.407Z"
   },
   {
    "duration": 9,
    "start_time": "2024-04-16T11:31:23.519Z"
   },
   {
    "duration": 34,
    "start_time": "2024-04-16T11:32:04.615Z"
   },
   {
    "duration": 5,
    "start_time": "2024-04-16T11:32:09.143Z"
   },
   {
    "duration": 9,
    "start_time": "2024-04-16T11:32:10.575Z"
   },
   {
    "duration": 31,
    "start_time": "2024-04-16T11:32:31.920Z"
   },
   {
    "duration": 771,
    "start_time": "2024-04-16T11:32:36.103Z"
   },
   {
    "duration": 6,
    "start_time": "2024-04-16T11:32:40.199Z"
   },
   {
    "duration": 8,
    "start_time": "2024-04-16T11:32:41.583Z"
   },
   {
    "duration": 30,
    "start_time": "2024-04-16T11:34:10.640Z"
   },
   {
    "duration": 5,
    "start_time": "2024-04-16T11:34:14.128Z"
   },
   {
    "duration": 9,
    "start_time": "2024-04-16T11:34:15.471Z"
   },
   {
    "duration": 32,
    "start_time": "2024-04-16T11:34:22.545Z"
   },
   {
    "duration": 842,
    "start_time": "2024-04-16T11:34:25.335Z"
   },
   {
    "duration": 4,
    "start_time": "2024-04-16T11:34:29.425Z"
   },
   {
    "duration": 8,
    "start_time": "2024-04-16T11:34:31.392Z"
   },
   {
    "duration": 50,
    "start_time": "2024-04-16T11:34:41.047Z"
   },
   {
    "duration": 791,
    "start_time": "2024-04-16T11:34:47.816Z"
   },
   {
    "duration": 1595,
    "start_time": "2024-04-16T11:34:54.704Z"
   },
   {
    "duration": 49,
    "start_time": "2024-04-16T11:35:24.840Z"
   },
   {
    "duration": 57,
    "start_time": "2024-04-16T11:37:30.777Z"
   },
   {
    "duration": 19,
    "start_time": "2024-04-16T11:37:33.417Z"
   },
   {
    "duration": 5,
    "start_time": "2024-04-16T11:42:38.530Z"
   },
   {
    "duration": 5,
    "start_time": "2024-04-16T11:42:49.489Z"
   },
   {
    "duration": 1026,
    "start_time": "2024-04-16T11:49:40.924Z"
   },
   {
    "duration": 119,
    "start_time": "2024-04-16T11:49:41.951Z"
   },
   {
    "duration": 14,
    "start_time": "2024-04-16T11:49:42.072Z"
   },
   {
    "duration": 10,
    "start_time": "2024-04-16T11:49:42.088Z"
   },
   {
    "duration": 6,
    "start_time": "2024-04-16T11:49:42.100Z"
   },
   {
    "duration": 9,
    "start_time": "2024-04-16T11:49:42.108Z"
   },
   {
    "duration": 5,
    "start_time": "2024-04-16T11:49:42.118Z"
   },
   {
    "duration": 4,
    "start_time": "2024-04-16T11:49:42.125Z"
   },
   {
    "duration": 6,
    "start_time": "2024-04-16T11:49:42.131Z"
   },
   {
    "duration": 4,
    "start_time": "2024-04-16T11:49:42.138Z"
   },
   {
    "duration": 5,
    "start_time": "2024-04-16T11:49:42.143Z"
   },
   {
    "duration": 7,
    "start_time": "2024-04-16T11:49:42.149Z"
   },
   {
    "duration": 5,
    "start_time": "2024-04-16T11:49:42.158Z"
   },
   {
    "duration": 4,
    "start_time": "2024-04-16T11:49:42.166Z"
   },
   {
    "duration": 8,
    "start_time": "2024-04-16T11:49:42.171Z"
   },
   {
    "duration": 179,
    "start_time": "2024-04-16T11:49:42.215Z"
   },
   {
    "duration": 6,
    "start_time": "2024-04-16T11:49:42.395Z"
   },
   {
    "duration": 73,
    "start_time": "2024-04-16T11:49:42.415Z"
   },
   {
    "duration": 7,
    "start_time": "2024-04-16T11:49:42.490Z"
   },
   {
    "duration": 105,
    "start_time": "2024-04-16T11:49:42.515Z"
   },
   {
    "duration": 8,
    "start_time": "2024-04-16T11:49:42.622Z"
   },
   {
    "duration": 124,
    "start_time": "2024-04-16T11:49:42.631Z"
   },
   {
    "duration": 8,
    "start_time": "2024-04-16T11:49:42.757Z"
   },
   {
    "duration": 126,
    "start_time": "2024-04-16T11:49:42.767Z"
   },
   {
    "duration": 10,
    "start_time": "2024-04-16T11:49:42.895Z"
   },
   {
    "duration": 20,
    "start_time": "2024-04-16T11:49:42.915Z"
   },
   {
    "duration": 10,
    "start_time": "2024-04-16T11:49:42.937Z"
   },
   {
    "duration": 123,
    "start_time": "2024-04-16T11:49:42.948Z"
   },
   {
    "duration": 7,
    "start_time": "2024-04-16T11:49:43.073Z"
   },
   {
    "duration": 128,
    "start_time": "2024-04-16T11:49:43.082Z"
   },
   {
    "duration": 7,
    "start_time": "2024-04-16T11:49:43.215Z"
   },
   {
    "duration": 7,
    "start_time": "2024-04-16T11:49:43.224Z"
   },
   {
    "duration": 133,
    "start_time": "2024-04-16T11:49:43.232Z"
   },
   {
    "duration": 9,
    "start_time": "2024-04-16T11:49:43.366Z"
   },
   {
    "duration": 122,
    "start_time": "2024-04-16T11:49:43.376Z"
   },
   {
    "duration": 15,
    "start_time": "2024-04-16T11:49:43.500Z"
   },
   {
    "duration": 47,
    "start_time": "2024-04-16T11:49:43.517Z"
   },
   {
    "duration": 18,
    "start_time": "2024-04-16T11:49:43.565Z"
   },
   {
    "duration": 6,
    "start_time": "2024-04-16T11:49:43.585Z"
   },
   {
    "duration": 3,
    "start_time": "2024-04-16T11:49:43.615Z"
   },
   {
    "duration": 7,
    "start_time": "2024-04-16T11:49:43.622Z"
   },
   {
    "duration": 16,
    "start_time": "2024-04-16T11:49:43.631Z"
   },
   {
    "duration": 8,
    "start_time": "2024-04-16T11:49:43.649Z"
   },
   {
    "duration": 10,
    "start_time": "2024-04-16T11:49:43.658Z"
   },
   {
    "duration": 11,
    "start_time": "2024-04-16T11:49:43.670Z"
   },
   {
    "duration": 4,
    "start_time": "2024-04-16T11:49:43.682Z"
   },
   {
    "duration": 17,
    "start_time": "2024-04-16T11:49:43.688Z"
   },
   {
    "duration": 13,
    "start_time": "2024-04-16T11:49:43.706Z"
   },
   {
    "duration": 11,
    "start_time": "2024-04-16T11:49:43.721Z"
   },
   {
    "duration": 6,
    "start_time": "2024-04-16T11:49:43.734Z"
   },
   {
    "duration": 8,
    "start_time": "2024-04-16T11:49:43.741Z"
   },
   {
    "duration": 1815,
    "start_time": "2024-04-16T11:49:43.751Z"
   },
   {
    "duration": 5,
    "start_time": "2024-04-16T11:49:45.568Z"
   },
   {
    "duration": 38,
    "start_time": "2024-04-16T11:49:45.575Z"
   },
   {
    "duration": 79,
    "start_time": "2024-04-16T11:49:45.615Z"
   },
   {
    "duration": 1061,
    "start_time": "2024-04-16T11:50:29.029Z"
   },
   {
    "duration": 117,
    "start_time": "2024-04-16T11:50:30.092Z"
   },
   {
    "duration": 14,
    "start_time": "2024-04-16T11:50:30.211Z"
   },
   {
    "duration": 42,
    "start_time": "2024-04-16T11:50:30.227Z"
   },
   {
    "duration": 47,
    "start_time": "2024-04-16T11:50:30.271Z"
   },
   {
    "duration": 57,
    "start_time": "2024-04-16T11:50:30.319Z"
   },
   {
    "duration": 84,
    "start_time": "2024-04-16T11:50:30.377Z"
   },
   {
    "duration": 66,
    "start_time": "2024-04-16T11:50:30.462Z"
   },
   {
    "duration": 82,
    "start_time": "2024-04-16T11:50:30.530Z"
   },
   {
    "duration": 64,
    "start_time": "2024-04-16T11:50:30.615Z"
   },
   {
    "duration": 61,
    "start_time": "2024-04-16T11:50:30.681Z"
   },
   {
    "duration": 40,
    "start_time": "2024-04-16T11:50:30.744Z"
   },
   {
    "duration": 36,
    "start_time": "2024-04-16T11:50:30.786Z"
   },
   {
    "duration": 37,
    "start_time": "2024-04-16T11:50:30.823Z"
   },
   {
    "duration": 66,
    "start_time": "2024-04-16T11:50:30.862Z"
   },
   {
    "duration": 222,
    "start_time": "2024-04-16T11:50:30.930Z"
   },
   {
    "duration": 7,
    "start_time": "2024-04-16T11:50:31.153Z"
   },
   {
    "duration": 159,
    "start_time": "2024-04-16T11:50:31.161Z"
   },
   {
    "duration": 15,
    "start_time": "2024-04-16T11:50:31.322Z"
   },
   {
    "duration": 128,
    "start_time": "2024-04-16T11:50:31.338Z"
   },
   {
    "duration": 8,
    "start_time": "2024-04-16T11:50:31.468Z"
   },
   {
    "duration": 149,
    "start_time": "2024-04-16T11:50:31.477Z"
   },
   {
    "duration": 8,
    "start_time": "2024-04-16T11:50:31.628Z"
   },
   {
    "duration": 122,
    "start_time": "2024-04-16T11:50:31.638Z"
   },
   {
    "duration": 9,
    "start_time": "2024-04-16T11:50:31.762Z"
   },
   {
    "duration": 26,
    "start_time": "2024-04-16T11:50:31.773Z"
   },
   {
    "duration": 15,
    "start_time": "2024-04-16T11:50:31.801Z"
   },
   {
    "duration": 110,
    "start_time": "2024-04-16T11:50:31.820Z"
   },
   {
    "duration": 8,
    "start_time": "2024-04-16T11:50:31.932Z"
   },
   {
    "duration": 121,
    "start_time": "2024-04-16T11:50:31.941Z"
   },
   {
    "duration": 8,
    "start_time": "2024-04-16T11:50:32.064Z"
   },
   {
    "duration": 7,
    "start_time": "2024-04-16T11:50:32.074Z"
   },
   {
    "duration": 132,
    "start_time": "2024-04-16T11:50:32.082Z"
   },
   {
    "duration": 8,
    "start_time": "2024-04-16T11:50:32.216Z"
   },
   {
    "duration": 127,
    "start_time": "2024-04-16T11:50:32.225Z"
   },
   {
    "duration": 10,
    "start_time": "2024-04-16T11:50:32.354Z"
   },
   {
    "duration": 65,
    "start_time": "2024-04-16T11:50:32.365Z"
   },
   {
    "duration": 19,
    "start_time": "2024-04-16T11:50:32.431Z"
   },
   {
    "duration": 6,
    "start_time": "2024-04-16T11:50:32.452Z"
   },
   {
    "duration": 4,
    "start_time": "2024-04-16T11:50:32.460Z"
   },
   {
    "duration": 6,
    "start_time": "2024-04-16T11:50:32.466Z"
   },
   {
    "duration": 7,
    "start_time": "2024-04-16T11:50:32.474Z"
   },
   {
    "duration": 34,
    "start_time": "2024-04-16T11:50:32.483Z"
   },
   {
    "duration": 7,
    "start_time": "2024-04-16T11:50:32.519Z"
   },
   {
    "duration": 7,
    "start_time": "2024-04-16T11:50:32.528Z"
   },
   {
    "duration": 15,
    "start_time": "2024-04-16T11:50:32.536Z"
   },
   {
    "duration": 32,
    "start_time": "2024-04-16T11:50:32.552Z"
   },
   {
    "duration": 17,
    "start_time": "2024-04-16T11:50:32.585Z"
   },
   {
    "duration": 7,
    "start_time": "2024-04-16T11:50:32.603Z"
   },
   {
    "duration": 4,
    "start_time": "2024-04-16T11:50:32.611Z"
   },
   {
    "duration": 6,
    "start_time": "2024-04-16T11:50:32.617Z"
   },
   {
    "duration": 1881,
    "start_time": "2024-04-16T11:50:32.625Z"
   },
   {
    "duration": 8,
    "start_time": "2024-04-16T11:50:34.508Z"
   },
   {
    "duration": 16,
    "start_time": "2024-04-16T11:50:34.518Z"
   },
   {
    "duration": 99,
    "start_time": "2024-04-16T11:50:34.536Z"
   },
   {
    "duration": 1198,
    "start_time": "2024-04-16T13:42:46.009Z"
   },
   {
    "duration": 341,
    "start_time": "2024-04-16T13:42:47.440Z"
   },
   {
    "duration": 13,
    "start_time": "2024-04-16T13:42:55.555Z"
   },
   {
    "duration": 11,
    "start_time": "2024-04-16T13:43:14.752Z"
   },
   {
    "duration": 14,
    "start_time": "2024-04-16T13:44:58.201Z"
   },
   {
    "duration": 13,
    "start_time": "2024-04-16T13:45:17.393Z"
   },
   {
    "duration": 7,
    "start_time": "2024-04-16T13:52:38.745Z"
   },
   {
    "duration": 9,
    "start_time": "2024-04-16T13:52:56.050Z"
   },
   {
    "duration": 12,
    "start_time": "2024-04-16T13:59:33.900Z"
   },
   {
    "duration": 5,
    "start_time": "2024-04-16T14:00:16.091Z"
   },
   {
    "duration": 6,
    "start_time": "2024-04-16T14:00:55.033Z"
   },
   {
    "duration": 5,
    "start_time": "2024-04-16T14:02:46.842Z"
   },
   {
    "duration": 4,
    "start_time": "2024-04-16T14:02:47.347Z"
   },
   {
    "duration": 6,
    "start_time": "2024-04-16T14:02:47.811Z"
   },
   {
    "duration": 5,
    "start_time": "2024-04-16T14:02:48.275Z"
   },
   {
    "duration": 6,
    "start_time": "2024-04-16T14:02:48.822Z"
   },
   {
    "duration": 8,
    "start_time": "2024-04-16T14:02:49.363Z"
   },
   {
    "duration": 5,
    "start_time": "2024-04-16T14:02:49.916Z"
   },
   {
    "duration": 5,
    "start_time": "2024-04-16T14:02:50.390Z"
   },
   {
    "duration": 8,
    "start_time": "2024-04-16T14:02:54.335Z"
   },
   {
    "duration": 174,
    "start_time": "2024-04-16T14:06:15.436Z"
   },
   {
    "duration": 347,
    "start_time": "2024-04-16T14:10:46.571Z"
   },
   {
    "duration": 242,
    "start_time": "2024-04-16T14:12:00.309Z"
   },
   {
    "duration": 217,
    "start_time": "2024-04-16T14:12:23.606Z"
   },
   {
    "duration": 177,
    "start_time": "2024-04-16T14:15:13.830Z"
   },
   {
    "duration": 156,
    "start_time": "2024-04-16T14:16:00.693Z"
   },
   {
    "duration": 7,
    "start_time": "2024-04-16T14:20:30.597Z"
   },
   {
    "duration": 75,
    "start_time": "2024-04-16T14:20:31.901Z"
   },
   {
    "duration": 170,
    "start_time": "2024-04-16T14:22:27.278Z"
   },
   {
    "duration": 124,
    "start_time": "2024-04-16T14:23:06.031Z"
   },
   {
    "duration": 54,
    "start_time": "2024-04-16T14:24:45.431Z"
   },
   {
    "duration": 58,
    "start_time": "2024-04-16T14:25:14.982Z"
   },
   {
    "duration": 166,
    "start_time": "2024-04-16T14:25:32.687Z"
   },
   {
    "duration": 1604,
    "start_time": "2024-04-16T14:26:32.338Z"
   },
   {
    "duration": 95,
    "start_time": "2024-04-16T14:26:50.679Z"
   },
   {
    "duration": 93,
    "start_time": "2024-04-16T14:27:41.391Z"
   },
   {
    "duration": 1226,
    "start_time": "2024-04-16T14:28:25.312Z"
   },
   {
    "duration": 59,
    "start_time": "2024-04-16T14:31:33.343Z"
   },
   {
    "duration": 150,
    "start_time": "2024-04-16T14:35:50.772Z"
   },
   {
    "duration": 9,
    "start_time": "2024-04-16T14:39:43.309Z"
   },
   {
    "duration": 105,
    "start_time": "2024-04-16T14:39:46.093Z"
   },
   {
    "duration": 144,
    "start_time": "2024-04-16T14:42:17.153Z"
   },
   {
    "duration": 14,
    "start_time": "2024-04-16T14:46:51.206Z"
   },
   {
    "duration": 6,
    "start_time": "2024-04-16T14:49:40.661Z"
   },
   {
    "duration": 5,
    "start_time": "2024-04-16T14:49:59.071Z"
   },
   {
    "duration": 8,
    "start_time": "2024-04-16T14:50:14.733Z"
   },
   {
    "duration": 7,
    "start_time": "2024-04-16T14:55:59.127Z"
   },
   {
    "duration": 7,
    "start_time": "2024-04-16T14:59:59.279Z"
   },
   {
    "duration": 9,
    "start_time": "2024-04-16T15:00:34.306Z"
   },
   {
    "duration": 8,
    "start_time": "2024-04-16T16:10:30.982Z"
   },
   {
    "duration": 8,
    "start_time": "2024-04-16T16:11:03.884Z"
   },
   {
    "duration": 8,
    "start_time": "2024-04-16T16:13:57.316Z"
   },
   {
    "duration": 7,
    "start_time": "2024-04-16T16:14:12.581Z"
   },
   {
    "duration": 8,
    "start_time": "2024-04-16T16:14:34.686Z"
   },
   {
    "duration": 7,
    "start_time": "2024-04-16T16:14:38.838Z"
   },
   {
    "duration": 11,
    "start_time": "2024-04-16T16:30:11.832Z"
   },
   {
    "duration": 21,
    "start_time": "2024-04-16T16:30:12.764Z"
   },
   {
    "duration": 14,
    "start_time": "2024-04-16T16:30:59.147Z"
   },
   {
    "duration": 19,
    "start_time": "2024-04-16T16:32:25.468Z"
   },
   {
    "duration": 9,
    "start_time": "2024-04-16T16:33:19.803Z"
   },
   {
    "duration": 14,
    "start_time": "2024-04-16T16:34:10.586Z"
   },
   {
    "duration": 11,
    "start_time": "2024-04-16T16:47:47.771Z"
   },
   {
    "duration": 9,
    "start_time": "2024-04-16T16:47:55.527Z"
   },
   {
    "duration": 8,
    "start_time": "2024-04-16T16:47:56.255Z"
   },
   {
    "duration": 194,
    "start_time": "2024-04-16T16:47:56.951Z"
   },
   {
    "duration": 252,
    "start_time": "2024-04-16T16:48:12.209Z"
   },
   {
    "duration": 184,
    "start_time": "2024-04-16T16:49:22.145Z"
   },
   {
    "duration": 246,
    "start_time": "2024-04-16T16:51:56.361Z"
   },
   {
    "duration": 48,
    "start_time": "2024-04-16T18:03:08.672Z"
   },
   {
    "duration": 43,
    "start_time": "2024-04-16T18:09:49.346Z"
   },
   {
    "duration": 20,
    "start_time": "2024-04-16T18:11:31.729Z"
   },
   {
    "duration": 9,
    "start_time": "2024-04-16T18:12:45.890Z"
   },
   {
    "duration": 4,
    "start_time": "2024-04-16T18:18:25.307Z"
   },
   {
    "duration": 4,
    "start_time": "2024-04-16T18:18:25.931Z"
   },
   {
    "duration": 5,
    "start_time": "2024-04-16T18:18:26.899Z"
   },
   {
    "duration": 3,
    "start_time": "2024-04-16T18:21:07.075Z"
   },
   {
    "duration": 4,
    "start_time": "2024-04-16T18:21:30.884Z"
   },
   {
    "duration": 5,
    "start_time": "2024-04-16T18:27:37.380Z"
   },
   {
    "duration": 5,
    "start_time": "2024-04-16T18:30:31.773Z"
   },
   {
    "duration": 3,
    "start_time": "2024-04-16T18:35:03.648Z"
   },
   {
    "duration": 32,
    "start_time": "2024-04-16T18:45:39.153Z"
   },
   {
    "duration": 53,
    "start_time": "2024-04-16T18:47:01.032Z"
   },
   {
    "duration": 22,
    "start_time": "2024-04-16T18:47:16.584Z"
   },
   {
    "duration": 10,
    "start_time": "2024-04-16T18:47:39.841Z"
   },
   {
    "duration": 0,
    "start_time": "2024-04-16T18:54:32.911Z"
   },
   {
    "duration": 1111,
    "start_time": "2024-04-16T18:55:09.803Z"
   },
   {
    "duration": 1129,
    "start_time": "2024-04-16T18:55:54.408Z"
   },
   {
    "duration": 1276,
    "start_time": "2024-04-16T18:56:31.282Z"
   },
   {
    "duration": 1150,
    "start_time": "2024-04-16T18:57:51.098Z"
   },
   {
    "duration": 1143,
    "start_time": "2024-04-16T18:58:48.241Z"
   },
   {
    "duration": 998,
    "start_time": "2024-04-16T18:59:16.300Z"
   },
   {
    "duration": 120,
    "start_time": "2024-04-16T18:59:17.922Z"
   },
   {
    "duration": 13,
    "start_time": "2024-04-16T18:59:18.450Z"
   },
   {
    "duration": 11,
    "start_time": "2024-04-16T18:59:18.994Z"
   },
   {
    "duration": 10,
    "start_time": "2024-04-16T18:59:20.106Z"
   },
   {
    "duration": 11,
    "start_time": "2024-04-16T18:59:20.703Z"
   },
   {
    "duration": 7,
    "start_time": "2024-04-16T18:59:21.738Z"
   },
   {
    "duration": 10,
    "start_time": "2024-04-16T18:59:22.459Z"
   },
   {
    "duration": 10,
    "start_time": "2024-04-16T18:59:25.908Z"
   },
   {
    "duration": 6,
    "start_time": "2024-04-16T18:59:26.379Z"
   },
   {
    "duration": 6,
    "start_time": "2024-04-16T18:59:28.178Z"
   },
   {
    "duration": 5,
    "start_time": "2024-04-16T18:59:28.746Z"
   },
   {
    "duration": 7,
    "start_time": "2024-04-16T18:59:29.259Z"
   },
   {
    "duration": 6,
    "start_time": "2024-04-16T18:59:29.795Z"
   },
   {
    "duration": 7,
    "start_time": "2024-04-16T18:59:30.356Z"
   },
   {
    "duration": 11,
    "start_time": "2024-04-16T18:59:30.819Z"
   },
   {
    "duration": 7,
    "start_time": "2024-04-16T18:59:31.322Z"
   },
   {
    "duration": 6,
    "start_time": "2024-04-16T18:59:31.835Z"
   },
   {
    "duration": 9,
    "start_time": "2024-04-16T18:59:33.734Z"
   },
   {
    "duration": 177,
    "start_time": "2024-04-16T18:59:34.212Z"
   },
   {
    "duration": 6,
    "start_time": "2024-04-16T18:59:36.673Z"
   },
   {
    "duration": 71,
    "start_time": "2024-04-16T18:59:37.171Z"
   },
   {
    "duration": 11,
    "start_time": "2024-04-16T18:59:39.194Z"
   },
   {
    "duration": 89,
    "start_time": "2024-04-16T18:59:39.691Z"
   },
   {
    "duration": 9,
    "start_time": "2024-04-16T18:59:40.665Z"
   },
   {
    "duration": 156,
    "start_time": "2024-04-16T18:59:41.204Z"
   },
   {
    "duration": 164,
    "start_time": "2024-04-16T18:59:41.718Z"
   },
   {
    "duration": 10,
    "start_time": "2024-04-16T18:59:44.082Z"
   },
   {
    "duration": 112,
    "start_time": "2024-04-16T18:59:44.603Z"
   },
   {
    "duration": 142,
    "start_time": "2024-04-16T18:59:45.151Z"
   },
   {
    "duration": 7,
    "start_time": "2024-04-16T18:59:45.773Z"
   },
   {
    "duration": 8,
    "start_time": "2024-04-16T18:59:46.299Z"
   },
   {
    "duration": 10,
    "start_time": "2024-04-16T18:59:49.499Z"
   },
   {
    "duration": 22,
    "start_time": "2024-04-16T18:59:50.093Z"
   },
   {
    "duration": 14,
    "start_time": "2024-04-16T18:59:50.794Z"
   },
   {
    "duration": 9,
    "start_time": "2024-04-16T18:59:51.467Z"
   },
   {
    "duration": 14,
    "start_time": "2024-04-16T18:59:52.283Z"
   },
   {
    "duration": 9,
    "start_time": "2024-04-16T18:59:54.691Z"
   },
   {
    "duration": 8,
    "start_time": "2024-04-16T18:59:55.283Z"
   },
   {
    "duration": 248,
    "start_time": "2024-04-16T18:59:55.955Z"
   },
   {
    "duration": 8,
    "start_time": "2024-04-16T18:59:57.458Z"
   },
   {
    "duration": 102,
    "start_time": "2024-04-16T18:59:57.991Z"
   },
   {
    "duration": 8,
    "start_time": "2024-04-16T18:59:58.530Z"
   },
   {
    "duration": 179,
    "start_time": "2024-04-16T18:59:59.026Z"
   },
   {
    "duration": 8,
    "start_time": "2024-04-16T18:59:59.527Z"
   },
   {
    "duration": 103,
    "start_time": "2024-04-16T19:00:00.066Z"
   },
   {
    "duration": 8,
    "start_time": "2024-04-16T19:00:00.521Z"
   },
   {
    "duration": 51,
    "start_time": "2024-04-16T19:00:02.571Z"
   },
   {
    "duration": 21,
    "start_time": "2024-04-16T19:00:05.354Z"
   },
   {
    "duration": 6,
    "start_time": "2024-04-16T19:00:06.906Z"
   },
   {
    "duration": 4,
    "start_time": "2024-04-16T19:00:10.522Z"
   },
   {
    "duration": 5,
    "start_time": "2024-04-16T19:00:11.091Z"
   },
   {
    "duration": 5,
    "start_time": "2024-04-16T19:00:11.699Z"
   },
   {
    "duration": 3,
    "start_time": "2024-04-16T19:00:12.327Z"
   },
   {
    "duration": 5,
    "start_time": "2024-04-16T19:00:20.010Z"
   },
   {
    "duration": 5,
    "start_time": "2024-04-16T19:00:20.834Z"
   },
   {
    "duration": 4,
    "start_time": "2024-04-16T19:00:24.234Z"
   },
   {
    "duration": 1239,
    "start_time": "2024-04-16T19:00:27.931Z"
   },
   {
    "duration": 1145,
    "start_time": "2024-04-16T19:00:48.691Z"
   },
   {
    "duration": 1129,
    "start_time": "2024-04-16T19:05:40.659Z"
   },
   {
    "duration": 102,
    "start_time": "2024-04-16T19:13:36.646Z"
   },
   {
    "duration": 562,
    "start_time": "2024-04-16T19:13:52.807Z"
   },
   {
    "duration": 1125,
    "start_time": "2024-04-16T19:19:43.128Z"
   },
   {
    "duration": 1200,
    "start_time": "2024-04-16T19:20:44.656Z"
   },
   {
    "duration": 21,
    "start_time": "2024-04-16T19:21:23.188Z"
   },
   {
    "duration": 1095,
    "start_time": "2024-04-16T19:21:48.982Z"
   },
   {
    "duration": 46,
    "start_time": "2024-04-16T19:41:54.790Z"
   },
   {
    "duration": 357,
    "start_time": "2024-04-16T19:42:20.161Z"
   },
   {
    "duration": 45,
    "start_time": "2024-04-16T19:48:42.611Z"
   },
   {
    "duration": 1134,
    "start_time": "2024-04-16T19:49:44.132Z"
   },
   {
    "duration": 1169,
    "start_time": "2024-04-16T19:52:46.403Z"
   },
   {
    "duration": 1001,
    "start_time": "2024-04-16T19:53:29.136Z"
   },
   {
    "duration": 122,
    "start_time": "2024-04-16T19:53:30.138Z"
   },
   {
    "duration": 13,
    "start_time": "2024-04-16T19:53:31.071Z"
   },
   {
    "duration": 11,
    "start_time": "2024-04-16T19:53:31.617Z"
   },
   {
    "duration": 10,
    "start_time": "2024-04-16T19:53:32.705Z"
   },
   {
    "duration": 11,
    "start_time": "2024-04-16T19:53:33.264Z"
   },
   {
    "duration": 7,
    "start_time": "2024-04-16T19:53:34.418Z"
   },
   {
    "duration": 10,
    "start_time": "2024-04-16T19:53:35.024Z"
   },
   {
    "duration": 10,
    "start_time": "2024-04-16T19:53:38.257Z"
   },
   {
    "duration": 7,
    "start_time": "2024-04-16T19:53:38.762Z"
   },
   {
    "duration": 6,
    "start_time": "2024-04-16T19:53:40.539Z"
   },
   {
    "duration": 4,
    "start_time": "2024-04-16T19:53:41.083Z"
   },
   {
    "duration": 7,
    "start_time": "2024-04-16T19:53:41.739Z"
   },
   {
    "duration": 6,
    "start_time": "2024-04-16T19:53:42.334Z"
   },
   {
    "duration": 8,
    "start_time": "2024-04-16T19:53:42.918Z"
   },
   {
    "duration": 10,
    "start_time": "2024-04-16T19:53:43.564Z"
   },
   {
    "duration": 7,
    "start_time": "2024-04-16T19:53:44.123Z"
   },
   {
    "duration": 6,
    "start_time": "2024-04-16T19:53:44.640Z"
   },
   {
    "duration": 7,
    "start_time": "2024-04-16T19:53:46.755Z"
   },
   {
    "duration": 188,
    "start_time": "2024-04-16T19:53:47.347Z"
   },
   {
    "duration": 5,
    "start_time": "2024-04-16T19:53:51.051Z"
   },
   {
    "duration": 63,
    "start_time": "2024-04-16T19:53:51.646Z"
   },
   {
    "duration": 9,
    "start_time": "2024-04-16T19:53:53.962Z"
   },
   {
    "duration": 98,
    "start_time": "2024-04-16T19:53:54.514Z"
   },
   {
    "duration": 9,
    "start_time": "2024-04-16T19:53:55.632Z"
   },
   {
    "duration": 111,
    "start_time": "2024-04-16T19:53:56.323Z"
   },
   {
    "duration": 155,
    "start_time": "2024-04-16T19:53:57.065Z"
   },
   {
    "duration": 10,
    "start_time": "2024-04-16T19:53:59.480Z"
   },
   {
    "duration": 107,
    "start_time": "2024-04-16T19:54:00.065Z"
   },
   {
    "duration": 152,
    "start_time": "2024-04-16T19:54:00.610Z"
   },
   {
    "duration": 8,
    "start_time": "2024-04-16T19:54:01.266Z"
   },
   {
    "duration": 8,
    "start_time": "2024-04-16T19:54:01.938Z"
   },
   {
    "duration": 11,
    "start_time": "2024-04-16T19:54:14.778Z"
   },
   {
    "duration": 21,
    "start_time": "2024-04-16T19:54:15.259Z"
   },
   {
    "duration": 13,
    "start_time": "2024-04-16T19:54:15.754Z"
   },
   {
    "duration": 10,
    "start_time": "2024-04-16T19:54:16.274Z"
   },
   {
    "duration": 14,
    "start_time": "2024-04-16T19:54:16.771Z"
   },
   {
    "duration": 9,
    "start_time": "2024-04-16T19:54:18.674Z"
   },
   {
    "duration": 9,
    "start_time": "2024-04-16T19:54:19.347Z"
   },
   {
    "duration": 250,
    "start_time": "2024-04-16T19:54:19.953Z"
   },
   {
    "duration": 8,
    "start_time": "2024-04-16T19:54:20.992Z"
   },
   {
    "duration": 110,
    "start_time": "2024-04-16T19:54:21.497Z"
   },
   {
    "duration": 8,
    "start_time": "2024-04-16T19:54:21.978Z"
   },
   {
    "duration": 182,
    "start_time": "2024-04-16T19:54:22.548Z"
   },
   {
    "duration": 8,
    "start_time": "2024-04-16T19:54:23.132Z"
   },
   {
    "duration": 114,
    "start_time": "2024-04-16T19:54:23.778Z"
   },
   {
    "duration": 8,
    "start_time": "2024-04-16T19:54:24.538Z"
   },
   {
    "duration": 45,
    "start_time": "2024-04-16T19:54:27.005Z"
   },
   {
    "duration": 18,
    "start_time": "2024-04-16T19:54:36.372Z"
   },
   {
    "duration": 8,
    "start_time": "2024-04-16T19:54:41.594Z"
   },
   {
    "duration": 6,
    "start_time": "2024-04-16T19:54:45.121Z"
   },
   {
    "duration": 6,
    "start_time": "2024-04-16T19:54:45.510Z"
   },
   {
    "duration": 7,
    "start_time": "2024-04-16T19:54:45.961Z"
   },
   {
    "duration": 3,
    "start_time": "2024-04-16T19:54:46.379Z"
   },
   {
    "duration": 6,
    "start_time": "2024-04-16T19:54:49.273Z"
   },
   {
    "duration": 5,
    "start_time": "2024-04-16T19:54:49.802Z"
   },
   {
    "duration": 3,
    "start_time": "2024-04-16T19:54:52.211Z"
   },
   {
    "duration": 389,
    "start_time": "2024-04-16T19:54:56.370Z"
   },
   {
    "duration": 5,
    "start_time": "2024-04-16T19:57:41.444Z"
   },
   {
    "duration": 7,
    "start_time": "2024-04-16T19:57:43.931Z"
   },
   {
    "duration": 4,
    "start_time": "2024-04-16T19:57:46.097Z"
   },
   {
    "duration": 6,
    "start_time": "2024-04-16T19:57:46.349Z"
   },
   {
    "duration": 7,
    "start_time": "2024-04-16T19:57:46.588Z"
   },
   {
    "duration": 4,
    "start_time": "2024-04-16T19:57:46.836Z"
   },
   {
    "duration": 5,
    "start_time": "2024-04-16T19:57:49.380Z"
   },
   {
    "duration": 5,
    "start_time": "2024-04-16T19:57:58.242Z"
   },
   {
    "duration": 4,
    "start_time": "2024-04-16T19:57:59.993Z"
   },
   {
    "duration": 314,
    "start_time": "2024-04-16T19:58:02.562Z"
   },
   {
    "duration": 9,
    "start_time": "2024-04-16T20:11:55.223Z"
   },
   {
    "duration": 7,
    "start_time": "2024-04-16T20:12:02.038Z"
   },
   {
    "duration": 1679,
    "start_time": "2024-04-16T20:12:03.975Z"
   },
   {
    "duration": 7,
    "start_time": "2024-04-16T20:16:07.886Z"
   },
   {
    "duration": 5,
    "start_time": "2024-04-16T20:18:14.572Z"
   },
   {
    "duration": 7,
    "start_time": "2024-04-16T20:18:24.282Z"
   },
   {
    "duration": 5,
    "start_time": "2024-04-16T20:18:38.691Z"
   },
   {
    "duration": 1744,
    "start_time": "2024-04-16T20:20:53.514Z"
   },
   {
    "duration": 9,
    "start_time": "2024-04-16T20:21:34.316Z"
   },
   {
    "duration": 6,
    "start_time": "2024-04-16T20:22:29.959Z"
   },
   {
    "duration": 4,
    "start_time": "2024-04-16T20:22:30.654Z"
   },
   {
    "duration": 10,
    "start_time": "2024-04-16T20:22:32.829Z"
   },
   {
    "duration": 9,
    "start_time": "2024-04-16T20:22:51.446Z"
   },
   {
    "duration": 6,
    "start_time": "2024-04-16T20:23:46.154Z"
   },
   {
    "duration": 4,
    "start_time": "2024-04-16T20:23:47.148Z"
   },
   {
    "duration": 118,
    "start_time": "2024-04-16T20:23:48.779Z"
   },
   {
    "duration": 158,
    "start_time": "2024-04-16T20:28:50.611Z"
   },
   {
    "duration": 508,
    "start_time": "2024-04-16T20:29:07.516Z"
   },
   {
    "duration": 550,
    "start_time": "2024-04-16T20:30:54.245Z"
   },
   {
    "duration": 491,
    "start_time": "2024-04-16T20:31:19.025Z"
   },
   {
    "duration": 542,
    "start_time": "2024-04-16T20:31:29.105Z"
   },
   {
    "duration": 386,
    "start_time": "2024-04-16T20:32:21.637Z"
   },
   {
    "duration": 239,
    "start_time": "2024-04-16T20:34:46.549Z"
   },
   {
    "duration": 1296,
    "start_time": "2024-04-17T13:20:00.107Z"
   },
   {
    "duration": 273,
    "start_time": "2024-04-17T13:20:04.486Z"
   },
   {
    "duration": 17,
    "start_time": "2024-04-17T13:20:05.098Z"
   },
   {
    "duration": 12,
    "start_time": "2024-04-17T13:20:05.820Z"
   },
   {
    "duration": 14,
    "start_time": "2024-04-17T13:20:07.031Z"
   },
   {
    "duration": 14,
    "start_time": "2024-04-17T13:20:07.607Z"
   },
   {
    "duration": 7,
    "start_time": "2024-04-17T13:20:08.783Z"
   },
   {
    "duration": 11,
    "start_time": "2024-04-17T13:20:09.371Z"
   },
   {
    "duration": 14,
    "start_time": "2024-04-17T13:20:14.617Z"
   },
   {
    "duration": 7,
    "start_time": "2024-04-17T13:20:15.585Z"
   },
   {
    "duration": 7,
    "start_time": "2024-04-17T13:20:17.473Z"
   },
   {
    "duration": 4,
    "start_time": "2024-04-17T13:20:19.497Z"
   },
   {
    "duration": 6,
    "start_time": "2024-04-17T13:20:24.831Z"
   },
   {
    "duration": 5,
    "start_time": "2024-04-17T13:20:25.409Z"
   },
   {
    "duration": 8,
    "start_time": "2024-04-17T13:20:26.054Z"
   },
   {
    "duration": 9,
    "start_time": "2024-04-17T13:20:26.651Z"
   },
   {
    "duration": 6,
    "start_time": "2024-04-17T13:20:27.338Z"
   },
   {
    "duration": 5,
    "start_time": "2024-04-17T13:20:27.890Z"
   },
   {
    "duration": 8,
    "start_time": "2024-04-17T13:20:31.176Z"
   },
   {
    "duration": 381,
    "start_time": "2024-04-17T13:20:32.104Z"
   },
   {
    "duration": 8,
    "start_time": "2024-04-17T13:20:35.417Z"
   },
   {
    "duration": 69,
    "start_time": "2024-04-17T13:20:36.161Z"
   },
   {
    "duration": 9,
    "start_time": "2024-04-17T13:20:38.456Z"
   },
   {
    "duration": 97,
    "start_time": "2024-04-17T13:20:39.153Z"
   },
   {
    "duration": 9,
    "start_time": "2024-04-17T13:20:40.505Z"
   },
   {
    "duration": 121,
    "start_time": "2024-04-17T13:20:41.194Z"
   },
   {
    "duration": 177,
    "start_time": "2024-04-17T13:20:42.088Z"
   },
   {
    "duration": 11,
    "start_time": "2024-04-17T13:20:45.169Z"
   },
   {
    "duration": 142,
    "start_time": "2024-04-17T13:20:45.998Z"
   },
   {
    "duration": 165,
    "start_time": "2024-04-17T13:20:46.808Z"
   },
   {
    "duration": 12,
    "start_time": "2024-04-17T13:20:47.737Z"
   },
   {
    "duration": 9,
    "start_time": "2024-04-17T13:20:48.631Z"
   },
   {
    "duration": 11,
    "start_time": "2024-04-17T13:20:52.544Z"
   },
   {
    "duration": 23,
    "start_time": "2024-04-17T13:20:53.217Z"
   },
   {
    "duration": 14,
    "start_time": "2024-04-17T13:21:01.656Z"
   },
   {
    "duration": 9,
    "start_time": "2024-04-17T13:21:02.256Z"
   },
   {
    "duration": 15,
    "start_time": "2024-04-17T13:21:02.889Z"
   },
   {
    "duration": 9,
    "start_time": "2024-04-17T13:21:07.474Z"
   },
   {
    "duration": 8,
    "start_time": "2024-04-17T13:21:07.986Z"
   },
   {
    "duration": 261,
    "start_time": "2024-04-17T13:21:08.681Z"
   },
   {
    "duration": 11,
    "start_time": "2024-04-17T13:21:09.896Z"
   },
   {
    "duration": 118,
    "start_time": "2024-04-17T13:21:10.600Z"
   },
   {
    "duration": 9,
    "start_time": "2024-04-17T13:21:11.508Z"
   },
   {
    "duration": 200,
    "start_time": "2024-04-17T13:21:12.105Z"
   },
   {
    "duration": 9,
    "start_time": "2024-04-17T13:21:12.764Z"
   },
   {
    "duration": 111,
    "start_time": "2024-04-17T13:21:13.553Z"
   },
   {
    "duration": 9,
    "start_time": "2024-04-17T13:21:14.362Z"
   },
   {
    "duration": 58,
    "start_time": "2024-04-17T13:22:08.050Z"
   },
   {
    "duration": 69,
    "start_time": "2024-04-17T13:22:40.227Z"
   },
   {
    "duration": 6,
    "start_time": "2024-04-17T13:22:43.321Z"
   },
   {
    "duration": 7,
    "start_time": "2024-04-17T13:22:45.387Z"
   },
   {
    "duration": 5,
    "start_time": "2024-04-17T13:22:48.989Z"
   },
   {
    "duration": 6,
    "start_time": "2024-04-17T13:22:49.564Z"
   },
   {
    "duration": 5,
    "start_time": "2024-04-17T13:22:50.179Z"
   },
   {
    "duration": 3,
    "start_time": "2024-04-17T13:22:50.730Z"
   },
   {
    "duration": 6,
    "start_time": "2024-04-17T13:25:32.155Z"
   },
   {
    "duration": 7,
    "start_time": "2024-04-17T13:25:58.354Z"
   },
   {
    "duration": 6,
    "start_time": "2024-04-17T13:26:09.556Z"
   },
   {
    "duration": 7,
    "start_time": "2024-04-17T13:26:24.508Z"
   },
   {
    "duration": 8,
    "start_time": "2024-04-17T13:27:05.380Z"
   },
   {
    "duration": 7,
    "start_time": "2024-04-17T13:27:10.644Z"
   },
   {
    "duration": 14,
    "start_time": "2024-04-17T13:32:51.910Z"
   },
   {
    "duration": 6,
    "start_time": "2024-04-17T13:37:16.304Z"
   },
   {
    "duration": 6,
    "start_time": "2024-04-17T13:37:19.196Z"
   },
   {
    "duration": 3,
    "start_time": "2024-04-17T13:37:20.973Z"
   },
   {
    "duration": 15,
    "start_time": "2024-04-17T13:38:45.031Z"
   },
   {
    "duration": 7,
    "start_time": "2024-04-17T13:39:02.439Z"
   },
   {
    "duration": 8,
    "start_time": "2024-04-17T13:39:17.972Z"
   },
   {
    "duration": 10,
    "start_time": "2024-04-17T13:40:36.296Z"
   },
   {
    "duration": 8,
    "start_time": "2024-04-17T13:41:07.062Z"
   },
   {
    "duration": 6,
    "start_time": "2024-04-17T13:41:19.080Z"
   },
   {
    "duration": 6,
    "start_time": "2024-04-17T13:41:44.112Z"
   },
   {
    "duration": 7,
    "start_time": "2024-04-17T13:41:56.742Z"
   },
   {
    "duration": 7,
    "start_time": "2024-04-17T13:42:56.558Z"
   },
   {
    "duration": 3,
    "start_time": "2024-04-17T13:45:33.517Z"
   },
   {
    "duration": 10,
    "start_time": "2024-04-17T13:45:37.154Z"
   },
   {
    "duration": 7,
    "start_time": "2024-04-17T13:45:52.218Z"
   },
   {
    "duration": 49,
    "start_time": "2024-04-17T13:57:33.675Z"
   },
   {
    "duration": 50,
    "start_time": "2024-04-17T13:57:54.715Z"
   },
   {
    "duration": 52,
    "start_time": "2024-04-17T13:58:49.535Z"
   },
   {
    "duration": 53,
    "start_time": "2024-04-17T13:59:08.874Z"
   },
   {
    "duration": 59,
    "start_time": "2024-04-17T13:59:35.904Z"
   },
   {
    "duration": 53,
    "start_time": "2024-04-17T13:59:47.556Z"
   },
   {
    "duration": 51,
    "start_time": "2024-04-17T14:01:55.527Z"
   },
   {
    "duration": 51,
    "start_time": "2024-04-17T14:02:07.233Z"
   },
   {
    "duration": 520,
    "start_time": "2024-04-17T14:03:46.818Z"
   },
   {
    "duration": 508,
    "start_time": "2024-04-17T14:03:56.327Z"
   },
   {
    "duration": 535,
    "start_time": "2024-04-17T14:08:38.990Z"
   },
   {
    "duration": 197,
    "start_time": "2024-04-17T14:27:00.827Z"
   },
   {
    "duration": 189,
    "start_time": "2024-04-17T14:27:30.009Z"
   },
   {
    "duration": 216,
    "start_time": "2024-04-17T14:28:32.391Z"
   },
   {
    "duration": 956,
    "start_time": "2024-04-17T14:29:13.050Z"
   },
   {
    "duration": 59,
    "start_time": "2024-04-17T14:47:33.105Z"
   },
   {
    "duration": 7,
    "start_time": "2024-04-17T14:47:35.534Z"
   },
   {
    "duration": 6,
    "start_time": "2024-04-17T14:47:36.823Z"
   },
   {
    "duration": 5,
    "start_time": "2024-04-17T14:47:40.255Z"
   },
   {
    "duration": 5,
    "start_time": "2024-04-17T14:47:40.774Z"
   },
   {
    "duration": 5,
    "start_time": "2024-04-17T14:47:41.286Z"
   },
   {
    "duration": 4,
    "start_time": "2024-04-17T14:47:41.747Z"
   },
   {
    "duration": 6,
    "start_time": "2024-04-17T14:47:45.263Z"
   },
   {
    "duration": 6,
    "start_time": "2024-04-17T14:47:45.758Z"
   },
   {
    "duration": 3,
    "start_time": "2024-04-17T14:47:50.776Z"
   },
   {
    "duration": 51,
    "start_time": "2024-04-17T14:47:53.568Z"
   },
   {
    "duration": 8,
    "start_time": "2024-04-17T14:50:07.568Z"
   },
   {
    "duration": 10,
    "start_time": "2024-04-17T14:51:03.753Z"
   },
   {
    "duration": 9,
    "start_time": "2024-04-17T14:51:58.817Z"
   },
   {
    "duration": 7,
    "start_time": "2024-04-17T14:52:00.127Z"
   },
   {
    "duration": 3,
    "start_time": "2024-04-17T14:52:11.839Z"
   },
   {
    "duration": 11,
    "start_time": "2024-04-17T14:53:12.407Z"
   },
   {
    "duration": 9,
    "start_time": "2024-04-17T14:53:33.278Z"
   },
   {
    "duration": 30,
    "start_time": "2024-04-17T14:55:03.984Z"
   },
   {
    "duration": 11,
    "start_time": "2024-04-17T14:57:07.425Z"
   },
   {
    "duration": 12,
    "start_time": "2024-04-17T14:57:21.799Z"
   },
   {
    "duration": 9,
    "start_time": "2024-04-17T14:58:23.521Z"
   },
   {
    "duration": 7,
    "start_time": "2024-04-17T14:58:41.791Z"
   },
   {
    "duration": 7,
    "start_time": "2024-04-17T15:09:45.544Z"
   },
   {
    "duration": 6,
    "start_time": "2024-04-17T15:10:09.487Z"
   },
   {
    "duration": 6,
    "start_time": "2024-04-17T15:10:24.005Z"
   },
   {
    "duration": 11,
    "start_time": "2024-04-17T15:10:32.718Z"
   },
   {
    "duration": 11,
    "start_time": "2024-04-17T15:11:55.928Z"
   },
   {
    "duration": 7,
    "start_time": "2024-04-17T15:12:24.437Z"
   },
   {
    "duration": 129,
    "start_time": "2024-04-17T15:12:33.100Z"
   },
   {
    "duration": 8,
    "start_time": "2024-04-17T15:12:42.726Z"
   },
   {
    "duration": 7,
    "start_time": "2024-04-17T15:16:18.822Z"
   },
   {
    "duration": 111,
    "start_time": "2024-04-17T15:16:24.342Z"
   },
   {
    "duration": 5,
    "start_time": "2024-04-17T15:16:58.349Z"
   },
   {
    "duration": 4,
    "start_time": "2024-04-17T15:17:32.823Z"
   },
   {
    "duration": 130,
    "start_time": "2024-04-17T15:17:35.895Z"
   },
   {
    "duration": 187,
    "start_time": "2024-04-17T15:26:11.891Z"
   },
   {
    "duration": 1073,
    "start_time": "2024-04-17T15:26:39.682Z"
   },
   {
    "duration": 120,
    "start_time": "2024-04-17T15:26:40.756Z"
   },
   {
    "duration": 14,
    "start_time": "2024-04-17T15:26:41.068Z"
   },
   {
    "duration": 12,
    "start_time": "2024-04-17T15:26:41.532Z"
   },
   {
    "duration": 11,
    "start_time": "2024-04-17T15:26:42.453Z"
   },
   {
    "duration": 11,
    "start_time": "2024-04-17T15:26:42.988Z"
   },
   {
    "duration": 7,
    "start_time": "2024-04-17T15:26:44.116Z"
   },
   {
    "duration": 11,
    "start_time": "2024-04-17T15:26:44.618Z"
   },
   {
    "duration": 10,
    "start_time": "2024-04-17T15:26:47.481Z"
   },
   {
    "duration": 7,
    "start_time": "2024-04-17T15:26:47.938Z"
   },
   {
    "duration": 6,
    "start_time": "2024-04-17T15:26:49.338Z"
   },
   {
    "duration": 5,
    "start_time": "2024-04-17T15:26:49.844Z"
   },
   {
    "duration": 7,
    "start_time": "2024-04-17T15:26:50.211Z"
   },
   {
    "duration": 6,
    "start_time": "2024-04-17T15:26:50.707Z"
   },
   {
    "duration": 8,
    "start_time": "2024-04-17T15:26:51.202Z"
   },
   {
    "duration": 9,
    "start_time": "2024-04-17T15:26:51.690Z"
   },
   {
    "duration": 6,
    "start_time": "2024-04-17T15:26:52.195Z"
   },
   {
    "duration": 5,
    "start_time": "2024-04-17T15:26:52.700Z"
   },
   {
    "duration": 8,
    "start_time": "2024-04-17T15:26:54.597Z"
   },
   {
    "duration": 107,
    "start_time": "2024-04-17T15:26:55.099Z"
   },
   {
    "duration": 220,
    "start_time": "2024-04-17T15:26:55.732Z"
   },
   {
    "duration": 1237,
    "start_time": "2024-04-18T11:00:37.845Z"
   },
   {
    "duration": 345,
    "start_time": "2024-04-18T11:00:39.084Z"
   },
   {
    "duration": 13,
    "start_time": "2024-04-18T11:00:39.431Z"
   },
   {
    "duration": 11,
    "start_time": "2024-04-18T11:00:39.446Z"
   },
   {
    "duration": 19,
    "start_time": "2024-04-18T11:00:39.458Z"
   },
   {
    "duration": 12,
    "start_time": "2024-04-18T11:00:39.479Z"
   },
   {
    "duration": 7,
    "start_time": "2024-04-18T11:00:39.492Z"
   },
   {
    "duration": 12,
    "start_time": "2024-04-18T11:00:39.500Z"
   },
   {
    "duration": 11,
    "start_time": "2024-04-18T11:00:39.514Z"
   },
   {
    "duration": 7,
    "start_time": "2024-04-18T11:00:39.527Z"
   },
   {
    "duration": 25,
    "start_time": "2024-04-18T11:00:39.536Z"
   },
   {
    "duration": 16,
    "start_time": "2024-04-18T11:00:39.563Z"
   },
   {
    "duration": 16,
    "start_time": "2024-04-18T11:00:39.580Z"
   },
   {
    "duration": 9,
    "start_time": "2024-04-18T11:00:39.597Z"
   },
   {
    "duration": 7,
    "start_time": "2024-04-18T11:00:39.608Z"
   },
   {
    "duration": 7,
    "start_time": "2024-04-18T11:00:39.617Z"
   },
   {
    "duration": 6,
    "start_time": "2024-04-18T11:00:39.625Z"
   },
   {
    "duration": 13,
    "start_time": "2024-04-18T11:00:39.632Z"
   },
   {
    "duration": 21,
    "start_time": "2024-04-18T11:00:39.646Z"
   },
   {
    "duration": 195,
    "start_time": "2024-04-18T11:00:39.668Z"
   },
   {
    "duration": 6,
    "start_time": "2024-04-18T11:00:39.864Z"
   },
   {
    "duration": 73,
    "start_time": "2024-04-18T11:00:39.872Z"
   },
   {
    "duration": 8,
    "start_time": "2024-04-18T11:00:39.946Z"
   },
   {
    "duration": 108,
    "start_time": "2024-04-18T11:00:39.959Z"
   },
   {
    "duration": 9,
    "start_time": "2024-04-18T11:00:40.068Z"
   },
   {
    "duration": 127,
    "start_time": "2024-04-18T11:00:40.079Z"
   },
   {
    "duration": 157,
    "start_time": "2024-04-18T11:00:40.208Z"
   },
   {
    "duration": 9,
    "start_time": "2024-04-18T11:00:40.369Z"
   },
   {
    "duration": 155,
    "start_time": "2024-04-18T11:00:40.380Z"
   },
   {
    "duration": 156,
    "start_time": "2024-04-18T11:00:40.536Z"
   },
   {
    "duration": 9,
    "start_time": "2024-04-18T11:00:40.693Z"
   },
   {
    "duration": 41,
    "start_time": "2024-04-18T11:00:40.703Z"
   },
   {
    "duration": 16,
    "start_time": "2024-04-18T11:00:40.746Z"
   },
   {
    "duration": 15,
    "start_time": "2024-04-18T11:00:40.764Z"
   },
   {
    "duration": 14,
    "start_time": "2024-04-18T11:00:40.780Z"
   },
   {
    "duration": 8,
    "start_time": "2024-04-18T11:00:40.795Z"
   },
   {
    "duration": 17,
    "start_time": "2024-04-18T11:00:40.805Z"
   },
   {
    "duration": 18,
    "start_time": "2024-04-18T11:00:40.824Z"
   },
   {
    "duration": 20,
    "start_time": "2024-04-18T11:00:40.844Z"
   },
   {
    "duration": 17,
    "start_time": "2024-04-18T11:00:40.865Z"
   },
   {
    "duration": 7,
    "start_time": "2024-04-18T11:00:40.883Z"
   },
   {
    "duration": 237,
    "start_time": "2024-04-18T11:00:40.892Z"
   },
   {
    "duration": 8,
    "start_time": "2024-04-18T11:00:41.131Z"
   },
   {
    "duration": 19,
    "start_time": "2024-04-18T11:00:41.141Z"
   },
   {
    "duration": 5136,
    "start_time": "2024-04-18T11:00:41.161Z"
   },
   {
    "duration": 49,
    "start_time": "2024-04-18T11:00:46.298Z"
   },
   {
    "duration": 17,
    "start_time": "2024-04-18T11:00:46.349Z"
   },
   {
    "duration": 36,
    "start_time": "2024-04-18T11:00:46.368Z"
   },
   {
    "duration": 19,
    "start_time": "2024-04-18T11:00:46.405Z"
   },
   {
    "duration": 28,
    "start_time": "2024-04-18T11:00:46.425Z"
   },
   {
    "duration": 15,
    "start_time": "2024-04-18T11:00:46.454Z"
   },
   {
    "duration": 13,
    "start_time": "2024-04-18T11:00:46.470Z"
   },
   {
    "duration": 17,
    "start_time": "2024-04-18T11:00:46.484Z"
   },
   {
    "duration": 65,
    "start_time": "2024-04-18T11:00:46.503Z"
   },
   {
    "duration": 24,
    "start_time": "2024-04-18T11:00:46.569Z"
   },
   {
    "duration": 16,
    "start_time": "2024-04-18T11:00:46.595Z"
   },
   {
    "duration": 5,
    "start_time": "2024-04-18T11:00:46.612Z"
   },
   {
    "duration": 39,
    "start_time": "2024-04-18T11:00:46.618Z"
   },
   {
    "duration": 2043,
    "start_time": "2024-04-18T11:00:46.658Z"
   },
   {
    "duration": 5,
    "start_time": "2024-04-18T11:00:48.703Z"
   },
   {
    "duration": 249,
    "start_time": "2024-04-18T11:40:43.803Z"
   },
   {
    "duration": 224,
    "start_time": "2024-04-18T11:40:46.833Z"
   },
   {
    "duration": 12,
    "start_time": "2024-04-18T11:41:56.374Z"
   },
   {
    "duration": 1009,
    "start_time": "2024-04-18T11:54:15.190Z"
   },
   {
    "duration": 113,
    "start_time": "2024-04-18T11:54:16.201Z"
   },
   {
    "duration": 12,
    "start_time": "2024-04-18T11:54:16.316Z"
   },
   {
    "duration": 27,
    "start_time": "2024-04-18T11:54:16.329Z"
   },
   {
    "duration": 32,
    "start_time": "2024-04-18T11:54:16.357Z"
   },
   {
    "duration": 16,
    "start_time": "2024-04-18T11:54:16.390Z"
   },
   {
    "duration": 9,
    "start_time": "2024-04-18T11:54:16.407Z"
   },
   {
    "duration": 17,
    "start_time": "2024-04-18T11:54:16.417Z"
   },
   {
    "duration": 13,
    "start_time": "2024-04-18T11:54:16.436Z"
   },
   {
    "duration": 8,
    "start_time": "2024-04-18T11:54:16.452Z"
   },
   {
    "duration": 7,
    "start_time": "2024-04-18T11:54:16.462Z"
   },
   {
    "duration": 16,
    "start_time": "2024-04-18T11:54:16.471Z"
   },
   {
    "duration": 7,
    "start_time": "2024-04-18T11:54:16.489Z"
   },
   {
    "duration": 7,
    "start_time": "2024-04-18T11:54:16.497Z"
   },
   {
    "duration": 22,
    "start_time": "2024-04-18T11:54:16.505Z"
   },
   {
    "duration": 19,
    "start_time": "2024-04-18T11:54:16.529Z"
   },
   {
    "duration": 7,
    "start_time": "2024-04-18T11:54:16.550Z"
   },
   {
    "duration": 8,
    "start_time": "2024-04-18T11:54:16.558Z"
   },
   {
    "duration": 8,
    "start_time": "2024-04-18T11:54:16.568Z"
   },
   {
    "duration": 203,
    "start_time": "2024-04-18T11:54:16.577Z"
   },
   {
    "duration": 6,
    "start_time": "2024-04-18T11:54:16.781Z"
   },
   {
    "duration": 72,
    "start_time": "2024-04-18T11:54:16.788Z"
   },
   {
    "duration": 7,
    "start_time": "2024-04-18T11:54:16.861Z"
   },
   {
    "duration": 100,
    "start_time": "2024-04-18T11:54:16.870Z"
   },
   {
    "duration": 7,
    "start_time": "2024-04-18T11:54:16.972Z"
   },
   {
    "duration": 124,
    "start_time": "2024-04-18T11:54:16.980Z"
   },
   {
    "duration": 154,
    "start_time": "2024-04-18T11:54:17.106Z"
   },
   {
    "duration": 8,
    "start_time": "2024-04-18T11:54:17.263Z"
   },
   {
    "duration": 116,
    "start_time": "2024-04-18T11:54:17.272Z"
   },
   {
    "duration": 150,
    "start_time": "2024-04-18T11:54:17.390Z"
   },
   {
    "duration": 17,
    "start_time": "2024-04-18T11:54:17.542Z"
   },
   {
    "duration": 18,
    "start_time": "2024-04-18T11:54:17.561Z"
   },
   {
    "duration": 29,
    "start_time": "2024-04-18T11:54:17.581Z"
   },
   {
    "duration": 17,
    "start_time": "2024-04-18T11:54:17.611Z"
   },
   {
    "duration": 23,
    "start_time": "2024-04-18T11:54:17.629Z"
   },
   {
    "duration": 11,
    "start_time": "2024-04-18T11:54:17.653Z"
   },
   {
    "duration": 24,
    "start_time": "2024-04-18T11:54:17.665Z"
   },
   {
    "duration": 8,
    "start_time": "2024-04-18T11:54:17.691Z"
   },
   {
    "duration": 14,
    "start_time": "2024-04-18T11:54:17.701Z"
   },
   {
    "duration": 9,
    "start_time": "2024-04-18T11:54:17.717Z"
   },
   {
    "duration": 23,
    "start_time": "2024-04-18T11:54:17.727Z"
   },
   {
    "duration": 252,
    "start_time": "2024-04-18T11:54:17.752Z"
   },
   {
    "duration": 9,
    "start_time": "2024-04-18T11:54:18.006Z"
   },
   {
    "duration": 29,
    "start_time": "2024-04-18T11:54:18.016Z"
   },
   {
    "duration": 5107,
    "start_time": "2024-04-18T11:54:18.047Z"
   },
   {
    "duration": 52,
    "start_time": "2024-04-18T11:54:23.156Z"
   },
   {
    "duration": 5,
    "start_time": "2024-04-18T11:54:23.209Z"
   },
   {
    "duration": 17,
    "start_time": "2024-04-18T11:54:23.216Z"
   },
   {
    "duration": 12,
    "start_time": "2024-04-18T11:54:23.234Z"
   },
   {
    "duration": 11,
    "start_time": "2024-04-18T11:54:23.248Z"
   },
   {
    "duration": 16,
    "start_time": "2024-04-18T11:54:23.261Z"
   },
   {
    "duration": 16,
    "start_time": "2024-04-18T11:54:23.279Z"
   },
   {
    "duration": 14,
    "start_time": "2024-04-18T11:54:23.297Z"
   },
   {
    "duration": 13,
    "start_time": "2024-04-18T11:54:23.313Z"
   },
   {
    "duration": 4,
    "start_time": "2024-04-18T11:54:23.328Z"
   },
   {
    "duration": 15,
    "start_time": "2024-04-18T11:54:23.333Z"
   },
   {
    "duration": 4,
    "start_time": "2024-04-18T11:54:23.349Z"
   },
   {
    "duration": 47,
    "start_time": "2024-04-18T11:54:23.354Z"
   },
   {
    "duration": 2055,
    "start_time": "2024-04-18T11:54:23.402Z"
   },
   {
    "duration": 8,
    "start_time": "2024-04-18T11:54:25.460Z"
   },
   {
    "duration": 1000,
    "start_time": "2024-04-18T11:55:03.402Z"
   },
   {
    "duration": 112,
    "start_time": "2024-04-18T11:55:04.403Z"
   },
   {
    "duration": 12,
    "start_time": "2024-04-18T11:55:04.517Z"
   },
   {
    "duration": 13,
    "start_time": "2024-04-18T11:55:04.531Z"
   },
   {
    "duration": 11,
    "start_time": "2024-04-18T11:55:04.546Z"
   },
   {
    "duration": 14,
    "start_time": "2024-04-18T11:55:04.558Z"
   },
   {
    "duration": 6,
    "start_time": "2024-04-18T11:55:04.574Z"
   },
   {
    "duration": 9,
    "start_time": "2024-04-18T11:55:04.581Z"
   },
   {
    "duration": 8,
    "start_time": "2024-04-18T11:55:04.591Z"
   },
   {
    "duration": 7,
    "start_time": "2024-04-18T11:55:04.602Z"
   },
   {
    "duration": 7,
    "start_time": "2024-04-18T11:55:04.610Z"
   },
   {
    "duration": 13,
    "start_time": "2024-04-18T11:55:04.618Z"
   },
   {
    "duration": 8,
    "start_time": "2024-04-18T11:55:04.632Z"
   },
   {
    "duration": 4,
    "start_time": "2024-04-18T11:55:04.658Z"
   },
   {
    "duration": 5,
    "start_time": "2024-04-18T11:55:04.664Z"
   },
   {
    "duration": 8,
    "start_time": "2024-04-18T11:55:04.670Z"
   },
   {
    "duration": 21,
    "start_time": "2024-04-18T11:55:04.680Z"
   },
   {
    "duration": 15,
    "start_time": "2024-04-18T11:55:04.703Z"
   },
   {
    "duration": 13,
    "start_time": "2024-04-18T11:55:04.720Z"
   },
   {
    "duration": 197,
    "start_time": "2024-04-18T11:55:04.735Z"
   },
   {
    "duration": 6,
    "start_time": "2024-04-18T11:55:04.934Z"
   },
   {
    "duration": 68,
    "start_time": "2024-04-18T11:55:04.942Z"
   },
   {
    "duration": 8,
    "start_time": "2024-04-18T11:55:05.012Z"
   },
   {
    "duration": 121,
    "start_time": "2024-04-18T11:55:05.021Z"
   },
   {
    "duration": 15,
    "start_time": "2024-04-18T11:55:05.144Z"
   },
   {
    "duration": 107,
    "start_time": "2024-04-18T11:55:05.160Z"
   },
   {
    "duration": 153,
    "start_time": "2024-04-18T11:55:05.269Z"
   },
   {
    "duration": 8,
    "start_time": "2024-04-18T11:55:05.425Z"
   },
   {
    "duration": 126,
    "start_time": "2024-04-18T11:55:05.434Z"
   },
   {
    "duration": 153,
    "start_time": "2024-04-18T11:55:05.561Z"
   },
   {
    "duration": 7,
    "start_time": "2024-04-18T11:55:05.715Z"
   },
   {
    "duration": 7,
    "start_time": "2024-04-18T11:55:05.723Z"
   },
   {
    "duration": 31,
    "start_time": "2024-04-18T11:55:05.731Z"
   },
   {
    "duration": 14,
    "start_time": "2024-04-18T11:55:05.763Z"
   },
   {
    "duration": 15,
    "start_time": "2024-04-18T11:55:05.778Z"
   },
   {
    "duration": 16,
    "start_time": "2024-04-18T11:55:05.794Z"
   },
   {
    "duration": 28,
    "start_time": "2024-04-18T11:55:05.812Z"
   },
   {
    "duration": 8,
    "start_time": "2024-04-18T11:55:05.841Z"
   },
   {
    "duration": 13,
    "start_time": "2024-04-18T11:55:05.851Z"
   },
   {
    "duration": 26,
    "start_time": "2024-04-18T11:55:05.865Z"
   },
   {
    "duration": 7,
    "start_time": "2024-04-18T11:55:05.893Z"
   },
   {
    "duration": 243,
    "start_time": "2024-04-18T11:55:05.901Z"
   },
   {
    "duration": 17,
    "start_time": "2024-04-18T11:55:06.146Z"
   },
   {
    "duration": 20,
    "start_time": "2024-04-18T11:55:06.164Z"
   },
   {
    "duration": 5077,
    "start_time": "2024-04-18T11:55:06.186Z"
   },
   {
    "duration": 50,
    "start_time": "2024-04-18T11:55:11.264Z"
   },
   {
    "duration": 5,
    "start_time": "2024-04-18T11:55:11.315Z"
   },
   {
    "duration": 7,
    "start_time": "2024-04-18T11:55:11.321Z"
   },
   {
    "duration": 4,
    "start_time": "2024-04-18T11:55:11.329Z"
   },
   {
    "duration": 24,
    "start_time": "2024-04-18T11:55:11.335Z"
   },
   {
    "duration": 4,
    "start_time": "2024-04-18T11:55:11.361Z"
   },
   {
    "duration": 9,
    "start_time": "2024-04-18T11:55:11.367Z"
   },
   {
    "duration": 14,
    "start_time": "2024-04-18T11:55:11.377Z"
   },
   {
    "duration": 5,
    "start_time": "2024-04-18T11:55:11.393Z"
   },
   {
    "duration": 3,
    "start_time": "2024-04-18T11:55:11.399Z"
   },
   {
    "duration": 11,
    "start_time": "2024-04-18T11:55:11.404Z"
   },
   {
    "duration": 8,
    "start_time": "2024-04-18T11:55:11.416Z"
   },
   {
    "duration": 45,
    "start_time": "2024-04-18T11:55:11.425Z"
   },
   {
    "duration": 49,
    "start_time": "2024-04-18T14:09:31.091Z"
   },
   {
    "duration": 1237,
    "start_time": "2024-04-18T14:09:57.604Z"
   },
   {
    "duration": 277,
    "start_time": "2024-04-18T14:09:58.844Z"
   },
   {
    "duration": 14,
    "start_time": "2024-04-18T14:09:59.122Z"
   },
   {
    "duration": 11,
    "start_time": "2024-04-18T14:09:59.520Z"
   },
   {
    "duration": 10,
    "start_time": "2024-04-18T14:10:00.735Z"
   },
   {
    "duration": 15,
    "start_time": "2024-04-18T14:10:01.223Z"
   },
   {
    "duration": 8,
    "start_time": "2024-04-18T14:10:02.357Z"
   },
   {
    "duration": 10,
    "start_time": "2024-04-18T14:10:02.888Z"
   },
   {
    "duration": 9,
    "start_time": "2024-04-18T14:10:06.365Z"
   },
   {
    "duration": 10,
    "start_time": "2024-04-18T14:10:06.814Z"
   },
   {
    "duration": 6,
    "start_time": "2024-04-18T14:10:08.868Z"
   },
   {
    "duration": 4,
    "start_time": "2024-04-18T14:10:09.389Z"
   },
   {
    "duration": 6,
    "start_time": "2024-04-18T14:10:09.895Z"
   },
   {
    "duration": 5,
    "start_time": "2024-04-18T14:10:10.391Z"
   },
   {
    "duration": 8,
    "start_time": "2024-04-18T14:10:10.911Z"
   },
   {
    "duration": 8,
    "start_time": "2024-04-18T14:10:11.440Z"
   },
   {
    "duration": 7,
    "start_time": "2024-04-18T14:10:11.992Z"
   },
   {
    "duration": 5,
    "start_time": "2024-04-18T14:10:12.712Z"
   },
   {
    "duration": 8,
    "start_time": "2024-04-18T14:10:15.068Z"
   },
   {
    "duration": 191,
    "start_time": "2024-04-18T14:10:15.553Z"
   },
   {
    "duration": 6,
    "start_time": "2024-04-18T14:10:18.583Z"
   },
   {
    "duration": 63,
    "start_time": "2024-04-18T14:10:19.036Z"
   },
   {
    "duration": 9,
    "start_time": "2024-04-18T14:10:21.286Z"
   },
   {
    "duration": 116,
    "start_time": "2024-04-18T14:10:21.853Z"
   },
   {
    "duration": 8,
    "start_time": "2024-04-18T14:10:22.935Z"
   },
   {
    "duration": 119,
    "start_time": "2024-04-18T14:10:23.400Z"
   },
   {
    "duration": 164,
    "start_time": "2024-04-18T14:10:23.870Z"
   },
   {
    "duration": 8,
    "start_time": "2024-04-18T14:10:26.047Z"
   },
   {
    "duration": 104,
    "start_time": "2024-04-18T14:10:26.567Z"
   },
   {
    "duration": 154,
    "start_time": "2024-04-18T14:10:27.123Z"
   },
   {
    "duration": 9,
    "start_time": "2024-04-18T14:10:27.615Z"
   },
   {
    "duration": 9,
    "start_time": "2024-04-18T14:10:28.214Z"
   },
   {
    "duration": 17,
    "start_time": "2024-04-18T14:10:54.247Z"
   },
   {
    "duration": 15,
    "start_time": "2024-04-18T14:10:54.727Z"
   },
   {
    "duration": 13,
    "start_time": "2024-04-18T14:10:55.151Z"
   },
   {
    "duration": 9,
    "start_time": "2024-04-18T14:10:55.591Z"
   },
   {
    "duration": 14,
    "start_time": "2024-04-18T14:10:55.999Z"
   },
   {
    "duration": 9,
    "start_time": "2024-04-18T14:10:58.128Z"
   },
   {
    "duration": 8,
    "start_time": "2024-04-18T14:10:58.528Z"
   },
   {
    "duration": 10,
    "start_time": "2024-04-18T14:10:58.887Z"
   },
   {
    "duration": 8,
    "start_time": "2024-04-18T14:10:59.272Z"
   },
   {
    "duration": 241,
    "start_time": "2024-04-18T14:10:59.792Z"
   },
   {
    "duration": 8,
    "start_time": "2024-04-18T14:11:00.238Z"
   },
   {
    "duration": 9,
    "start_time": "2024-04-18T14:11:00.662Z"
   },
   {
    "duration": 5353,
    "start_time": "2024-04-18T14:11:01.119Z"
   },
   {
    "duration": 57,
    "start_time": "2024-04-18T14:11:06.474Z"
   },
   {
    "duration": 5,
    "start_time": "2024-04-18T14:11:06.533Z"
   },
   {
    "duration": 6,
    "start_time": "2024-04-18T14:11:07.802Z"
   },
   {
    "duration": 4,
    "start_time": "2024-04-18T14:11:12.646Z"
   },
   {
    "duration": 4,
    "start_time": "2024-04-18T14:11:13.254Z"
   },
   {
    "duration": 6,
    "start_time": "2024-04-18T14:11:18.592Z"
   },
   {
    "duration": 3,
    "start_time": "2024-04-18T14:11:19.624Z"
   },
   {
    "duration": 4,
    "start_time": "2024-04-18T14:11:26.229Z"
   },
   {
    "duration": 5,
    "start_time": "2024-04-18T14:11:27.608Z"
   },
   {
    "duration": 3,
    "start_time": "2024-04-18T14:11:33.992Z"
   },
   {
    "duration": 3,
    "start_time": "2024-04-18T14:17:31.509Z"
   },
   {
    "duration": 10,
    "start_time": "2024-04-18T14:17:35.402Z"
   },
   {
    "duration": 4,
    "start_time": "2024-04-18T14:17:35.833Z"
   },
   {
    "duration": 31,
    "start_time": "2024-04-18T14:17:38.117Z"
   },
   {
    "duration": 2062,
    "start_time": "2024-04-18T14:17:38.511Z"
   },
   {
    "duration": 7,
    "start_time": "2024-04-18T14:17:40.734Z"
   },
   {
    "duration": 1034,
    "start_time": "2024-04-18T14:25:26.723Z"
   },
   {
    "duration": 108,
    "start_time": "2024-04-18T14:25:27.759Z"
   },
   {
    "duration": 12,
    "start_time": "2024-04-18T14:25:27.871Z"
   },
   {
    "duration": 15,
    "start_time": "2024-04-18T14:25:27.884Z"
   },
   {
    "duration": 10,
    "start_time": "2024-04-18T14:25:27.901Z"
   },
   {
    "duration": 17,
    "start_time": "2024-04-18T14:25:27.912Z"
   },
   {
    "duration": 6,
    "start_time": "2024-04-18T14:25:27.930Z"
   },
   {
    "duration": 15,
    "start_time": "2024-04-18T14:25:27.937Z"
   },
   {
    "duration": 10,
    "start_time": "2024-04-18T14:25:27.954Z"
   },
   {
    "duration": 6,
    "start_time": "2024-04-18T14:25:27.965Z"
   },
   {
    "duration": 13,
    "start_time": "2024-04-18T14:25:27.972Z"
   },
   {
    "duration": 4,
    "start_time": "2024-04-18T14:25:27.987Z"
   },
   {
    "duration": 6,
    "start_time": "2024-04-18T14:25:27.993Z"
   },
   {
    "duration": 3,
    "start_time": "2024-04-18T14:25:28.001Z"
   },
   {
    "duration": 17,
    "start_time": "2024-04-18T14:25:28.006Z"
   },
   {
    "duration": 7,
    "start_time": "2024-04-18T14:25:28.024Z"
   },
   {
    "duration": 26,
    "start_time": "2024-04-18T14:25:28.033Z"
   },
   {
    "duration": 5,
    "start_time": "2024-04-18T14:25:28.060Z"
   },
   {
    "duration": 11,
    "start_time": "2024-04-18T14:25:28.066Z"
   },
   {
    "duration": 187,
    "start_time": "2024-04-18T14:25:28.078Z"
   },
   {
    "duration": 6,
    "start_time": "2024-04-18T14:25:28.267Z"
   },
   {
    "duration": 75,
    "start_time": "2024-04-18T14:25:28.275Z"
   },
   {
    "duration": 8,
    "start_time": "2024-04-18T14:25:28.358Z"
   },
   {
    "duration": 104,
    "start_time": "2024-04-18T14:25:28.367Z"
   },
   {
    "duration": 8,
    "start_time": "2024-04-18T14:25:28.473Z"
   },
   {
    "duration": 130,
    "start_time": "2024-04-18T14:25:28.482Z"
   },
   {
    "duration": 152,
    "start_time": "2024-04-18T14:25:28.615Z"
   },
   {
    "duration": 9,
    "start_time": "2024-04-18T14:25:28.768Z"
   },
   {
    "duration": 116,
    "start_time": "2024-04-18T14:25:28.778Z"
   },
   {
    "duration": 160,
    "start_time": "2024-04-18T14:25:28.895Z"
   },
   {
    "duration": 8,
    "start_time": "2024-04-18T14:25:29.058Z"
   },
   {
    "duration": 15,
    "start_time": "2024-04-18T14:25:29.068Z"
   },
   {
    "duration": 18,
    "start_time": "2024-04-18T14:25:29.084Z"
   },
   {
    "duration": 18,
    "start_time": "2024-04-18T14:25:29.103Z"
   },
   {
    "duration": 17,
    "start_time": "2024-04-18T14:25:29.122Z"
   },
   {
    "duration": 24,
    "start_time": "2024-04-18T14:25:29.140Z"
   },
   {
    "duration": 14,
    "start_time": "2024-04-18T14:25:29.166Z"
   },
   {
    "duration": 7,
    "start_time": "2024-04-18T14:25:29.181Z"
   },
   {
    "duration": 8,
    "start_time": "2024-04-18T14:25:29.189Z"
   },
   {
    "duration": 8,
    "start_time": "2024-04-18T14:25:29.198Z"
   },
   {
    "duration": 7,
    "start_time": "2024-04-18T14:25:29.207Z"
   },
   {
    "duration": 257,
    "start_time": "2024-04-18T14:25:29.215Z"
   },
   {
    "duration": 8,
    "start_time": "2024-04-18T14:25:29.474Z"
   },
   {
    "duration": 8,
    "start_time": "2024-04-18T14:25:29.483Z"
   },
   {
    "duration": 5220,
    "start_time": "2024-04-18T14:25:29.492Z"
   },
   {
    "duration": 60,
    "start_time": "2024-04-18T14:25:34.714Z"
   },
   {
    "duration": 5,
    "start_time": "2024-04-18T14:25:34.775Z"
   },
   {
    "duration": 7,
    "start_time": "2024-04-18T14:25:34.782Z"
   },
   {
    "duration": 17,
    "start_time": "2024-04-18T14:25:34.791Z"
   },
   {
    "duration": 20,
    "start_time": "2024-04-18T14:25:34.809Z"
   },
   {
    "duration": 18,
    "start_time": "2024-04-18T14:25:34.831Z"
   },
   {
    "duration": 26,
    "start_time": "2024-04-18T14:25:34.850Z"
   },
   {
    "duration": 20,
    "start_time": "2024-04-18T14:25:34.877Z"
   },
   {
    "duration": 23,
    "start_time": "2024-04-18T14:25:34.898Z"
   },
   {
    "duration": 9,
    "start_time": "2024-04-18T14:25:34.922Z"
   },
   {
    "duration": 44,
    "start_time": "2024-04-18T14:25:34.933Z"
   },
   {
    "duration": 3,
    "start_time": "2024-04-18T14:25:34.979Z"
   },
   {
    "duration": 30,
    "start_time": "2024-04-18T14:25:34.984Z"
   },
   {
    "duration": 2086,
    "start_time": "2024-04-18T14:25:35.016Z"
   },
   {
    "duration": 6,
    "start_time": "2024-04-18T14:25:37.104Z"
   },
   {
    "duration": 1024,
    "start_time": "2024-04-18T14:26:32.273Z"
   },
   {
    "duration": 113,
    "start_time": "2024-04-18T14:26:33.299Z"
   },
   {
    "duration": 13,
    "start_time": "2024-04-18T14:26:33.414Z"
   },
   {
    "duration": 11,
    "start_time": "2024-04-18T14:26:33.428Z"
   },
   {
    "duration": 8,
    "start_time": "2024-04-18T14:26:33.441Z"
   },
   {
    "duration": 14,
    "start_time": "2024-04-18T14:26:33.450Z"
   },
   {
    "duration": 7,
    "start_time": "2024-04-18T14:26:33.465Z"
   },
   {
    "duration": 14,
    "start_time": "2024-04-18T14:26:33.474Z"
   },
   {
    "duration": 9,
    "start_time": "2024-04-18T14:26:33.490Z"
   },
   {
    "duration": 7,
    "start_time": "2024-04-18T14:26:33.502Z"
   },
   {
    "duration": 20,
    "start_time": "2024-04-18T14:26:33.510Z"
   },
   {
    "duration": 27,
    "start_time": "2024-04-18T14:26:33.532Z"
   },
   {
    "duration": 16,
    "start_time": "2024-04-18T14:26:33.560Z"
   },
   {
    "duration": 8,
    "start_time": "2024-04-18T14:26:33.578Z"
   },
   {
    "duration": 15,
    "start_time": "2024-04-18T14:26:33.588Z"
   },
   {
    "duration": 7,
    "start_time": "2024-04-18T14:26:33.604Z"
   },
   {
    "duration": 5,
    "start_time": "2024-04-18T14:26:33.612Z"
   },
   {
    "duration": 28,
    "start_time": "2024-04-18T14:26:33.618Z"
   },
   {
    "duration": 32,
    "start_time": "2024-04-18T14:26:33.647Z"
   },
   {
    "duration": 237,
    "start_time": "2024-04-18T14:26:33.681Z"
   },
   {
    "duration": 5,
    "start_time": "2024-04-18T14:26:33.920Z"
   },
   {
    "duration": 69,
    "start_time": "2024-04-18T14:26:33.926Z"
   },
   {
    "duration": 7,
    "start_time": "2024-04-18T14:26:33.997Z"
   },
   {
    "duration": 126,
    "start_time": "2024-04-18T14:26:34.005Z"
   },
   {
    "duration": 8,
    "start_time": "2024-04-18T14:26:34.132Z"
   },
   {
    "duration": 126,
    "start_time": "2024-04-18T14:26:34.142Z"
   },
   {
    "duration": 162,
    "start_time": "2024-04-18T14:26:34.270Z"
   },
   {
    "duration": 8,
    "start_time": "2024-04-18T14:26:34.436Z"
   },
   {
    "duration": 125,
    "start_time": "2024-04-18T14:26:34.445Z"
   },
   {
    "duration": 150,
    "start_time": "2024-04-18T14:26:34.571Z"
   },
   {
    "duration": 8,
    "start_time": "2024-04-18T14:26:34.722Z"
   },
   {
    "duration": 24,
    "start_time": "2024-04-18T14:26:34.731Z"
   },
   {
    "duration": 16,
    "start_time": "2024-04-18T14:26:34.757Z"
   },
   {
    "duration": 15,
    "start_time": "2024-04-18T14:26:34.775Z"
   },
   {
    "duration": 23,
    "start_time": "2024-04-18T14:26:34.792Z"
   },
   {
    "duration": 8,
    "start_time": "2024-04-18T14:26:34.817Z"
   },
   {
    "duration": 14,
    "start_time": "2024-04-18T14:26:34.826Z"
   },
   {
    "duration": 21,
    "start_time": "2024-04-18T14:26:34.841Z"
   },
   {
    "duration": 7,
    "start_time": "2024-04-18T14:26:34.864Z"
   },
   {
    "duration": 17,
    "start_time": "2024-04-18T14:26:34.872Z"
   },
   {
    "duration": 17,
    "start_time": "2024-04-18T14:26:34.890Z"
   },
   {
    "duration": 252,
    "start_time": "2024-04-18T14:26:34.908Z"
   },
   {
    "duration": 7,
    "start_time": "2024-04-18T14:26:35.162Z"
   },
   {
    "duration": 7,
    "start_time": "2024-04-18T14:26:35.171Z"
   },
   {
    "duration": 5168,
    "start_time": "2024-04-18T14:26:35.179Z"
   },
   {
    "duration": 58,
    "start_time": "2024-04-18T14:26:40.349Z"
   },
   {
    "duration": 4,
    "start_time": "2024-04-18T14:26:40.409Z"
   },
   {
    "duration": 7,
    "start_time": "2024-04-18T14:26:40.415Z"
   },
   {
    "duration": 4,
    "start_time": "2024-04-18T14:26:40.423Z"
   },
   {
    "duration": 5,
    "start_time": "2024-04-18T14:26:40.428Z"
   },
   {
    "duration": 29,
    "start_time": "2024-04-18T14:26:40.434Z"
   },
   {
    "duration": 5,
    "start_time": "2024-04-18T14:26:40.464Z"
   },
   {
    "duration": 9,
    "start_time": "2024-04-18T14:26:40.470Z"
   },
   {
    "duration": 5,
    "start_time": "2024-04-18T14:26:40.480Z"
   },
   {
    "duration": 7,
    "start_time": "2024-04-18T14:26:40.486Z"
   },
   {
    "duration": 14,
    "start_time": "2024-04-18T14:26:40.494Z"
   },
   {
    "duration": 9,
    "start_time": "2024-04-18T14:26:40.509Z"
   },
   {
    "duration": 48,
    "start_time": "2024-04-18T14:26:40.519Z"
   },
   {
    "duration": 2022,
    "start_time": "2024-04-18T14:26:40.568Z"
   },
   {
    "duration": 5,
    "start_time": "2024-04-18T14:26:42.591Z"
   }
  ],
  "kernelspec": {
   "display_name": "Python 3 (ipykernel)",
   "language": "python",
   "name": "python3"
  },
  "language_info": {
   "codemirror_mode": {
    "name": "ipython",
    "version": 3
   },
   "file_extension": ".py",
   "mimetype": "text/x-python",
   "name": "python",
   "nbconvert_exporter": "python",
   "pygments_lexer": "ipython3",
   "version": "3.11.5"
  },
  "toc": {
   "base_numbering": 1,
   "nav_menu": {},
   "number_sections": true,
   "sideBar": true,
   "skip_h1_title": true,
   "title_cell": "Table of Contents",
   "title_sidebar": "Contents",
   "toc_cell": false,
   "toc_position": {},
   "toc_section_display": true,
   "toc_window_display": false
  }
 },
 "nbformat": 4,
 "nbformat_minor": 5
}
